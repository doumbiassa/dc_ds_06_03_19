{
 "cells": [
  {
   "cell_type": "markdown",
   "metadata": {},
   "source": [
    "is_duplicate - the target variable, set to 1 if question1 and question2 have essentially the same meaning, and 0 otherwise."
   ]
  },
  {
   "cell_type": "markdown",
   "metadata": {},
   "source": [
    "Data source: https://www.kaggle.com/c/quora-question-pairs/data"
   ]
  },
  {
   "cell_type": "markdown",
   "metadata": {},
   "source": [
    "!brew install wget\n",
    "!wget -c “https://s3.amazonaws.com/dl4j-distribution/GoogleNews-vectors-negative300.bin.gz”"
   ]
  },
  {
   "cell_type": "code",
   "execution_count": 1,
   "metadata": {},
   "outputs": [
    {
     "name": "stderr",
     "output_type": "stream",
     "text": [
      "Using TensorFlow backend.\n"
     ]
    }
   ],
   "source": [
    "########################################\n",
    "## import packages\n",
    "########################################\n",
    "import os\n",
    "import re\n",
    "import csv\n",
    "import codecs\n",
    "import numpy as np\n",
    "import pandas as pd\n",
    "from nltk.corpus import stopwords\n",
    "from nltk.stem import SnowballStemmer\n",
    "from string import punctuation\n",
    "from gensim.models import KeyedVectors\n",
    "from keras.preprocessing.text import Tokenizer\n",
    "from keras.preprocessing.sequence import pad_sequences\n",
    "from keras.layers import Dense, Input, LSTM, Embedding, Dropout, Activation\n",
    "from keras.layers.merge import concatenate\n",
    "from keras.models import Model\n",
    "from keras.layers.normalization import BatchNormalization\n",
    "from keras.callbacks import EarlyStopping, ModelCheckpoint\n",
    "import sys"
   ]
  },
  {
   "cell_type": "code",
   "execution_count": 248,
   "metadata": {},
   "outputs": [],
   "source": [
    "from sklearn.linear_model import LogisticRegression\n",
    "from sklearn.tree import DecisionTreeClassifier\n",
    "from sklearn.ensemble import RandomForestClassifier"
   ]
  },
  {
   "cell_type": "code",
   "execution_count": 256,
   "metadata": {},
   "outputs": [],
   "source": [
    "########################################\n",
    "## set directories and parameters\n",
    "########################################\n",
    "BASE_DIR = '/Users/omer/Downloads/RNN_ex/'\n",
    "EMBEDDING_FILE = BASE_DIR + 'GoogleNews-vectors-negative300.bin'\n",
    "TRAIN_DATA_FILE = BASE_DIR + 'train.csv'\n",
    "TEST_DATA_FILE = BASE_DIR + 'test.csv'\n",
    "MAX_SEQUENCE_LENGTH = 15\n",
    "MAX_NB_WORDS = 200000\n",
    "EMBEDDING_DIM = 300\n",
    "VALIDATION_SPLIT = 0.1"
   ]
  },
  {
   "cell_type": "code",
   "execution_count": 257,
   "metadata": {},
   "outputs": [],
   "source": [
    "num_lstm = np.random.randint(175, 275)\n",
    "num_dense = np.random.randint(100, 150)\n",
    "rate_drop_lstm = 0.15 + np.random.rand() * 0.25\n",
    "rate_drop_dense = 0.15 + np.random.rand() * 0.25"
   ]
  },
  {
   "cell_type": "code",
   "execution_count": 258,
   "metadata": {},
   "outputs": [],
   "source": [
    "act = 'relu'\n",
    "re_weight = True # whether to re-weight classes to fit the 17.5% share in test set\n",
    "\n",
    "STAMP = 'lstm_%d_%d_%.2f_%.2f'%(num_lstm, num_dense, rate_drop_lstm, \\\n",
    "        rate_drop_dense)"
   ]
  },
  {
   "cell_type": "code",
   "execution_count": 259,
   "metadata": {},
   "outputs": [
    {
     "name": "stdout",
     "output_type": "stream",
     "text": [
      "Indexing word vectors\n",
      "Found 3000000 word vectors of word2vec\n"
     ]
    }
   ],
   "source": [
    "########################################\n",
    "## index word vectors\n",
    "########################################\n",
    "print('Indexing word vectors')\n",
    "word2vec = KeyedVectors.load_word2vec_format(EMBEDDING_FILE, \\\n",
    "        binary=True)\n",
    "print('Found %s word vectors of word2vec' % len(word2vec.vocab))"
   ]
  },
  {
   "cell_type": "markdown",
   "metadata": {},
   "source": [
    "### Let's see how to access word vectors"
   ]
  },
  {
   "cell_type": "code",
   "execution_count": 260,
   "metadata": {
    "collapsed": true
   },
   "outputs": [
    {
     "data": {
      "text/plain": [
       "{'</s>': <gensim.models.keyedvectors.Vocab at 0x1b1ec58860>,\n",
       " 'in': <gensim.models.keyedvectors.Vocab at 0x1b1ec58b00>,\n",
       " 'for': <gensim.models.keyedvectors.Vocab at 0x1b1ec58be0>,\n",
       " 'that': <gensim.models.keyedvectors.Vocab at 0x1b1ec58cc0>,\n",
       " 'is': <gensim.models.keyedvectors.Vocab at 0x1b1ec58da0>,\n",
       " 'on': <gensim.models.keyedvectors.Vocab at 0x1b1ec58e80>,\n",
       " '##': <gensim.models.keyedvectors.Vocab at 0x1b1ec58f60>,\n",
       " 'The': <gensim.models.keyedvectors.Vocab at 0x1caf21c0b8>,\n",
       " 'with': <gensim.models.keyedvectors.Vocab at 0x1caf21c2e8>,\n",
       " 'said': <gensim.models.keyedvectors.Vocab at 0x1caf21c518>,\n",
       " 'was': <gensim.models.keyedvectors.Vocab at 0x1caf21c748>,\n",
       " 'the': <gensim.models.keyedvectors.Vocab at 0x1caf21c978>,\n",
       " 'at': <gensim.models.keyedvectors.Vocab at 0x1caf21cba8>,\n",
       " 'not': <gensim.models.keyedvectors.Vocab at 0x1caf20b4a8>,\n",
       " 'as': <gensim.models.keyedvectors.Vocab at 0x1caf20b278>,\n",
       " 'it': <gensim.models.keyedvectors.Vocab at 0x1caf20b908>,\n",
       " 'be': <gensim.models.keyedvectors.Vocab at 0x1caf20bd68>,\n",
       " 'from': <gensim.models.keyedvectors.Vocab at 0x1caf21ecf8>,\n",
       " 'by': <gensim.models.keyedvectors.Vocab at 0x1caf21e438>,\n",
       " 'are': <gensim.models.keyedvectors.Vocab at 0x1caf21e898>,\n",
       " 'I': <gensim.models.keyedvectors.Vocab at 0x1caf21eac8>,\n",
       " 'have': <gensim.models.keyedvectors.Vocab at 0x1b694bf128>,\n",
       " 'he': <gensim.models.keyedvectors.Vocab at 0x1b694bf470>,\n",
       " 'will': <gensim.models.keyedvectors.Vocab at 0x1b1ec084a8>,\n",
       " 'has': <gensim.models.keyedvectors.Vocab at 0x1caf0cdda0>,\n",
       " '####': <gensim.models.keyedvectors.Vocab at 0x1b1ec78320>,\n",
       " 'his': <gensim.models.keyedvectors.Vocab at 0x1b1ec78908>,\n",
       " 'an': <gensim.models.keyedvectors.Vocab at 0x1b1ec786a0>,\n",
       " 'this': <gensim.models.keyedvectors.Vocab at 0x1b1ec78ba8>,\n",
       " 'or': <gensim.models.keyedvectors.Vocab at 0x1b1ec78240>,\n",
       " 'their': <gensim.models.keyedvectors.Vocab at 0x1b1ec787f0>,\n",
       " 'who': <gensim.models.keyedvectors.Vocab at 0x1b1ec78630>,\n",
       " 'they': <gensim.models.keyedvectors.Vocab at 0x1cb90bc6d8>,\n",
       " 'but': <gensim.models.keyedvectors.Vocab at 0x1cb90bca90>,\n",
       " '$': <gensim.models.keyedvectors.Vocab at 0x1cb90bcba8>,\n",
       " 'had': <gensim.models.keyedvectors.Vocab at 0x1cb90bc160>,\n",
       " 'year': <gensim.models.keyedvectors.Vocab at 0x1cb90bc278>,\n",
       " 'were': <gensim.models.keyedvectors.Vocab at 0x1cb90bc358>,\n",
       " 'we': <gensim.models.keyedvectors.Vocab at 0x1cb90bc668>,\n",
       " 'more': <gensim.models.keyedvectors.Vocab at 0x1cb90bccc0>,\n",
       " '###': <gensim.models.keyedvectors.Vocab at 0x1cb90bc4e0>,\n",
       " 'up': <gensim.models.keyedvectors.Vocab at 0x1caf200438>,\n",
       " 'been': <gensim.models.keyedvectors.Vocab at 0x1caf2009e8>,\n",
       " 'you': <gensim.models.keyedvectors.Vocab at 0x1b1ec215c0>,\n",
       " 'its': <gensim.models.keyedvectors.Vocab at 0x1cba06fef0>,\n",
       " 'one': <gensim.models.keyedvectors.Vocab at 0x1cb9e95080>,\n",
       " 'about': <gensim.models.keyedvectors.Vocab at 0x1cba224d68>,\n",
       " 'would': <gensim.models.keyedvectors.Vocab at 0x1cba224dd8>,\n",
       " 'which': <gensim.models.keyedvectors.Vocab at 0x1cba224c88>,\n",
       " 'out': <gensim.models.keyedvectors.Vocab at 0x1cba224f98>,\n",
       " 'can': <gensim.models.keyedvectors.Vocab at 0x1cb90c8fd0>,\n",
       " 'It': <gensim.models.keyedvectors.Vocab at 0x1cb90c8ba8>,\n",
       " 'all': <gensim.models.keyedvectors.Vocab at 0x1b1ec43dd8>,\n",
       " 'also': <gensim.models.keyedvectors.Vocab at 0x1cb7e73b38>,\n",
       " 'two': <gensim.models.keyedvectors.Vocab at 0x1cb7e734e0>,\n",
       " 'after': <gensim.models.keyedvectors.Vocab at 0x1cb7e73da0>,\n",
       " 'first': <gensim.models.keyedvectors.Vocab at 0x1cb7e73198>,\n",
       " 'He': <gensim.models.keyedvectors.Vocab at 0x1cb7e73160>,\n",
       " 'do': <gensim.models.keyedvectors.Vocab at 0x1cb7e73390>,\n",
       " 'time': <gensim.models.keyedvectors.Vocab at 0x1cb7e73a58>,\n",
       " 'than': <gensim.models.keyedvectors.Vocab at 0x1cb9d35e48>,\n",
       " 'when': <gensim.models.keyedvectors.Vocab at 0x1cb7e504e0>,\n",
       " 'We': <gensim.models.keyedvectors.Vocab at 0x1cb7e505f8>,\n",
       " 'over': <gensim.models.keyedvectors.Vocab at 0x1cb7e50be0>,\n",
       " 'last': <gensim.models.keyedvectors.Vocab at 0x1cb7e50cf8>,\n",
       " 'new': <gensim.models.keyedvectors.Vocab at 0x1cb7e50ac8>,\n",
       " 'other': <gensim.models.keyedvectors.Vocab at 0x1cb7e50cc0>,\n",
       " 'her': <gensim.models.keyedvectors.Vocab at 0x1cb7e509b0>,\n",
       " 'people': <gensim.models.keyedvectors.Vocab at 0x1cb7e503c8>,\n",
       " 'into': <gensim.models.keyedvectors.Vocab at 0x1cb9a9eeb8>,\n",
       " 'In': <gensim.models.keyedvectors.Vocab at 0x1cb9a9ec88>,\n",
       " 'our': <gensim.models.keyedvectors.Vocab at 0x1cb9ad42e8>,\n",
       " 'there': <gensim.models.keyedvectors.Vocab at 0x1cb9ad4198>,\n",
       " 'A': <gensim.models.keyedvectors.Vocab at 0x1cb9ad4278>,\n",
       " 'she': <gensim.models.keyedvectors.Vocab at 0x1b694e1828>,\n",
       " 'could': <gensim.models.keyedvectors.Vocab at 0x1b694e15f8>,\n",
       " 'just': <gensim.models.keyedvectors.Vocab at 0x1b694e14e0>,\n",
       " 'years': <gensim.models.keyedvectors.Vocab at 0x1b694e1b70>,\n",
       " 'some': <gensim.models.keyedvectors.Vocab at 0x1cb9acc6d8>,\n",
       " 'U.S.': <gensim.models.keyedvectors.Vocab at 0x1cb9acca90>,\n",
       " 'three': <gensim.models.keyedvectors.Vocab at 0x1cb90c7198>,\n",
       " 'million': <gensim.models.keyedvectors.Vocab at 0x1cb90c7080>,\n",
       " 'them': <gensim.models.keyedvectors.Vocab at 0x1cb90c76d8>,\n",
       " 'what': <gensim.models.keyedvectors.Vocab at 0x1cb90c7438>,\n",
       " 'But': <gensim.models.keyedvectors.Vocab at 0x1cb90c77f0>,\n",
       " 'so': <gensim.models.keyedvectors.Vocab at 0x1cb90c7b38>,\n",
       " 'no': <gensim.models.keyedvectors.Vocab at 0x1cb90c7c50>,\n",
       " 'like': <gensim.models.keyedvectors.Vocab at 0x1cb90c7ef0>,\n",
       " 'if': <gensim.models.keyedvectors.Vocab at 0x1b1ec7d0b8>,\n",
       " 'only': <gensim.models.keyedvectors.Vocab at 0x1b1ec22940>,\n",
       " 'percent': <gensim.models.keyedvectors.Vocab at 0x1b1ec22470>,\n",
       " 'get': <gensim.models.keyedvectors.Vocab at 0x1cb90c3320>,\n",
       " 'did': <gensim.models.keyedvectors.Vocab at 0x1b1ec24c88>,\n",
       " 'him': <gensim.models.keyedvectors.Vocab at 0x1b1ec24f98>,\n",
       " 'game': <gensim.models.keyedvectors.Vocab at 0x1b1ec24ba8>,\n",
       " 'back': <gensim.models.keyedvectors.Vocab at 0x1b1ec249e8>,\n",
       " 'because': <gensim.models.keyedvectors.Vocab at 0x1b1ec24908>,\n",
       " 'now': <gensim.models.keyedvectors.Vocab at 0x1b1ec24828>,\n",
       " '#.#': <gensim.models.keyedvectors.Vocab at 0x1cb90d5da0>,\n",
       " 'before': <gensim.models.keyedvectors.Vocab at 0x1cb90d5358>,\n",
       " 'company': <gensim.models.keyedvectors.Vocab at 0x1cb90d5240>,\n",
       " 'any': <gensim.models.keyedvectors.Vocab at 0x1cb7dd7ac8>,\n",
       " 'team': <gensim.models.keyedvectors.Vocab at 0x1cb7dd7c88>,\n",
       " 'against': <gensim.models.keyedvectors.Vocab at 0x1cb7dd7128>,\n",
       " 'off': <gensim.models.keyedvectors.Vocab at 0x1cb7dd72e8>,\n",
       " 'This': <gensim.models.keyedvectors.Vocab at 0x1cb7dd74a8>,\n",
       " 'most': <gensim.models.keyedvectors.Vocab at 0x1cb7dd7668>,\n",
       " 'made': <gensim.models.keyedvectors.Vocab at 0x1cb7dd7828>,\n",
       " 'through': <gensim.models.keyedvectors.Vocab at 0x1cb7dd79e8>,\n",
       " 'make': <gensim.models.keyedvectors.Vocab at 0x1caf217a20>,\n",
       " 'second': <gensim.models.keyedvectors.Vocab at 0x1caf217eb8>,\n",
       " 'state': <gensim.models.keyedvectors.Vocab at 0x1caf217278>,\n",
       " 'well': <gensim.models.keyedvectors.Vocab at 0x1caf2174e0>,\n",
       " 'day': <gensim.models.keyedvectors.Vocab at 0x1cb90c13c8>,\n",
       " 'season': <gensim.models.keyedvectors.Vocab at 0x1cb90c1d68>,\n",
       " 'says': <gensim.models.keyedvectors.Vocab at 0x1cb7cae2e8>,\n",
       " 'week': <gensim.models.keyedvectors.Vocab at 0x1cb7cae7f0>,\n",
       " 'where': <gensim.models.keyedvectors.Vocab at 0x1cb9b60470>,\n",
       " 'while': <gensim.models.keyedvectors.Vocab at 0x1b1ec62c88>,\n",
       " 'down': <gensim.models.keyedvectors.Vocab at 0x1b1ec62198>,\n",
       " 'being': <gensim.models.keyedvectors.Vocab at 0x1b1ec62f98>,\n",
       " 'government': <gensim.models.keyedvectors.Vocab at 0x1cb9aa3cc0>,\n",
       " 'your': <gensim.models.keyedvectors.Vocab at 0x1cb9aa3390>,\n",
       " '#-#': <gensim.models.keyedvectors.Vocab at 0x1cb9aa30b8>,\n",
       " 'home': <gensim.models.keyedvectors.Vocab at 0x1cb9ea6630>,\n",
       " 'going': <gensim.models.keyedvectors.Vocab at 0x1cb9ea6358>,\n",
       " 'my': <gensim.models.keyedvectors.Vocab at 0x1cb9ea6400>,\n",
       " 'good': <gensim.models.keyedvectors.Vocab at 0x1cb9ea6940>,\n",
       " 'They': <gensim.models.keyedvectors.Vocab at 0x1cb9ea69e8>,\n",
       " \"'re\": <gensim.models.keyedvectors.Vocab at 0x1cb9ea6c50>,\n",
       " 'should': <gensim.models.keyedvectors.Vocab at 0x1cb9ab23c8>,\n",
       " 'many': <gensim.models.keyedvectors.Vocab at 0x1cb9ab2208>,\n",
       " 'way': <gensim.models.keyedvectors.Vocab at 0x1b694e3080>,\n",
       " 'those': <gensim.models.keyedvectors.Vocab at 0x1b694e36a0>,\n",
       " 'four': <gensim.models.keyedvectors.Vocab at 0x1b694e3b70>,\n",
       " 'during': <gensim.models.keyedvectors.Vocab at 0x1b694e3f28>,\n",
       " 'such': <gensim.models.keyedvectors.Vocab at 0x1cb9ab6320>,\n",
       " 'may': <gensim.models.keyedvectors.Vocab at 0x1cb9ab66a0>,\n",
       " 'very': <gensim.models.keyedvectors.Vocab at 0x1cb9ab6a20>,\n",
       " 'how': <gensim.models.keyedvectors.Vocab at 0x1cb9ab6da0>,\n",
       " 'since': <gensim.models.keyedvectors.Vocab at 0x1cb7cbf7f0>,\n",
       " 'work': <gensim.models.keyedvectors.Vocab at 0x1cb883a978>,\n",
       " 'take': <gensim.models.keyedvectors.Vocab at 0x1cb87ddb38>,\n",
       " 'including': <gensim.models.keyedvectors.Vocab at 0x1cb7cb0438>,\n",
       " 'high': <gensim.models.keyedvectors.Vocab at 0x1cb7cb05f8>,\n",
       " 'then': <gensim.models.keyedvectors.Vocab at 0x1cb7cb07b8>,\n",
       " '%': <gensim.models.keyedvectors.Vocab at 0x1cb7cb0898>,\n",
       " 'next': <gensim.models.keyedvectors.Vocab at 0x1cb7cb0a58>,\n",
       " '#,###': <gensim.models.keyedvectors.Vocab at 0x1cb7cb0c18>,\n",
       " 'By': <gensim.models.keyedvectors.Vocab at 0x1cb7cb0dd8>,\n",
       " 'much': <gensim.models.keyedvectors.Vocab at 0x1cb7cb0f98>,\n",
       " 'still': <gensim.models.keyedvectors.Vocab at 0x1cb7cb0320>,\n",
       " 'go': <gensim.models.keyedvectors.Vocab at 0x1b1ec77a20>,\n",
       " 'think': <gensim.models.keyedvectors.Vocab at 0x1b1ec77da0>,\n",
       " 'old': <gensim.models.keyedvectors.Vocab at 0x1b1ec774e0>,\n",
       " 'even': <gensim.models.keyedvectors.Vocab at 0x1b694d8668>,\n",
       " '#.##': <gensim.models.keyedvectors.Vocab at 0x1b694d8ac8>,\n",
       " 'world': <gensim.models.keyedvectors.Vocab at 0x1b694d8f28>,\n",
       " 'see': <gensim.models.keyedvectors.Vocab at 0x1b694d8390>,\n",
       " 'say': <gensim.models.keyedvectors.Vocab at 0x1cb9eb0048>,\n",
       " 'business': <gensim.models.keyedvectors.Vocab at 0x1cb9eb0748>,\n",
       " 'five': <gensim.models.keyedvectors.Vocab at 0x1cb9eb08d0>,\n",
       " 'told': <gensim.models.keyedvectors.Vocab at 0x1cb9eb0a90>,\n",
       " 'under': <gensim.models.keyedvectors.Vocab at 0x1cb9eb0c50>,\n",
       " 'us': <gensim.models.keyedvectors.Vocab at 0x1cb9eb0e10>,\n",
       " '1': <gensim.models.keyedvectors.Vocab at 0x1cb9eb0ef0>,\n",
       " 'these': <gensim.models.keyedvectors.Vocab at 0x1cb87e6f98>,\n",
       " 'If': <gensim.models.keyedvectors.Vocab at 0x1cb87e6ba8>,\n",
       " 'right': <gensim.models.keyedvectors.Vocab at 0x1cb9aa16d8>,\n",
       " 'And': <gensim.models.keyedvectors.Vocab at 0x1cb9aa1eb8>,\n",
       " 'me': <gensim.models.keyedvectors.Vocab at 0x1cb9d2b908>,\n",
       " 'between': <gensim.models.keyedvectors.Vocab at 0x1cb9d2b438>,\n",
       " 'play': <gensim.models.keyedvectors.Vocab at 0x1cb9d2bda0>,\n",
       " 'help': <gensim.models.keyedvectors.Vocab at 0x1cb9d2bfd0>,\n",
       " '##,###': <gensim.models.keyedvectors.Vocab at 0x1cb9d2be80>,\n",
       " 'market': <gensim.models.keyedvectors.Vocab at 0x1cb9d2bf60>,\n",
       " 'That': <gensim.models.keyedvectors.Vocab at 0x1cb9ede358>,\n",
       " 'know': <gensim.models.keyedvectors.Vocab at 0x1cb9ede438>,\n",
       " 'end': <gensim.models.keyedvectors.Vocab at 0x1cb9ede518>,\n",
       " 'AP': <gensim.models.keyedvectors.Vocab at 0x1cb9ede5f8>,\n",
       " 'long': <gensim.models.keyedvectors.Vocab at 0x1cb9ede6d8>,\n",
       " 'information': <gensim.models.keyedvectors.Vocab at 0x1cb9ede748>,\n",
       " 'points': <gensim.models.keyedvectors.Vocab at 0x1cb9ede828>,\n",
       " 'does': <gensim.models.keyedvectors.Vocab at 0x1cb9ede908>,\n",
       " 'both': <gensim.models.keyedvectors.Vocab at 0x1cb9ede9e8>,\n",
       " 'There': <gensim.models.keyedvectors.Vocab at 0x1cb9edeac8>,\n",
       " 'part': <gensim.models.keyedvectors.Vocab at 0x1cb9edeba8>,\n",
       " 'around': <gensim.models.keyedvectors.Vocab at 0x1cb9ee3e48>,\n",
       " 'police': <gensim.models.keyedvectors.Vocab at 0x1cb9ee3f28>,\n",
       " 'want': <gensim.models.keyedvectors.Vocab at 0x1cb9ee5048>,\n",
       " \"'ve\": <gensim.models.keyedvectors.Vocab at 0x1cb9ee5128>,\n",
       " 'based': <gensim.models.keyedvectors.Vocab at 0x1cb9ee5208>,\n",
       " 'For': <gensim.models.keyedvectors.Vocab at 0x1cb9ee52e8>,\n",
       " 'got': <gensim.models.keyedvectors.Vocab at 0x1cb9ee53c8>,\n",
       " 'third': <gensim.models.keyedvectors.Vocab at 0x1cb9ee54a8>,\n",
       " 'school': <gensim.models.keyedvectors.Vocab at 0x1cb9ee5588>,\n",
       " 'left': <gensim.models.keyedvectors.Vocab at 0x1cb9ee5668>,\n",
       " 'another': <gensim.models.keyedvectors.Vocab at 0x1cb9ee5748>,\n",
       " 'country': <gensim.models.keyedvectors.Vocab at 0x1cb9ee5828>,\n",
       " 'need': <gensim.models.keyedvectors.Vocab at 0x1cb9ee5908>,\n",
       " '2': <gensim.models.keyedvectors.Vocab at 0x1cb9ee5978>,\n",
       " 'best': <gensim.models.keyedvectors.Vocab at 0x1cb9eeae48>,\n",
       " 'win': <gensim.models.keyedvectors.Vocab at 0x1cba05b240>,\n",
       " 'quarter': <gensim.models.keyedvectors.Vocab at 0x1cba05b208>,\n",
       " 'use': <gensim.models.keyedvectors.Vocab at 0x1cba05b898>,\n",
       " 'today': <gensim.models.keyedvectors.Vocab at 0x1cba05b748>,\n",
       " '##.#': <gensim.models.keyedvectors.Vocab at 0x1cba05bac8>,\n",
       " 'same': <gensim.models.keyedvectors.Vocab at 0x1cba05bba8>,\n",
       " 'public': <gensim.models.keyedvectors.Vocab at 0x1cba05bc88>,\n",
       " 'run': <gensim.models.keyedvectors.Vocab at 0x1cba05b7b8>,\n",
       " 'Friday': <gensim.models.keyedvectors.Vocab at 0x1cba05bcf8>,\n",
       " 'set': <gensim.models.keyedvectors.Vocab at 0x1cba05bdd8>,\n",
       " 'month': <gensim.models.keyedvectors.Vocab at 0x1cba05beb8>,\n",
       " 'top': <gensim.models.keyedvectors.Vocab at 0x1cba05bf98>,\n",
       " 'billion': <gensim.models.keyedvectors.Vocab at 0x1cba08f0b8>,\n",
       " 'Tuesday': <gensim.models.keyedvectors.Vocab at 0x1cba08f198>,\n",
       " 'come': <gensim.models.keyedvectors.Vocab at 0x1cba08f278>,\n",
       " 'Monday': <gensim.models.keyedvectors.Vocab at 0x1cba08f358>,\n",
       " 'She': <gensim.models.keyedvectors.Vocab at 0x1cba08f438>,\n",
       " 'city': <gensim.models.keyedvectors.Vocab at 0x1cba08f518>,\n",
       " 'place': <gensim.models.keyedvectors.Vocab at 0x1cba08f5f8>,\n",
       " 'night': <gensim.models.keyedvectors.Vocab at 0x1cb9b87e10>,\n",
       " 'six': <gensim.models.keyedvectors.Vocab at 0x1cb9b87780>,\n",
       " 'each': <gensim.models.keyedvectors.Vocab at 0x1cba08ce10>,\n",
       " 'Thursday': <gensim.models.keyedvectors.Vocab at 0x1cba08c8d0>,\n",
       " '###,###': <gensim.models.keyedvectors.Vocab at 0x1cba08c898>,\n",
       " 'Wednesday': <gensim.models.keyedvectors.Vocab at 0x1cba08cc18>,\n",
       " 'here': <gensim.models.keyedvectors.Vocab at 0x1cba08cf60>,\n",
       " 'You': <gensim.models.keyedvectors.Vocab at 0x1cba08cfd0>,\n",
       " 'group': <gensim.models.keyedvectors.Vocab at 0x1cba077dd8>,\n",
       " 'really': <gensim.models.keyedvectors.Vocab at 0x1cba077080>,\n",
       " 'found': <gensim.models.keyedvectors.Vocab at 0x1cba0770f0>,\n",
       " 'As': <gensim.models.keyedvectors.Vocab at 0x1cba077160>,\n",
       " 'used': <gensim.models.keyedvectors.Vocab at 0x1cba0771d0>,\n",
       " '3': <gensim.models.keyedvectors.Vocab at 0x1cba077208>,\n",
       " 'lot': <gensim.models.keyedvectors.Vocab at 0x1cba0772b0>,\n",
       " \"'m\": <gensim.models.keyedvectors.Vocab at 0x1cba077320>,\n",
       " 'money': <gensim.models.keyedvectors.Vocab at 0x1cba077390>,\n",
       " 'put': <gensim.models.keyedvectors.Vocab at 0x1cba077400>,\n",
       " 'games': <gensim.models.keyedvectors.Vocab at 0x1cba077470>,\n",
       " 'support': <gensim.models.keyedvectors.Vocab at 0x1cba0774e0>,\n",
       " 'program': <gensim.models.keyedvectors.Vocab at 0x1cba077550>,\n",
       " 'half': <gensim.models.keyedvectors.Vocab at 0x1cba0775c0>,\n",
       " 'report': <gensim.models.keyedvectors.Vocab at 0x1cba077630>,\n",
       " 'family': <gensim.models.keyedvectors.Vocab at 0x1cba0776a0>,\n",
       " 'months': <gensim.models.keyedvectors.Vocab at 0x1cba077da0>,\n",
       " 'number': <gensim.models.keyedvectors.Vocab at 0x1caf0aaf28>,\n",
       " 'officials': <gensim.models.keyedvectors.Vocab at 0x1caf0aa240>,\n",
       " 'am': <gensim.models.keyedvectors.Vocab at 0x1caf0aa7b8>,\n",
       " 'former': <gensim.models.keyedvectors.Vocab at 0x1caf0aab70>,\n",
       " 'own': <gensim.models.keyedvectors.Vocab at 0x1caf0aac18>,\n",
       " 'man': <gensim.models.keyedvectors.Vocab at 0x1caf0aad68>,\n",
       " 'Saturday': <gensim.models.keyedvectors.Vocab at 0x1caf0aada0>,\n",
       " 'too': <gensim.models.keyedvectors.Vocab at 0x1caf0aac50>,\n",
       " 'better': <gensim.models.keyedvectors.Vocab at 0x1caf0aa9e8>,\n",
       " 'days': <gensim.models.keyedvectors.Vocab at 0x1caf0aad30>,\n",
       " 'came': <gensim.models.keyedvectors.Vocab at 0x1b1f123048>,\n",
       " 'lead': <gensim.models.keyedvectors.Vocab at 0x1b1f1230b8>,\n",
       " 'life': <gensim.models.keyedvectors.Vocab at 0x1b1f123128>,\n",
       " 'American': <gensim.models.keyedvectors.Vocab at 0x1b1f123160>,\n",
       " '##-##': <gensim.models.keyedvectors.Vocab at 0x1b1f1231d0>,\n",
       " 'show': <gensim.models.keyedvectors.Vocab at 0x1b1f123240>,\n",
       " 'past': <gensim.models.keyedvectors.Vocab at 0x1b1f1232b0>,\n",
       " 'took': <gensim.models.keyedvectors.Vocab at 0x1b1f123320>,\n",
       " 'added': <gensim.models.keyedvectors.Vocab at 0x1b1f123390>,\n",
       " 'expected': <gensim.models.keyedvectors.Vocab at 0x1b1f1233c8>,\n",
       " 'called': <gensim.models.keyedvectors.Vocab at 0x1b1f123438>,\n",
       " 'great': <gensim.models.keyedvectors.Vocab at 0x1b1f1234a8>,\n",
       " 'State': <gensim.models.keyedvectors.Vocab at 0x1b1f123518>,\n",
       " 'services': <gensim.models.keyedvectors.Vocab at 0x1b1f123550>,\n",
       " 'children': <gensim.models.keyedvectors.Vocab at 0x1b1f123588>,\n",
       " 'hit': <gensim.models.keyedvectors.Vocab at 0x1b1f1235f8>,\n",
       " 'area': <gensim.models.keyedvectors.Vocab at 0x1caf0b7860>,\n",
       " 'system': <gensim.models.keyedvectors.Vocab at 0x1caf0b7b70>,\n",
       " 'every': <gensim.models.keyedvectors.Vocab at 0x1caf0b7ba8>,\n",
       " 'pm': <gensim.models.keyedvectors.Vocab at 0x1caf0b7828>,\n",
       " 'big': <gensim.models.keyedvectors.Vocab at 0x1caf0b7c18>,\n",
       " 'service': <gensim.models.keyedvectors.Vocab at 0x1caf0b7c88>,\n",
       " 'few': <gensim.models.keyedvectors.Vocab at 0x1caf0b7cf8>,\n",
       " 'per': <gensim.models.keyedvectors.Vocab at 0x1caf0b7d68>,\n",
       " 'members': <gensim.models.keyedvectors.Vocab at 0x1caf0b7dd8>,\n",
       " 'Sunday': <gensim.models.keyedvectors.Vocab at 0x1caf0b7e48>,\n",
       " 'early': <gensim.models.keyedvectors.Vocab at 0x1caf0b7eb8>,\n",
       " 'point': <gensim.models.keyedvectors.Vocab at 0x1caf0b7f28>,\n",
       " 'start': <gensim.models.keyedvectors.Vocab at 0x1caf0b7f98>,\n",
       " 'companies': <gensim.models.keyedvectors.Vocab at 0x1caf0b7fd0>,\n",
       " 'little': <gensim.models.keyedvectors.Vocab at 0x1b1f1ee080>,\n",
       " '&': <gensim.models.keyedvectors.Vocab at 0x1b1f1ee0b8>,\n",
       " 'case': <gensim.models.keyedvectors.Vocab at 0x1b1f1ee128>,\n",
       " 'ago': <gensim.models.keyedvectors.Vocab at 0x1b1f1ee198>,\n",
       " 'local': <gensim.models.keyedvectors.Vocab at 0x1b1f1ee208>,\n",
       " 'according': <gensim.models.keyedvectors.Vocab at 0x1b1f1ee240>,\n",
       " 'never': <gensim.models.keyedvectors.Vocab at 0x1b1f1ee2b0>,\n",
       " '5': <gensim.models.keyedvectors.Vocab at 0x1b1f1ee2e8>,\n",
       " 'without': <gensim.models.keyedvectors.Vocab at 0x1b1f1ee358>,\n",
       " 'sales': <gensim.models.keyedvectors.Vocab at 0x1b1f1ee3c8>,\n",
       " 'until': <gensim.models.keyedvectors.Vocab at 0x1b1f1ee438>,\n",
       " 'went': <gensim.models.keyedvectors.Vocab at 0x1b1f1ee4a8>,\n",
       " 'players': <gensim.models.keyedvectors.Vocab at 0x1b1f1ee518>,\n",
       " '##th': <gensim.models.keyedvectors.Vocab at 0x1b1f1ee588>,\n",
       " 'New_York': <gensim.models.keyedvectors.Vocab at 0x1b1f1ee5c0>,\n",
       " 'won': <gensim.models.keyedvectors.Vocab at 0x1b1f1ee630>,\n",
       " 'financial': <gensim.models.keyedvectors.Vocab at 0x1b1f1ee668>,\n",
       " 'news': <gensim.models.keyedvectors.Vocab at 0x1b1f1ee6d8>,\n",
       " '4': <gensim.models.keyedvectors.Vocab at 0x1b1f1ee710>,\n",
       " 'When': <gensim.models.keyedvectors.Vocab at 0x1b1f1ee780>,\n",
       " 'share': <gensim.models.keyedvectors.Vocab at 0x1b1f1ee7f0>,\n",
       " 'several': <gensim.models.keyedvectors.Vocab at 0x1b1f1ee860>,\n",
       " 'free': <gensim.models.keyedvectors.Vocab at 0x1b1f1ee8d0>,\n",
       " 'away': <gensim.models.keyedvectors.Vocab at 0x1b1ec41518>,\n",
       " '##.##': <gensim.models.keyedvectors.Vocab at 0x1b694d3710>,\n",
       " 'already': <gensim.models.keyedvectors.Vocab at 0x1b694d34e0>,\n",
       " 'On': <gensim.models.keyedvectors.Vocab at 0x1b694d3198>,\n",
       " 'industry': <gensim.models.keyedvectors.Vocab at 0x1b1ec250b8>,\n",
       " \"'ll\": <gensim.models.keyedvectors.Vocab at 0x1cb7e43fd0>,\n",
       " 'call': <gensim.models.keyedvectors.Vocab at 0x1cb7e43a20>,\n",
       " 'With': <gensim.models.keyedvectors.Vocab at 0x1caf238748>,\n",
       " 'students': <gensim.models.keyedvectors.Vocab at 0x1b1f78ae48>,\n",
       " 'line': <gensim.models.keyedvectors.Vocab at 0x1b1f78ac50>,\n",
       " 'available': <gensim.models.keyedvectors.Vocab at 0x1b1f78a2b0>,\n",
       " 'County': <gensim.models.keyedvectors.Vocab at 0x1cecc03e10>,\n",
       " 'making': <gensim.models.keyedvectors.Vocab at 0x1b1ec47ef0>,\n",
       " 'held': <gensim.models.keyedvectors.Vocab at 0x1cb9acc080>,\n",
       " 'final': <gensim.models.keyedvectors.Vocab at 0x1cb87ba4a8>,\n",
       " '#:##': <gensim.models.keyedvectors.Vocab at 0x1b694e1710>,\n",
       " 'power': <gensim.models.keyedvectors.Vocab at 0x1b1f1ee978>,\n",
       " 'plan': <gensim.models.keyedvectors.Vocab at 0x1b1f1ee9e8>,\n",
       " 'might': <gensim.models.keyedvectors.Vocab at 0x1b1f1eea58>,\n",
       " 'least': <gensim.models.keyedvectors.Vocab at 0x1b1f1eeac8>,\n",
       " 'look': <gensim.models.keyedvectors.Vocab at 0x1b1f1eeb38>,\n",
       " 'forward': <gensim.models.keyedvectors.Vocab at 0x1b1f1eeba8>,\n",
       " 'give': <gensim.models.keyedvectors.Vocab at 0x1b1f1eec18>,\n",
       " 'At': <gensim.models.keyedvectors.Vocab at 0x1b1f1eec88>,\n",
       " 'again': <gensim.models.keyedvectors.Vocab at 0x1b1f1eecf8>,\n",
       " 'later': <gensim.models.keyedvectors.Vocab at 0x1b1f1eed68>,\n",
       " 'full': <gensim.models.keyedvectors.Vocab at 0x1b1f1eedd8>,\n",
       " 'must': <gensim.models.keyedvectors.Vocab at 0x1b1f1eee48>,\n",
       " 'things': <gensim.models.keyedvectors.Vocab at 0x1b1f1eeeb8>,\n",
       " 'major': <gensim.models.keyedvectors.Vocab at 0x1b1f1eef28>,\n",
       " 'community': <gensim.models.keyedvectors.Vocab at 0x1b1f1eef60>,\n",
       " 'announced': <gensim.models.keyedvectors.Vocab at 0x1b1f1eef98>,\n",
       " 'open': <gensim.models.keyedvectors.Vocab at 0x1b1f1f2048>,\n",
       " 'record': <gensim.models.keyedvectors.Vocab at 0x1b1f1f20b8>,\n",
       " 'reported': <gensim.models.keyedvectors.Vocab at 0x1b1f1f20f0>,\n",
       " 'court': <gensim.models.keyedvectors.Vocab at 0x1b1f1f2160>,\n",
       " 'working': <gensim.models.keyedvectors.Vocab at 0x1b1f1f21d0>,\n",
       " 'able': <gensim.models.keyedvectors.Vocab at 0x1b1f1f2240>,\n",
       " 'something': <gensim.models.keyedvectors.Vocab at 0x1b1f1f2278>,\n",
       " 'president': <gensim.models.keyedvectors.Vocab at 0x1b1f1f22b0>,\n",
       " 'meeting': <gensim.models.keyedvectors.Vocab at 0x1b1f1f2320>,\n",
       " 'keep': <gensim.models.keyedvectors.Vocab at 0x1b1f1f2390>,\n",
       " 'March': <gensim.models.keyedvectors.Vocab at 0x1b1f1f2400>,\n",
       " 'future': <gensim.models.keyedvectors.Vocab at 0x1b1f1f2470>,\n",
       " 'far': <gensim.models.keyedvectors.Vocab at 0x1b1f1f24e0>,\n",
       " 'deal': <gensim.models.keyedvectors.Vocab at 0x1b1f1f2550>,\n",
       " 'City': <gensim.models.keyedvectors.Vocab at 0x1b1f1f25c0>,\n",
       " 'May': <gensim.models.keyedvectors.Vocab at 0x1b1f1f2630>,\n",
       " 'development': <gensim.models.keyedvectors.Vocab at 0x1b1f1f2668>,\n",
       " 'University': <gensim.models.keyedvectors.Vocab at 0x1b1f1f26a0>,\n",
       " 'find': <gensim.models.keyedvectors.Vocab at 0x1b1f1f2710>,\n",
       " 'times': <gensim.models.keyedvectors.Vocab at 0x1b1f1f2780>,\n",
       " 'After': <gensim.models.keyedvectors.Vocab at 0x1b1f1f27f0>,\n",
       " 'office': <gensim.models.keyedvectors.Vocab at 0x1b1f1f2860>,\n",
       " 'led': <gensim.models.keyedvectors.Vocab at 0x1b1f1f28d0>,\n",
       " 'among': <gensim.models.keyedvectors.Vocab at 0x1b1f1f2940>,\n",
       " 'June': <gensim.models.keyedvectors.Vocab at 0x1b1f1f29b0>,\n",
       " 'increase': <gensim.models.keyedvectors.Vocab at 0x1b1f1f29e8>,\n",
       " 'China': <gensim.models.keyedvectors.Vocab at 0x1b1f1f2a58>,\n",
       " 'John': <gensim.models.keyedvectors.Vocab at 0x1b1f1f2ac8>,\n",
       " 'whether': <gensim.models.keyedvectors.Vocab at 0x1b1f1f2b38>,\n",
       " 'cost': <gensim.models.keyedvectors.Vocab at 0x1b1f1f2ba8>,\n",
       " 'security': <gensim.models.keyedvectors.Vocab at 0x1b1f1f2be0>,\n",
       " 'job': <gensim.models.keyedvectors.Vocab at 0x1b1f1f2c50>,\n",
       " 'less': <gensim.models.keyedvectors.Vocab at 0x1b1f1f2cc0>,\n",
       " 'head': <gensim.models.keyedvectors.Vocab at 0x1b1f1f2d30>,\n",
       " 'seven': <gensim.models.keyedvectors.Vocab at 0x1b1f1f2da0>,\n",
       " 'growth': <gensim.models.keyedvectors.Vocab at 0x1b1f1f2e10>,\n",
       " 'lost': <gensim.models.keyedvectors.Vocab at 0x1b1f1f2e80>,\n",
       " 'pay': <gensim.models.keyedvectors.Vocab at 0x1b1f1f2ef0>,\n",
       " 'looking': <gensim.models.keyedvectors.Vocab at 0x1b1f1f2f60>,\n",
       " 'provide': <gensim.models.keyedvectors.Vocab at 0x1b1f1f2fd0>,\n",
       " '6': <gensim.models.keyedvectors.Vocab at 0x1b1f1ea048>,\n",
       " 'To': <gensim.models.keyedvectors.Vocab at 0x1b1f1ea0b8>,\n",
       " 'plans': <gensim.models.keyedvectors.Vocab at 0x1b1f1ea128>,\n",
       " 'products': <gensim.models.keyedvectors.Vocab at 0x1b1f1ea160>,\n",
       " 'car': <gensim.models.keyedvectors.Vocab at 0x1b1f1ea1d0>,\n",
       " 'recent': <gensim.models.keyedvectors.Vocab at 0x1b1f1ea240>,\n",
       " 'hard': <gensim.models.keyedvectors.Vocab at 0x1b1f1ea2b0>,\n",
       " 'always': <gensim.models.keyedvectors.Vocab at 0x1b1f1ea320>,\n",
       " 'include': <gensim.models.keyedvectors.Vocab at 0x1b1f1ea390>,\n",
       " 'women': <gensim.models.keyedvectors.Vocab at 0x1b1f1ea400>,\n",
       " 'across': <gensim.models.keyedvectors.Vocab at 0x1b1f1ea470>,\n",
       " 'tax': <gensim.models.keyedvectors.Vocab at 0x1b1f1ea4e0>,\n",
       " 'water': <gensim.models.keyedvectors.Vocab at 0x1b1f1ea550>,\n",
       " 'April': <gensim.models.keyedvectors.Vocab at 0x1b1f1ea5c0>,\n",
       " 'continue': <gensim.models.keyedvectors.Vocab at 0x1b1f1ea5f8>,\n",
       " 'important': <gensim.models.keyedvectors.Vocab at 0x1b1f1ea630>,\n",
       " 'different': <gensim.models.keyedvectors.Vocab at 0x1b1f1ea668>,\n",
       " 'close': <gensim.models.keyedvectors.Vocab at 0x1b1f1ea6d8>,\n",
       " '7': <gensim.models.keyedvectors.Vocab at 0x1b1f1ea710>,\n",
       " 'One': <gensim.models.keyedvectors.Vocab at 0x1b1f1ea780>,\n",
       " 'late': <gensim.models.keyedvectors.Vocab at 0x1b1f1ea7f0>,\n",
       " 'decision': <gensim.models.keyedvectors.Vocab at 0x1b1f1ea828>,\n",
       " 'current': <gensim.models.keyedvectors.Vocab at 0x1b1f1ea898>,\n",
       " 'law': <gensim.models.keyedvectors.Vocab at 0x1b1f1ea908>,\n",
       " 'within': <gensim.models.keyedvectors.Vocab at 0x1b1f1ea978>,\n",
       " 'along': <gensim.models.keyedvectors.Vocab at 0x1b1f1ea9e8>,\n",
       " 'played': <gensim.models.keyedvectors.Vocab at 0x1b1f1eaa58>,\n",
       " 'move': <gensim.models.keyedvectors.Vocab at 0x1b1f1eaac8>,\n",
       " 'United_States': <gensim.models.keyedvectors.Vocab at 0x1b1f1eab00>,\n",
       " 'enough': <gensim.models.keyedvectors.Vocab at 0x1b1f1eab70>,\n",
       " 'become': <gensim.models.keyedvectors.Vocab at 0x1b1f1eabe0>,\n",
       " 'side': <gensim.models.keyedvectors.Vocab at 0x1b1f1eac50>,\n",
       " 'national': <gensim.models.keyedvectors.Vocab at 0x1b1f1eac88>,\n",
       " 'Inc.': <gensim.models.keyedvectors.Vocab at 0x1b1f1eacf8>,\n",
       " 'results': <gensim.models.keyedvectors.Vocab at 0x1b1f1ead68>,\n",
       " 'level': <gensim.models.keyedvectors.Vocab at 0x1b1f1eadd8>,\n",
       " 'loss': <gensim.models.keyedvectors.Vocab at 0x1b1f1eae48>,\n",
       " 'economic': <gensim.models.keyedvectors.Vocab at 0x1b1f1eae80>,\n",
       " 'coach': <gensim.models.keyedvectors.Vocab at 0x1b1f1eaef0>,\n",
       " 'near': <gensim.models.keyedvectors.Vocab at 0x1b1f1eaf60>,\n",
       " 'getting': <gensim.models.keyedvectors.Vocab at 0x1b1f1eafd0>,\n",
       " 'price': <gensim.models.keyedvectors.Vocab at 0x1b1f1fb080>,\n",
       " 'Department': <gensim.models.keyedvectors.Vocab at 0x1b1f1fb0b8>,\n",
       " 'event': <gensim.models.keyedvectors.Vocab at 0x1b1f1fb128>,\n",
       " 'fourth': <gensim.models.keyedvectors.Vocab at 0x1b1f1fb198>,\n",
       " 'change': <gensim.models.keyedvectors.Vocab at 0x1b1f1fb208>,\n",
       " 'All': <gensim.models.keyedvectors.Vocab at 0x1b1f1fb278>,\n",
       " 'small': <gensim.models.keyedvectors.Vocab at 0x1b1f1fb2e8>,\n",
       " 'board': <gensim.models.keyedvectors.Vocab at 0x1b1f1fb358>,\n",
       " 'National': <gensim.models.keyedvectors.Vocab at 0x1b1f1fb390>,\n",
       " 'So': <gensim.models.keyedvectors.Vocab at 0x1b1f1fb400>,\n",
       " 'goal': <gensim.models.keyedvectors.Vocab at 0x1b1f1fb470>,\n",
       " 'taken': <gensim.models.keyedvectors.Vocab at 0x1b1f1fb4e0>,\n",
       " 'field': <gensim.models.keyedvectors.Vocab at 0x1b1f1fb550>,\n",
       " 'prices': <gensim.models.keyedvectors.Vocab at 0x1b1f1fb5c0>,\n",
       " 'weeks': <gensim.models.keyedvectors.Vocab at 0x1b1f1fb630>,\n",
       " 'men': <gensim.models.keyedvectors.Vocab at 0x1b1f1fb6a0>,\n",
       " 'asked': <gensim.models.keyedvectors.Vocab at 0x1b1f1fb710>,\n",
       " 'eight': <gensim.models.keyedvectors.Vocab at 0x1b1f1fb780>,\n",
       " 'data': <gensim.models.keyedvectors.Vocab at 0x1b1f1fb7f0>,\n",
       " 'shot': <gensim.models.keyedvectors.Vocab at 0x1b1f1fb860>,\n",
       " 'New': <gensim.models.keyedvectors.Vocab at 0x1b1f1fb8d0>,\n",
       " 'started': <gensim.models.keyedvectors.Vocab at 0x1b1f1fb940>,\n",
       " 'July': <gensim.models.keyedvectors.Vocab at 0x1b1f1fb9b0>,\n",
       " 'director': <gensim.models.keyedvectors.Vocab at 0x1b1f1fb9e8>,\n",
       " 'President': <gensim.models.keyedvectors.Vocab at 0x1b1f1fba20>,\n",
       " 'party': <gensim.models.keyedvectors.Vocab at 0x1b1f1fba90>,\n",
       " 'federal': <gensim.models.keyedvectors.Vocab at 0x1b1f1fbb00>,\n",
       " 'done': <gensim.models.keyedvectors.Vocab at 0x1b1f1fbb70>,\n",
       " 'political': <gensim.models.keyedvectors.Vocab at 0x1b1f1fbba8>,\n",
       " 'minutes': <gensim.models.keyedvectors.Vocab at 0x1b1f1fbc18>,\n",
       " 'taking': <gensim.models.keyedvectors.Vocab at 0x1b1f1fbc88>,\n",
       " 'Company': <gensim.models.keyedvectors.Vocab at 0x1b1f1fbcf8>,\n",
       " 'technology': <gensim.models.keyedvectors.Vocab at 0x1b1f1fbd30>,\n",
       " 'project': <gensim.models.keyedvectors.Vocab at 0x1b1f1fbda0>,\n",
       " 'center': <gensim.models.keyedvectors.Vocab at 0x1b1f1fbe10>,\n",
       " 'leading': <gensim.models.keyedvectors.Vocab at 0x1b1f1fbe80>,\n",
       " 'issue': <gensim.models.keyedvectors.Vocab at 0x1b1f1fbef0>,\n",
       " 'though': <gensim.models.keyedvectors.Vocab at 0x1b1f1fbf60>,\n",
       " 'having': <gensim.models.keyedvectors.Vocab at 0x1b1f1fbfd0>,\n",
       " 'period': <gensim.models.keyedvectors.Vocab at 0x1b1f1ec080>,\n",
       " 'likely': <gensim.models.keyedvectors.Vocab at 0x1b1f1ec0f0>,\n",
       " 'scored': <gensim.models.keyedvectors.Vocab at 0x1b1f1ec160>,\n",
       " '8': <gensim.models.keyedvectors.Vocab at 0x1b1f1ec198>,\n",
       " 'strong': <gensim.models.keyedvectors.Vocab at 0x1b1f1ec208>,\n",
       " 'series': <gensim.models.keyedvectors.Vocab at 0x1b1f1ec278>,\n",
       " 'military': <gensim.models.keyedvectors.Vocab at 0x1b1f1ec2b0>,\n",
       " 'seen': <gensim.models.keyedvectors.Vocab at 0x1b1f1ec320>,\n",
       " 'trying': <gensim.models.keyedvectors.Vocab at 0x1b1f1ec390>,\n",
       " 'What': <gensim.models.keyedvectors.Vocab at 0x1b1f1ec400>,\n",
       " 'coming': <gensim.models.keyedvectors.Vocab at 0x1b1f1ec470>,\n",
       " 'process': <gensim.models.keyedvectors.Vocab at 0x1b1f1ec4e0>,\n",
       " 'building': <gensim.models.keyedvectors.Vocab at 0x1b1f1ec518>,\n",
       " 'behind': <gensim.models.keyedvectors.Vocab at 0x1b1f1ec588>,\n",
       " 'performance': <gensim.models.keyedvectors.Vocab at 0x1b1f1ec5c0>,\n",
       " 'management': <gensim.models.keyedvectors.Vocab at 0x1b1f1ec5f8>,\n",
       " 'Iraq': <gensim.models.keyedvectors.Vocab at 0x1b1f1ec668>,\n",
       " 'saying': <gensim.models.keyedvectors.Vocab at 0x1b1f1ec6d8>,\n",
       " 'earlier': <gensim.models.keyedvectors.Vocab at 0x1b1f1ec748>,\n",
       " 'believe': <gensim.models.keyedvectors.Vocab at 0x1b1f1ec7b8>,\n",
       " 'oil': <gensim.models.keyedvectors.Vocab at 0x1b1f1ec828>,\n",
       " 'given': <gensim.models.keyedvectors.Vocab at 0x1b1f1ec898>,\n",
       " 'Police': <gensim.models.keyedvectors.Vocab at 0x1b1f1ec908>,\n",
       " 'customers': <gensim.models.keyedvectors.Vocab at 0x1b1f1ec940>,\n",
       " 'due': <gensim.models.keyedvectors.Vocab at 0x1b1f1ec9b0>,\n",
       " 'following': <gensim.models.keyedvectors.Vocab at 0x1b1f1ec9e8>,\n",
       " 'term': <gensim.models.keyedvectors.Vocab at 0x1b1f1eca58>,\n",
       " 'others': <gensim.models.keyedvectors.Vocab at 0x1b1f1ecac8>,\n",
       " 'statement': <gensim.models.keyedvectors.Vocab at 0x1b1f1ecb00>,\n",
       " 'international': <gensim.models.keyedvectors.Vocab at 0x1b1f1ecb38>,\n",
       " 'economy': <gensim.models.keyedvectors.Vocab at 0x1b1f1ecba8>,\n",
       " 'health': <gensim.models.keyedvectors.Vocab at 0x1b1f1ecc18>,\n",
       " 'thing': <gensim.models.keyedvectors.Vocab at 0x1b1f1ecc88>,\n",
       " 'Obama': <gensim.models.keyedvectors.Vocab at 0x1b1f1eccf8>,\n",
       " 'return': <gensim.models.keyedvectors.Vocab at 0x1b1f1ecd68>,\n",
       " 'killed': <gensim.models.keyedvectors.Vocab at 0x1b1f1ecdd8>,\n",
       " 'Washington': <gensim.models.keyedvectors.Vocab at 0x1b1f1ece10>,\n",
       " 'further': <gensim.models.keyedvectors.Vocab at 0x1b1f1ece80>,\n",
       " 'However': <gensim.models.keyedvectors.Vocab at 0x1b1f1ecef0>,\n",
       " 'doing': <gensim.models.keyedvectors.Vocab at 0x1b1f1ecf60>,\n",
       " 'face': <gensim.models.keyedvectors.Vocab at 0x1b1f1ecfd0>,\n",
       " 'low': <gensim.models.keyedvectors.Vocab at 0x1b1f1eb080>,\n",
       " 'higher': <gensim.models.keyedvectors.Vocab at 0x1b1f1eb0f0>,\n",
       " 'site': <gensim.models.keyedvectors.Vocab at 0x1b1f1eb160>,\n",
       " 'once': <gensim.models.keyedvectors.Vocab at 0x1b1f1eb1d0>,\n",
       " 'yet': <gensim.models.keyedvectors.Vocab at 0x1b1f1eb240>,\n",
       " 'hours': <gensim.models.keyedvectors.Vocab at 0x1b1f1eb2b0>,\n",
       " 'America': <gensim.models.keyedvectors.Vocab at 0x1b1f1eb320>,\n",
       " 'control': <gensim.models.keyedvectors.Vocab at 0x1b1f1eb390>,\n",
       " 'received': <gensim.models.keyedvectors.Vocab at 0x1b1f1eb3c8>,\n",
       " 'rate': <gensim.models.keyedvectors.Vocab at 0x1b1f1eb438>,\n",
       " 'career': <gensim.models.keyedvectors.Vocab at 0x1b1f1eb4a8>,\n",
       " 'Bush': <gensim.models.keyedvectors.Vocab at 0x1b1f1eb518>,\n",
       " 'teams': <gensim.models.keyedvectors.Vocab at 0x1b1f1eb588>,\n",
       " 'known': <gensim.models.keyedvectors.Vocab at 0x1b1f1eb5f8>,\n",
       " 'offer': <gensim.models.keyedvectors.Vocab at 0x1b1f1eb668>,\n",
       " 'race': <gensim.models.keyedvectors.Vocab at 0x1b1f1eb6d8>,\n",
       " 'ever': <gensim.models.keyedvectors.Vocab at 0x1b1f1eb748>,\n",
       " 'experience': <gensim.models.keyedvectors.Vocab at 0x1b1f1eb780>,\n",
       " 'playing': <gensim.models.keyedvectors.Vocab at 0x1b1f1eb7f0>,\n",
       " 'name': <gensim.models.keyedvectors.Vocab at 0x1b1f1eb860>,\n",
       " 'possible': <gensim.models.keyedvectors.Vocab at 0x1b1f1eb898>,\n",
       " 'countries': <gensim.models.keyedvectors.Vocab at 0x1b1f1eb8d0>,\n",
       " 'Mr.': <gensim.models.keyedvectors.Vocab at 0x1b1f1eb940>,\n",
       " 'average': <gensim.models.keyedvectors.Vocab at 0x1b1f1eb9b0>,\n",
       " 'together': <gensim.models.keyedvectors.Vocab at 0x1b1f1eb9e8>,\n",
       " 'using': <gensim.models.keyedvectors.Vocab at 0x1b1f1eba58>,\n",
       " '9': <gensim.models.keyedvectors.Vocab at 0x1b1f1eba90>,\n",
       " 'cut': <gensim.models.keyedvectors.Vocab at 0x1b1f1ebb00>,\n",
       " 'While': <gensim.models.keyedvectors.Vocab at 0x1b1f1ebb70>,\n",
       " 'total': <gensim.models.keyedvectors.Vocab at 0x1b1f1ebbe0>,\n",
       " 'round': <gensim.models.keyedvectors.Vocab at 0x1b1f1ebc50>,\n",
       " 'young': <gensim.models.keyedvectors.Vocab at 0x1b1f1ebcc0>,\n",
       " 'nearly': <gensim.models.keyedvectors.Vocab at 0x1b1f1ebd30>,\n",
       " 'shares': <gensim.models.keyedvectors.Vocab at 0x1b1f1ebda0>,\n",
       " 'member': <gensim.models.keyedvectors.Vocab at 0x1b1f1ebe10>,\n",
       " 'campaign': <gensim.models.keyedvectors.Vocab at 0x1b1f1ebe48>,\n",
       " 'media': <gensim.models.keyedvectors.Vocab at 0x1b1f1ebeb8>,\n",
       " 'needs': <gensim.models.keyedvectors.Vocab at 0x1b1f1ebf28>,\n",
       " 'why': <gensim.models.keyedvectors.Vocab at 0x1b1f1ebf98>,\n",
       " 'house': <gensim.models.keyedvectors.Vocab at 0x1b1f207048>,\n",
       " 'issues': <gensim.models.keyedvectors.Vocab at 0x1b1f2070b8>,\n",
       " 'costs': <gensim.models.keyedvectors.Vocab at 0x1b1f207128>,\n",
       " 'fire': <gensim.models.keyedvectors.Vocab at 0x1b1f207198>,\n",
       " '##-#': <gensim.models.keyedvectors.Vocab at 0x1b1f207208>,\n",
       " 'victory': <gensim.models.keyedvectors.Vocab at 0x1b1f207278>,\n",
       " 'player': <gensim.models.keyedvectors.Vocab at 0x1b1f2072e8>,\n",
       " 'began': <gensim.models.keyedvectors.Vocab at 0x1b1f207358>,\n",
       " 'sure': <gensim.models.keyedvectors.Vocab at 0x1b1f2073c8>,\n",
       " 'story': <gensim.models.keyedvectors.Vocab at 0x1b1f207438>,\n",
       " 'per_cent': <gensim.models.keyedvectors.Vocab at 0x1b1f207470>,\n",
       " 'North': <gensim.models.keyedvectors.Vocab at 0x1b1f2074e0>,\n",
       " 'His': <gensim.models.keyedvectors.Vocab at 0x1b1f207550>,\n",
       " 'staff': <gensim.models.keyedvectors.Vocab at 0x1b1f2075c0>,\n",
       " 'order': <gensim.models.keyedvectors.Vocab at 0x1b1f207630>,\n",
       " 'war': <gensim.models.keyedvectors.Vocab at 0x1b1f2076a0>,\n",
       " 'large': <gensim.models.keyedvectors.Vocab at 0x1b1f207710>,\n",
       " 'interest': <gensim.models.keyedvectors.Vocab at 0x1b1f207748>,\n",
       " 'stock': <gensim.models.keyedvectors.Vocab at 0x1b1f2077b8>,\n",
       " 'food': <gensim.models.keyedvectors.Vocab at 0x1b1f207828>,\n",
       " 'research': <gensim.models.keyedvectors.Vocab at 0x1b1f207860>,\n",
       " 'key': <gensim.models.keyedvectors.Vocab at 0x1b1f2078d0>,\n",
       " 'India': <gensim.models.keyedvectors.Vocab at 0x1b1f207940>,\n",
       " 'South': <gensim.models.keyedvectors.Vocab at 0x1b1f2079b0>,\n",
       " 'morning': <gensim.models.keyedvectors.Vocab at 0x1b1f207a20>,\n",
       " 'conference': <gensim.models.keyedvectors.Vocab at 0x1b1f207a58>,\n",
       " 'senior': <gensim.models.keyedvectors.Vocab at 0x1b1f207ac8>,\n",
       " 'global': <gensim.models.keyedvectors.Vocab at 0x1b1f207b38>,\n",
       " 'Center': <gensim.models.keyedvectors.Vocab at 0x1b1f207ba8>,\n",
       " 'death': <gensim.models.keyedvectors.Vocab at 0x1b1f207c18>,\n",
       " 'person': <gensim.models.keyedvectors.Vocab at 0x1b1f207c88>,\n",
       " 'thought': <gensim.models.keyedvectors.Vocab at 0x1b1f207cf8>,\n",
       " 'gave': <gensim.models.keyedvectors.Vocab at 0x1b1f207d68>,\n",
       " 'feel': <gensim.models.keyedvectors.Vocab at 0x1b1f207dd8>,\n",
       " 'energy': <gensim.models.keyedvectors.Vocab at 0x1b1f207e48>,\n",
       " 'history': <gensim.models.keyedvectors.Vocab at 0x1b1f207eb8>,\n",
       " 'recently': <gensim.models.keyedvectors.Vocab at 0x1b1f207ef0>,\n",
       " 'largest': <gensim.models.keyedvectors.Vocab at 0x1b1f207f60>,\n",
       " 'No.': <gensim.models.keyedvectors.Vocab at 0x1b1f207fd0>,\n",
       " 'general': <gensim.models.keyedvectors.Vocab at 0x1b1f209080>,\n",
       " 'official': <gensim.models.keyedvectors.Vocab at 0x1b1f2090b8>,\n",
       " 'released': <gensim.models.keyedvectors.Vocab at 0x1b1f2090f0>,\n",
       " 'wanted': <gensim.models.keyedvectors.Vocab at 0x1b1f209160>,\n",
       " 'meet': <gensim.models.keyedvectors.Vocab at 0x1b1f2091d0>,\n",
       " 'short': <gensim.models.keyedvectors.Vocab at 0x1b1f209240>,\n",
       " 'outside': <gensim.models.keyedvectors.Vocab at 0x1b1f2092b0>,\n",
       " 'running': <gensim.models.keyedvectors.Vocab at 0x1b1f209320>,\n",
       " 'live': <gensim.models.keyedvectors.Vocab at 0x1b1f209390>,\n",
       " 'ball': <gensim.models.keyedvectors.Vocab at 0x1b1f209400>,\n",
       " 'online': <gensim.models.keyedvectors.Vocab at 0x1b1f209470>,\n",
       " 'real': <gensim.models.keyedvectors.Vocab at 0x1b1f2094e0>,\n",
       " 'position': <gensim.models.keyedvectors.Vocab at 0x1b1f209518>,\n",
       " 'fact': <gensim.models.keyedvectors.Vocab at 0x1b1f209588>,\n",
       " 'fell': <gensim.models.keyedvectors.Vocab at 0x1b1f2095f8>,\n",
       " 'nine': <gensim.models.keyedvectors.Vocab at 0x1b1f209668>,\n",
       " 'December': <gensim.models.keyedvectors.Vocab at 0x1b1f2096a0>,\n",
       " 'front': <gensim.models.keyedvectors.Vocab at 0x1b1f209710>,\n",
       " 'action': <gensim.models.keyedvectors.Vocab at 0x1b1f209780>,\n",
       " 'defense': <gensim.models.keyedvectors.Vocab at 0x1b1f2097f0>,\n",
       " 'problem': <gensim.models.keyedvectors.Vocab at 0x1b1f209860>,\n",
       " 'problems': <gensim.models.keyedvectors.Vocab at 0x1b1f209898>,\n",
       " 'Mr': <gensim.models.keyedvectors.Vocab at 0x1b1f209908>,\n",
       " 'nation': <gensim.models.keyedvectors.Vocab at 0x1b1f209978>,\n",
       " 'needed': <gensim.models.keyedvectors.Vocab at 0x1b1f2099e8>,\n",
       " 'special': <gensim.models.keyedvectors.Vocab at 0x1b1f209a58>,\n",
       " 'January': <gensim.models.keyedvectors.Vocab at 0x1b1f209ac8>,\n",
       " 'almost': <gensim.models.keyedvectors.Vocab at 0x1b1f209b38>,\n",
       " 'chance': <gensim.models.keyedvectors.Vocab at 0x1b1f209ba8>,\n",
       " \"'d\": <gensim.models.keyedvectors.Vocab at 0x1b1f209c18>,\n",
       " 'result': <gensim.models.keyedvectors.Vocab at 0x1b1f209c88>,\n",
       " 'West': <gensim.models.keyedvectors.Vocab at 0x1b1f209cf8>,\n",
       " 'September': <gensim.models.keyedvectors.Vocab at 0x1b1f209d30>,\n",
       " 'reports': <gensim.models.keyedvectors.Vocab at 0x1b1f209da0>,\n",
       " 'leader': <gensim.models.keyedvectors.Vocab at 0x1b1f209e10>,\n",
       " 'investment': <gensim.models.keyedvectors.Vocab at 0x1b1f209e48>,\n",
       " 'yesterday': <gensim.models.keyedvectors.Vocab at 0x1b1f209e80>,\n",
       " 'Some': <gensim.models.keyedvectors.Vocab at 0x1b1f209ef0>,\n",
       " 'leaders': <gensim.models.keyedvectors.Vocab at 0x1b1f209f60>,\n",
       " 'ahead': <gensim.models.keyedvectors.Vocab at 0x1b1f209fd0>,\n",
       " 'production': <gensim.models.keyedvectors.Vocab at 0x1b1f20a048>,\n",
       " 'comes': <gensim.models.keyedvectors.Vocab at 0x1b1f20a0b8>,\n",
       " 'No': <gensim.models.keyedvectors.Vocab at 0x1b1f20a128>,\n",
       " 'runs': <gensim.models.keyedvectors.Vocab at 0x1b1f20a198>,\n",
       " 'match': <gensim.models.keyedvectors.Vocab at 0x1b1f20a208>,\n",
       " 'role': <gensim.models.keyedvectors.Vocab at 0x1b1f20a278>,\n",
       " 'kind': <gensim.models.keyedvectors.Vocab at 0x1b1f20a2e8>,\n",
       " 'try': <gensim.models.keyedvectors.Vocab at 0x1b1f20a358>,\n",
       " 'ended': <gensim.models.keyedvectors.Vocab at 0x1b1f20a3c8>,\n",
       " 'risk': <gensim.models.keyedvectors.Vocab at 0x1b1f20a438>,\n",
       " 'areas': <gensim.models.keyedvectors.Vocab at 0x1b1f20a4a8>,\n",
       " 'election': <gensim.models.keyedvectors.Vocab at 0x1b1f20a4e0>,\n",
       " 'workers': <gensim.models.keyedvectors.Vocab at 0x1b1f20a550>,\n",
       " 'visit': <gensim.models.keyedvectors.Vocab at 0x1b1f20a5c0>,\n",
       " 'bring': <gensim.models.keyedvectors.Vocab at 0x1b1f20a630>,\n",
       " 'road': <gensim.models.keyedvectors.Vocab at 0x1b1f20a6a0>,\n",
       " 'music': <gensim.models.keyedvectors.Vocab at 0x1b1f20a710>,\n",
       " 'study': <gensim.models.keyedvectors.Vocab at 0x1b1f20a780>,\n",
       " 'makes': <gensim.models.keyedvectors.Vocab at 0x1b1f20a7f0>,\n",
       " 'often': <gensim.models.keyedvectors.Vocab at 0x1b1f20a860>,\n",
       " 'release': <gensim.models.keyedvectors.Vocab at 0x1b1f20a8d0>,\n",
       " 'woman': <gensim.models.keyedvectors.Vocab at 0x1b1f20a940>,\n",
       " 'vote': <gensim.models.keyedvectors.Vocab at 0x1b1f20a9b0>,\n",
       " 'care': <gensim.models.keyedvectors.Vocab at 0x1b1f20aa20>,\n",
       " 'town': <gensim.models.keyedvectors.Vocab at 0x1b1f20aa90>,\n",
       " 'clear': <gensim.models.keyedvectors.Vocab at 0x1b1f20ab00>,\n",
       " 'comment': <gensim.models.keyedvectors.Vocab at 0x1b1f20ab70>,\n",
       " 'budget': <gensim.models.keyedvectors.Vocab at 0x1b1f20abe0>,\n",
       " 'potential': <gensim.models.keyedvectors.Vocab at 0x1b1f20ac18>,\n",
       " 'single': <gensim.models.keyedvectors.Vocab at 0x1b1f20ac88>,\n",
       " 'markets': <gensim.models.keyedvectors.Vocab at 0x1b1f20acf8>,\n",
       " 'policy': <gensim.models.keyedvectors.Vocab at 0x1b1f20ad68>,\n",
       " 'capital': <gensim.models.keyedvectors.Vocab at 0x1b1f20add8>,\n",
       " 'saw': <gensim.models.keyedvectors.Vocab at 0x1b1f20ae48>,\n",
       " 'access': <gensim.models.keyedvectors.Vocab at 0x1b1f20aeb8>,\n",
       " 'weekend': <gensim.models.keyedvectors.Vocab at 0x1b1f20af28>,\n",
       " 'operations': <gensim.models.keyedvectors.Vocab at 0x1b1f20af60>,\n",
       " 'whose': <gensim.models.keyedvectors.Vocab at 0x1b1f20afd0>,\n",
       " 'net': <gensim.models.keyedvectors.Vocab at 0x1b1f20c080>,\n",
       " 'House': <gensim.models.keyedvectors.Vocab at 0x1b1f20c0f0>,\n",
       " 'hand': <gensim.models.keyedvectors.Vocab at 0x1b1f20c160>,\n",
       " 'increased': <gensim.models.keyedvectors.Vocab at 0x1b1f20c198>,\n",
       " 'charges': <gensim.models.keyedvectors.Vocab at 0x1b1f20c208>,\n",
       " 'winning': <gensim.models.keyedvectors.Vocab at 0x1b1f20c278>,\n",
       " 'trade': <gensim.models.keyedvectors.Vocab at 0x1b1f20c2e8>,\n",
       " 'These': <gensim.models.keyedvectors.Vocab at 0x1b1f20c358>,\n",
       " 'income': <gensim.models.keyedvectors.Vocab at 0x1b1f20c3c8>,\n",
       " 'value': <gensim.models.keyedvectors.Vocab at 0x1b1f20c438>,\n",
       " 'involved': <gensim.models.keyedvectors.Vocab at 0x1b1f20c470>,\n",
       " 'Bank': <gensim.models.keyedvectors.Vocab at 0x1b1f20c4e0>,\n",
       " 'November': <gensim.models.keyedvectors.Vocab at 0x1b1f20c518>,\n",
       " 'bill': <gensim.models.keyedvectors.Vocab at 0x1b1f20c588>,\n",
       " 'compared': <gensim.models.keyedvectors.Vocab at 0x1b1f20c5c0>,\n",
       " 'anything': <gensim.models.keyedvectors.Vocab at 0x1b1f20c5f8>,\n",
       " 'manager': <gensim.models.keyedvectors.Vocab at 0x1b1f20c668>,\n",
       " 'Texas': <gensim.models.keyedvectors.Vocab at 0x1b1f20c6d8>,\n",
       " 'property': <gensim.models.keyedvectors.Vocab at 0x1b1f20c710>,\n",
       " 'stop': <gensim.models.keyedvectors.Vocab at 0x1b1f20c780>,\n",
       " 'annual': <gensim.models.keyedvectors.Vocab at 0x1b1f20c7f0>,\n",
       " 'private': <gensim.models.keyedvectors.Vocab at 0x1b1f20c860>,\n",
       " 'contract': <gensim.models.keyedvectors.Vocab at 0x1b1f20c898>,\n",
       " 'died': <gensim.models.keyedvectors.Vocab at 0x1b1f20c908>,\n",
       " 'Now': <gensim.models.keyedvectors.Vocab at 0x1b1f20c978>,\n",
       " 'hope': <gensim.models.keyedvectors.Vocab at 0x1b1f20c9e8>,\n",
       " 'product': <gensim.models.keyedvectors.Vocab at 0x1b1f20ca58>,\n",
       " 'fans': <gensim.models.keyedvectors.Vocab at 0x1b1f20cac8>,\n",
       " 'lower': <gensim.models.keyedvectors.Vocab at 0x1b1f20cb38>,\n",
       " 'demand': <gensim.models.keyedvectors.Vocab at 0x1b1f20cba8>,\n",
       " 'News': <gensim.models.keyedvectors.Vocab at 0x1b1f20cc18>,\n",
       " 'David': <gensim.models.keyedvectors.Vocab at 0x1b1f20cc88>,\n",
       " 'club': <gensim.models.keyedvectors.Vocab at 0x1b1f20ccf8>,\n",
       " 'comments': <gensim.models.keyedvectors.Vocab at 0x1b1f20cd30>,\n",
       " 'film': <gensim.models.keyedvectors.Vocab at 0x1b1f20cda0>,\n",
       " 'yards': <gensim.models.keyedvectors.Vocab at 0x1b1f20ce10>,\n",
       " 'quality': <gensim.models.keyedvectors.Vocab at 0x1b1f20ce80>,\n",
       " 'currently': <gensim.models.keyedvectors.Vocab at 0x1b1f20ceb8>,\n",
       " 'events': <gensim.models.keyedvectors.Vocab at 0x1b1f20cf28>,\n",
       " 'addition': <gensim.models.keyedvectors.Vocab at 0x1b1f20cf60>,\n",
       " 'couple': <gensim.models.keyedvectors.Vocab at 0x1b1f20cfd0>,\n",
       " 'schools': <gensim.models.keyedvectors.Vocab at 0x1b1f20f080>,\n",
       " 'attack': <gensim.models.keyedvectors.Vocab at 0x1b1f20f0f0>,\n",
       " 'region': <gensim.models.keyedvectors.Vocab at 0x1b1f20f160>,\n",
       " 'latest': <gensim.models.keyedvectors.Vocab at 0x1b1f20f1d0>,\n",
       " 'opportunity': <gensim.models.keyedvectors.Vocab at 0x1b1f20f208>,\n",
       " 'worked': <gensim.models.keyedvectors.Vocab at 0x1b1f20f278>,\n",
       " 'course': <gensim.models.keyedvectors.Vocab at 0x1b1f20f2e8>,\n",
       " 'bad': <gensim.models.keyedvectors.Vocab at 0x1b1f20f358>,\n",
       " 'fall': <gensim.models.keyedvectors.Vocab at 0x1b1f20f3c8>,\n",
       " 'Group': <gensim.models.keyedvectors.Vocab at 0x1b1f20f438>,\n",
       " 'October': <gensim.models.keyedvectors.Vocab at 0x1b1f20f4a8>,\n",
       " 'jobs': <gensim.models.keyedvectors.Vocab at 0x1b1f20f518>,\n",
       " 'list': <gensim.models.keyedvectors.Vocab at 0x1b1f20f588>,\n",
       " 'let': <gensim.models.keyedvectors.Vocab at 0x1b1f20f5f8>,\n",
       " 'however': <gensim.models.keyedvectors.Vocab at 0x1b1f20f668>,\n",
       " 'chief': <gensim.models.keyedvectors.Vocab at 0x1b1f20f6d8>,\n",
       " 'summer': <gensim.models.keyedvectors.Vocab at 0x1b1f20f748>,\n",
       " 'programs': <gensim.models.keyedvectors.Vocab at 0x1b1f20f780>,\n",
       " 'According': <gensim.models.keyedvectors.Vocab at 0x1b1f20f7b8>,\n",
       " 'revenue': <gensim.models.keyedvectors.Vocab at 0x1b1f20f828>,\n",
       " 'Our': <gensim.models.keyedvectors.Vocab at 0x1b1f20f898>,\n",
       " 'rose': <gensim.models.keyedvectors.Vocab at 0x1b1f20f908>,\n",
       " 'previous': <gensim.models.keyedvectors.Vocab at 0x1b1f20f940>,\n",
       " 'TV': <gensim.models.keyedvectors.Vocab at 0x1b1f20f9b0>,\n",
       " 'football': <gensim.models.keyedvectors.Vocab at 0x1b1f20f9e8>,\n",
       " 'biggest': <gensim.models.keyedvectors.Vocab at 0x1b1f20fa58>,\n",
       " 'employees': <gensim.models.keyedvectors.Vocab at 0x1b1f20fa90>,\n",
       " 'changes': <gensim.models.keyedvectors.Vocab at 0x1b1f20fb00>,\n",
       " 'residents': <gensim.models.keyedvectors.Vocab at 0x1b1f20fb38>,\n",
       " 'means': <gensim.models.keyedvectors.Vocab at 0x1b1f20fba8>,\n",
       " 'agreement': <gensim.models.keyedvectors.Vocab at 0x1b1f20fbe0>,\n",
       " 'includes': <gensim.models.keyedvectors.Vocab at 0x1b1f20fc18>,\n",
       " 'post': <gensim.models.keyedvectors.Vocab at 0x1b1f20fc88>,\n",
       " 'Canada': <gensim.models.keyedvectors.Vocab at 0x1b1f20fcf8>,\n",
       " 'probably': <gensim.models.keyedvectors.Vocab at 0x1b1f20fd30>,\n",
       " 'related': <gensim.models.keyedvectors.Vocab at 0x1b1f20fda0>,\n",
       " 'training': <gensim.models.keyedvectors.Vocab at 0x1b1f20fdd8>,\n",
       " 'allowed': <gensim.models.keyedvectors.Vocab at 0x1b1f20fe48>,\n",
       " 'class': <gensim.models.keyedvectors.Vocab at 0x1b1f20feb8>,\n",
       " 'bit': <gensim.models.keyedvectors.Vocab at 0x1b1f20ff28>,\n",
       " 'video': <gensim.models.keyedvectors.Vocab at 0x1b1f20ff98>,\n",
       " 'Michael': <gensim.models.keyedvectors.Vocab at 0x1b1f211048>,\n",
       " 'An': <gensim.models.keyedvectors.Vocab at 0x1b1f2110b8>,\n",
       " 'sent': <gensim.models.keyedvectors.Vocab at 0x1b1f211128>,\n",
       " 'education': <gensim.models.keyedvectors.Vocab at 0x1b1f211160>,\n",
       " 'states': <gensim.models.keyedvectors.Vocab at 0x1b1f2111d0>,\n",
       " 'straight': <gensim.models.keyedvectors.Vocab at 0x1b1f211208>,\n",
       " 'love': <gensim.models.keyedvectors.Vocab at 0x1b1f211278>,\n",
       " 'beat': <gensim.models.keyedvectors.Vocab at 0x1b1f2112e8>,\n",
       " 'hold': <gensim.models.keyedvectors.Vocab at 0x1b1f211358>,\n",
       " 'turn': <gensim.models.keyedvectors.Vocab at 0x1b1f2113c8>,\n",
       " 'finished': <gensim.models.keyedvectors.Vocab at 0x1b1f211400>,\n",
       " 'network': <gensim.models.keyedvectors.Vocab at 0x1b1f211470>,\n",
       " 'Smith': <gensim.models.keyedvectors.Vocab at 0x1b1f2114e0>,\n",
       " 'buy': <gensim.models.keyedvectors.Vocab at 0x1b1f211550>,\n",
       " 'foreign': <gensim.models.keyedvectors.Vocab at 0x1b1f2115c0>,\n",
       " 'especially': <gensim.models.keyedvectors.Vocab at 0x1b1f2115f8>,\n",
       " 'groups': <gensim.models.keyedvectors.Vocab at 0x1b1f211668>,\n",
       " 'wants': <gensim.models.keyedvectors.Vocab at 0x1b1f2116d8>,\n",
       " 'title': <gensim.models.keyedvectors.Vocab at 0x1b1f211748>,\n",
       " 'included': <gensim.models.keyedvectors.Vocab at 0x1b1f211780>,\n",
       " 'turned': <gensim.models.keyedvectors.Vocab at 0x1b1f2117f0>,\n",
       " 'bank': <gensim.models.keyedvectors.Vocab at 0x1b1f211860>,\n",
       " 'Florida': <gensim.models.keyedvectors.Vocab at 0x1b1f2118d0>,\n",
       " 'efforts': <gensim.models.keyedvectors.Vocab at 0x1b1f211940>,\n",
       " 'personal': <gensim.models.keyedvectors.Vocab at 0x1b1f211978>,\n",
       " 'businesses': <gensim.models.keyedvectors.Vocab at 0x1b1f2119b0>,\n",
       " 'August': <gensim.models.keyedvectors.Vocab at 0x1b1f211a20>,\n",
       " 'California': <gensim.models.keyedvectors.Vocab at 0x1b1f211a58>,\n",
       " 'situation': <gensim.models.keyedvectors.Vocab at 0x1b1f211a90>,\n",
       " 'district': <gensim.models.keyedvectors.Vocab at 0x1b1f211ac8>,\n",
       " 'allow': <gensim.models.keyedvectors.Vocab at 0x1b1f211b38>,\n",
       " 'helped': <gensim.models.keyedvectors.Vocab at 0x1b1f211ba8>,\n",
       " 'body': <gensim.models.keyedvectors.Vocab at 0x1b1f211c18>,\n",
       " 'nothing': <gensim.models.keyedvectors.Vocab at 0x1b1f211c88>,\n",
       " 'soon': <gensim.models.keyedvectors.Vocab at 0x1b1f211cf8>,\n",
       " 'safety': <gensim.models.keyedvectors.Vocab at 0x1b1f211d68>,\n",
       " 'officer': <gensim.models.keyedvectors.Vocab at 0x1b1f211dd8>,\n",
       " 'cents': <gensim.models.keyedvectors.Vocab at 0x1b1f211e48>,\n",
       " 'Europe': <gensim.models.keyedvectors.Vocab at 0x1b1f211eb8>,\n",
       " 'St.': <gensim.models.keyedvectors.Vocab at 0x1b1f211f28>,\n",
       " 'additional': <gensim.models.keyedvectors.Vocab at 0x1b1f211f60>,\n",
       " 'spokesman': <gensim.models.keyedvectors.Vocab at 0x1b1f211f98>,\n",
       " 'February': <gensim.models.keyedvectors.Vocab at 0x1b1f211fd0>,\n",
       " 'wife': <gensim.models.keyedvectors.Vocab at 0x1b1f212080>,\n",
       " 'showed': <gensim.models.keyedvectors.Vocab at 0x1b1f2120f0>,\n",
       " 'leave': <gensim.models.keyedvectors.Vocab at 0x1b1f212160>,\n",
       " 'investors': <gensim.models.keyedvectors.Vocab at 0x1b1f212198>,\n",
       " 'parents': <gensim.models.keyedvectors.Vocab at 0x1b1f212208>,\n",
       " 'medical': <gensim.models.keyedvectors.Vocab at 0x1b1f212278>,\n",
       " 'spending': <gensim.models.keyedvectors.Vocab at 0x1b1f2122b0>,\n",
       " 'non': <gensim.models.keyedvectors.Vocab at 0x1b1f212320>,\n",
       " 'London': <gensim.models.keyedvectors.Vocab at 0x1b1f212390>,\n",
       " 'Council': <gensim.models.keyedvectors.Vocab at 0x1b1f212400>,\n",
       " 'matter': <gensim.models.keyedvectors.Vocab at 0x1b1f212470>,\n",
       " 'spent': <gensim.models.keyedvectors.Vocab at 0x1b1f2124e0>,\n",
       " 'child': <gensim.models.keyedvectors.Vocab at 0x1b1f212550>,\n",
       " 'World': <gensim.models.keyedvectors.Vocab at 0x1b1f2125c0>,\n",
       " 'effort': <gensim.models.keyedvectors.Vocab at 0x1b1f212630>,\n",
       " 'opening': <gensim.models.keyedvectors.Vocab at 0x1b1f2126a0>,\n",
       " 'either': <gensim.models.keyedvectors.Vocab at 0x1b1f212710>,\n",
       " 'range': <gensim.models.keyedvectors.Vocab at 0x1b1f212780>,\n",
       " 'question': <gensim.models.keyedvectors.Vocab at 0x1b1f2127b8>,\n",
       " 'European': <gensim.models.keyedvectors.Vocab at 0x1b1f2127f0>,\n",
       " 'goals': <gensim.models.keyedvectors.Vocab at 0x1b1f212860>,\n",
       " 'administration': <gensim.models.keyedvectors.Vocab at 0x1b1f212898>,\n",
       " 'friends': <gensim.models.keyedvectors.Vocab at 0x1b1f212908>,\n",
       " 'himself': <gensim.models.keyedvectors.Vocab at 0x1b1f212978>,\n",
       " 'shows': <gensim.models.keyedvectors.Vocab at 0x1b1f2129e8>,\n",
       " 'difficult': <gensim.models.keyedvectors.Vocab at 0x1b1f212a20>,\n",
       " 'kids': <gensim.models.keyedvectors.Vocab at 0x1b1f212a90>,\n",
       " 'paid': <gensim.models.keyedvectors.Vocab at 0x1b1f212b00>,\n",
       " 'create': <gensim.models.keyedvectors.Vocab at 0x1b1f212b70>,\n",
       " 'cash': <gensim.models.keyedvectors.Vocab at 0x1b1f212be0>,\n",
       " 'age': <gensim.models.keyedvectors.Vocab at 0x1b1f212c50>,\n",
       " 'league': <gensim.models.keyedvectors.Vocab at 0x1b1f212cc0>,\n",
       " 'form': <gensim.models.keyedvectors.Vocab at 0x1b1f212d30>,\n",
       " 'impact': <gensim.models.keyedvectors.Vocab at 0x1b1f212da0>,\n",
       " 'drive': <gensim.models.keyedvectors.Vocab at 0x1b1f212e10>,\n",
       " 'someone': <gensim.models.keyedvectors.Vocab at 0x1b1f212e80>,\n",
       " 'became': <gensim.models.keyedvectors.Vocab at 0x1b1f212ef0>,\n",
       " 'stay': <gensim.models.keyedvectors.Vocab at 0x1b1f212f60>,\n",
       " 'fight': <gensim.models.keyedvectors.Vocab at 0x1b1f212fd0>,\n",
       " 'significant': <gensim.models.keyedvectors.Vocab at 0x1b1f213048>,\n",
       " 'firm': <gensim.models.keyedvectors.Vocab at 0x1b1f2130b8>,\n",
       " 'Senate': <gensim.models.keyedvectors.Vocab at 0x1b1f213128>,\n",
       " 'hospital': <gensim.models.keyedvectors.Vocab at 0x1b1f213160>,\n",
       " 'charged': <gensim.models.keyedvectors.Vocab at 0x1b1f2131d0>,\n",
       " 'operating': <gensim.models.keyedvectors.Vocab at 0x1b1f213208>,\n",
       " 'main': <gensim.models.keyedvectors.Vocab at 0x1b1f213278>,\n",
       " 'book': <gensim.models.keyedvectors.Vocab at 0x1b1f2132e8>,\n",
       " 'success': <gensim.models.keyedvectors.Vocab at 0x1b1f213358>,\n",
       " 'son': <gensim.models.keyedvectors.Vocab at 0x1b1f2133c8>,\n",
       " 'trading': <gensim.models.keyedvectors.Vocab at 0x1b1f213438>,\n",
       " '###-####': <gensim.models.keyedvectors.Vocab at 0x1b1f213470>,\n",
       " 'focus': <gensim.models.keyedvectors.Vocab at 0x1b1f2134e0>,\n",
       " 'room': <gensim.models.keyedvectors.Vocab at 0x1b1f213550>,\n",
       " 'continued': <gensim.models.keyedvectors.Vocab at 0x1b1f213588>,\n",
       " 'Congress': <gensim.models.keyedvectors.Vocab at 0x1b1f2135c0>,\n",
       " 'everything': <gensim.models.keyedvectors.Vocab at 0x1b1f2135f8>,\n",
       " 'Park': <gensim.models.keyedvectors.Vocab at 0x1b1f213668>,\n",
       " 'agency': <gensim.models.keyedvectors.Vocab at 0x1b1f2136d8>,\n",
       " 'brought': <gensim.models.keyedvectors.Vocab at 0x1b1f213748>,\n",
       " 'talk': <gensim.models.keyedvectors.Vocab at 0x1b1f2137b8>,\n",
       " 'break': <gensim.models.keyedvectors.Vocab at 0x1b1f213828>,\n",
       " 'air': <gensim.models.keyedvectors.Vocab at 0x1b1f213898>,\n",
       " 'software': <gensim.models.keyedvectors.Vocab at 0x1b1f2138d0>,\n",
       " 'decided': <gensim.models.keyedvectors.Vocab at 0x1b1f213940>,\n",
       " 'Do': <gensim.models.keyedvectors.Vocab at 0x1b1f2139b0>,\n",
       " 'ready': <gensim.models.keyedvectors.Vocab at 0x1b1f213a20>,\n",
       " 'arrested': <gensim.models.keyedvectors.Vocab at 0x1b1f213a58>,\n",
       " 'track': <gensim.models.keyedvectors.Vocab at 0x1b1f213ac8>,\n",
       " 'provides': <gensim.models.keyedvectors.Vocab at 0x1b1f213b00>,\n",
       " 'mother': <gensim.models.keyedvectors.Vocab at 0x1b1f213b70>,\n",
       " 'base': <gensim.models.keyedvectors.Vocab at 0x1b1f213be0>,\n",
       " 'trial': <gensim.models.keyedvectors.Vocab at 0x1b1f213c50>,\n",
       " 'phone': <gensim.models.keyedvectors.Vocab at 0x1b1f213cc0>,\n",
       " 'My': <gensim.models.keyedvectors.Vocab at 0x1b1f213d30>,\n",
       " 'build': <gensim.models.keyedvectors.Vocab at 0x1b1f213da0>,\n",
       " 'conditions': <gensim.models.keyedvectors.Vocab at 0x1b1f213dd8>,\n",
       " 'rest': <gensim.models.keyedvectors.Vocab at 0x1b1f213e48>,\n",
       " 'Johnson': <gensim.models.keyedvectors.Vocab at 0x1b1f213eb8>,\n",
       " 'terms': <gensim.models.keyedvectors.Vocab at 0x1b1f213f28>,\n",
       " 'expect': <gensim.models.keyedvectors.Vocab at 0x1b1f213f98>,\n",
       " 'England': <gensim.models.keyedvectors.Vocab at 0x1b1f214048>,\n",
       " 'Israel': <gensim.models.keyedvectors.Vocab at 0x1b1f2140b8>,\n",
       " 'despite': <gensim.models.keyedvectors.Vocab at 0x1b1f214128>,\n",
       " 'closed': <gensim.models.keyedvectors.Vocab at 0x1b1f214198>,\n",
       " 'starting': <gensim.models.keyedvectors.Vocab at 0x1b1f2141d0>,\n",
       " 'provided': <gensim.models.keyedvectors.Vocab at 0x1b1f214208>,\n",
       " 'pressure': <gensim.models.keyedvectors.Vocab at 0x1b1f214240>,\n",
       " 'lives': <gensim.models.keyedvectors.Vocab at 0x1b1f2142b0>,\n",
       " 'step': <gensim.models.keyedvectors.Vocab at 0x1b1f214320>,\n",
       " 'remain': <gensim.models.keyedvectors.Vocab at 0x1b1f214390>,\n",
       " 'similar': <gensim.models.keyedvectors.Vocab at 0x1b1f214400>,\n",
       " 'charge': <gensim.models.keyedvectors.Vocab at 0x1b1f214470>,\n",
       " 'date': <gensim.models.keyedvectors.Vocab at 0x1b1f2144e0>,\n",
       " 'whole': <gensim.models.keyedvectors.Vocab at 0x1b1f214550>,\n",
       " 'land': <gensim.models.keyedvectors.Vocab at 0x1b1f2145c0>,\n",
       " 'growing': <gensim.models.keyedvectors.Vocab at 0x1b1f214630>,\n",
       " 'James': <gensim.models.keyedvectors.Vocab at 0x1b1f2146a0>,\n",
       " 'Internet': <gensim.models.keyedvectors.Vocab at 0x1b1f2146d8>,\n",
       " 'projects': <gensim.models.keyedvectors.Vocab at 0x1b1f214710>,\n",
       " 'British': <gensim.models.keyedvectors.Vocab at 0x1b1f214780>,\n",
       " 'cases': <gensim.models.keyedvectors.Vocab at 0x1b1f2147f0>,\n",
       " 'ground': <gensim.models.keyedvectors.Vocab at 0x1b1f214860>,\n",
       " 'legal': <gensim.models.keyedvectors.Vocab at 0x1b1f2148d0>,\n",
       " 'International': <gensim.models.keyedvectors.Vocab at 0x1b1f214908>,\n",
       " 'agreed': <gensim.models.keyedvectors.Vocab at 0x1b1f214978>,\n",
       " 'tell': <gensim.models.keyedvectors.Vocab at 0x1b1f2149e8>,\n",
       " 'test': <gensim.models.keyedvectors.Vocab at 0x1b1f214a58>,\n",
       " 'everyone': <gensim.models.keyedvectors.Vocab at 0x1b1f214a90>,\n",
       " 'pretty': <gensim.models.keyedvectors.Vocab at 0x1b1f214b00>,\n",
       " 'authorities': <gensim.models.keyedvectors.Vocab at 0x1b1f214b38>,\n",
       " 'Two': <gensim.models.keyedvectors.Vocab at 0x1b1f214ba8>,\n",
       " 'above': <gensim.models.keyedvectors.Vocab at 0x1b1f214c18>,\n",
       " 'moved': <gensim.models.keyedvectors.Vocab at 0x1b1f214c88>,\n",
       " 'profit': <gensim.models.keyedvectors.Vocab at 0x1b1f214cf8>,\n",
       " 'throughout': <gensim.models.keyedvectors.Vocab at 0x1b1f214d30>,\n",
       " 'inside': <gensim.models.keyedvectors.Vocab at 0x1b1f214da0>,\n",
       " 'ability': <gensim.models.keyedvectors.Vocab at 0x1b1f214e10>,\n",
       " 'overall': <gensim.models.keyedvectors.Vocab at 0x1b1f214e80>,\n",
       " 'pass': <gensim.models.keyedvectors.Vocab at 0x1b1f214ef0>,\n",
       " 'officers': <gensim.models.keyedvectors.Vocab at 0x1b1f214f28>,\n",
       " 'rather': <gensim.models.keyedvectors.Vocab at 0x1b1f214f98>,\n",
       " 'Australia': <gensim.models.keyedvectors.Vocab at 0x1b1f214fd0>,\n",
       " 'actually': <gensim.models.keyedvectors.Vocab at 0x1c83dca048>,\n",
       " 'county': <gensim.models.keyedvectors.Vocab at 0x1c83dca0b8>,\n",
       " 'amount': <gensim.models.keyedvectors.Vocab at 0x1c83dca128>,\n",
       " 'scheduled': <gensim.models.keyedvectors.Vocab at 0x1c83dca160>,\n",
       " 'themselves': <gensim.models.keyedvectors.Vocab at 0x1c83dca198>,\n",
       " 'organization': <gensim.models.keyedvectors.Vocab at 0x1c83dca1d0>,\n",
       " 'giving': <gensim.models.keyedvectors.Vocab at 0x1c83dca240>,\n",
       " 'credit': <gensim.models.keyedvectors.Vocab at 0x1c83dca2b0>,\n",
       " 'father': <gensim.models.keyedvectors.Vocab at 0x1c83dca320>,\n",
       " 'drug': <gensim.models.keyedvectors.Vocab at 0x1c83dca390>,\n",
       " 'investigation': <gensim.models.keyedvectors.Vocab at 0x1c83dca3c8>,\n",
       " 'families': <gensim.models.keyedvectors.Vocab at 0x1c83dca400>,\n",
       " 'Republican': <gensim.models.keyedvectors.Vocab at 0x1c83dca438>,\n",
       " 'funds': <gensim.models.keyedvectors.Vocab at 0x1c83dca4a8>,\n",
       " 'patients': <gensim.models.keyedvectors.Vocab at 0x1c83dca4e0>,\n",
       " 'takes': <gensim.models.keyedvectors.Vocab at 0x1c83dca550>,\n",
       " 'systems': <gensim.models.keyedvectors.Vocab at 0x1c83dca5c0>,\n",
       " 'Japan': <gensim.models.keyedvectors.Vocab at 0x1c83dca630>,\n",
       " 'complete': <gensim.models.keyedvectors.Vocab at 0x1c83dca668>,\n",
       " 'sold': <gensim.models.keyedvectors.Vocab at 0x1c83dca6d8>,\n",
       " 'practice': <gensim.models.keyedvectors.Vocab at 0x1c83dca710>,\n",
       " 'calls': <gensim.models.keyedvectors.Vocab at 0x1c83dca780>,\n",
       " '•': <gensim.models.keyedvectors.Vocab at 0x1c83dca7b8>,\n",
       " 'UK': <gensim.models.keyedvectors.Vocab at 0x1c83dca828>,\n",
       " 'force': <gensim.models.keyedvectors.Vocab at 0x1c83dca898>,\n",
       " 'student': <gensim.models.keyedvectors.Vocab at 0x1c83dca908>,\n",
       " 'idea': <gensim.models.keyedvectors.Vocab at 0x1c83dca978>,\n",
       " 'reached': <gensim.models.keyedvectors.Vocab at 0x1c83dca9e8>,\n",
       " 'reason': <gensim.models.keyedvectors.Vocab at 0x1c83dcaa58>,\n",
       " 'levels': <gensim.models.keyedvectors.Vocab at 0x1c83dcaac8>,\n",
       " 'space': <gensim.models.keyedvectors.Vocab at 0x1c83dcab38>,\n",
       " 'competition': <gensim.models.keyedvectors.Vocab at 0x1c83dcab70>,\n",
       " 'forces': <gensim.models.keyedvectors.Vocab at 0x1c83dcabe0>,\n",
       " 'sector': <gensim.models.keyedvectors.Vocab at 0x1c83dcac50>,\n",
       " 'Last': <gensim.models.keyedvectors.Vocab at 0x1c83dcacc0>,\n",
       " 'tried': <gensim.models.keyedvectors.Vocab at 0x1c83dcad30>,\n",
       " 'common': <gensim.models.keyedvectors.Vocab at 0x1c83dcada0>,\n",
       " 'homes': <gensim.models.keyedvectors.Vocab at 0x1c83dcae10>,\n",
       " 'stage': <gensim.models.keyedvectors.Vocab at 0x1c83dcae80>,\n",
       " 'department': <gensim.models.keyedvectors.Vocab at 0x1c83dcaeb8>,\n",
       " 'named': <gensim.models.keyedvectors.Vocab at 0x1c83dcaf28>,\n",
       " 'earnings': <gensim.models.keyedvectors.Vocab at 0x1c83dcaf60>,\n",
       " 'offers': <gensim.models.keyedvectors.Vocab at 0x1c83dcafd0>,\n",
       " 'star': <gensim.models.keyedvectors.Vocab at 0x1c83db6080>,\n",
       " 'certain': <gensim.models.keyedvectors.Vocab at 0x1c83db60f0>,\n",
       " 'double': <gensim.models.keyedvectors.Vocab at 0x1c83db6160>,\n",
       " 'longer': <gensim.models.keyedvectors.Vocab at 0x1c83db61d0>,\n",
       " 'followed': <gensim.models.keyedvectors.Vocab at 0x1c83db6208>,\n",
       " 'cause': <gensim.models.keyedvectors.Vocab at 0x1c83db6278>,\n",
       " 'Association': <gensim.models.keyedvectors.Vocab at 0x1c83db62b0>,\n",
       " 'signed': <gensim.models.keyedvectors.Vocab at 0x1c83db6320>,\n",
       " 'committee': <gensim.models.keyedvectors.Vocab at 0x1c83db6358>,\n",
       " 'hour': <gensim.models.keyedvectors.Vocab at 0x1c83db63c8>,\n",
       " 'college': <gensim.models.keyedvectors.Vocab at 0x1c83db6438>,\n",
       " 'Pakistan': <gensim.models.keyedvectors.Vocab at 0x1c83db6470>,\n",
       " 'users': <gensim.models.keyedvectors.Vocab at 0x1c83db64e0>,\n",
       " 'Iran': <gensim.models.keyedvectors.Vocab at 0x1c83db6550>,\n",
       " 'sign': <gensim.models.keyedvectors.Vocab at 0x1c83db65c0>,\n",
       " 'living': <gensim.models.keyedvectors.Vocab at 0x1c83db6630>,\n",
       " 'failed': <gensim.models.keyedvectors.Vocab at 0x1c83db66a0>,\n",
       " 'reach': <gensim.models.keyedvectors.Vocab at 0x1c83db6710>,\n",
       " 'quickly': <gensim.models.keyedvectors.Vocab at 0x1c83db6780>,\n",
       " 'receive': <gensim.models.keyedvectors.Vocab at 0x1c83db67f0>,\n",
       " 'debt': <gensim.models.keyedvectors.Vocab at 0x1c83db6860>,\n",
       " 'sale': <gensim.models.keyedvectors.Vocab at 0x1c83db68d0>,\n",
       " 'Board': <gensim.models.keyedvectors.Vocab at 0x1c83db6940>,\n",
       " 'Americans': <gensim.models.keyedvectors.Vocab at 0x1c83db6978>,\n",
       " 'Road': <gensim.models.keyedvectors.Vocab at 0x1c83db69e8>,\n",
       " 'Brown': <gensim.models.keyedvectors.Vocab at 0x1c83db6a58>,\n",
       " 'insurance': <gensim.models.keyedvectors.Vocab at 0x1c83db6a90>,\n",
       " '##:##': <gensim.models.keyedvectors.Vocab at 0x1c83db6b00>,\n",
       " 'anyone': <gensim.models.keyedvectors.Vocab at 0x1c83db6b70>,\n",
       " 'tournament': <gensim.models.keyedvectors.Vocab at 0x1c83db6ba8>,\n",
       " 'More': <gensim.models.keyedvectors.Vocab at 0x1c83db6c18>,\n",
       " 'gas': <gensim.models.keyedvectors.Vocab at 0x1c83db6c88>,\n",
       " 'talks': <gensim.models.keyedvectors.Vocab at 0x1c83db6cf8>,\n",
       " 'serious': <gensim.models.keyedvectors.Vocab at 0x1c83db6d68>,\n",
       " 'required': <gensim.models.keyedvectors.Vocab at 0x1c83db6da0>,\n",
       " 'sell': <gensim.models.keyedvectors.Vocab at 0x1c83db6e10>,\n",
       " 'construction': <gensim.models.keyedvectors.Vocab at 0x1c83db6e48>,\n",
       " 'evidence': <gensim.models.keyedvectors.Vocab at 0x1c83db6e80>,\n",
       " 'remains': <gensim.models.keyedvectors.Vocab at 0x1c83db6ef0>,\n",
       " 'black': <gensim.models.keyedvectors.Vocab at 0x1c83db6f60>,\n",
       " 'below': <gensim.models.keyedvectors.Vocab at 0x1c83db6fd0>,\n",
       " 'improve': <gensim.models.keyedvectors.Vocab at 0x1c83dd5080>,\n",
       " 'crisis': <gensim.models.keyedvectors.Vocab at 0x1c83dd50f0>,\n",
       " 'address': <gensim.models.keyedvectors.Vocab at 0x1c83dd5160>,\n",
       " 'questions': <gensim.models.keyedvectors.Vocab at 0x1c83dd5198>,\n",
       " 'easy': <gensim.models.keyedvectors.Vocab at 0x1c83dd5208>,\n",
       " 'begin': <gensim.models.keyedvectors.Vocab at 0x1c83dd5278>,\n",
       " 'view': <gensim.models.keyedvectors.Vocab at 0x1c83dd52e8>,\n",
       " 'School': <gensim.models.keyedvectors.Vocab at 0x1c83dd5358>,\n",
       " 'heard': <gensim.models.keyedvectors.Vocab at 0x1c83dd53c8>,\n",
       " 'executive': <gensim.models.keyedvectors.Vocab at 0x1c83dd5400>,\n",
       " 'raised': <gensim.models.keyedvectors.Vocab at 0x1c83dd5470>,\n",
       " ...}"
      ]
     },
     "execution_count": 260,
     "metadata": {},
     "output_type": "execute_result"
    }
   ],
   "source": [
    "## Dictionary of all words from GoogleNews\n",
    "word2vec.vocab"
   ]
  },
  {
   "cell_type": "code",
   "execution_count": 261,
   "metadata": {
    "collapsed": true
   },
   "outputs": [
    {
     "data": {
      "text/plain": [
       "array([ 1.65039062e-01, -6.39648438e-02, -1.78527832e-03,  1.84570312e-01,\n",
       "       -1.18164062e-01,  1.16210938e-01,  2.77343750e-01,  4.61425781e-02,\n",
       "        3.34472656e-02, -1.78710938e-01,  2.48046875e-01, -1.29882812e-01,\n",
       "        1.22558594e-01, -5.66406250e-02, -1.61132812e-01,  1.24511719e-01,\n",
       "       -1.44531250e-01,  1.58203125e-01, -9.57031250e-02,  8.39843750e-02,\n",
       "        1.02050781e-01,  2.33154297e-02,  2.53906250e-01, -1.32446289e-02,\n",
       "        2.34375000e-02, -2.98828125e-01,  4.45556641e-03,  8.49609375e-02,\n",
       "        2.04101562e-01, -1.88476562e-01, -9.13085938e-02, -1.55273438e-01,\n",
       "       -4.17968750e-01, -1.23535156e-01, -3.28125000e-01,  4.58984375e-02,\n",
       "        3.49609375e-01, -1.04980469e-01, -1.59179688e-01,  1.37695312e-01,\n",
       "       -1.96289062e-01,  7.37304688e-02,  1.53320312e-01, -5.46875000e-02,\n",
       "        1.57226562e-01,  1.95312500e-02,  2.13867188e-01,  1.45507812e-01,\n",
       "        2.50244141e-02,  1.41601562e-02,  1.02539062e-01,  3.27148438e-02,\n",
       "       -4.66308594e-02,  8.00781250e-02,  2.14843750e-01, -1.99218750e-01,\n",
       "       -3.02734375e-01,  3.25012207e-03,  8.48388672e-03,  7.71484375e-02,\n",
       "        8.25195312e-02,  1.63085938e-01,  1.15356445e-02, -1.13769531e-01,\n",
       "        1.11816406e-01, -5.00488281e-02, -1.26953125e-01,  2.16064453e-02,\n",
       "        4.24804688e-02, -6.39648438e-02,  1.79687500e-01, -1.34468079e-04,\n",
       "       -2.13867188e-01,  1.45507812e-01, -1.71875000e-01,  2.75390625e-01,\n",
       "        1.51367188e-01,  4.27246094e-03,  1.96289062e-01,  1.61132812e-01,\n",
       "        1.45507812e-01, -1.05957031e-01, -1.48437500e-01, -2.41699219e-02,\n",
       "       -1.98242188e-01,  7.47680664e-03,  3.71093750e-01,  1.14746094e-01,\n",
       "       -9.96093750e-02,  2.24609375e-02,  8.83789062e-02, -1.56250000e-01,\n",
       "       -1.23046875e-01, -1.68945312e-01, -7.22656250e-02, -1.24511719e-01,\n",
       "        3.02734375e-01, -8.59375000e-02,  4.56542969e-02,  4.44335938e-02,\n",
       "       -5.22460938e-02, -2.10937500e-01, -8.64257812e-02, -1.81640625e-01,\n",
       "       -1.23535156e-01, -1.66015625e-01,  9.13085938e-02, -4.88281250e-02,\n",
       "        2.34375000e-02, -7.32421875e-02, -1.79443359e-02,  1.18164062e-01,\n",
       "       -1.56250000e-02,  5.15747070e-03, -8.69140625e-02, -7.61718750e-02,\n",
       "       -6.12792969e-02, -6.93359375e-02, -1.58203125e-01,  4.46777344e-02,\n",
       "       -9.61914062e-02, -3.31115723e-03, -1.33789062e-01,  1.86523438e-01,\n",
       "       -1.03515625e-01,  1.77734375e-01,  1.02050781e-01,  5.27343750e-02,\n",
       "       -8.74023438e-02,  7.17773438e-02,  4.46777344e-02, -2.35351562e-01,\n",
       "       -1.48437500e-01, -3.12500000e-02, -8.44726562e-02, -1.59179688e-01,\n",
       "        6.44531250e-02, -6.29882812e-02,  7.86132812e-02,  5.44433594e-02,\n",
       "        1.67968750e-01, -1.01074219e-01, -1.71875000e-01,  1.73828125e-01,\n",
       "       -1.54113770e-03,  2.69531250e-01, -2.25830078e-02,  3.98437500e-01,\n",
       "       -1.65039062e-01,  6.03027344e-02,  6.79687500e-01, -1.19628906e-01,\n",
       "       -1.80664062e-01, -3.93676758e-03,  6.93359375e-02, -4.39453125e-02,\n",
       "       -6.10351562e-02, -3.16406250e-01,  1.02050781e-01, -1.17187500e-01,\n",
       "       -5.05371094e-02,  4.05273438e-02,  1.09863281e-01,  1.52343750e-01,\n",
       "       -2.53906250e-01, -5.59082031e-02, -3.51562500e-02, -2.25830078e-02,\n",
       "        8.74023438e-02, -5.95703125e-02,  2.41699219e-02, -1.54296875e-01,\n",
       "        6.59179688e-02, -2.29492188e-01, -8.39843750e-02,  5.22460938e-02,\n",
       "        2.53906250e-01,  2.69531250e-01, -1.94335938e-01,  1.32812500e-01,\n",
       "       -1.58203125e-01, -1.46484375e-01, -7.72094727e-03, -4.90722656e-02,\n",
       "       -2.07031250e-01,  2.59765625e-01, -1.32812500e-01,  3.01513672e-02,\n",
       "       -6.88476562e-02,  1.56250000e-01, -1.02539062e-01, -1.32812500e-01,\n",
       "       -2.28515625e-01, -5.46875000e-02,  2.08984375e-01,  2.18750000e-01,\n",
       "       -6.49414062e-02, -2.33398438e-01, -7.95898438e-02, -9.71679688e-02,\n",
       "       -9.08203125e-02, -5.00488281e-02, -1.20117188e-01, -3.88671875e-01,\n",
       "        1.95312500e-02, -3.02734375e-02, -1.74804688e-01, -1.40625000e-01,\n",
       "        1.92382812e-01, -2.14843750e-01,  4.83398438e-02,  5.27343750e-02,\n",
       "        7.26318359e-03, -2.47070312e-01, -1.87500000e-01,  1.86523438e-01,\n",
       "        1.49414062e-01,  1.46484375e-01, -1.74804688e-01,  2.57873535e-03,\n",
       "        1.16699219e-01, -2.37304688e-01,  3.71093750e-01, -1.98242188e-01,\n",
       "        2.17285156e-02, -1.30859375e-01,  1.30859375e-01, -2.40234375e-01,\n",
       "        1.64062500e-01, -1.15722656e-01,  2.88085938e-02, -2.45361328e-02,\n",
       "       -1.35742188e-01,  1.06445312e-01, -2.96875000e-01, -5.49316406e-02,\n",
       "       -8.93554688e-02, -2.09960938e-01,  8.93554688e-02, -6.15234375e-02,\n",
       "       -7.62939453e-03, -3.30078125e-01,  1.29882812e-01, -1.59179688e-01,\n",
       "       -2.64892578e-02,  3.06640625e-01, -2.25585938e-01,  3.61328125e-02,\n",
       "        2.34375000e-02, -1.76757812e-01, -6.80541992e-03, -1.58203125e-01,\n",
       "       -2.89306641e-02, -1.06445312e-01,  8.15429688e-02,  5.49316406e-02,\n",
       "        7.93457031e-03,  1.47460938e-01, -6.22558594e-02, -2.08007812e-01,\n",
       "       -1.44531250e-01, -2.69775391e-02, -1.78710938e-01, -7.91015625e-02,\n",
       "       -2.64892578e-02,  1.94335938e-01, -7.56835938e-02,  1.14257812e-01,\n",
       "       -4.66796875e-01,  7.91015625e-02, -6.12792969e-02,  9.22851562e-02,\n",
       "        3.02734375e-02,  1.26953125e-01,  1.31835938e-01, -9.71679688e-02,\n",
       "        9.81445312e-02, -1.67968750e-01, -2.50244141e-02, -1.22558594e-01,\n",
       "        9.42382812e-02, -1.78710938e-01,  3.49121094e-02,  1.89453125e-01,\n",
       "       -1.04003906e-01,  8.83789062e-02, -8.88671875e-02, -8.49609375e-02,\n",
       "        8.85009766e-03,  4.49218750e-01, -2.96875000e-01,  5.83496094e-02,\n",
       "       -4.49218750e-02, -1.70898438e-01, -4.39453125e-03,  9.42382812e-02,\n",
       "       -4.51660156e-02, -6.62231445e-03, -1.54296875e-01,  7.56835938e-02],\n",
       "      dtype=float32)"
      ]
     },
     "execution_count": 261,
     "metadata": {},
     "output_type": "execute_result"
    }
   ],
   "source": [
    "# Access a single word \n",
    "word2vec['child']"
   ]
  },
  {
   "cell_type": "code",
   "execution_count": 262,
   "metadata": {},
   "outputs": [
    {
     "name": "stdout",
     "output_type": "stream",
     "text": [
      "Processing text dataset\n"
     ]
    }
   ],
   "source": [
    "########################################\n",
    "## process texts in datasets\n",
    "########################################\n",
    "print('Processing text dataset')\n",
    "\n",
    "# The function \"text_to_wordlist\" is from\n",
    "# https://www.kaggle.com/currie32/quora-question-pairs/the-importance-of-cleaning-text\n",
    "def text_to_wordlist(text, remove_stopwords=False, stem_words=False):\n",
    "    # Clean the text, with the option to remove stopwords and to stem words.\n",
    "    \n",
    "    # Convert words to lower case and split them\n",
    "    text = text.lower().split()\n",
    "\n",
    "    # Optionally, remove stop words\n",
    "    if remove_stopwords:\n",
    "        stops = set(stopwords.words(\"english\"))\n",
    "        text = [w for w in text if not w in stops]\n",
    "    \n",
    "    text = \" \".join(text)\n",
    "\n",
    "    # Clean the text\n",
    "    text = re.sub(r\"[^A-Za-z0-9^,!.\\/'+-=]\", \" \", text)\n",
    "    text = re.sub(r\"what's\", \"what is \", text)\n",
    "    text = re.sub(r\"\\'s\", \" \", text)\n",
    "    text = re.sub(r\"\\'ve\", \" have \", text)\n",
    "    text = re.sub(r\"can't\", \"cannot \", text)\n",
    "    text = re.sub(r\"n't\", \" not \", text)\n",
    "    text = re.sub(r\"i'm\", \"i am \", text)\n",
    "    text = re.sub(r\"\\'re\", \" are \", text)\n",
    "    text = re.sub(r\"\\'d\", \" would \", text)\n",
    "    text = re.sub(r\"\\'ll\", \" will \", text)\n",
    "    text = re.sub(r\",\", \" \", text)\n",
    "    text = re.sub(r\"\\.\", \" \", text)\n",
    "    text = re.sub(r\"!\", \" ! \", text)\n",
    "    text = re.sub(r\"\\/\", \" \", text)\n",
    "    text = re.sub(r\"\\^\", \" ^ \", text)\n",
    "    text = re.sub(r\"\\+\", \" + \", text)\n",
    "    text = re.sub(r\"\\-\", \" - \", text)\n",
    "    text = re.sub(r\"\\=\", \" = \", text)\n",
    "    text = re.sub(r\"'\", \" \", text)\n",
    "    text = re.sub(r\"(\\d+)(k)\", r\"\\g<1>000\", text)\n",
    "    text = re.sub(r\":\", \" : \", text)\n",
    "    text = re.sub(r\" e g \", \" eg \", text)\n",
    "    text = re.sub(r\" b g \", \" bg \", text)\n",
    "    text = re.sub(r\" u s \", \" american \", text)\n",
    "    text = re.sub(r\"\\0s\", \"0\", text)\n",
    "    text = re.sub(r\" 9 11 \", \"911\", text)\n",
    "    text = re.sub(r\"e - mail\", \"email\", text)\n",
    "    text = re.sub(r\"j k\", \"jk\", text)\n",
    "    text = re.sub(r\"\\s{2,}\", \" \", text)\n",
    "    \n",
    "    # Optionally, shorten words to their stems\n",
    "    if stem_words:\n",
    "        text = text.split()\n",
    "        stemmer = SnowballStemmer('english')\n",
    "        stemmed_words = [stemmer.stem(word) for word in text]\n",
    "        text = \" \".join(stemmed_words)\n",
    "    \n",
    "    # Return a list of words\n",
    "    return(text)"
   ]
  },
  {
   "cell_type": "code",
   "execution_count": 263,
   "metadata": {},
   "outputs": [
    {
     "name": "stdout",
     "output_type": "stream",
     "text": [
      "['0', '1', '2', 'What is the step by step guide to invest in share market in india?', 'What is the step by step guide to invest in share market?', '0']\n",
      "Found 404290 texts in train.csv\n",
      "Found 2345796 texts in test.csv\n"
     ]
    }
   ],
   "source": [
    "## create list of lists where each sentence is a list containing a list of its words\n",
    "count = 1 \n",
    "texts_1 = [] \n",
    "texts_2 = []\n",
    "labels = []\n",
    "with codecs.open(TRAIN_DATA_FILE, encoding='utf-8') as f:\n",
    "    reader = csv.reader(f, delimiter=',')\n",
    "    header = next(reader)\n",
    "    for values in reader:\n",
    "        if count == 1:\n",
    "            print(values)\n",
    "        texts_1.append(text_to_wordlist(values[3]))\n",
    "        texts_2.append(text_to_wordlist(values[4]))\n",
    "        labels.append(int(values[5]))\n",
    "        count += 1\n",
    "print('Found %s texts in train.csv' % len(texts_1))\n",
    "\n",
    "test_texts_1 = []\n",
    "test_texts_2 = []\n",
    "test_ids = []\n",
    "with codecs.open(TEST_DATA_FILE, encoding='utf-8') as f:\n",
    "    reader = csv.reader(f, delimiter=',')\n",
    "    header = next(reader)\n",
    "    for values in reader:\n",
    "        test_texts_1.append(text_to_wordlist(values[1]))\n",
    "        test_texts_2.append(text_to_wordlist(values[2]))\n",
    "        test_ids.append(values[0])\n",
    "print('Found %s texts in test.csv' % len(test_texts_1))\n",
    "\n"
   ]
  },
  {
   "cell_type": "markdown",
   "metadata": {},
   "source": [
    "#### We will take 4 sentences as a toy example"
   ]
  },
  {
   "cell_type": "code",
   "execution_count": 264,
   "metadata": {},
   "outputs": [
    {
     "data": {
      "text/plain": [
       "['what is the story of kohinoor koh - i - noor diamond ',\n",
       " 'how can i increase the speed of my internet connection while using a vpn ',\n",
       " 'why am i mentally very lonely how can i solve it ',\n",
       " 'which one dissolve in water quikly sugar salt methane and carbon di oxide ']"
      ]
     },
     "execution_count": 264,
     "metadata": {},
     "output_type": "execute_result"
    }
   ],
   "source": [
    "texts_1[1:5]"
   ]
  },
  {
   "cell_type": "code",
   "execution_count": 265,
   "metadata": {},
   "outputs": [
    {
     "data": {
      "text/plain": [
       "['what would happen if the indian government stole the kohinoor koh - i - noor diamond back ',\n",
       " 'how can internet speed be increased by hacking through dns ',\n",
       " 'find the remainder when math 23 ^ 24 math is divided by 24 23 ',\n",
       " 'which fish would survive in salt water ']"
      ]
     },
     "execution_count": 265,
     "metadata": {},
     "output_type": "execute_result"
    }
   ],
   "source": [
    "texts_2[1:5]"
   ]
  },
  {
   "cell_type": "code",
   "execution_count": 266,
   "metadata": {},
   "outputs": [],
   "source": [
    "tokenizer = Tokenizer(num_words=MAX_NB_WORDS)\n",
    "tokenizer.fit_on_texts(texts_1[1:5] + texts_2[1:5] + test_texts_1[1:5] + test_texts_2[1:5])"
   ]
  },
  {
   "cell_type": "code",
   "execution_count": 267,
   "metadata": {},
   "outputs": [
    {
     "data": {
      "text/plain": [
       "<keras_preprocessing.text.Tokenizer at 0x1b1ec58358>"
      ]
     },
     "execution_count": 267,
     "metadata": {},
     "output_type": "execute_result"
    }
   ],
   "source": [
    "tokenizer"
   ]
  },
  {
   "cell_type": "code",
   "execution_count": 268,
   "metadata": {},
   "outputs": [
    {
     "name": "stdout",
     "output_type": "stream",
     "text": [
      "OrderedDict([('what', 5), ('is', 3), ('the', 7), ('story', 1), ('of', 2), ('kohinoor', 2), ('koh', 2), ('i', 7), ('noor', 2), ('diamond', 2), ('how', 7), ('can', 4), ('increase', 1), ('speed', 2), ('my', 1), ('internet', 2), ('connection', 1), ('while', 1), ('using', 1), ('a', 2), ('vpn', 1), ('why', 1), ('am', 1), ('mentally', 1), ('very', 1), ('lonely', 1), ('solve', 1), ('it', 2), ('which', 3), ('one', 1), ('dissolve', 1), ('in', 2), ('water', 2), ('quikly', 1), ('sugar', 1), ('salt', 2), ('methane', 1), ('and', 1), ('carbon', 1), ('di', 1), ('oxide', 1), ('would', 3), ('happen', 1), ('if', 1), ('indian', 1), ('government', 1), ('stole', 1), ('back', 1), ('be', 1), ('increased', 1), ('by', 2), ('hacking', 1), ('through', 1), ('dns', 1), ('find', 1), ('remainder', 1), ('when', 1), ('math', 2), ('23', 2), ('24', 3), ('divided', 1), ('fish', 1), ('survive', 1), ('should', 1), ('have', 1), ('hair', 2), ('transplant', 2), ('at', 1), ('age', 1), ('much', 2), ('cost', 2), ('but', 1), ('best', 1), ('way', 1), ('to', 3), ('send', 2), ('money', 2), ('from', 1), ('china', 2), ('us', 1), ('food', 1), ('not', 1), ('emulsifiers', 1), ('aberystwyth', 1), ('start', 2), ('reading', 2), ('does', 1), ('require', 1), ('you', 1), ('foods', 1), ('fibre', 1), ('their', 1)])\n"
     ]
    }
   ],
   "source": [
    "# summarize what was learned\n",
    "## This is ordered sentence by sentence with word count\n",
    "print(tokenizer.word_counts)"
   ]
  },
  {
   "cell_type": "code",
   "execution_count": 269,
   "metadata": {},
   "outputs": [
    {
     "name": "stdout",
     "output_type": "stream",
     "text": [
      "defaultdict(<class 'int'>, {'diamond': 2, 'is': 3, 'what': 5, 'the': 5, 'i': 6, 'kohinoor': 2, 'noor': 2, 'story': 1, 'koh': 2, 'of': 2, 'how': 7, 'increase': 1, 'connection': 1, 'can': 4, 'vpn': 1, 'while': 1, 'my': 1, 'internet': 2, 'using': 1, 'speed': 2, 'a': 2, 'very': 1, 'mentally': 1, 'solve': 1, 'it': 2, 'lonely': 1, 'why': 1, 'am': 1, 'and': 1, 'one': 1, 'dissolve': 1, 'oxide': 1, 'methane': 1, 'in': 2, 'sugar': 1, 'which': 3, 'carbon': 1, 'salt': 2, 'di': 1, 'water': 2, 'quikly': 1, 'government': 1, 'would': 3, 'indian': 1, 'back': 1, 'stole': 1, 'if': 1, 'happen': 1, 'increased': 1, 'through': 1, 'hacking': 1, 'by': 2, 'dns': 1, 'be': 1, 'divided': 1, 'when': 1, '23': 1, 'find': 1, '24': 2, 'remainder': 1, 'math': 1, 'fish': 1, 'survive': 1, 'should': 1, 'much': 2, 'transplant': 2, 'at': 1, 'have': 1, 'hair': 2, 'age': 1, 'cost': 2, 'best': 1, 'to': 2, 'from': 1, 'send': 2, 'way': 1, 'money': 2, 'china': 2, 'us': 1, 'but': 1, 'not': 1, 'emulsifiers': 1, 'food': 1, 'aberystwyth': 1, 'reading': 2, 'start': 2, 'require': 1, 'does': 1, 'you': 1, 'foods': 1, 'fibre': 1, 'their': 1})\n"
     ]
    }
   ],
   "source": [
    "## mapping words to the number of documents/texts they appeared on \n",
    "print(tokenizer.word_docs)"
   ]
  },
  {
   "cell_type": "code",
   "execution_count": 270,
   "metadata": {},
   "outputs": [
    {
     "name": "stdout",
     "output_type": "stream",
     "text": [
      "{'the': 1, 'i': 2, 'how': 3, 'what': 4, 'can': 5, 'is': 6, 'which': 7, 'would': 8, '24': 9, 'to': 10, 'of': 11, 'kohinoor': 12, 'koh': 13, 'noor': 14, 'diamond': 15, 'speed': 16, 'internet': 17, 'a': 18, 'it': 19, 'in': 20, 'water': 21, 'salt': 22, 'by': 23, 'math': 24, '23': 25, 'hair': 26, 'transplant': 27, 'much': 28, 'cost': 29, 'send': 30, 'money': 31, 'china': 32, 'start': 33, 'reading': 34, 'story': 35, 'increase': 36, 'my': 37, 'connection': 38, 'while': 39, 'using': 40, 'vpn': 41, 'why': 42, 'am': 43, 'mentally': 44, 'very': 45, 'lonely': 46, 'solve': 47, 'one': 48, 'dissolve': 49, 'quikly': 50, 'sugar': 51, 'methane': 52, 'and': 53, 'carbon': 54, 'di': 55, 'oxide': 56, 'happen': 57, 'if': 58, 'indian': 59, 'government': 60, 'stole': 61, 'back': 62, 'be': 63, 'increased': 64, 'hacking': 65, 'through': 66, 'dns': 67, 'find': 68, 'remainder': 69, 'when': 70, 'divided': 71, 'fish': 72, 'survive': 73, 'should': 74, 'have': 75, 'at': 76, 'age': 77, 'but': 78, 'best': 79, 'way': 80, 'from': 81, 'us': 82, 'food': 83, 'not': 84, 'emulsifiers': 85, 'aberystwyth': 86, 'does': 87, 'require': 88, 'you': 89, 'foods': 90, 'fibre': 91, 'their': 92}\n"
     ]
    }
   ],
   "source": [
    "print(tokenizer.word_index)"
   ]
  },
  {
   "cell_type": "code",
   "execution_count": 271,
   "metadata": {},
   "outputs": [
    {
     "name": "stdout",
     "output_type": "stream",
     "text": [
      "16\n"
     ]
    }
   ],
   "source": [
    "print(tokenizer.document_count)"
   ]
  },
  {
   "cell_type": "code",
   "execution_count": 272,
   "metadata": {},
   "outputs": [
    {
     "name": "stdout",
     "output_type": "stream",
     "text": [
      "{1: 'the', 2: 'i', 3: 'how', 4: 'what', 5: 'can', 6: 'is', 7: 'which', 8: 'would', 9: '24', 10: 'to', 11: 'of', 12: 'kohinoor', 13: 'koh', 14: 'noor', 15: 'diamond', 16: 'speed', 17: 'internet', 18: 'a', 19: 'it', 20: 'in', 21: 'water', 22: 'salt', 23: 'by', 24: 'math', 25: '23', 26: 'hair', 27: 'transplant', 28: 'much', 29: 'cost', 30: 'send', 31: 'money', 32: 'china', 33: 'start', 34: 'reading', 35: 'story', 36: 'increase', 37: 'my', 38: 'connection', 39: 'while', 40: 'using', 41: 'vpn', 42: 'why', 43: 'am', 44: 'mentally', 45: 'very', 46: 'lonely', 47: 'solve', 48: 'one', 49: 'dissolve', 50: 'quikly', 51: 'sugar', 52: 'methane', 53: 'and', 54: 'carbon', 55: 'di', 56: 'oxide', 57: 'happen', 58: 'if', 59: 'indian', 60: 'government', 61: 'stole', 62: 'back', 63: 'be', 64: 'increased', 65: 'hacking', 66: 'through', 67: 'dns', 68: 'find', 69: 'remainder', 70: 'when', 71: 'divided', 72: 'fish', 73: 'survive', 74: 'should', 75: 'have', 76: 'at', 77: 'age', 78: 'but', 79: 'best', 80: 'way', 81: 'from', 82: 'us', 83: 'food', 84: 'not', 85: 'emulsifiers', 86: 'aberystwyth', 87: 'does', 88: 'require', 89: 'you', 90: 'foods', 91: 'fibre', 92: 'their'}\n"
     ]
    }
   ],
   "source": [
    "print(tokenizer.index_word)"
   ]
  },
  {
   "cell_type": "code",
   "execution_count": 273,
   "metadata": {},
   "outputs": [
    {
     "name": "stdout",
     "output_type": "stream",
     "text": [
      "[[0. 1. 1. ... 0. 0. 0.]\n",
      " [0. 1. 1. ... 0. 0. 0.]\n",
      " [0. 0. 2. ... 0. 0. 0.]\n",
      " ...\n",
      " [0. 0. 0. ... 0. 0. 0.]\n",
      " [0. 0. 0. ... 0. 0. 0.]\n",
      " [0. 0. 1. ... 0. 0. 0.]]\n"
     ]
    }
   ],
   "source": [
    "encoded_docs = tokenizer.texts_to_matrix((texts_1[1:5] + texts_2[1:5] + test_texts_1[1:5] + test_texts_2[1:5]), mode='count')\n",
    "print(encoded_docs)"
   ]
  },
  {
   "cell_type": "code",
   "execution_count": 274,
   "metadata": {},
   "outputs": [
    {
     "name": "stdout",
     "output_type": "stream",
     "text": [
      "[[0.         1.29928298 1.18958407 ... 0.         0.         0.        ]\n",
      " [0.         1.29928298 1.18958407 ... 0.         0.         0.        ]\n",
      " [0.         0.         2.01414091 ... 0.         0.         0.        ]\n",
      " ...\n",
      " [0.         0.         0.         ... 0.         0.         0.        ]\n",
      " [0.         0.         0.         ... 0.         0.         0.        ]\n",
      " [0.         0.         1.18958407 ... 0.         0.         0.        ]]\n"
     ]
    }
   ],
   "source": [
    "encoded_docs_tfidf = tokenizer.texts_to_matrix((texts_1[1:5] + texts_2[1:5] + test_texts_1[1:5] + test_texts_2[1:5]), mode='tfidf')\n",
    "print(encoded_docs_tfidf)"
   ]
  },
  {
   "cell_type": "code",
   "execution_count": 275,
   "metadata": {},
   "outputs": [
    {
     "name": "stdout",
     "output_type": "stream",
     "text": [
      "Found 92 unique tokens\n"
     ]
    }
   ],
   "source": [
    "## Transform each text in texts to a sequence of its associated index.\n",
    "sequences_1 = tokenizer.texts_to_sequences(texts_1[1:5])\n",
    "sequences_2 = tokenizer.texts_to_sequences(texts_2[1:5])\n",
    "test_sequences_1 = tokenizer.texts_to_sequences(test_texts_1[1:5])\n",
    "test_sequences_2 = tokenizer.texts_to_sequences(test_texts_2[1:5])\n",
    "\n",
    "word_index = tokenizer.word_index\n",
    "print('Found %s unique tokens' % len(word_index))"
   ]
  },
  {
   "cell_type": "code",
   "execution_count": 279,
   "metadata": {
    "scrolled": true
   },
   "outputs": [
    {
     "data": {
      "text/plain": [
       "[[4, 6, 1, 35, 11, 12, 13, 2, 14, 15],\n",
       " [3, 5, 2, 36, 1, 16, 11, 37, 17, 38, 39, 40, 18, 41],\n",
       " [42, 43, 2, 44, 45, 46, 3, 5, 2, 47, 19],\n",
       " [7, 48, 49, 20, 21, 50, 51, 22, 52, 53, 54, 55, 56]]"
      ]
     },
     "execution_count": 279,
     "metadata": {},
     "output_type": "execute_result"
    }
   ],
   "source": [
    "sequences_1"
   ]
  },
  {
   "cell_type": "markdown",
   "metadata": {},
   "source": [
    "#### check that it's correct:"
   ]
  },
  {
   "cell_type": "code",
   "execution_count": 280,
   "metadata": {},
   "outputs": [
    {
     "data": {
      "text/plain": [
       "[1, 2, 4, 6, 11, 12, 13, 14, 15, 35]"
      ]
     },
     "execution_count": 280,
     "metadata": {},
     "output_type": "execute_result"
    }
   ],
   "source": [
    "sorted(sequences_1[0])"
   ]
  },
  {
   "cell_type": "code",
   "execution_count": 281,
   "metadata": {},
   "outputs": [
    {
     "name": "stdout",
     "output_type": "stream",
     "text": [
      "the 1\n",
      "i 2\n",
      "what 4\n",
      "is 6\n",
      "of 11\n",
      "kohinoor 12\n",
      "koh 13\n",
      "noor 14\n",
      "diamond 15\n",
      "story 35\n"
     ]
    }
   ],
   "source": [
    "for word, idx in word_index.items():     \n",
    "    if idx in  sequences_1[0]:\n",
    "        print(word, idx)"
   ]
  },
  {
   "cell_type": "code",
   "execution_count": 282,
   "metadata": {
    "collapsed": true
   },
   "outputs": [
    {
     "name": "stdout",
     "output_type": "stream",
     "text": [
      "what\n"
     ]
    },
    {
     "data": {
      "text/plain": [
       "array([ 0.13964844, -0.00616455,  0.21484375,  0.07275391, -0.16113281,\n",
       "        0.07568359,  0.16796875, -0.20117188,  0.12597656,  0.00915527,\n",
       "        0.05249023, -0.15136719, -0.02758789,  0.04199219, -0.234375  ,\n",
       "        0.13867188, -0.02600098,  0.07910156,  0.02746582, -0.13085938,\n",
       "       -0.02478027,  0.10009766, -0.07910156, -0.07714844,  0.03759766,\n",
       "        0.16894531,  0.05371094, -0.05200195,  0.14453125, -0.04370117,\n",
       "       -0.12597656,  0.06884766, -0.10595703, -0.14550781, -0.00331116,\n",
       "        0.01367188,  0.13964844,  0.01660156,  0.03417969,  0.16113281,\n",
       "       -0.01080322,  0.06689453,  0.06835938, -0.15136719, -0.16894531,\n",
       "        0.03295898, -0.06884766,  0.06787109, -0.07373047,  0.08300781,\n",
       "        0.05761719,  0.14550781, -0.11865234, -0.13671875,  0.12402344,\n",
       "        0.04296875, -0.11962891, -0.08154297,  0.06494141, -0.05639648,\n",
       "       -0.04394531,  0.1484375 , -0.07714844,  0.04614258, -0.02624512,\n",
       "       -0.06591797,  0.04980469,  0.08886719, -0.01647949, -0.02294922,\n",
       "        0.10546875,  0.04199219,  0.11035156, -0.08251953, -0.13574219,\n",
       "       -0.07324219,  0.1015625 ,  0.05371094, -0.07275391,  0.08496094,\n",
       "       -0.04443359, -0.078125  ,  0.08398438, -0.00613403, -0.20898438,\n",
       "       -0.25      ,  0.00485229,  0.22363281,  0.01550293,  0.04223633,\n",
       "        0.07861328,  0.203125  , -0.25195312,  0.01867676,  0.03564453,\n",
       "       -0.09863281,  0.01745605,  0.12597656, -0.04589844, -0.10253906,\n",
       "       -0.10742188, -0.00558472,  0.05517578, -0.10791016, -0.1015625 ,\n",
       "        0.0222168 , -0.07958984,  0.04833984, -0.06201172, -0.11132812,\n",
       "        0.16210938, -0.09716797, -0.03222656,  0.08056641,  0.21386719,\n",
       "       -0.03759766,  0.06542969, -0.15527344,  0.00300598, -0.04907227,\n",
       "       -0.23730469,  0.13378906,  0.10253906,  0.07568359,  0.01330566,\n",
       "       -0.02770996, -0.27929688,  0.03112793,  0.00092316, -0.10107422,\n",
       "       -0.23730469, -0.21484375, -0.08496094, -0.16894531,  0.04370117,\n",
       "       -0.20996094,  0.00100708,  0.07617188, -0.03198242,  0.14160156,\n",
       "        0.15820312, -0.01275635,  0.04150391, -0.03393555,  0.12011719,\n",
       "       -0.08789062, -0.03735352, -0.16503906, -0.14257812, -0.05200195,\n",
       "        0.06542969,  0.22070312, -0.34570312,  0.10400391,  0.05053711,\n",
       "       -0.02368164, -0.13671875, -0.13476562,  0.09863281,  0.06689453,\n",
       "       -0.07666016,  0.20214844, -0.01806641, -0.06201172,  0.00402832,\n",
       "       -0.04174805,  0.06835938, -0.04882812,  0.12890625,  0.14941406,\n",
       "       -0.07763672,  0.09179688,  0.03686523, -0.08789062, -0.01721191,\n",
       "        0.15625   ,  0.16210938, -0.11328125, -0.00830078, -0.11962891,\n",
       "       -0.16601562, -0.12792969,  0.03759766, -0.16601562,  0.10449219,\n",
       "       -0.01220703, -0.01940918,  0.10009766,  0.0098877 ,  0.05957031,\n",
       "        0.17285156,  0.1484375 ,  0.21191406, -0.06835938, -0.04443359,\n",
       "       -0.12158203,  0.03088379,  0.02392578, -0.05297852, -0.09912109,\n",
       "       -0.00375366,  0.15625   , -0.06884766,  0.10205078,  0.00448608,\n",
       "        0.05053711, -0.11035156, -0.15332031,  0.03808594, -0.05249023,\n",
       "        0.01226807,  0.08935547,  0.06005859, -0.08007812, -0.24902344,\n",
       "       -0.01953125,  0.25390625,  0.00915527, -0.04345703,  0.0612793 ,\n",
       "       -0.06884766,  0.1015625 , -0.09326172, -0.07763672,  0.15625   ,\n",
       "       -0.10546875,  0.0625    ,  0.13574219, -0.06982422,  0.12792969,\n",
       "        0.05957031, -0.14550781,  0.08251953, -0.12792969,  0.14648438,\n",
       "       -0.15332031, -0.01708984, -0.01672363,  0.07958984,  0.01794434,\n",
       "        0.04199219, -0.12353516,  0.03320312, -0.11083984, -0.09716797,\n",
       "       -0.07568359,  0.14453125, -0.10351562,  0.05566406,  0.03369141,\n",
       "        0.01422119,  0.17382812,  0.10595703,  0.03930664,  0.27539062,\n",
       "       -0.14453125,  0.01672363,  0.03369141, -0.06542969, -0.1640625 ,\n",
       "        0.00909424, -0.07910156, -0.14453125,  0.03979492, -0.05761719,\n",
       "        0.078125  ,  0.12402344,  0.00671387, -0.19140625,  0.04248047,\n",
       "        0.02844238,  0.10351562,  0.33007812,  0.25      , -0.14160156,\n",
       "        0.04003906, -0.00201416, -0.12255859, -0.05297852,  0.02587891,\n",
       "        0.11669922, -0.07861328,  0.03320312,  0.14257812, -0.02856445,\n",
       "       -0.06494141,  0.03955078, -0.07421875, -0.07080078,  0.07714844,\n",
       "       -0.1015625 , -0.08300781, -0.11767578, -0.09619141, -0.203125  ,\n",
       "       -0.02490234,  0.19335938,  0.05712891,  0.09960938, -0.234375  ],\n",
       "      dtype=float32)"
      ]
     },
     "execution_count": 282,
     "metadata": {},
     "output_type": "execute_result"
    }
   ],
   "source": [
    "## How to get vector representation based on its index. Example:\n",
    "print(index_word[4])\n",
    "word2vec[index_word[4]]"
   ]
  },
  {
   "cell_type": "code",
   "execution_count": 283,
   "metadata": {},
   "outputs": [
    {
     "name": "stdout",
     "output_type": "stream",
     "text": [
      "Shape of data tensor: (4, 15)\n",
      "Shape of label tensor: (4,)\n"
     ]
    }
   ],
   "source": [
    "### Notice that sequences are of varying lengths. How would we use them in a model??\n",
    "### solution: padding \n",
    "data_1 = pad_sequences(sequences_1, maxlen=MAX_SEQUENCE_LENGTH, padding='post')\n",
    "data_2 = pad_sequences(sequences_2, maxlen=MAX_SEQUENCE_LENGTH, padding='post')\n",
    "labels = np.array(labels)\n",
    "print('Shape of data tensor:', data_1.shape)\n",
    "print('Shape of label tensor:', labels[1:5].shape)\n",
    "\n",
    "test_data_1 = pad_sequences(test_sequences_1, maxlen=MAX_SEQUENCE_LENGTH, padding='post')\n",
    "test_data_2 = pad_sequences(test_sequences_2, maxlen=MAX_SEQUENCE_LENGTH, padding='post')\n",
    "test_ids = np.array(test_ids)"
   ]
  },
  {
   "cell_type": "code",
   "execution_count": 284,
   "metadata": {},
   "outputs": [
    {
     "data": {
      "text/plain": [
       "array([[ 4,  6,  1, 35, 11, 12, 13,  2, 14, 15,  0,  0,  0,  0,  0],\n",
       "       [ 3,  5,  2, 36,  1, 16, 11, 37, 17, 38, 39, 40, 18, 41,  0],\n",
       "       [42, 43,  2, 44, 45, 46,  3,  5,  2, 47, 19,  0,  0,  0,  0],\n",
       "       [ 7, 48, 49, 20, 21, 50, 51, 22, 52, 53, 54, 55, 56,  0,  0]],\n",
       "      dtype=int32)"
      ]
     },
     "execution_count": 284,
     "metadata": {},
     "output_type": "execute_result"
    }
   ],
   "source": [
    "data_1"
   ]
  },
  {
   "cell_type": "code",
   "execution_count": 285,
   "metadata": {},
   "outputs": [],
   "source": [
    "# Now we finally can put all the data in one array (3d) where \n",
    "# dimension 1: # sentences\n",
    "# dimension 2: # max sequence length\n",
    "# dimension 3: # w2v features (300 in our case)\n",
    "\n",
    "# Step I: Create a data frame with # sentences X # max sequence length (15) rows and # word features + 1 columns\n",
    "## First column represent the index of the word\n",
    "sentences_to_word_idx_df = pd.DataFrame(np.concatenate((data_1.reshape(60, 1), np.zeros((60, 300))), axis=1))\n",
    "\n",
    "# Step II: Run a for loop to find each word by its index and insert its w2v representation to the other 300 columns\n",
    "for idx in range(sentences_to_word_idx_df.shape[0]):\n",
    "    word_idx = sentences_to_word_idx_df.loc[idx, 0]\n",
    "    try:\n",
    "        word_vec = word2vec[index_word[word_idx]]\n",
    "        sentences_to_word_idx_df.iloc[idx, 1:] = word_vec\n",
    "    except:\n",
    "        pass\n",
    "\n",
    "# Step III: reshape to get 3d array\n",
    "sentences_to_word_idx_array = np.array(sentences_to_word_idx_df.iloc[:, 1:]).reshape(-1, 15, 300)"
   ]
  },
  {
   "cell_type": "code",
   "execution_count": 292,
   "metadata": {},
   "outputs": [
    {
     "data": {
      "text/plain": [
       "array([-0.00616455, -0.07324219,  0.10498047,  0.02453613,  0.        ,\n",
       "        0.        ,  0.13476562, -0.01953125,  0.06738281,  0.23925781,\n",
       "        0.        ,  0.        ,  0.        ,  0.        ,  0.        ])"
      ]
     },
     "execution_count": 292,
     "metadata": {},
     "output_type": "execute_result"
    }
   ],
   "source": [
    "sentences_to_word_idx_array[0, :, 1]"
   ]
  },
  {
   "cell_type": "code",
   "execution_count": 293,
   "metadata": {},
   "outputs": [],
   "source": [
    "### Option I: Take the mean of all w2v in each sentence to insert to other algorithms (logistic, random forest, etc)\n",
    "sentences_to_word_idx_array[sentences_to_word_idx_array == 0] = np.nan\n",
    "mean_sentence_vec = np.nanmean(sentences_to_word_idx_array, axis=1)"
   ]
  },
  {
   "cell_type": "code",
   "execution_count": 294,
   "metadata": {
    "collapsed": true
   },
   "outputs": [
    {
     "data": {
      "text/plain": [
       "array([ 7.24283854e-02,  1.99203491e-02,  6.24491374e-02,  8.19905599e-02,\n",
       "       -8.51847331e-02,  7.00225830e-02, -5.56437174e-03, -7.72806803e-02,\n",
       "        1.00926717e-01,  7.10856120e-02, -2.16871897e-02, -1.13592148e-01,\n",
       "       -1.29629771e-01, -5.83089193e-02, -1.00789388e-01,  5.39143880e-04,\n",
       "        2.37172445e-02,  5.86465200e-02,  4.33756510e-02, -8.66394043e-02,\n",
       "       -5.62337240e-02,  5.01448313e-02,  2.30725606e-02,  7.04975128e-02,\n",
       "       -4.65774536e-02, -2.46874491e-02, -8.30434163e-02,  1.18754069e-01,\n",
       "        2.59526571e-03, -3.98279826e-02,  4.65037028e-02, -3.67431641e-02,\n",
       "       -4.10528183e-02, -8.85086060e-02,  2.50469844e-02, -3.53597005e-02,\n",
       "       -3.90688578e-02, -4.69868978e-02,  4.78731791e-02, -2.18963623e-03,\n",
       "        2.26402283e-02,  1.04054769e-01,  1.21439616e-01,  4.63689168e-02,\n",
       "        1.91726685e-02, -5.22041321e-02,  7.62939453e-03,  1.25732422e-02,\n",
       "       -2.50651042e-02, -2.26999919e-02,  1.46586100e-02,  5.35939535e-02,\n",
       "        2.62705485e-02, -1.13945007e-02, -1.43966675e-02,  7.55360921e-02,\n",
       "       -9.19075012e-02, -3.66210938e-04,  1.18611654e-02, -2.76438395e-03,\n",
       "        1.08388265e-02, -9.64864095e-03, -1.16663615e-01,  3.07108561e-02,\n",
       "        3.98508708e-03, -1.10944112e-02, -1.30757650e-01,  9.07395681e-02,\n",
       "       -3.52516174e-02,  9.57489014e-02, -1.04675293e-02,  4.77600098e-03,\n",
       "        1.00649516e-01,  2.16267904e-02, -9.86251831e-02, -1.12630208e-01,\n",
       "        1.12792969e-01,  1.10829671e-01, -6.02722168e-03,  7.72349040e-02,\n",
       "        2.47141520e-02, -4.54864502e-02,  6.10961914e-02, -2.15538343e-02,\n",
       "       -1.81910197e-02,  1.93277995e-02, -1.06231689e-01,  1.60196940e-01,\n",
       "       -4.88739014e-02,  1.29704793e-01,  4.84415690e-02,  6.57806396e-02,\n",
       "       -2.22574870e-02, -8.63952637e-02,  3.72314453e-03, -4.99369303e-02,\n",
       "        1.12024943e-02,  4.33985392e-02,  5.01912435e-02,  5.70742289e-02,\n",
       "       -1.44209862e-02, -1.01847331e-01,  3.26843262e-02,  4.64680990e-02,\n",
       "        1.01725260e-04,  8.98132324e-02, -1.23484294e-01,  3.61086528e-02,\n",
       "        1.07899984e-01, -7.37609863e-02, -8.47295125e-02, -3.52783203e-02,\n",
       "       -7.52320290e-02,  1.37812297e-02,  6.15437826e-02,  6.11928304e-02,\n",
       "        1.21688843e-02, -6.69759115e-02,  5.28068542e-02,  2.72420247e-02,\n",
       "       -4.90290324e-02, -8.23720296e-03, -9.35668945e-02,  3.42254639e-02,\n",
       "        1.75221761e-03,  2.88848877e-02, -1.42695109e-01,  8.03120931e-03,\n",
       "        4.39860026e-02,  6.55822754e-02, -8.63393148e-02, -1.26546224e-02,\n",
       "       -1.11623128e-01,  5.08371989e-03, -2.84789403e-02, -9.78800456e-02,\n",
       "        4.97080485e-02, -2.52278646e-03, -1.49739583e-02,  6.50380452e-02,\n",
       "        7.18587240e-02, -9.68678792e-02, -1.57140096e-02,  9.55556234e-02,\n",
       "        3.24249268e-02,  1.96634928e-02, -5.35278320e-02, -4.76582845e-02,\n",
       "       -3.33582560e-02, -4.77396647e-02,  8.76541138e-02,  4.70072428e-02,\n",
       "       -1.06318156e-01, -2.95104980e-02, -2.79541016e-02, -5.75714111e-02,\n",
       "       -5.28666178e-02, -1.46636963e-02, -8.82161458e-02,  2.30611165e-02,\n",
       "       -1.57877604e-02,  9.24377441e-02, -7.61686961e-02,  4.35587565e-02,\n",
       "       -5.93770345e-02, -7.18994141e-02, -9.04973348e-03, -4.75006104e-02,\n",
       "       -4.24741109e-02, -6.02544149e-02, -1.35498047e-01,  1.74916585e-02,\n",
       "       -6.66859945e-02, -7.54979451e-02, -5.38139343e-02,  5.47917684e-02,\n",
       "        2.53047943e-02, -9.83937581e-02,  1.21307373e-03, -3.12296549e-03,\n",
       "       -2.97845205e-02,  1.47705078e-02,  7.11758931e-04, -6.45141602e-02,\n",
       "        1.02798462e-01, -5.05574544e-02, -7.23673503e-02,  2.63722738e-02,\n",
       "        7.74192810e-02, -2.83152262e-02,  5.36092122e-03,  4.26623027e-02,\n",
       "       -9.43044027e-02, -1.62569682e-02,  3.49553426e-02,  8.56424967e-02,\n",
       "       -2.43225098e-02, -7.78357188e-02, -5.18290202e-03, -1.64367676e-01,\n",
       "       -2.46480306e-02,  9.20410156e-02,  5.32023112e-03,  3.54258219e-02,\n",
       "       -1.24104818e-03, -7.62176514e-03, -4.77091471e-02, -4.90417480e-02,\n",
       "       -4.50770060e-03,  3.98763021e-02, -2.28373210e-03,  6.06791178e-02,\n",
       "       -1.08055115e-01,  1.82367961e-02, -1.16597493e-01, -1.71597799e-02,\n",
       "        9.92469788e-02, -2.38819122e-02, -1.39775594e-01, -3.18400065e-03,\n",
       "       -4.94028727e-02,  2.84830729e-02,  2.52634684e-02, -3.47595215e-02,\n",
       "       -4.73899841e-02, -4.89807129e-02,  2.20413208e-02,  2.74073283e-02,\n",
       "        3.12906901e-02, -3.29488118e-02,  5.08346558e-02, -7.47273763e-02,\n",
       "        3.97186279e-02,  2.12097168e-02,  2.31838226e-02, -4.73531087e-02,\n",
       "        1.27754211e-02,  6.51423136e-03,  5.98246257e-02,  8.23898315e-02,\n",
       "        1.75501506e-02, -7.60269165e-03,  4.73836263e-02, -1.07462565e-01,\n",
       "       -8.02612305e-03, -3.37855021e-02, -7.86336263e-02,  1.60736084e-01,\n",
       "        3.10484668e-02, -4.49015299e-02,  4.67936198e-02,  7.23406474e-02,\n",
       "        4.11682129e-02,  1.03622437e-01,  1.07620239e-01, -7.92706807e-02,\n",
       "        4.98930613e-02, -1.19178295e-02, -6.70954386e-02, -7.11364746e-02,\n",
       "        9.08927917e-02, -2.42309570e-02, -3.42183908e-02,  1.07682546e-02,\n",
       "        1.75882975e-02,  1.01745605e-01, -7.75146484e-03, -3.74031067e-02,\n",
       "       -1.00728353e-01, -3.70585124e-02,  8.09733073e-03,  6.57246908e-02,\n",
       "        5.12847900e-02,  4.53694661e-02,  4.29840088e-02, -6.36238257e-02,\n",
       "       -7.45913188e-02, -8.85213216e-02, -1.99686686e-02, -1.45874023e-02,\n",
       "        1.88242594e-02,  7.10563660e-02,  5.63913981e-02,  8.33969116e-02,\n",
       "       -5.02319336e-02, -2.45564779e-02, -2.25359599e-02, -3.24948629e-03,\n",
       "        2.97037760e-03,  4.00899251e-02, -3.30468814e-02,  2.97088623e-02,\n",
       "       -8.67818197e-02, -3.81774902e-02, -8.14361572e-02, -5.02675374e-02,\n",
       "       -1.27868652e-02, -6.74819946e-03, -8.67207845e-02, -5.35024007e-02])"
      ]
     },
     "execution_count": 294,
     "metadata": {},
     "output_type": "execute_result"
    }
   ],
   "source": [
    "mean_sentence_vec[1]"
   ]
  },
  {
   "cell_type": "code",
   "execution_count": 295,
   "metadata": {},
   "outputs": [],
   "source": [
    "logistic = LogisticRegression(class_weight='balanced')"
   ]
  },
  {
   "cell_type": "code",
   "execution_count": 296,
   "metadata": {},
   "outputs": [
    {
     "name": "stderr",
     "output_type": "stream",
     "text": [
      "/Users/omer/anaconda3/lib/python3.7/site-packages/sklearn/linear_model/logistic.py:433: FutureWarning: Default solver will be changed to 'lbfgs' in 0.22. Specify a solver to silence this warning.\n",
      "  FutureWarning)\n"
     ]
    },
    {
     "data": {
      "text/plain": [
       "LogisticRegression(C=1.0, class_weight='balanced', dual=False,\n",
       "          fit_intercept=True, intercept_scaling=1, max_iter=100,\n",
       "          multi_class='warn', n_jobs=None, penalty='l2', random_state=None,\n",
       "          solver='warn', tol=0.0001, verbose=0, warm_start=False)"
      ]
     },
     "execution_count": 296,
     "metadata": {},
     "output_type": "execute_result"
    }
   ],
   "source": [
    "logistic.fit(mean_sentence_vec, labels[2:6])"
   ]
  },
  {
   "cell_type": "code",
   "execution_count": 297,
   "metadata": {},
   "outputs": [],
   "source": [
    "dtree = DecisionTreeClassifier()"
   ]
  },
  {
   "cell_type": "code",
   "execution_count": 298,
   "metadata": {},
   "outputs": [
    {
     "data": {
      "text/plain": [
       "DecisionTreeClassifier(class_weight=None, criterion='gini', max_depth=None,\n",
       "            max_features=None, max_leaf_nodes=None,\n",
       "            min_impurity_decrease=0.0, min_impurity_split=None,\n",
       "            min_samples_leaf=1, min_samples_split=2,\n",
       "            min_weight_fraction_leaf=0.0, presort=False, random_state=None,\n",
       "            splitter='best')"
      ]
     },
     "execution_count": 298,
     "metadata": {},
     "output_type": "execute_result"
    }
   ],
   "source": [
    "dtree.fit(mean_sentence_vec, labels[2:6])"
   ]
  },
  {
   "cell_type": "code",
   "execution_count": 299,
   "metadata": {},
   "outputs": [],
   "source": [
    "rforest = RandomForestClassifier()"
   ]
  },
  {
   "cell_type": "code",
   "execution_count": 300,
   "metadata": {},
   "outputs": [
    {
     "name": "stderr",
     "output_type": "stream",
     "text": [
      "/Users/omer/anaconda3/lib/python3.7/site-packages/sklearn/ensemble/forest.py:246: FutureWarning: The default value of n_estimators will change from 10 in version 0.20 to 100 in 0.22.\n",
      "  \"10 in version 0.20 to 100 in 0.22.\", FutureWarning)\n"
     ]
    },
    {
     "data": {
      "text/plain": [
       "RandomForestClassifier(bootstrap=True, class_weight=None, criterion='gini',\n",
       "            max_depth=None, max_features='auto', max_leaf_nodes=None,\n",
       "            min_impurity_decrease=0.0, min_impurity_split=None,\n",
       "            min_samples_leaf=1, min_samples_split=2,\n",
       "            min_weight_fraction_leaf=0.0, n_estimators=10, n_jobs=None,\n",
       "            oob_score=False, random_state=None, verbose=0,\n",
       "            warm_start=False)"
      ]
     },
     "execution_count": 300,
     "metadata": {},
     "output_type": "execute_result"
    }
   ],
   "source": [
    "rforest.fit(mean_sentence_vec, labels[2:6])"
   ]
  },
  {
   "cell_type": "code",
   "execution_count": null,
   "metadata": {},
   "outputs": [],
   "source": [
    "### Option II: Leave as is to use in other algorithms (Logistic, NN, RNN) "
   ]
  },
  {
   "cell_type": "code",
   "execution_count": null,
   "metadata": {},
   "outputs": [],
   "source": [
    "### Option III: Concotenate in order to use in other algorithms (Logistic, NN, RNN) "
   ]
  },
  {
   "cell_type": "code",
   "execution_count": null,
   "metadata": {},
   "outputs": [],
   "source": [
    "### Option IV: Use embedding layer "
   ]
  },
  {
   "cell_type": "code",
   "execution_count": 57,
   "metadata": {},
   "outputs": [
    {
     "name": "stdout",
     "output_type": "stream",
     "text": [
      "Preparing embedding matrix\n"
     ]
    }
   ],
   "source": [
    "########################################\n",
    "## prepare embeddings\n",
    "########################################\n",
    "print('Preparing embedding matrix')\n",
    "\n",
    "nb_words = min(MAX_NB_WORDS, len(word_index))+1"
   ]
  },
  {
   "cell_type": "code",
   "execution_count": 58,
   "metadata": {
    "scrolled": false
   },
   "outputs": [
    {
     "data": {
      "text/plain": [
       "93"
      ]
     },
     "execution_count": 58,
     "metadata": {},
     "output_type": "execute_result"
    }
   ],
   "source": [
    "nb_words"
   ]
  },
  {
   "cell_type": "code",
   "execution_count": 63,
   "metadata": {
    "collapsed": true
   },
   "outputs": [
    {
     "name": "stdout",
     "output_type": "stream",
     "text": [
      "the 1\n",
      "i 2\n",
      "how 3\n",
      "what 4\n",
      "can 5\n",
      "is 6\n",
      "which 7\n",
      "would 8\n",
      "24 9\n",
      "to 10\n",
      "of 11\n",
      "kohinoor 12\n",
      "koh 13\n",
      "noor 14\n",
      "diamond 15\n",
      "speed 16\n",
      "internet 17\n",
      "a 18\n",
      "it 19\n",
      "in 20\n",
      "water 21\n",
      "salt 22\n",
      "by 23\n",
      "math 24\n",
      "23 25\n",
      "hair 26\n",
      "transplant 27\n",
      "much 28\n",
      "cost 29\n",
      "send 30\n",
      "money 31\n",
      "china 32\n",
      "start 33\n",
      "reading 34\n",
      "story 35\n",
      "increase 36\n",
      "my 37\n",
      "connection 38\n",
      "while 39\n",
      "using 40\n",
      "vpn 41\n",
      "why 42\n",
      "am 43\n",
      "mentally 44\n",
      "very 45\n",
      "lonely 46\n",
      "solve 47\n",
      "one 48\n",
      "dissolve 49\n",
      "quikly 50\n",
      "sugar 51\n",
      "methane 52\n",
      "and 53\n",
      "carbon 54\n",
      "di 55\n",
      "oxide 56\n",
      "happen 57\n",
      "if 58\n",
      "indian 59\n",
      "government 60\n",
      "stole 61\n",
      "back 62\n",
      "be 63\n",
      "increased 64\n",
      "hacking 65\n",
      "through 66\n",
      "dns 67\n",
      "find 68\n",
      "remainder 69\n",
      "when 70\n",
      "divided 71\n",
      "fish 72\n",
      "survive 73\n",
      "should 74\n",
      "have 75\n",
      "at 76\n",
      "age 77\n",
      "but 78\n",
      "best 79\n",
      "way 80\n",
      "from 81\n",
      "us 82\n",
      "food 83\n",
      "not 84\n",
      "emulsifiers 85\n",
      "aberystwyth 86\n",
      "does 87\n",
      "require 88\n",
      "you 89\n",
      "foods 90\n",
      "fibre 91\n",
      "their 92\n",
      "Null word embeddings: 11\n"
     ]
    }
   ],
   "source": [
    "embedding_matrix = np.zeros((nb_words, EMBEDDING_DIM))\n",
    "for word, i in word_index.items():\n",
    "    print(word, i)\n",
    "    if word in word2vec.vocab:\n",
    "        embedding_matrix[i] = word2vec.word_vec(word)\n",
    "print('Null word embeddings: %d' % np.sum(np.sum(embedding_matrix, axis=1) == 0))"
   ]
  },
  {
   "cell_type": "code",
   "execution_count": 255,
   "metadata": {
    "collapsed": true
   },
   "outputs": [
    {
     "data": {
      "text/plain": [
       "array([ 0.08007812,  0.10498047,  0.04980469,  0.0534668 , -0.06738281,\n",
       "       -0.12060547,  0.03515625, -0.11865234,  0.04394531,  0.03015137,\n",
       "       -0.05688477, -0.07617188,  0.01287842,  0.04980469, -0.08496094,\n",
       "       -0.06347656,  0.00628662, -0.04321289,  0.02026367,  0.01330566,\n",
       "       -0.01953125,  0.09277344, -0.171875  , -0.00131989,  0.06542969,\n",
       "        0.05834961, -0.08251953,  0.0859375 , -0.00318909,  0.05859375,\n",
       "       -0.03491211, -0.0123291 , -0.0480957 , -0.00302124,  0.05639648,\n",
       "        0.01495361, -0.07226562, -0.05224609,  0.09667969,  0.04296875,\n",
       "       -0.03540039, -0.07324219,  0.03271484, -0.06176758,  0.00787354,\n",
       "        0.0035553 , -0.00878906,  0.0390625 ,  0.03833008,  0.04443359,\n",
       "        0.06982422,  0.01263428, -0.00445557, -0.03320312, -0.04272461,\n",
       "        0.09765625, -0.02160645, -0.0378418 ,  0.01190186, -0.01391602,\n",
       "       -0.11328125,  0.09326172, -0.03930664, -0.11621094,  0.02331543,\n",
       "       -0.01599121,  0.02636719,  0.10742188, -0.00466919,  0.09619141,\n",
       "        0.0279541 , -0.05395508,  0.08544922, -0.03686523, -0.02026367,\n",
       "       -0.08544922,  0.125     ,  0.14453125,  0.0267334 ,  0.15039062,\n",
       "        0.05273438, -0.18652344,  0.08154297, -0.01062012, -0.03735352,\n",
       "       -0.07324219, -0.07519531,  0.03613281, -0.13183594,  0.00616455,\n",
       "        0.05078125,  0.04516602,  0.0100708 , -0.15039062, -0.06005859,\n",
       "        0.05761719, -0.00692749,  0.01586914, -0.0213623 ,  0.10351562,\n",
       "       -0.00029182, -0.046875  , -0.01635742, -0.07861328, -0.06933594,\n",
       "        0.01635742, -0.03149414, -0.01373291, -0.03662109, -0.08886719,\n",
       "       -0.0480957 , -0.01318359, -0.07177734,  0.00588989, -0.04614258,\n",
       "        0.03979492,  0.10058594, -0.04931641,  0.07568359,  0.03881836,\n",
       "       -0.16699219, -0.09619141, -0.10107422,  0.02905273, -0.05786133,\n",
       "       -0.01928711, -0.04296875, -0.08398438, -0.01989746,  0.05151367,\n",
       "        0.00848389, -0.03613281, -0.14941406, -0.01855469, -0.03637695,\n",
       "       -0.07666016, -0.03955078, -0.06152344, -0.02001953,  0.04150391,\n",
       "        0.03686523, -0.07226562,  0.00592041, -0.06298828,  0.00738525,\n",
       "       -0.01586914,  0.01611328, -0.01452637,  0.00772095,  0.10107422,\n",
       "       -0.00558472,  0.01428223, -0.07617188,  0.05639648, -0.01293945,\n",
       "        0.03063965, -0.02490234, -0.09863281,  0.0324707 , -0.02807617,\n",
       "       -0.08105469,  0.02062988,  0.01611328, -0.04199219, -0.03491211,\n",
       "       -0.03759766,  0.05493164,  0.01373291,  0.02685547, -0.05859375,\n",
       "       -0.07177734, -0.12011719, -0.02282715, -0.1640625 , -0.00361633,\n",
       "       -0.05981445,  0.07080078, -0.07714844,  0.05175781, -0.04296875,\n",
       "       -0.04833984,  0.0300293 , -0.06591797, -0.03173828, -0.04882812,\n",
       "       -0.03491211,  0.05883789, -0.01464844,  0.18066406,  0.05688477,\n",
       "        0.05249023,  0.05786133,  0.11669922,  0.05200195, -0.0534668 ,\n",
       "        0.01867676, -0.015625  ,  0.00576782, -0.07324219, -0.11621094,\n",
       "        0.04052734,  0.0625    , -0.04321289,  0.01055908,  0.02172852,\n",
       "        0.04248047,  0.03271484,  0.04418945,  0.05761719,  0.02612305,\n",
       "       -0.01831055, -0.02697754, -0.00674438,  0.00509644, -0.11621094,\n",
       "        0.00364685,  0.05761719, -0.05957031, -0.08837891,  0.0135498 ,\n",
       "        0.04541016, -0.04638672, -0.0177002 , -0.0625    ,  0.03442383,\n",
       "       -0.02416992,  0.03088379,  0.09570312,  0.07958984,  0.03930664,\n",
       "        0.0279541 , -0.0859375 ,  0.08105469,  0.06640625, -0.00041962,\n",
       "       -0.06933594,  0.03588867, -0.03417969,  0.04492188, -0.00772095,\n",
       "       -0.00741577, -0.04760742,  0.01397705, -0.09960938,  0.0246582 ,\n",
       "       -0.09960938,  0.11474609,  0.03173828,  0.02209473,  0.07226562,\n",
       "        0.03686523,  0.02563477,  0.01367188, -0.02734375,  0.00592041,\n",
       "       -0.06738281,  0.05053711, -0.02832031, -0.04516602, -0.01733398,\n",
       "        0.02111816,  0.03515625, -0.04296875,  0.06640625,  0.12207031,\n",
       "        0.12353516,  0.0039978 ,  0.04516602, -0.01855469,  0.04833984,\n",
       "        0.04516602,  0.08691406,  0.02941895,  0.03759766,  0.03442383,\n",
       "       -0.07373047, -0.0402832 , -0.14648438, -0.02441406, -0.01953125,\n",
       "        0.0065918 , -0.0018158 , -0.01092529,  0.09326172,  0.06542969,\n",
       "        0.01843262, -0.09326172, -0.01574707, -0.07128906, -0.08935547,\n",
       "       -0.07128906, -0.03015137, -0.01300049,  0.01635742, -0.01831055,\n",
       "        0.01483154,  0.00500488,  0.00366211,  0.04760742, -0.06884766])"
      ]
     },
     "execution_count": 255,
     "metadata": {},
     "output_type": "execute_result"
    }
   ],
   "source": [
    "embedding_matrix[1]"
   ]
  },
  {
   "cell_type": "code",
   "execution_count": 65,
   "metadata": {},
   "outputs": [],
   "source": [
    "########################################\n",
    "## sample train/validation data\n",
    "########################################\n",
    "#np.random.seed(1234)\n",
    "perm = np.random.permutation(len(data_1))\n",
    "idx_train = perm[:int(len(data_1)*(1-VALIDATION_SPLIT))]\n",
    "idx_val = perm[int(len(data_1)*(1-VALIDATION_SPLIT)):]"
   ]
  },
  {
   "cell_type": "code",
   "execution_count": 66,
   "metadata": {},
   "outputs": [
    {
     "data": {
      "text/plain": [
       "array([0, 2, 3, 1])"
      ]
     },
     "execution_count": 66,
     "metadata": {},
     "output_type": "execute_result"
    }
   ],
   "source": [
    "perm"
   ]
  },
  {
   "cell_type": "code",
   "execution_count": 67,
   "metadata": {},
   "outputs": [
    {
     "data": {
      "text/plain": [
       "array([0, 2, 3])"
      ]
     },
     "execution_count": 67,
     "metadata": {},
     "output_type": "execute_result"
    }
   ],
   "source": [
    "idx_train"
   ]
  },
  {
   "cell_type": "code",
   "execution_count": 68,
   "metadata": {},
   "outputs": [
    {
     "data": {
      "text/plain": [
       "array([1])"
      ]
     },
     "execution_count": 68,
     "metadata": {},
     "output_type": "execute_result"
    }
   ],
   "source": [
    "idx_val"
   ]
  },
  {
   "cell_type": "code",
   "execution_count": 69,
   "metadata": {},
   "outputs": [],
   "source": [
    "data_1_train = np.vstack((data_1[idx_train], data_2[idx_train]))\n",
    "data_2_train = np.vstack((data_2[idx_train], data_1[idx_train]))\n",
    "labels_train = np.concatenate((labels[idx_train], labels[idx_train]))"
   ]
  },
  {
   "cell_type": "code",
   "execution_count": 235,
   "metadata": {
    "collapsed": true
   },
   "outputs": [
    {
     "data": {
      "text/plain": [
       "array([[ 4,  8, 57, 58,  1, 59, 60, 61,  1, 12, 13,  2, 14, 15, 62],\n",
       "       [ 3,  5, 17, 16, 63, 64, 23, 65, 66, 67,  0,  0,  0,  0,  0],\n",
       "       [68,  1, 69, 70, 24, 25,  9, 24,  6, 71, 23,  9, 25,  0,  0],\n",
       "       [ 7, 72,  8, 73, 20, 22, 21,  0,  0,  0,  0,  0,  0,  0,  0]],\n",
       "      dtype=int32)"
      ]
     },
     "execution_count": 235,
     "metadata": {},
     "output_type": "execute_result"
    }
   ],
   "source": [
    "data_2"
   ]
  },
  {
   "cell_type": "code",
   "execution_count": 236,
   "metadata": {
    "collapsed": true
   },
   "outputs": [
    {
     "data": {
      "text/plain": [
       "array([[ 4,  8, 57, 58,  1, 59, 60, 61,  1, 12, 13,  2, 14, 15, 62],\n",
       "       [68,  1, 69, 70, 24, 25,  9, 24,  6, 71, 23,  9, 25,  0,  0],\n",
       "       [ 7, 72,  8, 73, 20, 22, 21,  0,  0,  0,  0,  0,  0,  0,  0],\n",
       "       [ 4,  6,  1, 35, 11, 12, 13,  2, 14, 15,  0,  0,  0,  0,  0],\n",
       "       [42, 43,  2, 44, 45, 46,  3,  5,  2, 47, 19,  0,  0,  0,  0],\n",
       "       [ 7, 48, 49, 20, 21, 50, 51, 22, 52, 53, 54, 55, 56,  0,  0]],\n",
       "      dtype=int32)"
      ]
     },
     "execution_count": 236,
     "metadata": {},
     "output_type": "execute_result"
    }
   ],
   "source": [
    "data_2_train"
   ]
  },
  {
   "cell_type": "code",
   "execution_count": 72,
   "metadata": {},
   "outputs": [
    {
     "data": {
      "text/plain": [
       "array([0, 0, 0, 0, 0, 0])"
      ]
     },
     "execution_count": 72,
     "metadata": {},
     "output_type": "execute_result"
    }
   ],
   "source": [
    "labels_train"
   ]
  },
  {
   "cell_type": "code",
   "execution_count": 70,
   "metadata": {},
   "outputs": [],
   "source": [
    "data_1_val = np.vstack((data_1[idx_val], data_2[idx_val]))\n",
    "data_2_val = np.vstack((data_2[idx_val], data_1[idx_val]))\n",
    "labels_val = np.concatenate((labels[idx_val], labels[idx_val]))"
   ]
  },
  {
   "cell_type": "code",
   "execution_count": 71,
   "metadata": {
    "collapsed": true
   },
   "outputs": [
    {
     "data": {
      "text/plain": [
       "array([[ 4,  6,  1, 35, 11, 12, 13,  2, 14, 15,  0,  0,  0,  0,  0],\n",
       "       [42, 43,  2, 44, 45, 46,  3,  5,  2, 47, 19,  0,  0,  0,  0],\n",
       "       [ 7, 48, 49, 20, 21, 50, 51, 22, 52, 53, 54, 55, 56,  0,  0],\n",
       "       [ 4,  8, 57, 58,  1, 59, 60, 61,  1, 12, 13,  2, 14, 15, 62],\n",
       "       [68,  1, 69, 70, 24, 25,  9, 24,  6, 71, 23,  9, 25,  0,  0],\n",
       "       [ 7, 72,  8, 73, 20, 22, 21,  0,  0,  0,  0,  0,  0,  0,  0]],\n",
       "      dtype=int32)"
      ]
     },
     "execution_count": 71,
     "metadata": {},
     "output_type": "execute_result"
    }
   ],
   "source": [
    "data_1_train"
   ]
  },
  {
   "cell_type": "code",
   "execution_count": 237,
   "metadata": {
    "collapsed": true
   },
   "outputs": [
    {
     "data": {
      "text/plain": [
       "array([[ 4,  8, 57, 58,  1, 59, 60, 61,  1, 12, 13,  2, 14, 15, 62],\n",
       "       [68,  1, 69, 70, 24, 25,  9, 24,  6, 71, 23,  9, 25,  0,  0],\n",
       "       [ 7, 72,  8, 73, 20, 22, 21,  0,  0,  0,  0,  0,  0,  0,  0],\n",
       "       [ 4,  6,  1, 35, 11, 12, 13,  2, 14, 15,  0,  0,  0,  0,  0],\n",
       "       [42, 43,  2, 44, 45, 46,  3,  5,  2, 47, 19,  0,  0,  0,  0],\n",
       "       [ 7, 48, 49, 20, 21, 50, 51, 22, 52, 53, 54, 55, 56,  0,  0]],\n",
       "      dtype=int32)"
      ]
     },
     "execution_count": 237,
     "metadata": {},
     "output_type": "execute_result"
    }
   ],
   "source": [
    "data_2_train"
   ]
  },
  {
   "cell_type": "code",
   "execution_count": 73,
   "metadata": {},
   "outputs": [],
   "source": [
    "# weight_val = np.ones(len(labels_val))\n",
    "# if re_weight:\n",
    "#     weight_val *= 0.472001959\n",
    "#     weight_val[labels_val==0] = 1.309028344"
   ]
  },
  {
   "cell_type": "code",
   "execution_count": 74,
   "metadata": {},
   "outputs": [
    {
     "name": "stderr",
     "output_type": "stream",
     "text": [
      "WARNING: Logging before flag parsing goes to stderr.\n",
      "W0721 17:38:17.253858 4555916736 deprecation_wrapper.py:119] From /Users/omer/anaconda3/lib/python3.7/site-packages/keras/backend/tensorflow_backend.py:74: The name tf.get_default_graph is deprecated. Please use tf.compat.v1.get_default_graph instead.\n",
      "\n"
     ]
    }
   ],
   "source": [
    "########################################\n",
    "## define the model structure\n",
    "########################################\n",
    "embedding_layer = Embedding(nb_words,\n",
    "        EMBEDDING_DIM,\n",
    "        weights=[embedding_matrix],\n",
    "        input_length=MAX_SEQUENCE_LENGTH,\n",
    "        trainable=False)"
   ]
  },
  {
   "cell_type": "code",
   "execution_count": 75,
   "metadata": {},
   "outputs": [
    {
     "name": "stderr",
     "output_type": "stream",
     "text": [
      "W0721 17:40:36.483162 4555916736 deprecation_wrapper.py:119] From /Users/omer/anaconda3/lib/python3.7/site-packages/keras/backend/tensorflow_backend.py:517: The name tf.placeholder is deprecated. Please use tf.compat.v1.placeholder instead.\n",
      "\n",
      "W0721 17:40:36.500955 4555916736 deprecation_wrapper.py:119] From /Users/omer/anaconda3/lib/python3.7/site-packages/keras/backend/tensorflow_backend.py:4138: The name tf.random_uniform is deprecated. Please use tf.random.uniform instead.\n",
      "\n",
      "W0721 17:40:36.515653 4555916736 deprecation_wrapper.py:119] From /Users/omer/anaconda3/lib/python3.7/site-packages/keras/backend/tensorflow_backend.py:174: The name tf.get_default_session is deprecated. Please use tf.compat.v1.get_default_session instead.\n",
      "\n",
      "W0721 17:40:36.516503 4555916736 deprecation_wrapper.py:119] From /Users/omer/anaconda3/lib/python3.7/site-packages/keras/backend/tensorflow_backend.py:181: The name tf.ConfigProto is deprecated. Please use tf.compat.v1.ConfigProto instead.\n",
      "\n",
      "W0721 17:40:36.730154 4555916736 deprecation.py:506] From /Users/omer/anaconda3/lib/python3.7/site-packages/keras/backend/tensorflow_backend.py:3445: calling dropout (from tensorflow.python.ops.nn_ops) with keep_prob is deprecated and will be removed in a future version.\n",
      "Instructions for updating:\n",
      "Please use `rate` instead of `keep_prob`. Rate should be set to `rate = 1 - keep_prob`.\n"
     ]
    }
   ],
   "source": [
    "lstm_layer = LSTM(num_lstm, dropout=rate_drop_lstm, recurrent_dropout=rate_drop_lstm)\n",
    "\n",
    "sequence_1_input = Input(shape=(MAX_SEQUENCE_LENGTH,), dtype='int32')\n",
    "embedded_sequences_1 = embedding_layer(sequence_1_input)\n",
    "x1 = lstm_layer(embedded_sequences_1)\n",
    "# x2 = lstm_layer(x1)\n",
    "\n",
    "sequence_2_input = Input(shape=(MAX_SEQUENCE_LENGTH,), dtype='int32')\n",
    "embedded_sequences_2 = embedding_layer(sequence_2_input)\n",
    "y1 = lstm_layer(embedded_sequences_2)\n",
    "\n",
    "merged = concatenate([x1, y1])\n",
    "merged = Dropout(rate_drop_dense)(merged)\n",
    "merged = BatchNormalization()(merged)\n",
    "\n",
    "merged = Dense(num_dense, activation=act)(merged)\n",
    "merged = Dropout(rate_drop_dense)(merged)\n",
    "merged = BatchNormalization()(merged)\n",
    "\n",
    "preds = Dense(1, activation='sigmoid')(merged)\n",
    "\n",
    "########################################\n",
    "## add class weight\n",
    "########################################\n",
    "if re_weight:\n",
    "    class_weight = {0: 1.309028344, 1: 0.472001959}\n",
    "else:\n",
    "    class_weight = None\n",
    "\n"
   ]
  },
  {
   "cell_type": "code",
   "execution_count": 76,
   "metadata": {},
   "outputs": [
    {
     "name": "stderr",
     "output_type": "stream",
     "text": [
      "W0721 17:41:05.451287 4555916736 deprecation_wrapper.py:119] From /Users/omer/anaconda3/lib/python3.7/site-packages/keras/optimizers.py:790: The name tf.train.Optimizer is deprecated. Please use tf.compat.v1.train.Optimizer instead.\n",
      "\n",
      "W0721 17:41:05.475080 4555916736 deprecation.py:323] From /Users/omer/anaconda3/lib/python3.7/site-packages/tensorflow/python/ops/nn_impl.py:180: add_dispatch_support.<locals>.wrapper (from tensorflow.python.ops.array_ops) is deprecated and will be removed in a future version.\n",
      "Instructions for updating:\n",
      "Use tf.where in 2.0, which has the same broadcast rule as np.where\n"
     ]
    },
    {
     "name": "stdout",
     "output_type": "stream",
     "text": [
      "__________________________________________________________________________________________________\n",
      "Layer (type)                    Output Shape         Param #     Connected to                     \n",
      "==================================================================================================\n",
      "input_1 (InputLayer)            (None, 15)           0                                            \n",
      "__________________________________________________________________________________________________\n",
      "input_2 (InputLayer)            (None, 15)           0                                            \n",
      "__________________________________________________________________________________________________\n",
      "embedding_1 (Embedding)         (None, 15, 300)      27900       input_1[0][0]                    \n",
      "                                                                 input_2[0][0]                    \n",
      "__________________________________________________________________________________________________\n",
      "lstm_1 (LSTM)                   (None, 259)          580160      embedding_1[0][0]                \n",
      "                                                                 embedding_1[1][0]                \n",
      "__________________________________________________________________________________________________\n",
      "concatenate_1 (Concatenate)     (None, 518)          0           lstm_1[0][0]                     \n",
      "                                                                 lstm_1[1][0]                     \n",
      "__________________________________________________________________________________________________\n",
      "dropout_1 (Dropout)             (None, 518)          0           concatenate_1[0][0]              \n",
      "__________________________________________________________________________________________________\n",
      "batch_normalization_1 (BatchNor (None, 518)          2072        dropout_1[0][0]                  \n",
      "__________________________________________________________________________________________________\n",
      "dense_1 (Dense)                 (None, 121)          62799       batch_normalization_1[0][0]      \n",
      "__________________________________________________________________________________________________\n",
      "dropout_2 (Dropout)             (None, 121)          0           dense_1[0][0]                    \n",
      "__________________________________________________________________________________________________\n",
      "batch_normalization_2 (BatchNor (None, 121)          484         dropout_2[0][0]                  \n",
      "__________________________________________________________________________________________________\n",
      "dense_2 (Dense)                 (None, 1)            122         batch_normalization_2[0][0]      \n",
      "==================================================================================================\n",
      "Total params: 673,537\n",
      "Trainable params: 644,359\n",
      "Non-trainable params: 29,178\n",
      "__________________________________________________________________________________________________\n",
      "None\n",
      "lstm_259_121_0.28_0.16\n"
     ]
    }
   ],
   "source": [
    "model = Model(inputs=[sequence_1_input, sequence_2_input], \\\n",
    "        outputs=preds)\n",
    "model.compile(loss='binary_crossentropy',\n",
    "        optimizer='nadam',\n",
    "        metrics=['acc'])\n",
    "print(model.summary())\n",
    "print(STAMP)"
   ]
  },
  {
   "cell_type": "code",
   "execution_count": 78,
   "metadata": {},
   "outputs": [
    {
     "data": {
      "text/plain": [
       "(array([[ 4,  6,  1, 35, 11, 12, 13,  2, 14, 15,  0,  0,  0,  0,  0],\n",
       "        [42, 43,  2, 44, 45, 46,  3,  5,  2, 47, 19,  0,  0,  0,  0],\n",
       "        [ 7, 48, 49, 20, 21, 50, 51, 22, 52, 53, 54, 55, 56,  0,  0],\n",
       "        [ 4,  8, 57, 58,  1, 59, 60, 61,  1, 12, 13,  2, 14, 15, 62],\n",
       "        [68,  1, 69, 70, 24, 25,  9, 24,  6, 71, 23,  9, 25,  0,  0],\n",
       "        [ 7, 72,  8, 73, 20, 22, 21,  0,  0,  0,  0,  0,  0,  0,  0]],\n",
       "       dtype=int32),\n",
       " array([[ 4,  8, 57, 58,  1, 59, 60, 61,  1, 12, 13,  2, 14, 15, 62],\n",
       "        [68,  1, 69, 70, 24, 25,  9, 24,  6, 71, 23,  9, 25,  0,  0],\n",
       "        [ 7, 72,  8, 73, 20, 22, 21,  0,  0,  0,  0,  0,  0,  0,  0],\n",
       "        [ 4,  6,  1, 35, 11, 12, 13,  2, 14, 15,  0,  0,  0,  0,  0],\n",
       "        [42, 43,  2, 44, 45, 46,  3,  5,  2, 47, 19,  0,  0,  0,  0],\n",
       "        [ 7, 48, 49, 20, 21, 50, 51, 22, 52, 53, 54, 55, 56,  0,  0]],\n",
       "       dtype=int32))"
      ]
     },
     "execution_count": 78,
     "metadata": {},
     "output_type": "execute_result"
    }
   ],
   "source": [
    "data_1_train, data_2_train"
   ]
  },
  {
   "cell_type": "code",
   "execution_count": 3,
   "metadata": {
    "collapsed": true
   },
   "outputs": [
    {
     "name": "stdout",
     "output_type": "stream",
     "text": [
      "Indexing word vectors\n"
     ]
    },
    {
     "ename": "FileNotFoundError",
     "evalue": "[Errno 2] No such file or directory: '../input/GoogleNews-vectors-negative300.bin'",
     "output_type": "error",
     "traceback": [
      "\u001b[0;31m---------------------------------------------------------------------------\u001b[0m",
      "\u001b[0;31mFileNotFoundError\u001b[0m                         Traceback (most recent call last)",
      "\u001b[0;32m<ipython-input-3-13a604badaf3>\u001b[0m in \u001b[0;36m<module>\u001b[0;34m\u001b[0m\n\u001b[1;32m     41\u001b[0m \u001b[0;34m\u001b[0m\u001b[0m\n\u001b[1;32m     42\u001b[0m word2vec = KeyedVectors.load_word2vec_format(EMBEDDING_FILE, \\\n\u001b[0;32m---> 43\u001b[0;31m         binary=True)\n\u001b[0m\u001b[1;32m     44\u001b[0m \u001b[0mprint\u001b[0m\u001b[0;34m(\u001b[0m\u001b[0;34m'Found %s word vectors of word2vec'\u001b[0m \u001b[0;34m%\u001b[0m \u001b[0mlen\u001b[0m\u001b[0;34m(\u001b[0m\u001b[0mword2vec\u001b[0m\u001b[0;34m.\u001b[0m\u001b[0mvocab\u001b[0m\u001b[0;34m)\u001b[0m\u001b[0;34m)\u001b[0m\u001b[0;34m\u001b[0m\u001b[0;34m\u001b[0m\u001b[0m\n\u001b[1;32m     45\u001b[0m \u001b[0;34m\u001b[0m\u001b[0m\n",
      "\u001b[0;32m~/anaconda3/lib/python3.7/site-packages/gensim/models/keyedvectors.py\u001b[0m in \u001b[0;36mload_word2vec_format\u001b[0;34m(cls, fname, fvocab, binary, encoding, unicode_errors, limit, datatype)\u001b[0m\n\u001b[1;32m   1496\u001b[0m         return _load_word2vec_format(\n\u001b[1;32m   1497\u001b[0m             \u001b[0mcls\u001b[0m\u001b[0;34m,\u001b[0m \u001b[0mfname\u001b[0m\u001b[0;34m,\u001b[0m \u001b[0mfvocab\u001b[0m\u001b[0;34m=\u001b[0m\u001b[0mfvocab\u001b[0m\u001b[0;34m,\u001b[0m \u001b[0mbinary\u001b[0m\u001b[0;34m=\u001b[0m\u001b[0mbinary\u001b[0m\u001b[0;34m,\u001b[0m \u001b[0mencoding\u001b[0m\u001b[0;34m=\u001b[0m\u001b[0mencoding\u001b[0m\u001b[0;34m,\u001b[0m \u001b[0municode_errors\u001b[0m\u001b[0;34m=\u001b[0m\u001b[0municode_errors\u001b[0m\u001b[0;34m,\u001b[0m\u001b[0;34m\u001b[0m\u001b[0;34m\u001b[0m\u001b[0m\n\u001b[0;32m-> 1498\u001b[0;31m             limit=limit, datatype=datatype)\n\u001b[0m\u001b[1;32m   1499\u001b[0m \u001b[0;34m\u001b[0m\u001b[0m\n\u001b[1;32m   1500\u001b[0m     \u001b[0;32mdef\u001b[0m \u001b[0mget_keras_embedding\u001b[0m\u001b[0;34m(\u001b[0m\u001b[0mself\u001b[0m\u001b[0;34m,\u001b[0m \u001b[0mtrain_embeddings\u001b[0m\u001b[0;34m=\u001b[0m\u001b[0;32mFalse\u001b[0m\u001b[0;34m)\u001b[0m\u001b[0;34m:\u001b[0m\u001b[0;34m\u001b[0m\u001b[0;34m\u001b[0m\u001b[0m\n",
      "\u001b[0;32m~/anaconda3/lib/python3.7/site-packages/gensim/models/utils_any2vec.py\u001b[0m in \u001b[0;36m_load_word2vec_format\u001b[0;34m(cls, fname, fvocab, binary, encoding, unicode_errors, limit, datatype)\u001b[0m\n\u001b[1;32m    340\u001b[0m \u001b[0;34m\u001b[0m\u001b[0m\n\u001b[1;32m    341\u001b[0m     \u001b[0mlogger\u001b[0m\u001b[0;34m.\u001b[0m\u001b[0minfo\u001b[0m\u001b[0;34m(\u001b[0m\u001b[0;34m\"loading projection weights from %s\"\u001b[0m\u001b[0;34m,\u001b[0m \u001b[0mfname\u001b[0m\u001b[0;34m)\u001b[0m\u001b[0;34m\u001b[0m\u001b[0;34m\u001b[0m\u001b[0m\n\u001b[0;32m--> 342\u001b[0;31m     \u001b[0;32mwith\u001b[0m \u001b[0mutils\u001b[0m\u001b[0;34m.\u001b[0m\u001b[0mopen\u001b[0m\u001b[0;34m(\u001b[0m\u001b[0mfname\u001b[0m\u001b[0;34m,\u001b[0m \u001b[0;34m'rb'\u001b[0m\u001b[0;34m)\u001b[0m \u001b[0;32mas\u001b[0m \u001b[0mfin\u001b[0m\u001b[0;34m:\u001b[0m\u001b[0;34m\u001b[0m\u001b[0;34m\u001b[0m\u001b[0m\n\u001b[0m\u001b[1;32m    343\u001b[0m         \u001b[0mheader\u001b[0m \u001b[0;34m=\u001b[0m \u001b[0mutils\u001b[0m\u001b[0;34m.\u001b[0m\u001b[0mto_unicode\u001b[0m\u001b[0;34m(\u001b[0m\u001b[0mfin\u001b[0m\u001b[0;34m.\u001b[0m\u001b[0mreadline\u001b[0m\u001b[0;34m(\u001b[0m\u001b[0;34m)\u001b[0m\u001b[0;34m,\u001b[0m \u001b[0mencoding\u001b[0m\u001b[0;34m=\u001b[0m\u001b[0mencoding\u001b[0m\u001b[0;34m)\u001b[0m\u001b[0;34m\u001b[0m\u001b[0;34m\u001b[0m\u001b[0m\n\u001b[1;32m    344\u001b[0m         \u001b[0mvocab_size\u001b[0m\u001b[0;34m,\u001b[0m \u001b[0mvector_size\u001b[0m \u001b[0;34m=\u001b[0m \u001b[0;34m(\u001b[0m\u001b[0mint\u001b[0m\u001b[0;34m(\u001b[0m\u001b[0mx\u001b[0m\u001b[0;34m)\u001b[0m \u001b[0;32mfor\u001b[0m \u001b[0mx\u001b[0m \u001b[0;32min\u001b[0m \u001b[0mheader\u001b[0m\u001b[0;34m.\u001b[0m\u001b[0msplit\u001b[0m\u001b[0;34m(\u001b[0m\u001b[0;34m)\u001b[0m\u001b[0;34m)\u001b[0m  \u001b[0;31m# throws for invalid file format\u001b[0m\u001b[0;34m\u001b[0m\u001b[0;34m\u001b[0m\u001b[0m\n",
      "\u001b[0;32m~/anaconda3/lib/python3.7/site-packages/smart_open/smart_open_lib.py\u001b[0m in \u001b[0;36mopen\u001b[0;34m(uri, mode, buffering, encoding, errors, newline, closefd, opener, ignore_ext, transport_params)\u001b[0m\n\u001b[1;32m    305\u001b[0m         \u001b[0mbuffering\u001b[0m\u001b[0;34m=\u001b[0m\u001b[0mbuffering\u001b[0m\u001b[0;34m,\u001b[0m\u001b[0;34m\u001b[0m\u001b[0;34m\u001b[0m\u001b[0m\n\u001b[1;32m    306\u001b[0m         \u001b[0mencoding\u001b[0m\u001b[0;34m=\u001b[0m\u001b[0mencoding\u001b[0m\u001b[0;34m,\u001b[0m\u001b[0;34m\u001b[0m\u001b[0;34m\u001b[0m\u001b[0m\n\u001b[0;32m--> 307\u001b[0;31m         \u001b[0merrors\u001b[0m\u001b[0;34m=\u001b[0m\u001b[0merrors\u001b[0m\u001b[0;34m,\u001b[0m\u001b[0;34m\u001b[0m\u001b[0;34m\u001b[0m\u001b[0m\n\u001b[0m\u001b[1;32m    308\u001b[0m     )\n\u001b[1;32m    309\u001b[0m     \u001b[0;32mif\u001b[0m \u001b[0mfobj\u001b[0m \u001b[0;32mis\u001b[0m \u001b[0;32mnot\u001b[0m \u001b[0;32mNone\u001b[0m\u001b[0;34m:\u001b[0m\u001b[0;34m\u001b[0m\u001b[0;34m\u001b[0m\u001b[0m\n",
      "\u001b[0;32m~/anaconda3/lib/python3.7/site-packages/smart_open/smart_open_lib.py\u001b[0m in \u001b[0;36m_shortcut_open\u001b[0;34m(uri, mode, ignore_ext, buffering, encoding, errors)\u001b[0m\n\u001b[1;32m    510\u001b[0m     \u001b[0;31m#\u001b[0m\u001b[0;34m\u001b[0m\u001b[0;34m\u001b[0m\u001b[0;34m\u001b[0m\u001b[0m\n\u001b[1;32m    511\u001b[0m     \u001b[0;32mif\u001b[0m \u001b[0msix\u001b[0m\u001b[0;34m.\u001b[0m\u001b[0mPY3\u001b[0m\u001b[0;34m:\u001b[0m\u001b[0;34m\u001b[0m\u001b[0;34m\u001b[0m\u001b[0m\n\u001b[0;32m--> 512\u001b[0;31m         \u001b[0;32mreturn\u001b[0m \u001b[0m_builtin_open\u001b[0m\u001b[0;34m(\u001b[0m\u001b[0mparsed_uri\u001b[0m\u001b[0;34m.\u001b[0m\u001b[0muri_path\u001b[0m\u001b[0;34m,\u001b[0m \u001b[0mmode\u001b[0m\u001b[0;34m,\u001b[0m \u001b[0mbuffering\u001b[0m\u001b[0;34m=\u001b[0m\u001b[0mbuffering\u001b[0m\u001b[0;34m,\u001b[0m \u001b[0;34m**\u001b[0m\u001b[0mopen_kwargs\u001b[0m\u001b[0;34m)\u001b[0m\u001b[0;34m\u001b[0m\u001b[0;34m\u001b[0m\u001b[0m\n\u001b[0m\u001b[1;32m    513\u001b[0m     \u001b[0;32melif\u001b[0m \u001b[0;32mnot\u001b[0m \u001b[0mopen_kwargs\u001b[0m\u001b[0;34m:\u001b[0m\u001b[0;34m\u001b[0m\u001b[0;34m\u001b[0m\u001b[0m\n\u001b[1;32m    514\u001b[0m         \u001b[0;32mreturn\u001b[0m \u001b[0m_builtin_open\u001b[0m\u001b[0;34m(\u001b[0m\u001b[0mparsed_uri\u001b[0m\u001b[0;34m.\u001b[0m\u001b[0muri_path\u001b[0m\u001b[0;34m,\u001b[0m \u001b[0mmode\u001b[0m\u001b[0;34m,\u001b[0m \u001b[0mbuffering\u001b[0m\u001b[0;34m=\u001b[0m\u001b[0mbuffering\u001b[0m\u001b[0;34m)\u001b[0m\u001b[0;34m\u001b[0m\u001b[0;34m\u001b[0m\u001b[0m\n",
      "\u001b[0;31mFileNotFoundError\u001b[0m: [Errno 2] No such file or directory: '../input/GoogleNews-vectors-negative300.bin'"
     ]
    }
   ],
   "source": [
    "'''\n",
    "Single model may achieve LB scores at around 0.29+ ~ 0.30+\n",
    "Average ensembles can easily get 0.28+ or less\n",
    "Don't need to be an expert of feature engineering\n",
    "All you need is a GPU!!!!!!!\n",
    "'''\n",
    "\n",
    "########################################\n",
    "## train the model\n",
    "########################################\n",
    "\n",
    "\n",
    "early_stopping = EarlyStopping(monitor='val_loss', patience=3)\n",
    "bst_model_path = STAMP + '.h5'\n",
    "model_checkpoint = ModelCheckpoint(bst_model_path, save_best_only=True, save_weights_only=True)\n",
    "\n",
    "hist = model.fit([data_1_train, data_2_train], labels_train, \\\n",
    "        validation_data=([data_1_val, data_2_val], labels_val, weight_val), \\\n",
    "        epochs=200, batch_size=2048, shuffle=True, \\\n",
    "        class_weight=class_weight, callbacks=[early_stopping, model_checkpoint])\n",
    "\n",
    "\n"
   ]
  },
  {
   "cell_type": "code",
   "execution_count": null,
   "metadata": {},
   "outputs": [],
   "source": [
    "model.load_weights(bst_model_path)\n",
    "bst_val_score = min(hist.history['val_loss'])"
   ]
  },
  {
   "cell_type": "code",
   "execution_count": null,
   "metadata": {},
   "outputs": [],
   "source": [
    "\n",
    "########################################\n",
    "## Prediction\n",
    "########################################\n",
    "preds = model.predict([test_data_1, test_data_2], batch_size=8192, verbose=1)\n",
    "preds += model.predict([test_data_2, test_data_1], batch_size=8192, verbose=1)\n",
    "preds /= 2"
   ]
  },
  {
   "cell_type": "code",
   "execution_count": null,
   "metadata": {},
   "outputs": [],
   "source": []
  }
 ],
 "metadata": {
  "kernelspec": {
   "display_name": "Python 3",
   "language": "python",
   "name": "python3"
  },
  "language_info": {
   "codemirror_mode": {
    "name": "ipython",
    "version": 3
   },
   "file_extension": ".py",
   "mimetype": "text/x-python",
   "name": "python",
   "nbconvert_exporter": "python",
   "pygments_lexer": "ipython3",
   "version": "3.7.3"
  }
 },
 "nbformat": 4,
 "nbformat_minor": 2
}

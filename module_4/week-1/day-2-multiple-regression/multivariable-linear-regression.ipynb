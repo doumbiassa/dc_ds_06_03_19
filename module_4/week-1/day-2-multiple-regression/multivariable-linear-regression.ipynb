{
 "cells": [
  {
   "cell_type": "markdown",
   "metadata": {},
   "source": [
    "# Multiple Regression\n",
    "\n",
    "## Learning goals:\n",
    "\n",
    "For a multivariable linear regression, students will be able to:\n",
    "\n",
    "* compare and contrast with univariable linear regression\n",
    "* write an example of the equation\n",
    "* develop one with statsmodels \n",
    "* assess the model fit \n",
    "* validate the model\n",
    "\n",
    "\n",
    "### Keyterms\n",
    "- Multivariable\n",
    "- Train-test split\n",
    "- MSE: Mean squared error\n",
    "- RSME: Root squared mean error\n",
    "\n",
    "\n",
    "## Scenario\n",
    "\n",
    "The University of San Paulo in Brazil is likes to party. We are a contracted beer supplier to the University and we want to make sure we have enough supply on hand. We are hoping to build a model that can predict beer consumption given other variables. \n",
    "\n",
    "\n",
    "![beer](pexels-photo-544988-small.jpeg)\n",
    "More about the dataset can be found [here](https://www.kaggle.com/dongeorge/beer-consumption-sao-paulo)\n",
    "\n",
    "\n",
    "###  Prior Knowledge\n",
    "\n",
    "\n",
    "Before looking at the dataset, what variables do we think might be in there? What might make a student drink more? \n",
    "\n",
    "#### Step 1:  Discussion \n",
    "\n",
    "- compare and contrast with univariable linear regression\n",
    "- How is this different from the regression we've done before?\n",
    "- Here, you'll explore how to perform linear regressions using multiple independent variables to better predict a target variable.\n",
    "\n",
    "#### Step 2:  Develop a multivariable regression model with statsmodels \n",
    "\n",
    "**Load Libraries and load in data**"
   ]
  },
  {
   "cell_type": "code",
   "execution_count": 1,
   "metadata": {},
   "outputs": [],
   "source": [
    "import pandas as pd\n",
    "import numpy as np\n",
    "import statsmodels.api as sm\n",
    "\n",
    "from sklearn.linear_model import LinearRegression\n",
    "from sklearn.model_selection import cross_val_score, train_test_split\n",
    "\n",
    "import matplotlib.pyplot as plt"
   ]
  },
  {
   "cell_type": "code",
   "execution_count": 2,
   "metadata": {},
   "outputs": [],
   "source": [
    "df = pd.read_csv('Consumo_cerveja.csv')"
   ]
  },
  {
   "cell_type": "code",
   "execution_count": 3,
   "metadata": {
    "scrolled": true
   },
   "outputs": [
    {
     "data": {
      "text/html": [
       "<div>\n",
       "<style scoped>\n",
       "    .dataframe tbody tr th:only-of-type {\n",
       "        vertical-align: middle;\n",
       "    }\n",
       "\n",
       "    .dataframe tbody tr th {\n",
       "        vertical-align: top;\n",
       "    }\n",
       "\n",
       "    .dataframe thead th {\n",
       "        text-align: right;\n",
       "    }\n",
       "</style>\n",
       "<table border=\"1\" class=\"dataframe\">\n",
       "  <thead>\n",
       "    <tr style=\"text-align: right;\">\n",
       "      <th></th>\n",
       "      <th>Data</th>\n",
       "      <th>Temperatura Media (C)</th>\n",
       "      <th>Temperatura Minima (C)</th>\n",
       "      <th>Temperatura Maxima (C)</th>\n",
       "      <th>Precipitacao (mm)</th>\n",
       "      <th>Final de Semana</th>\n",
       "      <th>Consumo de cerveja (litros)</th>\n",
       "    </tr>\n",
       "  </thead>\n",
       "  <tbody>\n",
       "    <tr>\n",
       "      <th>0</th>\n",
       "      <td>2015-01-01</td>\n",
       "      <td>27,3</td>\n",
       "      <td>23,9</td>\n",
       "      <td>32,5</td>\n",
       "      <td>0</td>\n",
       "      <td>0.0</td>\n",
       "      <td>25.461</td>\n",
       "    </tr>\n",
       "    <tr>\n",
       "      <th>1</th>\n",
       "      <td>2015-01-02</td>\n",
       "      <td>27,02</td>\n",
       "      <td>24,5</td>\n",
       "      <td>33,5</td>\n",
       "      <td>0</td>\n",
       "      <td>0.0</td>\n",
       "      <td>28.972</td>\n",
       "    </tr>\n",
       "    <tr>\n",
       "      <th>2</th>\n",
       "      <td>2015-01-03</td>\n",
       "      <td>24,82</td>\n",
       "      <td>22,4</td>\n",
       "      <td>29,9</td>\n",
       "      <td>0</td>\n",
       "      <td>1.0</td>\n",
       "      <td>30.814</td>\n",
       "    </tr>\n",
       "    <tr>\n",
       "      <th>3</th>\n",
       "      <td>2015-01-04</td>\n",
       "      <td>23,98</td>\n",
       "      <td>21,5</td>\n",
       "      <td>28,6</td>\n",
       "      <td>1,2</td>\n",
       "      <td>1.0</td>\n",
       "      <td>29.799</td>\n",
       "    </tr>\n",
       "    <tr>\n",
       "      <th>4</th>\n",
       "      <td>2015-01-05</td>\n",
       "      <td>23,82</td>\n",
       "      <td>21</td>\n",
       "      <td>28,3</td>\n",
       "      <td>0</td>\n",
       "      <td>0.0</td>\n",
       "      <td>28.900</td>\n",
       "    </tr>\n",
       "  </tbody>\n",
       "</table>\n",
       "</div>"
      ],
      "text/plain": [
       "         Data Temperatura Media (C) Temperatura Minima (C)  \\\n",
       "0  2015-01-01                  27,3                   23,9   \n",
       "1  2015-01-02                 27,02                   24,5   \n",
       "2  2015-01-03                 24,82                   22,4   \n",
       "3  2015-01-04                 23,98                   21,5   \n",
       "4  2015-01-05                 23,82                     21   \n",
       "\n",
       "  Temperatura Maxima (C) Precipitacao (mm)  Final de Semana  \\\n",
       "0                   32,5                 0              0.0   \n",
       "1                   33,5                 0              0.0   \n",
       "2                   29,9                 0              1.0   \n",
       "3                   28,6               1,2              1.0   \n",
       "4                   28,3                 0              0.0   \n",
       "\n",
       "   Consumo de cerveja (litros)  \n",
       "0                       25.461  \n",
       "1                       28.972  \n",
       "2                       30.814  \n",
       "3                       29.799  \n",
       "4                       28.900  "
      ]
     },
     "execution_count": 3,
     "metadata": {},
     "output_type": "execute_result"
    }
   ],
   "source": [
    "df.head()\n",
    "#df.info()"
   ]
  },
  {
   "cell_type": "code",
   "execution_count": 4,
   "metadata": {},
   "outputs": [],
   "source": [
    "df_comma  = pd.read_csv('Consumo_cerveja.csv', decimal =',', parse_dates=['Data'])"
   ]
  },
  {
   "cell_type": "code",
   "execution_count": 7,
   "metadata": {},
   "outputs": [],
   "source": [
    "df_comma['Consumo de cerveja (litros)'] = pd.to_numeric(df_comma['Consumo de cerveja (litros)'])"
   ]
  },
  {
   "cell_type": "code",
   "execution_count": 12,
   "metadata": {},
   "outputs": [],
   "source": [
    "df = df_comma"
   ]
  },
  {
   "cell_type": "code",
   "execution_count": 14,
   "metadata": {},
   "outputs": [],
   "source": [
    "df.drop('Data',inplace=True,  axis=1)"
   ]
  },
  {
   "cell_type": "markdown",
   "metadata": {},
   "source": [
    "### Small Data Cleaning Tasks:\n",
    "- Drop Date\n",
    "- convert all the columns to numeric (replace ',' with '.')\n",
    "- rename columns to be `name = ['temp-median', 'temp-min', 'temp-max', 'rain', 'finals-week', 'target']`"
   ]
  },
  {
   "cell_type": "code",
   "execution_count": 15,
   "metadata": {},
   "outputs": [],
   "source": [
    "# clean data here\n",
    "name = ['temp-median', 'temp-min', 'temp-max', 'rain', 'weekends', 'target']"
   ]
  },
  {
   "cell_type": "code",
   "execution_count": 16,
   "metadata": {},
   "outputs": [],
   "source": [
    "df = df_comma"
   ]
  },
  {
   "cell_type": "code",
   "execution_count": 17,
   "metadata": {},
   "outputs": [],
   "source": [
    "df.columns = name"
   ]
  },
  {
   "cell_type": "code",
   "execution_count": 18,
   "metadata": {},
   "outputs": [
    {
     "name": "stdout",
     "output_type": "stream",
     "text": [
      "<class 'pandas.core.frame.DataFrame'>\n",
      "RangeIndex: 941 entries, 0 to 940\n",
      "Data columns (total 6 columns):\n",
      "temp-median    365 non-null float64\n",
      "temp-min       365 non-null float64\n",
      "temp-max       365 non-null float64\n",
      "rain           365 non-null float64\n",
      "weekends       365 non-null float64\n",
      "target         365 non-null float64\n",
      "dtypes: float64(6)\n",
      "memory usage: 44.2 KB\n"
     ]
    },
    {
     "data": {
      "text/html": [
       "<div>\n",
       "<style scoped>\n",
       "    .dataframe tbody tr th:only-of-type {\n",
       "        vertical-align: middle;\n",
       "    }\n",
       "\n",
       "    .dataframe tbody tr th {\n",
       "        vertical-align: top;\n",
       "    }\n",
       "\n",
       "    .dataframe thead th {\n",
       "        text-align: right;\n",
       "    }\n",
       "</style>\n",
       "<table border=\"1\" class=\"dataframe\">\n",
       "  <thead>\n",
       "    <tr style=\"text-align: right;\">\n",
       "      <th></th>\n",
       "      <th>temp-median</th>\n",
       "      <th>temp-min</th>\n",
       "      <th>temp-max</th>\n",
       "      <th>rain</th>\n",
       "      <th>weekends</th>\n",
       "      <th>target</th>\n",
       "    </tr>\n",
       "  </thead>\n",
       "  <tbody>\n",
       "    <tr>\n",
       "      <th>count</th>\n",
       "      <td>365.000000</td>\n",
       "      <td>365.000000</td>\n",
       "      <td>365.000000</td>\n",
       "      <td>365.000000</td>\n",
       "      <td>365.000000</td>\n",
       "      <td>365.000000</td>\n",
       "    </tr>\n",
       "    <tr>\n",
       "      <th>mean</th>\n",
       "      <td>21.226356</td>\n",
       "      <td>17.461370</td>\n",
       "      <td>26.611507</td>\n",
       "      <td>5.196712</td>\n",
       "      <td>0.284932</td>\n",
       "      <td>25.401367</td>\n",
       "    </tr>\n",
       "    <tr>\n",
       "      <th>std</th>\n",
       "      <td>3.180108</td>\n",
       "      <td>2.826185</td>\n",
       "      <td>4.317366</td>\n",
       "      <td>12.417844</td>\n",
       "      <td>0.452001</td>\n",
       "      <td>4.399143</td>\n",
       "    </tr>\n",
       "    <tr>\n",
       "      <th>min</th>\n",
       "      <td>12.900000</td>\n",
       "      <td>10.600000</td>\n",
       "      <td>14.500000</td>\n",
       "      <td>0.000000</td>\n",
       "      <td>0.000000</td>\n",
       "      <td>14.343000</td>\n",
       "    </tr>\n",
       "    <tr>\n",
       "      <th>25%</th>\n",
       "      <td>19.020000</td>\n",
       "      <td>15.300000</td>\n",
       "      <td>23.800000</td>\n",
       "      <td>0.000000</td>\n",
       "      <td>0.000000</td>\n",
       "      <td>22.008000</td>\n",
       "    </tr>\n",
       "    <tr>\n",
       "      <th>50%</th>\n",
       "      <td>21.380000</td>\n",
       "      <td>17.900000</td>\n",
       "      <td>26.900000</td>\n",
       "      <td>0.000000</td>\n",
       "      <td>0.000000</td>\n",
       "      <td>24.867000</td>\n",
       "    </tr>\n",
       "    <tr>\n",
       "      <th>75%</th>\n",
       "      <td>23.280000</td>\n",
       "      <td>19.600000</td>\n",
       "      <td>29.400000</td>\n",
       "      <td>3.200000</td>\n",
       "      <td>1.000000</td>\n",
       "      <td>28.631000</td>\n",
       "    </tr>\n",
       "    <tr>\n",
       "      <th>max</th>\n",
       "      <td>28.860000</td>\n",
       "      <td>24.500000</td>\n",
       "      <td>36.500000</td>\n",
       "      <td>94.800000</td>\n",
       "      <td>1.000000</td>\n",
       "      <td>37.937000</td>\n",
       "    </tr>\n",
       "  </tbody>\n",
       "</table>\n",
       "</div>"
      ],
      "text/plain": [
       "       temp-median    temp-min    temp-max        rain    weekends      target\n",
       "count   365.000000  365.000000  365.000000  365.000000  365.000000  365.000000\n",
       "mean     21.226356   17.461370   26.611507    5.196712    0.284932   25.401367\n",
       "std       3.180108    2.826185    4.317366   12.417844    0.452001    4.399143\n",
       "min      12.900000   10.600000   14.500000    0.000000    0.000000   14.343000\n",
       "25%      19.020000   15.300000   23.800000    0.000000    0.000000   22.008000\n",
       "50%      21.380000   17.900000   26.900000    0.000000    0.000000   24.867000\n",
       "75%      23.280000   19.600000   29.400000    3.200000    1.000000   28.631000\n",
       "max      28.860000   24.500000   36.500000   94.800000    1.000000   37.937000"
      ]
     },
     "execution_count": 18,
     "metadata": {},
     "output_type": "execute_result"
    }
   ],
   "source": [
    "df.info()\n",
    "df.describe()"
   ]
  },
  {
   "cell_type": "markdown",
   "metadata": {},
   "source": [
    "**Check** for NaNs"
   ]
  },
  {
   "cell_type": "code",
   "execution_count": 19,
   "metadata": {},
   "outputs": [
    {
     "data": {
      "text/plain": [
       "temp-median    576\n",
       "temp-min       576\n",
       "temp-max       576\n",
       "rain           576\n",
       "weekends       576\n",
       "target         576\n",
       "dtype: int64"
      ]
     },
     "execution_count": 19,
     "metadata": {},
     "output_type": "execute_result"
    }
   ],
   "source": [
    "df.isna().sum()"
   ]
  },
  {
   "cell_type": "code",
   "execution_count": 20,
   "metadata": {},
   "outputs": [],
   "source": [
    "df.dropna(inplace=True)"
   ]
  },
  {
   "cell_type": "code",
   "execution_count": 21,
   "metadata": {},
   "outputs": [
    {
     "data": {
      "text/plain": [
       "(365, 6)"
      ]
     },
     "execution_count": 21,
     "metadata": {},
     "output_type": "execute_result"
    }
   ],
   "source": [
    "df.shape"
   ]
  },
  {
   "cell_type": "code",
   "execution_count": 22,
   "metadata": {},
   "outputs": [
    {
     "data": {
      "text/html": [
       "<div>\n",
       "<style scoped>\n",
       "    .dataframe tbody tr th:only-of-type {\n",
       "        vertical-align: middle;\n",
       "    }\n",
       "\n",
       "    .dataframe tbody tr th {\n",
       "        vertical-align: top;\n",
       "    }\n",
       "\n",
       "    .dataframe thead th {\n",
       "        text-align: right;\n",
       "    }\n",
       "</style>\n",
       "<table border=\"1\" class=\"dataframe\">\n",
       "  <thead>\n",
       "    <tr style=\"text-align: right;\">\n",
       "      <th></th>\n",
       "      <th>temp-median</th>\n",
       "      <th>temp-min</th>\n",
       "      <th>temp-max</th>\n",
       "      <th>rain</th>\n",
       "      <th>weekends</th>\n",
       "      <th>target</th>\n",
       "    </tr>\n",
       "  </thead>\n",
       "  <tbody>\n",
       "    <tr>\n",
       "      <th>360</th>\n",
       "      <td>24.00</td>\n",
       "      <td>21.1</td>\n",
       "      <td>28.2</td>\n",
       "      <td>13.6</td>\n",
       "      <td>1.0</td>\n",
       "      <td>32.307</td>\n",
       "    </tr>\n",
       "    <tr>\n",
       "      <th>361</th>\n",
       "      <td>22.64</td>\n",
       "      <td>21.1</td>\n",
       "      <td>26.7</td>\n",
       "      <td>0.0</td>\n",
       "      <td>0.0</td>\n",
       "      <td>26.095</td>\n",
       "    </tr>\n",
       "    <tr>\n",
       "      <th>362</th>\n",
       "      <td>21.68</td>\n",
       "      <td>20.3</td>\n",
       "      <td>24.1</td>\n",
       "      <td>10.3</td>\n",
       "      <td>0.0</td>\n",
       "      <td>22.309</td>\n",
       "    </tr>\n",
       "    <tr>\n",
       "      <th>363</th>\n",
       "      <td>21.38</td>\n",
       "      <td>19.3</td>\n",
       "      <td>22.4</td>\n",
       "      <td>6.3</td>\n",
       "      <td>0.0</td>\n",
       "      <td>20.467</td>\n",
       "    </tr>\n",
       "    <tr>\n",
       "      <th>364</th>\n",
       "      <td>24.76</td>\n",
       "      <td>20.2</td>\n",
       "      <td>29.0</td>\n",
       "      <td>0.0</td>\n",
       "      <td>0.0</td>\n",
       "      <td>22.446</td>\n",
       "    </tr>\n",
       "  </tbody>\n",
       "</table>\n",
       "</div>"
      ],
      "text/plain": [
       "     temp-median  temp-min  temp-max  rain  weekends  target\n",
       "360        24.00      21.1      28.2  13.6       1.0  32.307\n",
       "361        22.64      21.1      26.7   0.0       0.0  26.095\n",
       "362        21.68      20.3      24.1  10.3       0.0  22.309\n",
       "363        21.38      19.3      22.4   6.3       0.0  20.467\n",
       "364        24.76      20.2      29.0   0.0       0.0  22.446"
      ]
     },
     "execution_count": 22,
     "metadata": {},
     "output_type": "execute_result"
    }
   ],
   "source": [
    "df.tail()"
   ]
  },
  {
   "cell_type": "markdown",
   "metadata": {},
   "source": [
    "### Everyone write an example of an equation for our multiple regression\n",
    "\n",
    "The main idea here is pretty simple. Whereas, in simple linear regression we took our dependent variable to be a function only of a single independent variable, here we'll be taking the dependent variable to be a function of multiple independent variables.\n",
    "\n",
    "<img src=\"https://miro.medium.com/max/1400/1*d0icRnPHWjHSNXxuoYT5Vg.png\" width=450 />\n",
    "\n",
    "Our regression equation, then, instead of looking like $\\hat{y} = mx + b$, will now look like:\n",
    "\n",
    "$\\hat{y} = \\hat{\\beta}_0 + \\hat{\\beta}_1x_1 + ... + \\hat{\\beta}_nx_n$.\n",
    "\n",
    "Remember that the hats ( $\\hat{}$ ) indicate parameters that are estimated.\n",
    "\n",
    "$$ \\hat y = \\hat\\beta_0 + \\hat\\beta_1 x_1 + \\hat\\beta_2 x_2 +\\ldots + \\hat\\beta_n x_n $$ \n",
    "\n",
    "What would the formula be with real values?\n",
    "\n",
    "**Send your equations to me via zoom or slack and I will paste them into the notebook**\n",
    "\n",
    "Equations here\n",
    "\n",
    ">"
   ]
  },
  {
   "cell_type": "markdown",
   "metadata": {},
   "source": [
    "![statsmodels](https://www.statsmodels.org/stable/_static/statsmodels_hybi_banner.png)\n",
    "\n",
    "Okay, now here's how you can use format and join to make the formula with **code**:"
   ]
  },
  {
   "cell_type": "code",
   "execution_count": 23,
   "metadata": {},
   "outputs": [
    {
     "data": {
      "text/plain": [
       "'target~temp-median+temp-min+temp-max+rain+weekends'"
      ]
     },
     "execution_count": 23,
     "metadata": {},
     "output_type": "execute_result"
    }
   ],
   "source": [
    "formula = 'target~{}'.format(\"+\".join(df.columns[:-1]))\n",
    "formula"
   ]
  },
  {
   "cell_type": "code",
   "execution_count": 24,
   "metadata": {},
   "outputs": [],
   "source": [
    "model = sm.OLS(df.target, df.drop('target', axis=1)).fit()"
   ]
  },
  {
   "cell_type": "code",
   "execution_count": 25,
   "metadata": {},
   "outputs": [
    {
     "data": {
      "text/html": [
       "<table class=\"simpletable\">\n",
       "<caption>OLS Regression Results</caption>\n",
       "<tr>\n",
       "  <th>Dep. Variable:</th>         <td>target</td>      <th>  R-squared:         </th> <td>   0.991</td>\n",
       "</tr>\n",
       "<tr>\n",
       "  <th>Model:</th>                   <td>OLS</td>       <th>  Adj. R-squared:    </th> <td>   0.991</td>\n",
       "</tr>\n",
       "<tr>\n",
       "  <th>Method:</th>             <td>Least Squares</td>  <th>  F-statistic:       </th> <td>   7620.</td>\n",
       "</tr>\n",
       "<tr>\n",
       "  <th>Date:</th>             <td>Sat, 20 Jul 2019</td> <th>  Prob (F-statistic):</th>  <td>  0.00</td> \n",
       "</tr>\n",
       "<tr>\n",
       "  <th>Time:</th>                 <td>18:28:13</td>     <th>  Log-Likelihood:    </th> <td> -851.48</td>\n",
       "</tr>\n",
       "<tr>\n",
       "  <th>No. Observations:</th>      <td>   365</td>      <th>  AIC:               </th> <td>   1713.</td>\n",
       "</tr>\n",
       "<tr>\n",
       "  <th>Df Residuals:</th>          <td>   360</td>      <th>  BIC:               </th> <td>   1732.</td>\n",
       "</tr>\n",
       "<tr>\n",
       "  <th>Df Model:</th>              <td>     5</td>      <th>                     </th>     <td> </td>   \n",
       "</tr>\n",
       "<tr>\n",
       "  <th>Covariance Type:</th>      <td>nonrobust</td>    <th>                     </th>     <td> </td>   \n",
       "</tr>\n",
       "</table>\n",
       "<table class=\"simpletable\">\n",
       "<tr>\n",
       "       <td></td>          <th>coef</th>     <th>std err</th>      <th>t</th>      <th>P>|t|</th>  <th>[0.025</th>    <th>0.975]</th>  \n",
       "</tr>\n",
       "<tr>\n",
       "  <th>temp-median</th> <td>    0.1192</td> <td>    0.202</td> <td>    0.590</td> <td> 0.555</td> <td>   -0.278</td> <td>    0.516</td>\n",
       "</tr>\n",
       "<tr>\n",
       "  <th>temp-min</th>    <td>    0.1146</td> <td>    0.117</td> <td>    0.977</td> <td> 0.329</td> <td>   -0.116</td> <td>    0.345</td>\n",
       "</tr>\n",
       "<tr>\n",
       "  <th>temp-max</th>    <td>    0.7313</td> <td>    0.102</td> <td>    7.179</td> <td> 0.000</td> <td>    0.531</td> <td>    0.932</td>\n",
       "</tr>\n",
       "<tr>\n",
       "  <th>rain</th>        <td>   -0.0552</td> <td>    0.011</td> <td>   -5.112</td> <td> 0.000</td> <td>   -0.076</td> <td>   -0.034</td>\n",
       "</tr>\n",
       "<tr>\n",
       "  <th>weekends</th>    <td>    5.4816</td> <td>    0.289</td> <td>   18.989</td> <td> 0.000</td> <td>    4.914</td> <td>    6.049</td>\n",
       "</tr>\n",
       "</table>\n",
       "<table class=\"simpletable\">\n",
       "<tr>\n",
       "  <th>Omnibus:</th>       <td>20.752</td> <th>  Durbin-Watson:     </th> <td>   1.721</td>\n",
       "</tr>\n",
       "<tr>\n",
       "  <th>Prob(Omnibus):</th> <td> 0.000</td> <th>  Jarque-Bera (JB):  </th> <td>   9.729</td>\n",
       "</tr>\n",
       "<tr>\n",
       "  <th>Skew:</th>          <td>-0.175</td> <th>  Prob(JB):          </th> <td> 0.00771</td>\n",
       "</tr>\n",
       "<tr>\n",
       "  <th>Kurtosis:</th>      <td> 2.281</td> <th>  Cond. No.          </th> <td>    85.8</td>\n",
       "</tr>\n",
       "</table><br/><br/>Warnings:<br/>[1] Standard Errors assume that the covariance matrix of the errors is correctly specified."
      ],
      "text/plain": [
       "<class 'statsmodels.iolib.summary.Summary'>\n",
       "\"\"\"\n",
       "                            OLS Regression Results                            \n",
       "==============================================================================\n",
       "Dep. Variable:                 target   R-squared:                       0.991\n",
       "Model:                            OLS   Adj. R-squared:                  0.991\n",
       "Method:                 Least Squares   F-statistic:                     7620.\n",
       "Date:                Sat, 20 Jul 2019   Prob (F-statistic):               0.00\n",
       "Time:                        18:28:13   Log-Likelihood:                -851.48\n",
       "No. Observations:                 365   AIC:                             1713.\n",
       "Df Residuals:                     360   BIC:                             1732.\n",
       "Df Model:                           5                                         \n",
       "Covariance Type:            nonrobust                                         \n",
       "===============================================================================\n",
       "                  coef    std err          t      P>|t|      [0.025      0.975]\n",
       "-------------------------------------------------------------------------------\n",
       "temp-median     0.1192      0.202      0.590      0.555      -0.278       0.516\n",
       "temp-min        0.1146      0.117      0.977      0.329      -0.116       0.345\n",
       "temp-max        0.7313      0.102      7.179      0.000       0.531       0.932\n",
       "rain           -0.0552      0.011     -5.112      0.000      -0.076      -0.034\n",
       "weekends        5.4816      0.289     18.989      0.000       4.914       6.049\n",
       "==============================================================================\n",
       "Omnibus:                       20.752   Durbin-Watson:                   1.721\n",
       "Prob(Omnibus):                  0.000   Jarque-Bera (JB):                9.729\n",
       "Skew:                          -0.175   Prob(JB):                      0.00771\n",
       "Kurtosis:                       2.281   Cond. No.                         85.8\n",
       "==============================================================================\n",
       "\n",
       "Warnings:\n",
       "[1] Standard Errors assume that the covariance matrix of the errors is correctly specified.\n",
       "\"\"\""
      ]
     },
     "execution_count": 25,
     "metadata": {},
     "output_type": "execute_result"
    }
   ],
   "source": [
    "model.summary()"
   ]
  },
  {
   "cell_type": "markdown",
   "metadata": {},
   "source": [
    "### What's the actual multivariable  linear regression equation with the coefficients?\n",
    "\n",
    "$$ \\hat y = \\hat\\beta_0 + \\hat\\beta_1 x_1 + \\hat\\beta_2 x_2 +\\ldots + \\hat\\beta_n x_n $$ "
   ]
  },
  {
   "cell_type": "markdown",
   "metadata": {},
   "source": [
    "#### Step 3: Assess the model fit\n",
    "Demonstrate and Apply:\n",
    "\n",
    "**Discussion:**\n",
    "\n",
    "In groups of 2 or 3 write a synopsis of the following summary\n",
    "\n",
    "* What can you say about the coefficients?\n",
    "\n",
    "* What do the p-values tell us?\n",
    "\n",
    "* What does R^2 represent\n",
    "\n",
    "* What other insights do you notice?\n",
    "\n",
    "\n"
   ]
  },
  {
   "cell_type": "markdown",
   "metadata": {},
   "source": [
    "\n",
    "#### Step 4: Validate the model \n",
    "![scikit](https://cdn-images-1.medium.com/max/1200/1*-FHtcdQljtGKQGm77uDIyQ.png)\n",
    "- Build LinReg Model with Scikit-Learn\n",
    "- Check some of the linear regression assumptions\n"
   ]
  },
  {
   "cell_type": "code",
   "execution_count": 26,
   "metadata": {},
   "outputs": [],
   "source": [
    "linreg = LinearRegression()"
   ]
  },
  {
   "cell_type": "code",
   "execution_count": 27,
   "metadata": {},
   "outputs": [],
   "source": [
    "X = df.drop(\"target\", axis=1)\n",
    "y = df.target"
   ]
  },
  {
   "cell_type": "code",
   "execution_count": 28,
   "metadata": {},
   "outputs": [],
   "source": [
    "X_train, X_test, y_train, y_test = train_test_split(X, y, test_size=0.20)"
   ]
  },
  {
   "cell_type": "code",
   "execution_count": 29,
   "metadata": {},
   "outputs": [
    {
     "data": {
      "text/plain": [
       "LinearRegression(copy_X=True, fit_intercept=True, n_jobs=None,\n",
       "         normalize=False)"
      ]
     },
     "execution_count": 29,
     "metadata": {},
     "output_type": "execute_result"
    }
   ],
   "source": [
    "# use fit to form model\n",
    "linreg.fit(X_train, y_train)"
   ]
  },
  {
   "cell_type": "code",
   "execution_count": 30,
   "metadata": {},
   "outputs": [
    {
     "data": {
      "text/plain": [
       "0.7051668717006755"
      ]
     },
     "execution_count": 30,
     "metadata": {},
     "output_type": "execute_result"
    }
   ],
   "source": [
    "# gives you r squared of the model\n",
    "linreg.score(X_test, y_test)"
   ]
  },
  {
   "cell_type": "markdown",
   "metadata": {},
   "source": [
    "`score` here returns the R^2. \n",
    "\n",
    "How does it differ from when you use the whole dataset?"
   ]
  },
  {
   "cell_type": "markdown",
   "metadata": {},
   "source": [
    "### Integration:\n",
    "\n",
    "Repeat this process for concrete mixture. the documentation can be found [here](http://archive.ics.uci.edu/ml/datasets/concrete+compressive+strength)\n",
    "![test](building-construction-building-site-constructing-small.jpg)"
   ]
  },
  {
   "cell_type": "code",
   "execution_count": 31,
   "metadata": {},
   "outputs": [],
   "source": [
    "df2 = pd.read_excel('http://archive.ics.uci.edu/ml/machine-learning-databases/concrete/compressive/Concrete_Data.xls')"
   ]
  },
  {
   "cell_type": "code",
   "execution_count": 32,
   "metadata": {},
   "outputs": [
    {
     "name": "stdout",
     "output_type": "stream",
     "text": [
      "<class 'pandas.core.frame.DataFrame'>\n",
      "RangeIndex: 1030 entries, 0 to 1029\n",
      "Data columns (total 9 columns):\n",
      "Cement (component 1)(kg in a m^3 mixture)                1030 non-null float64\n",
      "Blast Furnace Slag (component 2)(kg in a m^3 mixture)    1030 non-null float64\n",
      "Fly Ash (component 3)(kg in a m^3 mixture)               1030 non-null float64\n",
      "Water  (component 4)(kg in a m^3 mixture)                1030 non-null float64\n",
      "Superplasticizer (component 5)(kg in a m^3 mixture)      1030 non-null float64\n",
      "Coarse Aggregate  (component 6)(kg in a m^3 mixture)     1030 non-null float64\n",
      "Fine Aggregate (component 7)(kg in a m^3 mixture)        1030 non-null float64\n",
      "Age (day)                                                1030 non-null int64\n",
      "Concrete compressive strength(MPa, megapascals)          1030 non-null float64\n",
      "dtypes: float64(8), int64(1)\n",
      "memory usage: 72.5 KB\n"
     ]
    }
   ],
   "source": [
    "df2.head()\n",
    "df2.info()"
   ]
  },
  {
   "cell_type": "markdown",
   "metadata": {},
   "source": [
    "### Assessment"
   ]
  },
  {
   "cell_type": "markdown",
   "metadata": {},
   "source": [
    "### Reflection"
   ]
  },
  {
   "cell_type": "markdown",
   "metadata": {},
   "source": [
    "### Resources\n",
    "\n",
    "Resources\n",
    "https://towardsdatascience.com/linear-regression-detailed-view-ea73175f6e86\n",
    "\n",
    "Full code implementation of Linear Regression\n",
    "Full code — https://github.com/SSaishruthi/Linear_Regression_Detailed_Implementation\n",
    "\n",
    "Multiple regression explained\n",
    "https://www.statisticssolutions.com/what-is-multiple-linear-regression/\n"
   ]
  },
  {
   "cell_type": "code",
   "execution_count": null,
   "metadata": {},
   "outputs": [],
   "source": []
  },
  {
   "cell_type": "code",
   "execution_count": null,
   "metadata": {},
   "outputs": [],
   "source": []
  }
 ],
 "metadata": {
  "kernelspec": {
   "display_name": "Python 3",
   "language": "python",
   "name": "python3"
  },
  "language_info": {
   "codemirror_mode": {
    "name": "ipython",
    "version": 3
   },
   "file_extension": ".py",
   "mimetype": "text/x-python",
   "name": "python",
   "nbconvert_exporter": "python",
   "pygments_lexer": "ipython3",
   "version": "3.7.3"
  }
 },
 "nbformat": 4,
 "nbformat_minor": 2
}

{
 "cells": [
  {
   "cell_type": "markdown",
   "metadata": {
    "slideshow": {
     "slide_type": "slide"
    }
   },
   "source": [
    "![sql](img/sql-logo.jpg)\n",
    "\n",
    "# A beginner's guide to databases, SQL, & using them with `pandas`"
   ]
  },
  {
   "cell_type": "markdown",
   "metadata": {
    "slideshow": {
     "slide_type": "slide"
    }
   },
   "source": [
    "**Scenario:** You are a data analyst for the Homeland Security, trying to create reports on the active airports world wide. The data you need to access is in a SQL database. YOu need to be able to query for the data in a database!"
   ]
  },
  {
   "cell_type": "markdown",
   "metadata": {
    "slideshow": {
     "slide_type": "slide"
    }
   },
   "source": [
    "## Learning goals:\n",
    "- Goal 1: Summarize the use case for sql in the data science skill set\n",
    "- Goal 2: Define key sql terminology\n",
    "- Goal 3: Get information about DB schema and table structure\n",
    "- Goal 4: Use basic SQL commands:\n",
    "    - Construct SQL queries\n",
    "    - Use JOIN to merge tables along logical columns\n",
    "    - Grouping Data with SQL\n",
    "- Goal 5: Query data from pandas dataframes using SQL\n",
    "- Goal 6: Convert SQL to pandas"
   ]
  },
  {
   "cell_type": "markdown",
   "metadata": {
    "slideshow": {
     "slide_type": "slide"
    }
   },
   "source": [
    "## Goal 1: Summarize\n",
    "\n",
    "[Netflix has a great article](https://medium.com/netflix-techblog/notebook-innovation-591ee3221233) describing three different data roles at their company, their different needs, and their toolsets.\n",
    "\n",
    "![netflix](img/netflix-data-roles.jpeg)\n",
    "\n",
    "Examining that graphic, SQL shows up as one of the tools of the _Data Engineer_ "
   ]
  },
  {
   "cell_type": "markdown",
   "metadata": {
    "slideshow": {
     "slide_type": "slide"
    }
   },
   "source": [
    "Data Engineers provide the essential data architecture services that make data science possible.\n",
    "\n",
    "![hierarchy](img/ai-hierachy.png)\n",
    "\n",
    "[Source: Monica Rogati’s fantastic Medium post “The AI Hierarchy of Needs”\n",
    "](https://hackernoon.com/the-ai-hierarchy-of-needs-18f111fcc007)"
   ]
  },
  {
   "cell_type": "markdown",
   "metadata": {
    "slideshow": {
     "slide_type": "slide"
    }
   },
   "source": [
    "![etl](img/etl.png)\n",
    "\n",
    "[img source: Jeff Hammerbacher’s slide from UC Berkeley CS 194 course ](https://bcourses.berkeley.edu/courses/1377158/pages/cs-194-16-introduction-to-data-science-fall-2015)"
   ]
  },
  {
   "cell_type": "markdown",
   "metadata": {
    "slideshow": {
     "slide_type": "slide"
    }
   },
   "source": [
    "### What is a Relational Database? \n",
    "\n",
    "![rdb](img/relational-dbms-model.png)\n",
    "[reference for image ](https://www.studytonight.com/dbms/database-model.php)"
   ]
  },
  {
   "cell_type": "markdown",
   "metadata": {
    "slideshow": {
     "slide_type": "slide"
    }
   },
   "source": [
    "### POPULAR RDBMS\n",
    "\n",
    "- SQLite\n",
    "- MySQL\n",
    "- PostgreSql\n",
    "- Oracle DB\n",
    "- SQL Server"
   ]
  },
  {
   "cell_type": "markdown",
   "metadata": {
    "slideshow": {
     "slide_type": "slide"
    }
   },
   "source": [
    "***\n",
    "## Goal 2: Database terminology\n",
    "\n",
    "### Relational Database Schema\n",
    "\n",
    "![schema](img/MySQL_Schema_Music_Example.png)\n",
    "\n",
    "[source of image](https://database.guide/what-is-a-database-schema/)"
   ]
  },
  {
   "cell_type": "markdown",
   "metadata": {
    "slideshow": {
     "slide_type": "slide"
    }
   },
   "source": [
    "### Table columns view\n",
    "![table example](img/columns.png)"
   ]
  },
  {
   "cell_type": "markdown",
   "metadata": {
    "slideshow": {
     "slide_type": "slide"
    }
   },
   "source": [
    "### Terminology\n",
    "\n",
    "- Schema\n",
    "- Primary Key\n",
    "- Foreign Key\n",
    "- Structured queries\n",
    "- Views"
   ]
  },
  {
   "cell_type": "markdown",
   "metadata": {
    "slideshow": {
     "slide_type": "slide"
    }
   },
   "source": [
    "***\n",
    "### SQLite\n",
    "\n",
    "![sqlite](img/SQLite-Python.jpg)\n",
    "\n",
    "\"SQLite is a C library that provides a lightweight disk-based database that doesn’t require a separate server process and allows accessing the database using a nonstandard variant of the SQL query language. Some applications can use SQLite for internal data storage. It’s also possible to prototype an application using SQLite and then port the code to a larger database such as PostgreSQL or Oracle.\" - [sqlite documentation](https://docs.python.org/2/library/sqlite3.html)\n",
    "\n"
   ]
  },
  {
   "cell_type": "markdown",
   "metadata": {
    "slideshow": {
     "slide_type": "slide"
    }
   },
   "source": [
    "## But what about connecting to database servers?\n",
    "\n",
    "To connect to an Oracle database server there is a different package, `cx_Oracle`. The documentation for that package is [here](https://oracle.github.io/python-cx_Oracle/)"
   ]
  },
  {
   "cell_type": "markdown",
   "metadata": {
    "slideshow": {
     "slide_type": "slide"
    }
   },
   "source": [
    "***\n",
    "## Goal 3: Get going with sqlite!"
   ]
  },
  {
   "cell_type": "code",
   "execution_count": 1,
   "metadata": {
    "slideshow": {
     "slide_type": "fragment"
    }
   },
   "outputs": [],
   "source": [
    "import sqlite3"
   ]
  },
  {
   "cell_type": "markdown",
   "metadata": {
    "slideshow": {
     "slide_type": "slide"
    }
   },
   "source": [
    "#### Load a DB object with `connect` and `cursor`"
   ]
  },
  {
   "cell_type": "code",
   "execution_count": 2,
   "metadata": {
    "slideshow": {
     "slide_type": "fragment"
    }
   },
   "outputs": [],
   "source": [
    "con = sqlite3.connect('flights.db')\n",
    "cursor = con.cursor()"
   ]
  },
  {
   "cell_type": "markdown",
   "metadata": {
    "slideshow": {
     "slide_type": "slide"
    }
   },
   "source": [
    "#### Use sqlite_master to find all the tables in the schema\n",
    "Get the schema of a database from a db in sqlite"
   ]
  },
  {
   "cell_type": "code",
   "execution_count": 3,
   "metadata": {},
   "outputs": [
    {
     "name": "stdout",
     "output_type": "stream",
     "text": [
      "[('airports',), ('airlines',), ('routes',)]\n"
     ]
    }
   ],
   "source": [
    "cursor.execute(\"SELECT name FROM sqlite_master WHERE type='table';\")\n",
    "print(cursor.fetchall())"
   ]
  },
  {
   "cell_type": "markdown",
   "metadata": {
    "slideshow": {
     "slide_type": "slide"
    }
   },
   "source": [
    "#### Get information about one table\n",
    "\n",
    "**A note about** `execute`<br>\n",
    "Each time you use it, you reset the value of cursor"
   ]
  },
  {
   "cell_type": "code",
   "execution_count": 4,
   "metadata": {},
   "outputs": [
    {
     "data": {
      "text/plain": [
       "<sqlite3.Cursor at 0x1088d8e30>"
      ]
     },
     "execution_count": 4,
     "metadata": {},
     "output_type": "execute_result"
    }
   ],
   "source": [
    "cursor.execute(\"SELECT * FROM airports\")"
   ]
  },
  {
   "cell_type": "markdown",
   "metadata": {
    "slideshow": {
     "slide_type": "slide"
    }
   },
   "source": [
    "#### Use description"
   ]
  },
  {
   "cell_type": "code",
   "execution_count": 5,
   "metadata": {
    "slideshow": {
     "slide_type": "fragment"
    }
   },
   "outputs": [
    {
     "data": {
      "text/plain": [
       "(('index', None, None, None, None, None, None),\n",
       " ('id', None, None, None, None, None, None),\n",
       " ('name', None, None, None, None, None, None),\n",
       " ('city', None, None, None, None, None, None),\n",
       " ('country', None, None, None, None, None, None),\n",
       " ('code', None, None, None, None, None, None),\n",
       " ('icao', None, None, None, None, None, None),\n",
       " ('latitude', None, None, None, None, None, None),\n",
       " ('longitude', None, None, None, None, None, None),\n",
       " ('altitude', None, None, None, None, None, None),\n",
       " ('offset', None, None, None, None, None, None),\n",
       " ('dst', None, None, None, None, None, None),\n",
       " ('timezone', None, None, None, None, None, None))"
      ]
     },
     "execution_count": 5,
     "metadata": {},
     "output_type": "execute_result"
    }
   ],
   "source": [
    "cursor.description"
   ]
  },
  {
   "cell_type": "markdown",
   "metadata": {
    "slideshow": {
     "slide_type": "slide"
    }
   },
   "source": [
    "#### Or use `Pragma`\n",
    "`Pragma` tool [link here](https://www.sqlite.org/pragma.html#pragma_table_info)\n",
    "\n",
    "**output**<br>\n",
    "`(column id, column name, data type, whether or not the column can be NULL, and the default value for the column)`"
   ]
  },
  {
   "cell_type": "code",
   "execution_count": null,
   "metadata": {
    "slideshow": {
     "slide_type": "slide"
    }
   },
   "outputs": [],
   "source": [
    "cursor.execute(\"PRAGMA table_info(airports)\")\n",
    "info = cursor.fetchall()\n",
    "print(*info, sep = \"\\n\") "
   ]
  },
  {
   "cell_type": "markdown",
   "metadata": {
    "slideshow": {
     "slide_type": "slide"
    }
   },
   "source": [
    "#### Making fetch happen\n",
    "\n",
    "`.fetchall()` is how you get the query results out of the object.\n",
    "\n",
    "You can also `.fetchone()` or `.fetchmany()`"
   ]
  },
  {
   "cell_type": "markdown",
   "metadata": {
    "slideshow": {
     "slide_type": "slide"
    }
   },
   "source": [
    "**Task:** Get the descriptive data for airlines and routes tables"
   ]
  },
  {
   "cell_type": "code",
   "execution_count": null,
   "metadata": {},
   "outputs": [],
   "source": []
  },
  {
   "cell_type": "code",
   "execution_count": null,
   "metadata": {},
   "outputs": [],
   "source": []
  },
  {
   "cell_type": "markdown",
   "metadata": {
    "slideshow": {
     "slide_type": "slide"
    }
   },
   "source": [
    "***\n",
    "## Goal 4: Use basic SQL commands \n",
    "- Construct SQL queries\n",
    "- Use JOIN to merge tables along logical columns\n",
    "- Grouping Data with SQL"
   ]
  },
  {
   "cell_type": "markdown",
   "metadata": {
    "slideshow": {
     "slide_type": "slide"
    }
   },
   "source": [
    "### Construct SQL queries"
   ]
  },
  {
   "cell_type": "markdown",
   "metadata": {
    "slideshow": {
     "slide_type": "fragment"
    }
   },
   "source": [
    "**Select**"
   ]
  },
  {
   "cell_type": "markdown",
   "metadata": {
    "slideshow": {
     "slide_type": "fragment"
    }
   },
   "source": [
    "**From**"
   ]
  },
  {
   "cell_type": "markdown",
   "metadata": {
    "slideshow": {
     "slide_type": "fragment"
    }
   },
   "source": [
    "**Where**"
   ]
  },
  {
   "cell_type": "markdown",
   "metadata": {
    "slideshow": {
     "slide_type": "fragment"
    }
   },
   "source": [
    "**Order by**"
   ]
  },
  {
   "cell_type": "markdown",
   "metadata": {
    "slideshow": {
     "slide_type": "fragment"
    }
   },
   "source": [
    "**Limit**"
   ]
  },
  {
   "cell_type": "markdown",
   "metadata": {
    "slideshow": {
     "slide_type": "slide"
    }
   },
   "source": [
    "#### Options for each:"
   ]
  },
  {
   "cell_type": "markdown",
   "metadata": {
    "slideshow": {
     "slide_type": "fragment"
    }
   },
   "source": [
    "**Select**:  `distinct`, using `as` to rename columns, single number aggregates"
   ]
  },
  {
   "cell_type": "markdown",
   "metadata": {
    "slideshow": {
     "slide_type": "fragment"
    }
   },
   "source": [
    "**From:** also uses aliasing with `as`"
   ]
  },
  {
   "cell_type": "markdown",
   "metadata": {
    "slideshow": {
     "slide_type": "fragment"
    }
   },
   "source": [
    "**Where**: equals is only one `=`, `between`, `in`, wildcards `%`, `AND`, `OR`, `NOT`"
   ]
  },
  {
   "cell_type": "markdown",
   "metadata": {
    "slideshow": {
     "slide_type": "fragment"
    }
   },
   "source": [
    "**Order by**: `asc` and `desc`"
   ]
  },
  {
   "cell_type": "markdown",
   "metadata": {
    "slideshow": {
     "slide_type": "fragment"
    }
   },
   "source": [
    "**Limit**:  #"
   ]
  },
  {
   "cell_type": "code",
   "execution_count": null,
   "metadata": {
    "slideshow": {
     "slide_type": "skip"
    }
   },
   "outputs": [],
   "source": []
  },
  {
   "cell_type": "markdown",
   "metadata": {
    "slideshow": {
     "slide_type": "slide"
    }
   },
   "source": [
    "**Task**: \n",
    "- Select only active airlines in the UK from the airlines table\n",
    "- Select the unique list of countries with airports"
   ]
  },
  {
   "cell_type": "code",
   "execution_count": null,
   "metadata": {},
   "outputs": [],
   "source": []
  },
  {
   "cell_type": "markdown",
   "metadata": {
    "slideshow": {
     "slide_type": "slide"
    }
   },
   "source": [
    "### SQL Joins"
   ]
  },
  {
   "cell_type": "markdown",
   "metadata": {
    "slideshow": {
     "slide_type": "fragment"
    }
   },
   "source": [
    "SQL joins can be used to both **add** data to a table and **remove** data from a table. "
   ]
  },
  {
   "cell_type": "markdown",
   "metadata": {
    "slideshow": {
     "slide_type": "fragment"
    }
   },
   "source": [
    "![venn](img/venn.png)"
   ]
  },
  {
   "cell_type": "markdown",
   "metadata": {
    "slideshow": {
     "slide_type": "slide"
    }
   },
   "source": [
    "**Task** Write a query that will join the latitude and longitude data from the airports table to the information on the routes table"
   ]
  },
  {
   "cell_type": "code",
   "execution_count": null,
   "metadata": {
    "slideshow": {
     "slide_type": "skip"
    }
   },
   "outputs": [],
   "source": []
  },
  {
   "cell_type": "markdown",
   "metadata": {
    "slideshow": {
     "slide_type": "slide"
    }
   },
   "source": [
    "### Grouping statements\n",
    "\n",
    "Combines `select` and `group by` when you want aggregates by values"
   ]
  },
  {
   "cell_type": "markdown",
   "metadata": {
    "slideshow": {
     "slide_type": "fragment"
    }
   },
   "source": [
    "`select` `min(x)` ... `max()`, `sum()`, etc"
   ]
  },
  {
   "cell_type": "markdown",
   "metadata": {
    "slideshow": {
     "slide_type": "fragment"
    }
   },
   "source": [
    "`group by x`"
   ]
  },
  {
   "cell_type": "markdown",
   "metadata": {
    "slideshow": {
     "slide_type": "slide"
    }
   },
   "source": [
    "**Task**<br>\n",
    "- Which countries have the highest amount of active airports?\n",
    "- Which countries have the highest amount of inactive airports?\n",
    "- What about airports by timezones?"
   ]
  },
  {
   "cell_type": "code",
   "execution_count": null,
   "metadata": {
    "slideshow": {
     "slide_type": "skip"
    }
   },
   "outputs": [],
   "source": []
  },
  {
   "cell_type": "markdown",
   "metadata": {
    "slideshow": {
     "slide_type": "slide"
    }
   },
   "source": [
    "## Goal 5: Using sql within pandas to filter\n",
    "\n",
    "`.query()`\n",
    "\n",
    "[query documentation](https://pandas.pydata.org/pandas-docs/stable/reference/api/pandas.DataFrame.query.html)"
   ]
  },
  {
   "cell_type": "code",
   "execution_count": 6,
   "metadata": {
    "slideshow": {
     "slide_type": "slide"
    }
   },
   "outputs": [
    {
     "data": {
      "text/plain": [
       "Animal ID           object\n",
       "Name                object\n",
       "DateTime            object\n",
       "MonthYear           object\n",
       "Date of Birth       object\n",
       "Outcome Type        object\n",
       "Outcome Subtype     object\n",
       "Animal Type         object\n",
       "Sex upon Outcome    object\n",
       "Age upon Outcome    object\n",
       "Breed               object\n",
       "Color               object\n",
       "dtype: object"
      ]
     },
     "execution_count": 6,
     "metadata": {},
     "output_type": "execute_result"
    }
   ],
   "source": [
    "# Get data for an example\n",
    "import pandas as pd\n",
    "shelter_data=pd.read_csv('https://data.austintexas.gov/api/views/9t4d-g238/rows.csv?accessType=DOWNLOAD')\n",
    "shelter_data.dtypes"
   ]
  },
  {
   "cell_type": "code",
   "execution_count": 7,
   "metadata": {
    "slideshow": {
     "slide_type": "slide"
    }
   },
   "outputs": [
    {
     "data": {
      "text/html": [
       "<div>\n",
       "<style scoped>\n",
       "    .dataframe tbody tr th:only-of-type {\n",
       "        vertical-align: middle;\n",
       "    }\n",
       "\n",
       "    .dataframe tbody tr th {\n",
       "        vertical-align: top;\n",
       "    }\n",
       "\n",
       "    .dataframe thead th {\n",
       "        text-align: right;\n",
       "    }\n",
       "</style>\n",
       "<table border=\"1\" class=\"dataframe\">\n",
       "  <thead>\n",
       "    <tr style=\"text-align: right;\">\n",
       "      <th></th>\n",
       "      <th>Animal ID</th>\n",
       "      <th>Name</th>\n",
       "      <th>DateTime</th>\n",
       "      <th>MonthYear</th>\n",
       "      <th>Date of Birth</th>\n",
       "      <th>Outcome Type</th>\n",
       "      <th>Outcome Subtype</th>\n",
       "      <th>Animal Type</th>\n",
       "      <th>Sex upon Outcome</th>\n",
       "      <th>Age upon Outcome</th>\n",
       "      <th>Breed</th>\n",
       "      <th>Color</th>\n",
       "    </tr>\n",
       "  </thead>\n",
       "  <tbody>\n",
       "    <tr>\n",
       "      <th>60</th>\n",
       "      <td>A797258</td>\n",
       "      <td>Max</td>\n",
       "      <td>06/19/2019 12:58:00 PM</td>\n",
       "      <td>06/19/2019 12:58:00 PM</td>\n",
       "      <td>02/11/2018</td>\n",
       "      <td>Transfer</td>\n",
       "      <td>Partner</td>\n",
       "      <td>Dog</td>\n",
       "      <td>Intact Male</td>\n",
       "      <td>1 year</td>\n",
       "      <td>Rottweiler Mix</td>\n",
       "      <td>Black/Tan</td>\n",
       "    </tr>\n",
       "    <tr>\n",
       "      <th>131</th>\n",
       "      <td>A797814</td>\n",
       "      <td>Max</td>\n",
       "      <td>06/18/2019 12:52:00 PM</td>\n",
       "      <td>06/18/2019 12:52:00 PM</td>\n",
       "      <td>06/18/2017</td>\n",
       "      <td>Return to Owner</td>\n",
       "      <td>NaN</td>\n",
       "      <td>Dog</td>\n",
       "      <td>Intact Male</td>\n",
       "      <td>2 years</td>\n",
       "      <td>Pug</td>\n",
       "      <td>Tan/Black</td>\n",
       "    </tr>\n",
       "    <tr>\n",
       "      <th>175</th>\n",
       "      <td>A797341</td>\n",
       "      <td>Max</td>\n",
       "      <td>06/17/2019 05:12:00 PM</td>\n",
       "      <td>06/17/2019 05:12:00 PM</td>\n",
       "      <td>03/12/2019</td>\n",
       "      <td>Adoption</td>\n",
       "      <td>NaN</td>\n",
       "      <td>Cat</td>\n",
       "      <td>Neutered Male</td>\n",
       "      <td>3 months</td>\n",
       "      <td>Domestic Shorthair</td>\n",
       "      <td>Cream Tabby/White</td>\n",
       "    </tr>\n",
       "    <tr>\n",
       "      <th>392</th>\n",
       "      <td>A680607</td>\n",
       "      <td>Max</td>\n",
       "      <td>06/14/2019 11:50:00 AM</td>\n",
       "      <td>06/14/2019 11:50:00 AM</td>\n",
       "      <td>04/04/2014</td>\n",
       "      <td>Return to Owner</td>\n",
       "      <td>NaN</td>\n",
       "      <td>Dog</td>\n",
       "      <td>Neutered Male</td>\n",
       "      <td>5 years</td>\n",
       "      <td>Chihuahua Shorthair Mix</td>\n",
       "      <td>Tan/White</td>\n",
       "    </tr>\n",
       "    <tr>\n",
       "      <th>458</th>\n",
       "      <td>A797339</td>\n",
       "      <td>Max</td>\n",
       "      <td>06/13/2019 11:39:00 AM</td>\n",
       "      <td>06/13/2019 11:39:00 AM</td>\n",
       "      <td>06/12/2017</td>\n",
       "      <td>Return to Owner</td>\n",
       "      <td>NaN</td>\n",
       "      <td>Dog</td>\n",
       "      <td>Intact Male</td>\n",
       "      <td>2 years</td>\n",
       "      <td>Welsh Terrier/Miniature Poodle</td>\n",
       "      <td>Tan/Gray</td>\n",
       "    </tr>\n",
       "    <tr>\n",
       "      <th>709</th>\n",
       "      <td>A780200</td>\n",
       "      <td>Max</td>\n",
       "      <td>06/10/2019 10:53:00 AM</td>\n",
       "      <td>06/10/2019 10:53:00 AM</td>\n",
       "      <td>09/11/2014</td>\n",
       "      <td>Rto-Adopt</td>\n",
       "      <td>NaN</td>\n",
       "      <td>Dog</td>\n",
       "      <td>Neutered Male</td>\n",
       "      <td>4 years</td>\n",
       "      <td>German Shepherd Mix</td>\n",
       "      <td>Brown/Black</td>\n",
       "    </tr>\n",
       "    <tr>\n",
       "      <th>733</th>\n",
       "      <td>A793073</td>\n",
       "      <td>Max</td>\n",
       "      <td>06/09/2019 05:52:00 PM</td>\n",
       "      <td>06/09/2019 05:52:00 PM</td>\n",
       "      <td>06/02/2018</td>\n",
       "      <td>Adoption</td>\n",
       "      <td>NaN</td>\n",
       "      <td>Dog</td>\n",
       "      <td>Neutered Male</td>\n",
       "      <td>1 year</td>\n",
       "      <td>Boxer Mix</td>\n",
       "      <td>Brown/Tricolor</td>\n",
       "    </tr>\n",
       "    <tr>\n",
       "      <th>1083</th>\n",
       "      <td>A744193</td>\n",
       "      <td>Max</td>\n",
       "      <td>06/04/2019 03:30:00 PM</td>\n",
       "      <td>06/04/2019 03:30:00 PM</td>\n",
       "      <td>09/27/2016</td>\n",
       "      <td>Adoption</td>\n",
       "      <td>NaN</td>\n",
       "      <td>Dog</td>\n",
       "      <td>Neutered Male</td>\n",
       "      <td>2 years</td>\n",
       "      <td>Cairn Terrier Mix</td>\n",
       "      <td>Tan/White</td>\n",
       "    </tr>\n",
       "    <tr>\n",
       "      <th>1146</th>\n",
       "      <td>A794951</td>\n",
       "      <td>Max</td>\n",
       "      <td>06/03/2019 07:30:00 PM</td>\n",
       "      <td>06/03/2019 07:30:00 PM</td>\n",
       "      <td>05/14/2017</td>\n",
       "      <td>Rto-Adopt</td>\n",
       "      <td>NaN</td>\n",
       "      <td>Dog</td>\n",
       "      <td>Intact Male</td>\n",
       "      <td>2 years</td>\n",
       "      <td>Labrador Retriever</td>\n",
       "      <td>Red</td>\n",
       "    </tr>\n",
       "    <tr>\n",
       "      <th>1305</th>\n",
       "      <td>A796351</td>\n",
       "      <td>Max</td>\n",
       "      <td>06/01/2019 04:18:00 PM</td>\n",
       "      <td>06/01/2019 04:18:00 PM</td>\n",
       "      <td>05/31/2010</td>\n",
       "      <td>Return to Owner</td>\n",
       "      <td>NaN</td>\n",
       "      <td>Cat</td>\n",
       "      <td>Neutered Male</td>\n",
       "      <td>9 years</td>\n",
       "      <td>Domestic Shorthair</td>\n",
       "      <td>Black/White</td>\n",
       "    </tr>\n",
       "    <tr>\n",
       "      <th>1436</th>\n",
       "      <td>A795976</td>\n",
       "      <td>Max</td>\n",
       "      <td>05/30/2019 11:20:00 AM</td>\n",
       "      <td>05/30/2019 11:20:00 AM</td>\n",
       "      <td>05/27/2008</td>\n",
       "      <td>Transfer</td>\n",
       "      <td>Partner</td>\n",
       "      <td>Dog</td>\n",
       "      <td>Neutered Male</td>\n",
       "      <td>11 years</td>\n",
       "      <td>Maltese</td>\n",
       "      <td>White</td>\n",
       "    </tr>\n",
       "    <tr>\n",
       "      <th>1933</th>\n",
       "      <td>A784016</td>\n",
       "      <td>Max</td>\n",
       "      <td>05/21/2019 03:13:00 PM</td>\n",
       "      <td>05/21/2019 03:13:00 PM</td>\n",
       "      <td>08/10/2018</td>\n",
       "      <td>Return to Owner</td>\n",
       "      <td>NaN</td>\n",
       "      <td>Dog</td>\n",
       "      <td>Intact Male</td>\n",
       "      <td>9 months</td>\n",
       "      <td>Staffordshire Mix</td>\n",
       "      <td>Brown Brindle/White</td>\n",
       "    </tr>\n",
       "    <tr>\n",
       "      <th>2734</th>\n",
       "      <td>A443876</td>\n",
       "      <td>Max</td>\n",
       "      <td>05/06/2019 04:56:00 PM</td>\n",
       "      <td>05/06/2019 04:56:00 PM</td>\n",
       "      <td>03/21/2006</td>\n",
       "      <td>Adoption</td>\n",
       "      <td>NaN</td>\n",
       "      <td>Cat</td>\n",
       "      <td>Neutered Male</td>\n",
       "      <td>13 years</td>\n",
       "      <td>Domestic Shorthair Mix</td>\n",
       "      <td>Blue Tabby/White</td>\n",
       "    </tr>\n",
       "    <tr>\n",
       "      <th>3060</th>\n",
       "      <td>A793215</td>\n",
       "      <td>Max</td>\n",
       "      <td>04/30/2019 11:49:00 AM</td>\n",
       "      <td>04/30/2019 11:49:00 AM</td>\n",
       "      <td>04/21/2017</td>\n",
       "      <td>Return to Owner</td>\n",
       "      <td>NaN</td>\n",
       "      <td>Dog</td>\n",
       "      <td>Neutered Male</td>\n",
       "      <td>2 years</td>\n",
       "      <td>Chihuahua Shorthair Mix</td>\n",
       "      <td>Black/White</td>\n",
       "    </tr>\n",
       "    <tr>\n",
       "      <th>3210</th>\n",
       "      <td>A731802</td>\n",
       "      <td>Max</td>\n",
       "      <td>04/26/2019 06:17:00 PM</td>\n",
       "      <td>04/26/2019 06:17:00 PM</td>\n",
       "      <td>07/27/2015</td>\n",
       "      <td>Adoption</td>\n",
       "      <td>NaN</td>\n",
       "      <td>Dog</td>\n",
       "      <td>Neutered Male</td>\n",
       "      <td>3 years</td>\n",
       "      <td>Maltese Mix</td>\n",
       "      <td>White</td>\n",
       "    </tr>\n",
       "    <tr>\n",
       "      <th>3211</th>\n",
       "      <td>A789320</td>\n",
       "      <td>Max</td>\n",
       "      <td>04/26/2019 06:01:00 PM</td>\n",
       "      <td>04/26/2019 06:01:00 PM</td>\n",
       "      <td>08/19/2017</td>\n",
       "      <td>Adoption</td>\n",
       "      <td>NaN</td>\n",
       "      <td>Dog</td>\n",
       "      <td>Neutered Male</td>\n",
       "      <td>1 year</td>\n",
       "      <td>Pit Bull Mix</td>\n",
       "      <td>White/Black</td>\n",
       "    </tr>\n",
       "    <tr>\n",
       "      <th>3549</th>\n",
       "      <td>A793073</td>\n",
       "      <td>Max</td>\n",
       "      <td>04/19/2019 01:55:00 PM</td>\n",
       "      <td>04/19/2019 01:55:00 PM</td>\n",
       "      <td>06/02/2018</td>\n",
       "      <td>Return to Owner</td>\n",
       "      <td>NaN</td>\n",
       "      <td>Dog</td>\n",
       "      <td>Intact Male</td>\n",
       "      <td>10 months</td>\n",
       "      <td>Boxer Mix</td>\n",
       "      <td>Brown/Tricolor</td>\n",
       "    </tr>\n",
       "    <tr>\n",
       "      <th>3668</th>\n",
       "      <td>A791972</td>\n",
       "      <td>Max</td>\n",
       "      <td>04/17/2019 01:35:00 PM</td>\n",
       "      <td>04/17/2019 01:35:00 PM</td>\n",
       "      <td>04/03/2018</td>\n",
       "      <td>Transfer</td>\n",
       "      <td>Partner</td>\n",
       "      <td>Dog</td>\n",
       "      <td>Neutered Male</td>\n",
       "      <td>1 year</td>\n",
       "      <td>Golden Retriever/Border Collie</td>\n",
       "      <td>Tan/White</td>\n",
       "    </tr>\n",
       "    <tr>\n",
       "      <th>3885</th>\n",
       "      <td>A789119</td>\n",
       "      <td>Max</td>\n",
       "      <td>04/13/2019 12:45:00 PM</td>\n",
       "      <td>04/13/2019 12:45:00 PM</td>\n",
       "      <td>12/17/2014</td>\n",
       "      <td>Adoption</td>\n",
       "      <td>NaN</td>\n",
       "      <td>Dog</td>\n",
       "      <td>Neutered Male</td>\n",
       "      <td>4 years</td>\n",
       "      <td>Catahoula Mix</td>\n",
       "      <td>Red</td>\n",
       "    </tr>\n",
       "    <tr>\n",
       "      <th>3957</th>\n",
       "      <td>A787013</td>\n",
       "      <td>Max</td>\n",
       "      <td>04/12/2019 12:53:00 PM</td>\n",
       "      <td>04/12/2019 12:53:00 PM</td>\n",
       "      <td>10/26/2018</td>\n",
       "      <td>Transfer</td>\n",
       "      <td>Partner</td>\n",
       "      <td>Dog</td>\n",
       "      <td>Neutered Male</td>\n",
       "      <td>5 months</td>\n",
       "      <td>German Shepherd Mix</td>\n",
       "      <td>Tricolor</td>\n",
       "    </tr>\n",
       "    <tr>\n",
       "      <th>3997</th>\n",
       "      <td>A792391</td>\n",
       "      <td>Max</td>\n",
       "      <td>04/11/2019 12:04:00 PM</td>\n",
       "      <td>04/11/2019 12:04:00 PM</td>\n",
       "      <td>04/10/2016</td>\n",
       "      <td>Return to Owner</td>\n",
       "      <td>NaN</td>\n",
       "      <td>Dog</td>\n",
       "      <td>Intact Male</td>\n",
       "      <td>3 years</td>\n",
       "      <td>American Bulldog/Boxer</td>\n",
       "      <td>White/Brown Brindle</td>\n",
       "    </tr>\n",
       "    <tr>\n",
       "      <th>4149</th>\n",
       "      <td>A781808</td>\n",
       "      <td>Max</td>\n",
       "      <td>04/08/2019 02:27:00 PM</td>\n",
       "      <td>04/08/2019 02:27:00 PM</td>\n",
       "      <td>01/01/2018</td>\n",
       "      <td>Return to Owner</td>\n",
       "      <td>NaN</td>\n",
       "      <td>Dog</td>\n",
       "      <td>Neutered Male</td>\n",
       "      <td>1 year</td>\n",
       "      <td>Alaskan Husky</td>\n",
       "      <td>Brown/White</td>\n",
       "    </tr>\n",
       "    <tr>\n",
       "      <th>4285</th>\n",
       "      <td>A775940</td>\n",
       "      <td>Max</td>\n",
       "      <td>04/04/2019 09:27:00 PM</td>\n",
       "      <td>04/04/2019 09:27:00 PM</td>\n",
       "      <td>05/04/2018</td>\n",
       "      <td>Adoption</td>\n",
       "      <td>NaN</td>\n",
       "      <td>Dog</td>\n",
       "      <td>Neutered Male</td>\n",
       "      <td>11 months</td>\n",
       "      <td>Plott Hound/Labrador Retriever</td>\n",
       "      <td>Brown Brindle/White</td>\n",
       "    </tr>\n",
       "    <tr>\n",
       "      <th>4449</th>\n",
       "      <td>A786674</td>\n",
       "      <td>Max</td>\n",
       "      <td>04/01/2019 06:02:00 PM</td>\n",
       "      <td>04/01/2019 06:02:00 PM</td>\n",
       "      <td>12/29/2016</td>\n",
       "      <td>Rto-Adopt</td>\n",
       "      <td>NaN</td>\n",
       "      <td>Dog</td>\n",
       "      <td>Neutered Male</td>\n",
       "      <td>2 years</td>\n",
       "      <td>Australian Shepherd Mix</td>\n",
       "      <td>Red/White</td>\n",
       "    </tr>\n",
       "    <tr>\n",
       "      <th>4502</th>\n",
       "      <td>A791533</td>\n",
       "      <td>Max</td>\n",
       "      <td>03/31/2019 04:19:00 PM</td>\n",
       "      <td>03/31/2019 04:19:00 PM</td>\n",
       "      <td>10/12/2018</td>\n",
       "      <td>Adoption</td>\n",
       "      <td>NaN</td>\n",
       "      <td>Dog</td>\n",
       "      <td>Neutered Male</td>\n",
       "      <td>5 months</td>\n",
       "      <td>Dachshund Mix</td>\n",
       "      <td>Black</td>\n",
       "    </tr>\n",
       "    <tr>\n",
       "      <th>4639</th>\n",
       "      <td>A724499</td>\n",
       "      <td>Max</td>\n",
       "      <td>03/27/2019 07:20:00 PM</td>\n",
       "      <td>03/27/2019 07:20:00 PM</td>\n",
       "      <td>04/18/2012</td>\n",
       "      <td>Adoption</td>\n",
       "      <td>NaN</td>\n",
       "      <td>Dog</td>\n",
       "      <td>Neutered Male</td>\n",
       "      <td>6 years</td>\n",
       "      <td>German Shepherd</td>\n",
       "      <td>Sable</td>\n",
       "    </tr>\n",
       "    <tr>\n",
       "      <th>5166</th>\n",
       "      <td>A775940</td>\n",
       "      <td>Max</td>\n",
       "      <td>03/18/2019 02:55:00 PM</td>\n",
       "      <td>03/18/2019 02:55:00 PM</td>\n",
       "      <td>05/04/2018</td>\n",
       "      <td>Adoption</td>\n",
       "      <td>NaN</td>\n",
       "      <td>Dog</td>\n",
       "      <td>Neutered Male</td>\n",
       "      <td>10 months</td>\n",
       "      <td>Plott Hound/Labrador Retriever</td>\n",
       "      <td>Brown Brindle/White</td>\n",
       "    </tr>\n",
       "    <tr>\n",
       "      <th>5193</th>\n",
       "      <td>A790280</td>\n",
       "      <td>Max</td>\n",
       "      <td>03/17/2019 01:27:00 PM</td>\n",
       "      <td>03/17/2019 01:27:00 PM</td>\n",
       "      <td>03/07/2013</td>\n",
       "      <td>Adoption</td>\n",
       "      <td>NaN</td>\n",
       "      <td>Dog</td>\n",
       "      <td>Neutered Male</td>\n",
       "      <td>6 years</td>\n",
       "      <td>Jack Russell Terrier Mix</td>\n",
       "      <td>White/Brown</td>\n",
       "    </tr>\n",
       "    <tr>\n",
       "      <th>5214</th>\n",
       "      <td>A782179</td>\n",
       "      <td>Max</td>\n",
       "      <td>03/16/2019 05:32:00 PM</td>\n",
       "      <td>03/16/2019 05:32:00 PM</td>\n",
       "      <td>05/26/2017</td>\n",
       "      <td>Adoption</td>\n",
       "      <td>Foster</td>\n",
       "      <td>Dog</td>\n",
       "      <td>Neutered Male</td>\n",
       "      <td>1 year</td>\n",
       "      <td>Pointer/Catahoula</td>\n",
       "      <td>Brown/White</td>\n",
       "    </tr>\n",
       "    <tr>\n",
       "      <th>5278</th>\n",
       "      <td>A790231</td>\n",
       "      <td>Max</td>\n",
       "      <td>03/15/2019 02:53:00 PM</td>\n",
       "      <td>03/15/2019 02:53:00 PM</td>\n",
       "      <td>10/14/2018</td>\n",
       "      <td>Transfer</td>\n",
       "      <td>Partner</td>\n",
       "      <td>Dog</td>\n",
       "      <td>Neutered Male</td>\n",
       "      <td>4 months</td>\n",
       "      <td>Border Collie Mix</td>\n",
       "      <td>White</td>\n",
       "    </tr>\n",
       "    <tr>\n",
       "      <th>...</th>\n",
       "      <td>...</td>\n",
       "      <td>...</td>\n",
       "      <td>...</td>\n",
       "      <td>...</td>\n",
       "      <td>...</td>\n",
       "      <td>...</td>\n",
       "      <td>...</td>\n",
       "      <td>...</td>\n",
       "      <td>...</td>\n",
       "      <td>...</td>\n",
       "      <td>...</td>\n",
       "      <td>...</td>\n",
       "    </tr>\n",
       "    <tr>\n",
       "      <th>95321</th>\n",
       "      <td>A648236</td>\n",
       "      <td>Max</td>\n",
       "      <td>02/26/2014 04:50:00 PM</td>\n",
       "      <td>02/26/2014 04:50:00 PM</td>\n",
       "      <td>04/24/2012</td>\n",
       "      <td>Return to Owner</td>\n",
       "      <td>NaN</td>\n",
       "      <td>Dog</td>\n",
       "      <td>Neutered Male</td>\n",
       "      <td>1 year</td>\n",
       "      <td>Australian Cattle Dog Mix</td>\n",
       "      <td>Red Tick/White</td>\n",
       "    </tr>\n",
       "    <tr>\n",
       "      <th>95584</th>\n",
       "      <td>A673191</td>\n",
       "      <td>Max</td>\n",
       "      <td>02/20/2014 03:40:00 PM</td>\n",
       "      <td>02/20/2014 03:40:00 PM</td>\n",
       "      <td>02/19/2011</td>\n",
       "      <td>Euthanasia</td>\n",
       "      <td>Rabies Risk</td>\n",
       "      <td>Dog</td>\n",
       "      <td>Intact Male</td>\n",
       "      <td>3 years</td>\n",
       "      <td>Labrador Retriever Mix</td>\n",
       "      <td>Brown/White</td>\n",
       "    </tr>\n",
       "    <tr>\n",
       "      <th>95782</th>\n",
       "      <td>A671314</td>\n",
       "      <td>Max</td>\n",
       "      <td>02/16/2014 11:53:00 AM</td>\n",
       "      <td>02/16/2014 11:53:00 AM</td>\n",
       "      <td>03/22/2013</td>\n",
       "      <td>Adoption</td>\n",
       "      <td>NaN</td>\n",
       "      <td>Dog</td>\n",
       "      <td>Neutered Male</td>\n",
       "      <td>10 months</td>\n",
       "      <td>Collie Rough Mix</td>\n",
       "      <td>White/Black</td>\n",
       "    </tr>\n",
       "    <tr>\n",
       "      <th>95949</th>\n",
       "      <td>A672335</td>\n",
       "      <td>Max</td>\n",
       "      <td>02/11/2014 06:20:00 PM</td>\n",
       "      <td>02/11/2014 06:20:00 PM</td>\n",
       "      <td>02/08/2012</td>\n",
       "      <td>Return to Owner</td>\n",
       "      <td>NaN</td>\n",
       "      <td>Dog</td>\n",
       "      <td>Neutered Male</td>\n",
       "      <td>2 years</td>\n",
       "      <td>Chihuahua Shorthair Mix</td>\n",
       "      <td>Black/Tan</td>\n",
       "    </tr>\n",
       "    <tr>\n",
       "      <th>96246</th>\n",
       "      <td>A671503</td>\n",
       "      <td>Max</td>\n",
       "      <td>02/03/2014 06:11:00 PM</td>\n",
       "      <td>02/03/2014 06:11:00 PM</td>\n",
       "      <td>01/25/2012</td>\n",
       "      <td>Adoption</td>\n",
       "      <td>NaN</td>\n",
       "      <td>Dog</td>\n",
       "      <td>Neutered Male</td>\n",
       "      <td>2 years</td>\n",
       "      <td>Beagle/Dachshund</td>\n",
       "      <td>White/Brown</td>\n",
       "    </tr>\n",
       "    <tr>\n",
       "      <th>96289</th>\n",
       "      <td>A652954</td>\n",
       "      <td>Max</td>\n",
       "      <td>02/03/2014 11:40:00 AM</td>\n",
       "      <td>02/03/2014 11:40:00 AM</td>\n",
       "      <td>12/17/2012</td>\n",
       "      <td>Adoption</td>\n",
       "      <td>NaN</td>\n",
       "      <td>Dog</td>\n",
       "      <td>Neutered Male</td>\n",
       "      <td>1 year</td>\n",
       "      <td>German Shepherd/Labrador Retriever</td>\n",
       "      <td>Brown/Black</td>\n",
       "    </tr>\n",
       "    <tr>\n",
       "      <th>96320</th>\n",
       "      <td>A671583</td>\n",
       "      <td>Max</td>\n",
       "      <td>02/02/2014 02:59:00 PM</td>\n",
       "      <td>02/02/2014 02:59:00 PM</td>\n",
       "      <td>04/01/2013</td>\n",
       "      <td>Adoption</td>\n",
       "      <td>NaN</td>\n",
       "      <td>Dog</td>\n",
       "      <td>Neutered Male</td>\n",
       "      <td>10 months</td>\n",
       "      <td>Wire Hair Fox Terrier Mix</td>\n",
       "      <td>White/Black</td>\n",
       "    </tr>\n",
       "    <tr>\n",
       "      <th>96349</th>\n",
       "      <td>A671583</td>\n",
       "      <td>Max</td>\n",
       "      <td>02/01/2014 05:40:00 PM</td>\n",
       "      <td>02/01/2014 05:40:00 PM</td>\n",
       "      <td>04/01/2013</td>\n",
       "      <td>Adoption</td>\n",
       "      <td>NaN</td>\n",
       "      <td>Dog</td>\n",
       "      <td>Neutered Male</td>\n",
       "      <td>10 months</td>\n",
       "      <td>Wire Hair Fox Terrier Mix</td>\n",
       "      <td>White/Black</td>\n",
       "    </tr>\n",
       "    <tr>\n",
       "      <th>97039</th>\n",
       "      <td>A670802</td>\n",
       "      <td>Max</td>\n",
       "      <td>01/15/2014 06:53:00 PM</td>\n",
       "      <td>01/15/2014 06:53:00 PM</td>\n",
       "      <td>07/14/2010</td>\n",
       "      <td>Return to Owner</td>\n",
       "      <td>NaN</td>\n",
       "      <td>Dog</td>\n",
       "      <td>Neutered Male</td>\n",
       "      <td>3 years</td>\n",
       "      <td>Labrador Retriever Mix</td>\n",
       "      <td>Tan</td>\n",
       "    </tr>\n",
       "    <tr>\n",
       "      <th>97244</th>\n",
       "      <td>A665405</td>\n",
       "      <td>Max</td>\n",
       "      <td>01/10/2014 06:41:00 PM</td>\n",
       "      <td>01/10/2014 06:41:00 PM</td>\n",
       "      <td>06/17/2013</td>\n",
       "      <td>Adoption</td>\n",
       "      <td>NaN</td>\n",
       "      <td>Dog</td>\n",
       "      <td>Neutered Male</td>\n",
       "      <td>6 months</td>\n",
       "      <td>Labrador Retriever Mix</td>\n",
       "      <td>Black/White</td>\n",
       "    </tr>\n",
       "    <tr>\n",
       "      <th>97262</th>\n",
       "      <td>A648236</td>\n",
       "      <td>Max</td>\n",
       "      <td>01/10/2014 03:19:00 PM</td>\n",
       "      <td>01/10/2014 03:19:00 PM</td>\n",
       "      <td>04/24/2012</td>\n",
       "      <td>Return to Owner</td>\n",
       "      <td>NaN</td>\n",
       "      <td>Dog</td>\n",
       "      <td>Neutered Male</td>\n",
       "      <td>1 year</td>\n",
       "      <td>Australian Cattle Dog Mix</td>\n",
       "      <td>Red Tick/White</td>\n",
       "    </tr>\n",
       "    <tr>\n",
       "      <th>97318</th>\n",
       "      <td>A664369</td>\n",
       "      <td>Max</td>\n",
       "      <td>01/08/2014 07:19:00 PM</td>\n",
       "      <td>01/08/2014 07:19:00 PM</td>\n",
       "      <td>05/27/2013</td>\n",
       "      <td>Return to Owner</td>\n",
       "      <td>NaN</td>\n",
       "      <td>Dog</td>\n",
       "      <td>Neutered Male</td>\n",
       "      <td>7 months</td>\n",
       "      <td>Labrador Retriever/German Shepherd</td>\n",
       "      <td>Black</td>\n",
       "    </tr>\n",
       "    <tr>\n",
       "      <th>97423</th>\n",
       "      <td>A669946</td>\n",
       "      <td>Max</td>\n",
       "      <td>01/05/2014 06:11:00 PM</td>\n",
       "      <td>01/05/2014 06:11:00 PM</td>\n",
       "      <td>12/30/2012</td>\n",
       "      <td>Adoption</td>\n",
       "      <td>NaN</td>\n",
       "      <td>Dog</td>\n",
       "      <td>Neutered Male</td>\n",
       "      <td>1 year</td>\n",
       "      <td>Labrador Retriever Mix</td>\n",
       "      <td>Black</td>\n",
       "    </tr>\n",
       "    <tr>\n",
       "      <th>97676</th>\n",
       "      <td>A669266</td>\n",
       "      <td>Max</td>\n",
       "      <td>12/31/2013 04:51:00 PM</td>\n",
       "      <td>12/31/2013 04:51:00 PM</td>\n",
       "      <td>07/27/2013</td>\n",
       "      <td>Adoption</td>\n",
       "      <td>NaN</td>\n",
       "      <td>Dog</td>\n",
       "      <td>Neutered Male</td>\n",
       "      <td>5 months</td>\n",
       "      <td>Pit Bull Mix</td>\n",
       "      <td>White/Black Brindle</td>\n",
       "    </tr>\n",
       "    <tr>\n",
       "      <th>98091</th>\n",
       "      <td>A522774</td>\n",
       "      <td>Max</td>\n",
       "      <td>12/23/2013 04:45:00 PM</td>\n",
       "      <td>12/23/2013 04:45:00 PM</td>\n",
       "      <td>10/02/2006</td>\n",
       "      <td>Return to Owner</td>\n",
       "      <td>NaN</td>\n",
       "      <td>Dog</td>\n",
       "      <td>Neutered Male</td>\n",
       "      <td>7 years</td>\n",
       "      <td>Chihuahua Shorthair</td>\n",
       "      <td>Tricolor</td>\n",
       "    </tr>\n",
       "    <tr>\n",
       "      <th>98209</th>\n",
       "      <td>A669211</td>\n",
       "      <td>Max</td>\n",
       "      <td>12/21/2013 06:25:00 PM</td>\n",
       "      <td>12/21/2013 06:25:00 PM</td>\n",
       "      <td>12/17/2011</td>\n",
       "      <td>Adoption</td>\n",
       "      <td>NaN</td>\n",
       "      <td>Dog</td>\n",
       "      <td>Neutered Male</td>\n",
       "      <td>2 years</td>\n",
       "      <td>Chihuahua Shorthair Mix</td>\n",
       "      <td>White/Brown</td>\n",
       "    </tr>\n",
       "    <tr>\n",
       "      <th>98323</th>\n",
       "      <td>A669274</td>\n",
       "      <td>Max</td>\n",
       "      <td>12/19/2013 05:10:00 PM</td>\n",
       "      <td>12/19/2013 05:10:00 PM</td>\n",
       "      <td>12/17/2011</td>\n",
       "      <td>Return to Owner</td>\n",
       "      <td>NaN</td>\n",
       "      <td>Dog</td>\n",
       "      <td>Neutered Male</td>\n",
       "      <td>2 years</td>\n",
       "      <td>Cardigan Welsh Corgi Mix</td>\n",
       "      <td>White</td>\n",
       "    </tr>\n",
       "    <tr>\n",
       "      <th>98590</th>\n",
       "      <td>A590637</td>\n",
       "      <td>Max</td>\n",
       "      <td>12/14/2013 01:10:00 PM</td>\n",
       "      <td>12/14/2013 01:10:00 PM</td>\n",
       "      <td>12/21/2009</td>\n",
       "      <td>Adoption</td>\n",
       "      <td>NaN</td>\n",
       "      <td>Dog</td>\n",
       "      <td>Neutered Male</td>\n",
       "      <td>3 years</td>\n",
       "      <td>German Shepherd Mix</td>\n",
       "      <td>Tan/White</td>\n",
       "    </tr>\n",
       "    <tr>\n",
       "      <th>98635</th>\n",
       "      <td>A668634</td>\n",
       "      <td>Max</td>\n",
       "      <td>12/13/2013 12:10:00 PM</td>\n",
       "      <td>12/13/2013 12:10:00 PM</td>\n",
       "      <td>02/06/2013</td>\n",
       "      <td>Adoption</td>\n",
       "      <td>NaN</td>\n",
       "      <td>Dog</td>\n",
       "      <td>Neutered Male</td>\n",
       "      <td>10 months</td>\n",
       "      <td>Anatol Shepherd/Labrador Retriever</td>\n",
       "      <td>Brown Brindle/White</td>\n",
       "    </tr>\n",
       "    <tr>\n",
       "      <th>98828</th>\n",
       "      <td>A668750</td>\n",
       "      <td>Max</td>\n",
       "      <td>12/08/2013 06:13:00 PM</td>\n",
       "      <td>12/08/2013 06:13:00 PM</td>\n",
       "      <td>12/08/2011</td>\n",
       "      <td>Return to Owner</td>\n",
       "      <td>NaN</td>\n",
       "      <td>Dog</td>\n",
       "      <td>Neutered Male</td>\n",
       "      <td>2 years</td>\n",
       "      <td>Basset Hound Mix</td>\n",
       "      <td>Black/White</td>\n",
       "    </tr>\n",
       "    <tr>\n",
       "      <th>98868</th>\n",
       "      <td>A668202</td>\n",
       "      <td>Max</td>\n",
       "      <td>12/08/2013 01:01:00 PM</td>\n",
       "      <td>12/08/2013 01:01:00 PM</td>\n",
       "      <td>01/29/2013</td>\n",
       "      <td>Adoption</td>\n",
       "      <td>NaN</td>\n",
       "      <td>Dog</td>\n",
       "      <td>Neutered Male</td>\n",
       "      <td>10 months</td>\n",
       "      <td>German Shepherd Mix</td>\n",
       "      <td>Brown/White</td>\n",
       "    </tr>\n",
       "    <tr>\n",
       "      <th>99763</th>\n",
       "      <td>A661874</td>\n",
       "      <td>Max</td>\n",
       "      <td>11/17/2013 12:53:00 PM</td>\n",
       "      <td>11/17/2013 12:53:00 PM</td>\n",
       "      <td>06/15/2013</td>\n",
       "      <td>Transfer</td>\n",
       "      <td>Partner</td>\n",
       "      <td>Dog</td>\n",
       "      <td>Neutered Male</td>\n",
       "      <td>5 months</td>\n",
       "      <td>Miniature Schnauzer Mix</td>\n",
       "      <td>Black/White</td>\n",
       "    </tr>\n",
       "    <tr>\n",
       "      <th>100478</th>\n",
       "      <td>A605315</td>\n",
       "      <td>Max</td>\n",
       "      <td>11/02/2013 12:08:00 PM</td>\n",
       "      <td>11/02/2013 12:08:00 PM</td>\n",
       "      <td>01/06/2009</td>\n",
       "      <td>Return to Owner</td>\n",
       "      <td>NaN</td>\n",
       "      <td>Dog</td>\n",
       "      <td>Neutered Male</td>\n",
       "      <td>4 years</td>\n",
       "      <td>American Pit Bull Terrier</td>\n",
       "      <td>Black/White</td>\n",
       "    </tr>\n",
       "    <tr>\n",
       "      <th>100535</th>\n",
       "      <td>A665263</td>\n",
       "      <td>Max</td>\n",
       "      <td>11/01/2013 11:37:00 AM</td>\n",
       "      <td>11/01/2013 11:37:00 AM</td>\n",
       "      <td>07/31/2013</td>\n",
       "      <td>Adoption</td>\n",
       "      <td>NaN</td>\n",
       "      <td>Dog</td>\n",
       "      <td>Neutered Male</td>\n",
       "      <td>3 months</td>\n",
       "      <td>Labrador Retriever Mix</td>\n",
       "      <td>Black</td>\n",
       "    </tr>\n",
       "    <tr>\n",
       "      <th>100568</th>\n",
       "      <td>A665445</td>\n",
       "      <td>Max</td>\n",
       "      <td>10/31/2013 01:03:00 PM</td>\n",
       "      <td>10/31/2013 01:03:00 PM</td>\n",
       "      <td>06/18/2013</td>\n",
       "      <td>Adoption</td>\n",
       "      <td>NaN</td>\n",
       "      <td>Dog</td>\n",
       "      <td>Neutered Male</td>\n",
       "      <td>4 months</td>\n",
       "      <td>Labrador Retriever Mix</td>\n",
       "      <td>Brown/Black</td>\n",
       "    </tr>\n",
       "    <tr>\n",
       "      <th>100752</th>\n",
       "      <td>A664692</td>\n",
       "      <td>Max</td>\n",
       "      <td>10/27/2013 02:45:00 PM</td>\n",
       "      <td>10/27/2013 02:45:00 PM</td>\n",
       "      <td>10/07/2007</td>\n",
       "      <td>Transfer</td>\n",
       "      <td>Partner</td>\n",
       "      <td>Cat</td>\n",
       "      <td>Neutered Male</td>\n",
       "      <td>6 years</td>\n",
       "      <td>Russian Blue Mix</td>\n",
       "      <td>Blue</td>\n",
       "    </tr>\n",
       "    <tr>\n",
       "      <th>100782</th>\n",
       "      <td>A665743</td>\n",
       "      <td>Max</td>\n",
       "      <td>10/26/2013 06:38:00 PM</td>\n",
       "      <td>10/26/2013 06:38:00 PM</td>\n",
       "      <td>12/22/2012</td>\n",
       "      <td>Adoption</td>\n",
       "      <td>NaN</td>\n",
       "      <td>Dog</td>\n",
       "      <td>Neutered Male</td>\n",
       "      <td>10 months</td>\n",
       "      <td>Jack Russell Terrier/Chihuahua Shorthair</td>\n",
       "      <td>White/Brown</td>\n",
       "    </tr>\n",
       "    <tr>\n",
       "      <th>101028</th>\n",
       "      <td>A665405</td>\n",
       "      <td>Max</td>\n",
       "      <td>10/21/2013 04:59:00 PM</td>\n",
       "      <td>10/21/2013 04:59:00 PM</td>\n",
       "      <td>06/17/2013</td>\n",
       "      <td>Adoption</td>\n",
       "      <td>NaN</td>\n",
       "      <td>Dog</td>\n",
       "      <td>Neutered Male</td>\n",
       "      <td>4 months</td>\n",
       "      <td>Labrador Retriever Mix</td>\n",
       "      <td>Black/White</td>\n",
       "    </tr>\n",
       "    <tr>\n",
       "      <th>101555</th>\n",
       "      <td>A664369</td>\n",
       "      <td>Max</td>\n",
       "      <td>10/12/2013 06:00:00 PM</td>\n",
       "      <td>10/12/2013 06:00:00 PM</td>\n",
       "      <td>05/27/2013</td>\n",
       "      <td>Return to Owner</td>\n",
       "      <td>NaN</td>\n",
       "      <td>Dog</td>\n",
       "      <td>Neutered Male</td>\n",
       "      <td>4 months</td>\n",
       "      <td>Labrador Retriever/German Shepherd</td>\n",
       "      <td>Black</td>\n",
       "    </tr>\n",
       "    <tr>\n",
       "      <th>101565</th>\n",
       "      <td>A662933</td>\n",
       "      <td>Max</td>\n",
       "      <td>10/12/2013 05:13:00 PM</td>\n",
       "      <td>10/12/2013 05:13:00 PM</td>\n",
       "      <td>09/10/2006</td>\n",
       "      <td>Return to Owner</td>\n",
       "      <td>NaN</td>\n",
       "      <td>Dog</td>\n",
       "      <td>Neutered Male</td>\n",
       "      <td>7 years</td>\n",
       "      <td>Pug Mix</td>\n",
       "      <td>Brown/Black</td>\n",
       "    </tr>\n",
       "  </tbody>\n",
       "</table>\n",
       "<p>459 rows × 12 columns</p>\n",
       "</div>"
      ],
      "text/plain": [
       "       Animal ID Name                DateTime               MonthYear  \\\n",
       "60       A797258  Max  06/19/2019 12:58:00 PM  06/19/2019 12:58:00 PM   \n",
       "131      A797814  Max  06/18/2019 12:52:00 PM  06/18/2019 12:52:00 PM   \n",
       "175      A797341  Max  06/17/2019 05:12:00 PM  06/17/2019 05:12:00 PM   \n",
       "392      A680607  Max  06/14/2019 11:50:00 AM  06/14/2019 11:50:00 AM   \n",
       "458      A797339  Max  06/13/2019 11:39:00 AM  06/13/2019 11:39:00 AM   \n",
       "709      A780200  Max  06/10/2019 10:53:00 AM  06/10/2019 10:53:00 AM   \n",
       "733      A793073  Max  06/09/2019 05:52:00 PM  06/09/2019 05:52:00 PM   \n",
       "1083     A744193  Max  06/04/2019 03:30:00 PM  06/04/2019 03:30:00 PM   \n",
       "1146     A794951  Max  06/03/2019 07:30:00 PM  06/03/2019 07:30:00 PM   \n",
       "1305     A796351  Max  06/01/2019 04:18:00 PM  06/01/2019 04:18:00 PM   \n",
       "1436     A795976  Max  05/30/2019 11:20:00 AM  05/30/2019 11:20:00 AM   \n",
       "1933     A784016  Max  05/21/2019 03:13:00 PM  05/21/2019 03:13:00 PM   \n",
       "2734     A443876  Max  05/06/2019 04:56:00 PM  05/06/2019 04:56:00 PM   \n",
       "3060     A793215  Max  04/30/2019 11:49:00 AM  04/30/2019 11:49:00 AM   \n",
       "3210     A731802  Max  04/26/2019 06:17:00 PM  04/26/2019 06:17:00 PM   \n",
       "3211     A789320  Max  04/26/2019 06:01:00 PM  04/26/2019 06:01:00 PM   \n",
       "3549     A793073  Max  04/19/2019 01:55:00 PM  04/19/2019 01:55:00 PM   \n",
       "3668     A791972  Max  04/17/2019 01:35:00 PM  04/17/2019 01:35:00 PM   \n",
       "3885     A789119  Max  04/13/2019 12:45:00 PM  04/13/2019 12:45:00 PM   \n",
       "3957     A787013  Max  04/12/2019 12:53:00 PM  04/12/2019 12:53:00 PM   \n",
       "3997     A792391  Max  04/11/2019 12:04:00 PM  04/11/2019 12:04:00 PM   \n",
       "4149     A781808  Max  04/08/2019 02:27:00 PM  04/08/2019 02:27:00 PM   \n",
       "4285     A775940  Max  04/04/2019 09:27:00 PM  04/04/2019 09:27:00 PM   \n",
       "4449     A786674  Max  04/01/2019 06:02:00 PM  04/01/2019 06:02:00 PM   \n",
       "4502     A791533  Max  03/31/2019 04:19:00 PM  03/31/2019 04:19:00 PM   \n",
       "4639     A724499  Max  03/27/2019 07:20:00 PM  03/27/2019 07:20:00 PM   \n",
       "5166     A775940  Max  03/18/2019 02:55:00 PM  03/18/2019 02:55:00 PM   \n",
       "5193     A790280  Max  03/17/2019 01:27:00 PM  03/17/2019 01:27:00 PM   \n",
       "5214     A782179  Max  03/16/2019 05:32:00 PM  03/16/2019 05:32:00 PM   \n",
       "5278     A790231  Max  03/15/2019 02:53:00 PM  03/15/2019 02:53:00 PM   \n",
       "...          ...  ...                     ...                     ...   \n",
       "95321    A648236  Max  02/26/2014 04:50:00 PM  02/26/2014 04:50:00 PM   \n",
       "95584    A673191  Max  02/20/2014 03:40:00 PM  02/20/2014 03:40:00 PM   \n",
       "95782    A671314  Max  02/16/2014 11:53:00 AM  02/16/2014 11:53:00 AM   \n",
       "95949    A672335  Max  02/11/2014 06:20:00 PM  02/11/2014 06:20:00 PM   \n",
       "96246    A671503  Max  02/03/2014 06:11:00 PM  02/03/2014 06:11:00 PM   \n",
       "96289    A652954  Max  02/03/2014 11:40:00 AM  02/03/2014 11:40:00 AM   \n",
       "96320    A671583  Max  02/02/2014 02:59:00 PM  02/02/2014 02:59:00 PM   \n",
       "96349    A671583  Max  02/01/2014 05:40:00 PM  02/01/2014 05:40:00 PM   \n",
       "97039    A670802  Max  01/15/2014 06:53:00 PM  01/15/2014 06:53:00 PM   \n",
       "97244    A665405  Max  01/10/2014 06:41:00 PM  01/10/2014 06:41:00 PM   \n",
       "97262    A648236  Max  01/10/2014 03:19:00 PM  01/10/2014 03:19:00 PM   \n",
       "97318    A664369  Max  01/08/2014 07:19:00 PM  01/08/2014 07:19:00 PM   \n",
       "97423    A669946  Max  01/05/2014 06:11:00 PM  01/05/2014 06:11:00 PM   \n",
       "97676    A669266  Max  12/31/2013 04:51:00 PM  12/31/2013 04:51:00 PM   \n",
       "98091    A522774  Max  12/23/2013 04:45:00 PM  12/23/2013 04:45:00 PM   \n",
       "98209    A669211  Max  12/21/2013 06:25:00 PM  12/21/2013 06:25:00 PM   \n",
       "98323    A669274  Max  12/19/2013 05:10:00 PM  12/19/2013 05:10:00 PM   \n",
       "98590    A590637  Max  12/14/2013 01:10:00 PM  12/14/2013 01:10:00 PM   \n",
       "98635    A668634  Max  12/13/2013 12:10:00 PM  12/13/2013 12:10:00 PM   \n",
       "98828    A668750  Max  12/08/2013 06:13:00 PM  12/08/2013 06:13:00 PM   \n",
       "98868    A668202  Max  12/08/2013 01:01:00 PM  12/08/2013 01:01:00 PM   \n",
       "99763    A661874  Max  11/17/2013 12:53:00 PM  11/17/2013 12:53:00 PM   \n",
       "100478   A605315  Max  11/02/2013 12:08:00 PM  11/02/2013 12:08:00 PM   \n",
       "100535   A665263  Max  11/01/2013 11:37:00 AM  11/01/2013 11:37:00 AM   \n",
       "100568   A665445  Max  10/31/2013 01:03:00 PM  10/31/2013 01:03:00 PM   \n",
       "100752   A664692  Max  10/27/2013 02:45:00 PM  10/27/2013 02:45:00 PM   \n",
       "100782   A665743  Max  10/26/2013 06:38:00 PM  10/26/2013 06:38:00 PM   \n",
       "101028   A665405  Max  10/21/2013 04:59:00 PM  10/21/2013 04:59:00 PM   \n",
       "101555   A664369  Max  10/12/2013 06:00:00 PM  10/12/2013 06:00:00 PM   \n",
       "101565   A662933  Max  10/12/2013 05:13:00 PM  10/12/2013 05:13:00 PM   \n",
       "\n",
       "       Date of Birth     Outcome Type Outcome Subtype Animal Type  \\\n",
       "60        02/11/2018         Transfer         Partner         Dog   \n",
       "131       06/18/2017  Return to Owner             NaN         Dog   \n",
       "175       03/12/2019         Adoption             NaN         Cat   \n",
       "392       04/04/2014  Return to Owner             NaN         Dog   \n",
       "458       06/12/2017  Return to Owner             NaN         Dog   \n",
       "709       09/11/2014        Rto-Adopt             NaN         Dog   \n",
       "733       06/02/2018         Adoption             NaN         Dog   \n",
       "1083      09/27/2016         Adoption             NaN         Dog   \n",
       "1146      05/14/2017        Rto-Adopt             NaN         Dog   \n",
       "1305      05/31/2010  Return to Owner             NaN         Cat   \n",
       "1436      05/27/2008         Transfer         Partner         Dog   \n",
       "1933      08/10/2018  Return to Owner             NaN         Dog   \n",
       "2734      03/21/2006         Adoption             NaN         Cat   \n",
       "3060      04/21/2017  Return to Owner             NaN         Dog   \n",
       "3210      07/27/2015         Adoption             NaN         Dog   \n",
       "3211      08/19/2017         Adoption             NaN         Dog   \n",
       "3549      06/02/2018  Return to Owner             NaN         Dog   \n",
       "3668      04/03/2018         Transfer         Partner         Dog   \n",
       "3885      12/17/2014         Adoption             NaN         Dog   \n",
       "3957      10/26/2018         Transfer         Partner         Dog   \n",
       "3997      04/10/2016  Return to Owner             NaN         Dog   \n",
       "4149      01/01/2018  Return to Owner             NaN         Dog   \n",
       "4285      05/04/2018         Adoption             NaN         Dog   \n",
       "4449      12/29/2016        Rto-Adopt             NaN         Dog   \n",
       "4502      10/12/2018         Adoption             NaN         Dog   \n",
       "4639      04/18/2012         Adoption             NaN         Dog   \n",
       "5166      05/04/2018         Adoption             NaN         Dog   \n",
       "5193      03/07/2013         Adoption             NaN         Dog   \n",
       "5214      05/26/2017         Adoption          Foster         Dog   \n",
       "5278      10/14/2018         Transfer         Partner         Dog   \n",
       "...              ...              ...             ...         ...   \n",
       "95321     04/24/2012  Return to Owner             NaN         Dog   \n",
       "95584     02/19/2011       Euthanasia     Rabies Risk         Dog   \n",
       "95782     03/22/2013         Adoption             NaN         Dog   \n",
       "95949     02/08/2012  Return to Owner             NaN         Dog   \n",
       "96246     01/25/2012         Adoption             NaN         Dog   \n",
       "96289     12/17/2012         Adoption             NaN         Dog   \n",
       "96320     04/01/2013         Adoption             NaN         Dog   \n",
       "96349     04/01/2013         Adoption             NaN         Dog   \n",
       "97039     07/14/2010  Return to Owner             NaN         Dog   \n",
       "97244     06/17/2013         Adoption             NaN         Dog   \n",
       "97262     04/24/2012  Return to Owner             NaN         Dog   \n",
       "97318     05/27/2013  Return to Owner             NaN         Dog   \n",
       "97423     12/30/2012         Adoption             NaN         Dog   \n",
       "97676     07/27/2013         Adoption             NaN         Dog   \n",
       "98091     10/02/2006  Return to Owner             NaN         Dog   \n",
       "98209     12/17/2011         Adoption             NaN         Dog   \n",
       "98323     12/17/2011  Return to Owner             NaN         Dog   \n",
       "98590     12/21/2009         Adoption             NaN         Dog   \n",
       "98635     02/06/2013         Adoption             NaN         Dog   \n",
       "98828     12/08/2011  Return to Owner             NaN         Dog   \n",
       "98868     01/29/2013         Adoption             NaN         Dog   \n",
       "99763     06/15/2013         Transfer         Partner         Dog   \n",
       "100478    01/06/2009  Return to Owner             NaN         Dog   \n",
       "100535    07/31/2013         Adoption             NaN         Dog   \n",
       "100568    06/18/2013         Adoption             NaN         Dog   \n",
       "100752    10/07/2007         Transfer         Partner         Cat   \n",
       "100782    12/22/2012         Adoption             NaN         Dog   \n",
       "101028    06/17/2013         Adoption             NaN         Dog   \n",
       "101555    05/27/2013  Return to Owner             NaN         Dog   \n",
       "101565    09/10/2006  Return to Owner             NaN         Dog   \n",
       "\n",
       "       Sex upon Outcome Age upon Outcome  \\\n",
       "60          Intact Male           1 year   \n",
       "131         Intact Male          2 years   \n",
       "175       Neutered Male         3 months   \n",
       "392       Neutered Male          5 years   \n",
       "458         Intact Male          2 years   \n",
       "709       Neutered Male          4 years   \n",
       "733       Neutered Male           1 year   \n",
       "1083      Neutered Male          2 years   \n",
       "1146        Intact Male          2 years   \n",
       "1305      Neutered Male          9 years   \n",
       "1436      Neutered Male         11 years   \n",
       "1933        Intact Male         9 months   \n",
       "2734      Neutered Male         13 years   \n",
       "3060      Neutered Male          2 years   \n",
       "3210      Neutered Male          3 years   \n",
       "3211      Neutered Male           1 year   \n",
       "3549        Intact Male        10 months   \n",
       "3668      Neutered Male           1 year   \n",
       "3885      Neutered Male          4 years   \n",
       "3957      Neutered Male         5 months   \n",
       "3997        Intact Male          3 years   \n",
       "4149      Neutered Male           1 year   \n",
       "4285      Neutered Male        11 months   \n",
       "4449      Neutered Male          2 years   \n",
       "4502      Neutered Male         5 months   \n",
       "4639      Neutered Male          6 years   \n",
       "5166      Neutered Male        10 months   \n",
       "5193      Neutered Male          6 years   \n",
       "5214      Neutered Male           1 year   \n",
       "5278      Neutered Male         4 months   \n",
       "...                 ...              ...   \n",
       "95321     Neutered Male           1 year   \n",
       "95584       Intact Male          3 years   \n",
       "95782     Neutered Male        10 months   \n",
       "95949     Neutered Male          2 years   \n",
       "96246     Neutered Male          2 years   \n",
       "96289     Neutered Male           1 year   \n",
       "96320     Neutered Male        10 months   \n",
       "96349     Neutered Male        10 months   \n",
       "97039     Neutered Male          3 years   \n",
       "97244     Neutered Male         6 months   \n",
       "97262     Neutered Male           1 year   \n",
       "97318     Neutered Male         7 months   \n",
       "97423     Neutered Male           1 year   \n",
       "97676     Neutered Male         5 months   \n",
       "98091     Neutered Male          7 years   \n",
       "98209     Neutered Male          2 years   \n",
       "98323     Neutered Male          2 years   \n",
       "98590     Neutered Male          3 years   \n",
       "98635     Neutered Male        10 months   \n",
       "98828     Neutered Male          2 years   \n",
       "98868     Neutered Male        10 months   \n",
       "99763     Neutered Male         5 months   \n",
       "100478    Neutered Male          4 years   \n",
       "100535    Neutered Male         3 months   \n",
       "100568    Neutered Male         4 months   \n",
       "100752    Neutered Male          6 years   \n",
       "100782    Neutered Male        10 months   \n",
       "101028    Neutered Male         4 months   \n",
       "101555    Neutered Male         4 months   \n",
       "101565    Neutered Male          7 years   \n",
       "\n",
       "                                           Breed                Color  \n",
       "60                                Rottweiler Mix            Black/Tan  \n",
       "131                                          Pug            Tan/Black  \n",
       "175                           Domestic Shorthair    Cream Tabby/White  \n",
       "392                      Chihuahua Shorthair Mix            Tan/White  \n",
       "458               Welsh Terrier/Miniature Poodle             Tan/Gray  \n",
       "709                          German Shepherd Mix          Brown/Black  \n",
       "733                                    Boxer Mix       Brown/Tricolor  \n",
       "1083                           Cairn Terrier Mix            Tan/White  \n",
       "1146                          Labrador Retriever                  Red  \n",
       "1305                          Domestic Shorthair          Black/White  \n",
       "1436                                     Maltese                White  \n",
       "1933                           Staffordshire Mix  Brown Brindle/White  \n",
       "2734                      Domestic Shorthair Mix     Blue Tabby/White  \n",
       "3060                     Chihuahua Shorthair Mix          Black/White  \n",
       "3210                                 Maltese Mix                White  \n",
       "3211                                Pit Bull Mix          White/Black  \n",
       "3549                                   Boxer Mix       Brown/Tricolor  \n",
       "3668              Golden Retriever/Border Collie            Tan/White  \n",
       "3885                               Catahoula Mix                  Red  \n",
       "3957                         German Shepherd Mix             Tricolor  \n",
       "3997                      American Bulldog/Boxer  White/Brown Brindle  \n",
       "4149                               Alaskan Husky          Brown/White  \n",
       "4285              Plott Hound/Labrador Retriever  Brown Brindle/White  \n",
       "4449                     Australian Shepherd Mix            Red/White  \n",
       "4502                               Dachshund Mix                Black  \n",
       "4639                             German Shepherd                Sable  \n",
       "5166              Plott Hound/Labrador Retriever  Brown Brindle/White  \n",
       "5193                    Jack Russell Terrier Mix          White/Brown  \n",
       "5214                           Pointer/Catahoula          Brown/White  \n",
       "5278                           Border Collie Mix                White  \n",
       "...                                          ...                  ...  \n",
       "95321                  Australian Cattle Dog Mix       Red Tick/White  \n",
       "95584                     Labrador Retriever Mix          Brown/White  \n",
       "95782                           Collie Rough Mix          White/Black  \n",
       "95949                    Chihuahua Shorthair Mix            Black/Tan  \n",
       "96246                           Beagle/Dachshund          White/Brown  \n",
       "96289         German Shepherd/Labrador Retriever          Brown/Black  \n",
       "96320                  Wire Hair Fox Terrier Mix          White/Black  \n",
       "96349                  Wire Hair Fox Terrier Mix          White/Black  \n",
       "97039                     Labrador Retriever Mix                  Tan  \n",
       "97244                     Labrador Retriever Mix          Black/White  \n",
       "97262                  Australian Cattle Dog Mix       Red Tick/White  \n",
       "97318         Labrador Retriever/German Shepherd                Black  \n",
       "97423                     Labrador Retriever Mix                Black  \n",
       "97676                               Pit Bull Mix  White/Black Brindle  \n",
       "98091                        Chihuahua Shorthair             Tricolor  \n",
       "98209                    Chihuahua Shorthair Mix          White/Brown  \n",
       "98323                   Cardigan Welsh Corgi Mix                White  \n",
       "98590                        German Shepherd Mix            Tan/White  \n",
       "98635         Anatol Shepherd/Labrador Retriever  Brown Brindle/White  \n",
       "98828                           Basset Hound Mix          Black/White  \n",
       "98868                        German Shepherd Mix          Brown/White  \n",
       "99763                    Miniature Schnauzer Mix          Black/White  \n",
       "100478                 American Pit Bull Terrier          Black/White  \n",
       "100535                    Labrador Retriever Mix                Black  \n",
       "100568                    Labrador Retriever Mix          Brown/Black  \n",
       "100752                          Russian Blue Mix                 Blue  \n",
       "100782  Jack Russell Terrier/Chihuahua Shorthair          White/Brown  \n",
       "101028                    Labrador Retriever Mix          Black/White  \n",
       "101555        Labrador Retriever/German Shepherd                Black  \n",
       "101565                                   Pug Mix          Brown/Black  \n",
       "\n",
       "[459 rows x 12 columns]"
      ]
     },
     "execution_count": 7,
     "metadata": {},
     "output_type": "execute_result"
    }
   ],
   "source": [
    "max_data = shelter_data.query('Name == \"Max\"')\n",
    "max_data.head()\n",
    "#vs\n",
    "shelter_data[shelter_data['Name']==\"Max\"]"
   ]
  },
  {
   "cell_type": "code",
   "execution_count": null,
   "metadata": {
    "slideshow": {
     "slide_type": "slide"
    }
   },
   "outputs": [],
   "source": [
    "shelter_data.rename(index=str, columns={\"Animal Type\": \"animal_type\"}, inplace = True)\n",
    "test = shelter_data.query('animal_type == \"Dog\"')\n",
    "test.head()"
   ]
  },
  {
   "cell_type": "markdown",
   "metadata": {
    "slideshow": {
     "slide_type": "slide"
    }
   },
   "source": [
    "## Goal 6: Transfering from sqlite to pandas"
   ]
  },
  {
   "cell_type": "code",
   "execution_count": null,
   "metadata": {
    "slideshow": {
     "slide_type": "fragment"
    }
   },
   "outputs": [],
   "source": [
    "conn = sqlite3.connect(\"flights.db\")\n",
    "df = pd.read_sql_query(\";\", conn)\n",
    "df"
   ]
  },
  {
   "cell_type": "markdown",
   "metadata": {
    "slideshow": {
     "slide_type": "slide"
    }
   },
   "source": [
    "**Task**: \n",
    "Convert one of the earlier queries in the lesson to a pandas data frame"
   ]
  },
  {
   "cell_type": "markdown",
   "metadata": {
    "slideshow": {
     "slide_type": "slide"
    }
   },
   "source": [
    "## Integration\n",
    "\n",
    "The [Chinook database](https://github.com/lerocha/chinook-database) is a sample database, representing a digital media store.\n",
    "\n",
    "You need to create a query that can rank tracks in term of popularity.\n",
    "\n",
    "The name of the database is `Chinook_Sqlite.sqlite`"
   ]
  },
  {
   "cell_type": "markdown",
   "metadata": {
    "slideshow": {
     "slide_type": "slide"
    }
   },
   "source": [
    "Database information:<br>\n",
    "- How many tables are in the database?\n",
    "- What's the primary key of each table?\n",
    "- What foreign keys join the tables together?\n",
    "- If you had to draw a schema of how the tables are connected, what would it look like?"
   ]
  },
  {
   "cell_type": "markdown",
   "metadata": {
    "slideshow": {
     "slide_type": "slide"
    }
   },
   "source": [
    "To answer the question:<br>\n",
    "- What are the max and min dates in the Invoice table?\n",
    "- What tables would you need to answer \"what is your most popular track?\"\n",
    "- What values from each table?"
   ]
  },
  {
   "cell_type": "code",
   "execution_count": null,
   "metadata": {
    "slideshow": {
     "slide_type": "skip"
    }
   },
   "outputs": [],
   "source": []
  },
  {
   "cell_type": "markdown",
   "metadata": {
    "slideshow": {
     "slide_type": "slide"
    }
   },
   "source": [
    "## Reflection"
   ]
  }
 ],
 "metadata": {
  "kernelspec": {
   "display_name": "Python 3",
   "language": "python",
   "name": "python3"
  },
  "language_info": {
   "codemirror_mode": {
    "name": "ipython",
    "version": 3
   },
   "file_extension": ".py",
   "mimetype": "text/x-python",
   "name": "python",
   "nbconvert_exporter": "python",
   "pygments_lexer": "ipython3",
   "version": "3.7.3"
  }
 },
 "nbformat": 4,
 "nbformat_minor": 2
}

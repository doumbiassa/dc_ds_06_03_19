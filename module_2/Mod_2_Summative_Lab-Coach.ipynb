{
 "cells": [
  {
   "cell_type": "code",
   "execution_count": 1,
   "metadata": {},
   "outputs": [],
   "source": [
    "import sqlite3\n",
    "import pandas as pd\n",
    "import numpy as np"
   ]
  },
  {
   "cell_type": "markdown",
   "metadata": {},
   "source": [
    "Upon completion of this lab, each unique team in this dataset should have a record in the MongoDB instance containing the following information:\n",
    "\n",
    "- The name of the team\n",
    "- The total number of goals scored by the team during the 2011 season\n",
    "- The total number of wins the team earned during the 2011 season\n",
    "- A histogram visualization of the team's wins and losses for the 2011 season (store the visualization directly)\n",
    "- The team's win percentage on days where it was raining during games in the 2011 season."
   ]
  },
  {
   "cell_type": "markdown",
   "metadata": {},
   "source": [
    "# Pull in the Data we need from our SQL Database"
   ]
  },
  {
   "cell_type": "code",
   "execution_count": 2,
   "metadata": {},
   "outputs": [],
   "source": [
    "conn = sqlite3.connect('database.sqlited')\n",
    "c = conn.cursor()"
   ]
  },
  {
   "cell_type": "code",
   "execution_count": 3,
   "metadata": {
    "scrolled": true
   },
   "outputs": [
    {
     "data": {
      "text/plain": [
       "[('table',\n",
       "  'sqlite_sequence',\n",
       "  'sqlite_sequence',\n",
       "  1023,\n",
       "  'CREATE TABLE sqlite_sequence(name,seq)'),\n",
       " ('table',\n",
       "  'Matches',\n",
       "  'Matches',\n",
       "  810,\n",
       "  'CREATE TABLE \"Matches\" (\\n\\t`Match_ID`\\tINTEGER NOT NULL PRIMARY KEY AUTOINCREMENT UNIQUE,\\n\\t`Div`\\tTEXT,\\n\\t`Season`\\tINT,\\n\\t`Date`\\tTEXT,\\n\\t`HomeTeam`\\tTEXT,\\n\\t`AwayTeam`\\tTEXT,\\n\\t`FTHG`\\tINT,\\n\\t`FTAG`\\tINT,\\n\\t`FTR`\\tTEXT\\n)'),\n",
       " ('index', 'sqlite_autoindex_Matches_1', 'Matches', 1502, None),\n",
       " ('table',\n",
       "  'Teams_in_Matches',\n",
       "  'Teams_in_Matches',\n",
       "  4,\n",
       "  'CREATE TABLE Teams_in_Matches(\\n  Match_ID INT,\\n  Unique_Team_ID INT\\n)'),\n",
       " ('table',\n",
       "  'Teams',\n",
       "  'Teams',\n",
       "  5,\n",
       "  'CREATE TABLE \"Teams\" (\\n\\t`Season`\\tTEXT,\\n\\t`TeamName`\\tTEXT,\\n\\t`KaderHome`\\tTEXT,\\n\\t`AvgAgeHome`\\tTEXT,\\n\\t`ForeignPlayersHome`\\tTEXT,\\n\\t`OverallMarketValueHome`\\tTEXT,\\n\\t`AvgMarketValueHome`\\tTEXT,\\n\\t`StadiumCapacity`\\tTEXT\\n)'),\n",
       " ('table',\n",
       "  'Unique_Teams',\n",
       "  'Unique_Teams',\n",
       "  7,\n",
       "  'CREATE TABLE \"Unique_Teams\" (\\n\\t`TeamName`\\tTEXT,\\n\\t`Unique_Team_ID`\\tINTEGER PRIMARY KEY AUTOINCREMENT\\n)'),\n",
       " ('view',\n",
       "  'FlatView_Chrono_TeamOrder_Reduced',\n",
       "  'FlatView_Chrono_TeamOrder_Reduced',\n",
       "  0,\n",
       "  'CREATE VIEW FlatView_Chrono_TeamOrder_Reduced\\r\\n\\tAS SELECT * ,Unique_Teams.TeamName as \"Unique_Team\"\\r\\n\\tFROM Teams_in_Matches\\r\\n\\t\\tjoin Unique_Teams\\r\\n\\t\\tjoin Matches\\r\\n\\t\\t\\tON Teams_in_Matches.Match_ID = Matches.Match_ID and Teams_in_Matches.Unique_Team_ID = Unique_Teams.Unique_Team_ID\\r\\n\\tORDER BY Teams_in_Matches.Unique_Team_ID,date(Date)'),\n",
       " ('view',\n",
       "  'FlatView_Advanced',\n",
       "  'FlatView_Advanced',\n",
       "  0,\n",
       "  \"CREATE VIEW FlatView_Advanced AS SELECT Match_ID,Unique_Team_ID,Teams.TeamName as 'Unique_Team', Div,Teams.Season, Date, HomeTeam,AwayTeam,FTHG,FTAG,FTR,KaderHome,AvgAgeHome,ForeignPlayersHome,OverallMarketValueHome,AvgMarketValueHome,StadiumCapacity FROM FlatView_Chrono_TeamOrder_Reduced join Teams ON (FlatView_Chrono_TeamOrder_Reduced.Unique_Team = Teams.TeamName) AND (FlatView_Chrono_TeamOrder_Reduced.Season = Teams.Season) ORDER BY Unique_Team_ID ASC, Date ASC\"),\n",
       " ('view',\n",
       "  'FlatView',\n",
       "  'FlatView',\n",
       "  0,\n",
       "  'CREATE VIEW FlatView AS Select Matches.Match_ID,Matches.Div,Matches.Season,Matches.Date,Matches.HomeTeam,Matches.AwayTeam,Matches.FTHG,Matches.FTAG,Matches.FTR, Teams.AvgAgeHome, x.AvgAgeHome as AvgAgeAway, Teams.ForeignPlayersHome, x.ForeignPlayersHome as ForeignplayersAways, Teams.KaderHome,x.KaderHome as KaderAway, Teams.StadiumCapacity,x.StadiumCapacity as StadiumCapacityAway, Teams.AvgMarketValueHome,x.AvgMarketValueHome as MarketValueAway, Teams.OverallMarketValueHome, x.OverallMarketValueHome as OverallMarketValueAway FROM Matches join Teams ON Matches.HomeTeam = Teams.TeamName AND Matches.Season=Teams.Season inner join Teams as x ON Matches.AwayTeam=x.TeamName AND Matches.Season = x.Season')]"
      ]
     },
     "execution_count": 3,
     "metadata": {},
     "output_type": "execute_result"
    }
   ],
   "source": [
    "c.execute('''SELECT * FROM sqlite_master\n",
    "''').fetchall()"
   ]
  },
  {
   "cell_type": "code",
   "execution_count": 4,
   "metadata": {},
   "outputs": [
    {
     "data": {
      "text/plain": [
       "[(1, 'D2', 2009, '2010-04-04', 'Oberhausen', 'Kaiserslautern', 2, 1, 'H')]"
      ]
     },
     "execution_count": 4,
     "metadata": {},
     "output_type": "execute_result"
    }
   ],
   "source": [
    "c.execute('''\n",
    "SELECT * FROM Matches\n",
    "LIMIT 1''').fetchall()"
   ]
  },
  {
   "cell_type": "markdown",
   "metadata": {},
   "source": [
    "#### Let's grab all matches from the 2011 season"
   ]
  },
  {
   "cell_type": "code",
   "execution_count": 5,
   "metadata": {},
   "outputs": [
    {
     "data": {
      "text/plain": [
       "<sqlite3.Cursor at 0x113f4a500>"
      ]
     },
     "execution_count": 5,
     "metadata": {},
     "output_type": "execute_result"
    }
   ],
   "source": [
    "c.execute('''\n",
    "SELECT * FROM Matches\n",
    "WHERE Season LIKE '2011'\n",
    "''')"
   ]
  },
  {
   "cell_type": "markdown",
   "metadata": {},
   "source": [
    "## Convert to a pd.DataFrame"
   ]
  },
  {
   "cell_type": "code",
   "execution_count": 6,
   "metadata": {},
   "outputs": [],
   "source": [
    "matches_df = pd.DataFrame(c.fetchall())\n",
    "\n",
    "matches_df.columns = [i[0] for i in c.description]"
   ]
  },
  {
   "cell_type": "code",
   "execution_count": 7,
   "metadata": {},
   "outputs": [
    {
     "data": {
      "text/html": [
       "<div>\n",
       "<style scoped>\n",
       "    .dataframe tbody tr th:only-of-type {\n",
       "        vertical-align: middle;\n",
       "    }\n",
       "\n",
       "    .dataframe tbody tr th {\n",
       "        vertical-align: top;\n",
       "    }\n",
       "\n",
       "    .dataframe thead th {\n",
       "        text-align: right;\n",
       "    }\n",
       "</style>\n",
       "<table border=\"1\" class=\"dataframe\">\n",
       "  <thead>\n",
       "    <tr style=\"text-align: right;\">\n",
       "      <th></th>\n",
       "      <th>Match_ID</th>\n",
       "      <th>Div</th>\n",
       "      <th>Season</th>\n",
       "      <th>Date</th>\n",
       "      <th>HomeTeam</th>\n",
       "      <th>AwayTeam</th>\n",
       "      <th>FTHG</th>\n",
       "      <th>FTAG</th>\n",
       "      <th>FTR</th>\n",
       "    </tr>\n",
       "  </thead>\n",
       "  <tbody>\n",
       "    <tr>\n",
       "      <th>0</th>\n",
       "      <td>1092</td>\n",
       "      <td>D1</td>\n",
       "      <td>2011</td>\n",
       "      <td>2012-03-31</td>\n",
       "      <td>Nurnberg</td>\n",
       "      <td>Bayern Munich</td>\n",
       "      <td>0</td>\n",
       "      <td>1</td>\n",
       "      <td>A</td>\n",
       "    </tr>\n",
       "    <tr>\n",
       "      <th>1</th>\n",
       "      <td>1093</td>\n",
       "      <td>D1</td>\n",
       "      <td>2011</td>\n",
       "      <td>2011-12-11</td>\n",
       "      <td>Stuttgart</td>\n",
       "      <td>Bayern Munich</td>\n",
       "      <td>1</td>\n",
       "      <td>2</td>\n",
       "      <td>A</td>\n",
       "    </tr>\n",
       "    <tr>\n",
       "      <th>2</th>\n",
       "      <td>1094</td>\n",
       "      <td>D1</td>\n",
       "      <td>2011</td>\n",
       "      <td>2011-08-13</td>\n",
       "      <td>Wolfsburg</td>\n",
       "      <td>Bayern Munich</td>\n",
       "      <td>0</td>\n",
       "      <td>1</td>\n",
       "      <td>A</td>\n",
       "    </tr>\n",
       "    <tr>\n",
       "      <th>3</th>\n",
       "      <td>1095</td>\n",
       "      <td>D1</td>\n",
       "      <td>2011</td>\n",
       "      <td>2011-11-27</td>\n",
       "      <td>Mainz</td>\n",
       "      <td>Bayern Munich</td>\n",
       "      <td>3</td>\n",
       "      <td>2</td>\n",
       "      <td>H</td>\n",
       "    </tr>\n",
       "    <tr>\n",
       "      <th>4</th>\n",
       "      <td>1096</td>\n",
       "      <td>D1</td>\n",
       "      <td>2011</td>\n",
       "      <td>2012-02-18</td>\n",
       "      <td>Freiburg</td>\n",
       "      <td>Bayern Munich</td>\n",
       "      <td>0</td>\n",
       "      <td>0</td>\n",
       "      <td>D</td>\n",
       "    </tr>\n",
       "  </tbody>\n",
       "</table>\n",
       "</div>"
      ],
      "text/plain": [
       "   Match_ID Div  Season        Date   HomeTeam       AwayTeam  FTHG  FTAG FTR\n",
       "0      1092  D1    2011  2012-03-31   Nurnberg  Bayern Munich     0     1   A\n",
       "1      1093  D1    2011  2011-12-11  Stuttgart  Bayern Munich     1     2   A\n",
       "2      1094  D1    2011  2011-08-13  Wolfsburg  Bayern Munich     0     1   A\n",
       "3      1095  D1    2011  2011-11-27      Mainz  Bayern Munich     3     2   H\n",
       "4      1096  D1    2011  2012-02-18   Freiburg  Bayern Munich     0     0   D"
      ]
     },
     "execution_count": 7,
     "metadata": {},
     "output_type": "execute_result"
    }
   ],
   "source": [
    "matches_df.head()"
   ]
  },
  {
   "cell_type": "code",
   "execution_count": 8,
   "metadata": {},
   "outputs": [
    {
     "data": {
      "text/plain": [
       "(992, 9)"
      ]
     },
     "execution_count": 8,
     "metadata": {},
     "output_type": "execute_result"
    }
   ],
   "source": [
    "matches_df.shape"
   ]
  },
  {
   "cell_type": "code",
   "execution_count": 9,
   "metadata": {},
   "outputs": [
    {
     "data": {
      "text/plain": [
       "0"
      ]
     },
     "execution_count": 9,
     "metadata": {},
     "output_type": "execute_result"
    }
   ],
   "source": [
    "matches_df.duplicated().sum()"
   ]
  },
  {
   "cell_type": "markdown",
   "metadata": {},
   "source": [
    "#### Let's find the winning team in each match"
   ]
  },
  {
   "cell_type": "code",
   "execution_count": 10,
   "metadata": {},
   "outputs": [],
   "source": [
    "def winning_team(x):\n",
    "    if x['FTR'] == 'D':\n",
    "        return 'Draw'\n",
    "    elif x['FTR'] == 'H':\n",
    "        return x['HomeTeam']\n",
    "    else:\n",
    "        return x['AwayTeam']"
   ]
  },
  {
   "cell_type": "code",
   "execution_count": 11,
   "metadata": {},
   "outputs": [],
   "source": [
    "matches_df['Winner'] = 0"
   ]
  },
  {
   "cell_type": "code",
   "execution_count": 12,
   "metadata": {
    "scrolled": true
   },
   "outputs": [
    {
     "data": {
      "text/plain": [
       "0      Bayern Munich\n",
       "1      Bayern Munich\n",
       "2      Bayern Munich\n",
       "3              Mainz\n",
       "4               Draw\n",
       "5         M'gladbach\n",
       "6               Draw\n",
       "7      Bayern Munich\n",
       "8      Bayern Munich\n",
       "9           Hannover\n",
       "10              Draw\n",
       "11        Leverkusen\n",
       "12     Bayern Munich\n",
       "13     Bayern Munich\n",
       "14     Bayern Munich\n",
       "15     Bayern Munich\n",
       "16          Dortmund\n",
       "17              Draw\n",
       "18          Dortmund\n",
       "19          Dortmund\n",
       "20          Dortmund\n",
       "21        Hoffenheim\n",
       "22              Draw\n",
       "23          Dortmund\n",
       "24              Draw\n",
       "25          Dortmund\n",
       "26          Hannover\n",
       "27          Dortmund\n",
       "28              Draw\n",
       "29          Dortmund\n",
       "           ...      \n",
       "962             Draw\n",
       "963             Draw\n",
       "964            Wigan\n",
       "965          Chelsea\n",
       "966        Tottenham\n",
       "967         Man City\n",
       "968           Fulham\n",
       "969             Draw\n",
       "970        Tottenham\n",
       "971        Newcastle\n",
       "972             Draw\n",
       "973             Draw\n",
       "974             Draw\n",
       "975           Fulham\n",
       "976       Man United\n",
       "977         Man City\n",
       "978              QPR\n",
       "979             Draw\n",
       "980            Wigan\n",
       "981        Liverpool\n",
       "982          Chelsea\n",
       "983          Everton\n",
       "984         Man City\n",
       "985          Norwich\n",
       "986             Draw\n",
       "987       Man United\n",
       "988          Swansea\n",
       "989        Tottenham\n",
       "990          Arsenal\n",
       "991            Wigan\n",
       "Length: 992, dtype: object"
      ]
     },
     "execution_count": 12,
     "metadata": {},
     "output_type": "execute_result"
    }
   ],
   "source": [
    "matches_df.apply(winning_team, axis = 1)"
   ]
  },
  {
   "cell_type": "code",
   "execution_count": 13,
   "metadata": {},
   "outputs": [],
   "source": [
    "matches_df['Winner'] = matches_df.apply(winning_team, axis = 1)"
   ]
  },
  {
   "cell_type": "code",
   "execution_count": 14,
   "metadata": {},
   "outputs": [
    {
     "data": {
      "text/html": [
       "<div>\n",
       "<style scoped>\n",
       "    .dataframe tbody tr th:only-of-type {\n",
       "        vertical-align: middle;\n",
       "    }\n",
       "\n",
       "    .dataframe tbody tr th {\n",
       "        vertical-align: top;\n",
       "    }\n",
       "\n",
       "    .dataframe thead th {\n",
       "        text-align: right;\n",
       "    }\n",
       "</style>\n",
       "<table border=\"1\" class=\"dataframe\">\n",
       "  <thead>\n",
       "    <tr style=\"text-align: right;\">\n",
       "      <th></th>\n",
       "      <th>Match_ID</th>\n",
       "      <th>Div</th>\n",
       "      <th>Season</th>\n",
       "      <th>Date</th>\n",
       "      <th>HomeTeam</th>\n",
       "      <th>AwayTeam</th>\n",
       "      <th>FTHG</th>\n",
       "      <th>FTAG</th>\n",
       "      <th>FTR</th>\n",
       "      <th>Winner</th>\n",
       "    </tr>\n",
       "  </thead>\n",
       "  <tbody>\n",
       "    <tr>\n",
       "      <th>0</th>\n",
       "      <td>1092</td>\n",
       "      <td>D1</td>\n",
       "      <td>2011</td>\n",
       "      <td>2012-03-31</td>\n",
       "      <td>Nurnberg</td>\n",
       "      <td>Bayern Munich</td>\n",
       "      <td>0</td>\n",
       "      <td>1</td>\n",
       "      <td>A</td>\n",
       "      <td>Bayern Munich</td>\n",
       "    </tr>\n",
       "    <tr>\n",
       "      <th>1</th>\n",
       "      <td>1093</td>\n",
       "      <td>D1</td>\n",
       "      <td>2011</td>\n",
       "      <td>2011-12-11</td>\n",
       "      <td>Stuttgart</td>\n",
       "      <td>Bayern Munich</td>\n",
       "      <td>1</td>\n",
       "      <td>2</td>\n",
       "      <td>A</td>\n",
       "      <td>Bayern Munich</td>\n",
       "    </tr>\n",
       "    <tr>\n",
       "      <th>2</th>\n",
       "      <td>1094</td>\n",
       "      <td>D1</td>\n",
       "      <td>2011</td>\n",
       "      <td>2011-08-13</td>\n",
       "      <td>Wolfsburg</td>\n",
       "      <td>Bayern Munich</td>\n",
       "      <td>0</td>\n",
       "      <td>1</td>\n",
       "      <td>A</td>\n",
       "      <td>Bayern Munich</td>\n",
       "    </tr>\n",
       "    <tr>\n",
       "      <th>3</th>\n",
       "      <td>1095</td>\n",
       "      <td>D1</td>\n",
       "      <td>2011</td>\n",
       "      <td>2011-11-27</td>\n",
       "      <td>Mainz</td>\n",
       "      <td>Bayern Munich</td>\n",
       "      <td>3</td>\n",
       "      <td>2</td>\n",
       "      <td>H</td>\n",
       "      <td>Mainz</td>\n",
       "    </tr>\n",
       "    <tr>\n",
       "      <th>4</th>\n",
       "      <td>1096</td>\n",
       "      <td>D1</td>\n",
       "      <td>2011</td>\n",
       "      <td>2012-02-18</td>\n",
       "      <td>Freiburg</td>\n",
       "      <td>Bayern Munich</td>\n",
       "      <td>0</td>\n",
       "      <td>0</td>\n",
       "      <td>D</td>\n",
       "      <td>Draw</td>\n",
       "    </tr>\n",
       "  </tbody>\n",
       "</table>\n",
       "</div>"
      ],
      "text/plain": [
       "   Match_ID Div  Season        Date   HomeTeam       AwayTeam  FTHG  FTAG FTR  \\\n",
       "0      1092  D1    2011  2012-03-31   Nurnberg  Bayern Munich     0     1   A   \n",
       "1      1093  D1    2011  2011-12-11  Stuttgart  Bayern Munich     1     2   A   \n",
       "2      1094  D1    2011  2011-08-13  Wolfsburg  Bayern Munich     0     1   A   \n",
       "3      1095  D1    2011  2011-11-27      Mainz  Bayern Munich     3     2   H   \n",
       "4      1096  D1    2011  2012-02-18   Freiburg  Bayern Munich     0     0   D   \n",
       "\n",
       "          Winner  \n",
       "0  Bayern Munich  \n",
       "1  Bayern Munich  \n",
       "2  Bayern Munich  \n",
       "3          Mainz  \n",
       "4           Draw  "
      ]
     },
     "execution_count": 14,
     "metadata": {},
     "output_type": "execute_result"
    }
   ],
   "source": [
    "matches_df.head()"
   ]
  },
  {
   "cell_type": "markdown",
   "metadata": {},
   "source": [
    "### Setting up away and home win/loss/draw information to use groupby later"
   ]
  },
  {
   "cell_type": "code",
   "execution_count": 15,
   "metadata": {},
   "outputs": [],
   "source": [
    "def away_wins(x):\n",
    "    if x['FTR'] == 'A':\n",
    "        return 1\n",
    "    else:\n",
    "        return 0"
   ]
  },
  {
   "cell_type": "code",
   "execution_count": 16,
   "metadata": {},
   "outputs": [],
   "source": [
    "def home_wins(x):\n",
    "    if x['FTR'] == 'H':\n",
    "        return 1\n",
    "    else:\n",
    "        return 0"
   ]
  },
  {
   "cell_type": "code",
   "execution_count": 17,
   "metadata": {},
   "outputs": [],
   "source": [
    "def draws(x):\n",
    "    if x['FTR'] == 'D':\n",
    "        return 1\n",
    "    else:\n",
    "        return 0"
   ]
  },
  {
   "cell_type": "code",
   "execution_count": 18,
   "metadata": {},
   "outputs": [],
   "source": [
    "def away_losses(x):\n",
    "    if x['FTR'] != 'A' and x['FTR'] != 'D':\n",
    "        return 1\n",
    "    else:\n",
    "        return 0"
   ]
  },
  {
   "cell_type": "code",
   "execution_count": 19,
   "metadata": {},
   "outputs": [],
   "source": [
    "def home_losses(x):\n",
    "    if x['FTR'] != 'H' and x['FTR'] != 'D':\n",
    "        return 1\n",
    "    else:\n",
    "        return 0"
   ]
  },
  {
   "cell_type": "code",
   "execution_count": 20,
   "metadata": {},
   "outputs": [],
   "source": [
    "matches_df['away_wins'] = matches_df.apply(away_wins, axis = 1)\n",
    "\n",
    "matches_df['home_wins'] = matches_df.apply(home_wins, axis = 1)\n",
    "\n",
    "matches_df['draws'] = matches_df.apply(draws, axis = 1)\n",
    "\n",
    "matches_df['away_losses'] = matches_df.apply(away_losses, axis = 1)\n",
    "\n",
    "matches_df['home_losses'] = matches_df.apply(home_losses, axis = 1)"
   ]
  },
  {
   "cell_type": "code",
   "execution_count": 21,
   "metadata": {
    "scrolled": true
   },
   "outputs": [
    {
     "data": {
      "text/html": [
       "<div>\n",
       "<style scoped>\n",
       "    .dataframe tbody tr th:only-of-type {\n",
       "        vertical-align: middle;\n",
       "    }\n",
       "\n",
       "    .dataframe tbody tr th {\n",
       "        vertical-align: top;\n",
       "    }\n",
       "\n",
       "    .dataframe thead th {\n",
       "        text-align: right;\n",
       "    }\n",
       "</style>\n",
       "<table border=\"1\" class=\"dataframe\">\n",
       "  <thead>\n",
       "    <tr style=\"text-align: right;\">\n",
       "      <th></th>\n",
       "      <th>Match_ID</th>\n",
       "      <th>Div</th>\n",
       "      <th>Season</th>\n",
       "      <th>Date</th>\n",
       "      <th>HomeTeam</th>\n",
       "      <th>AwayTeam</th>\n",
       "      <th>FTHG</th>\n",
       "      <th>FTAG</th>\n",
       "      <th>FTR</th>\n",
       "      <th>Winner</th>\n",
       "      <th>away_wins</th>\n",
       "      <th>home_wins</th>\n",
       "      <th>draws</th>\n",
       "      <th>away_losses</th>\n",
       "      <th>home_losses</th>\n",
       "    </tr>\n",
       "  </thead>\n",
       "  <tbody>\n",
       "    <tr>\n",
       "      <th>0</th>\n",
       "      <td>1092</td>\n",
       "      <td>D1</td>\n",
       "      <td>2011</td>\n",
       "      <td>2012-03-31</td>\n",
       "      <td>Nurnberg</td>\n",
       "      <td>Bayern Munich</td>\n",
       "      <td>0</td>\n",
       "      <td>1</td>\n",
       "      <td>A</td>\n",
       "      <td>Bayern Munich</td>\n",
       "      <td>1</td>\n",
       "      <td>0</td>\n",
       "      <td>0</td>\n",
       "      <td>0</td>\n",
       "      <td>1</td>\n",
       "    </tr>\n",
       "    <tr>\n",
       "      <th>1</th>\n",
       "      <td>1093</td>\n",
       "      <td>D1</td>\n",
       "      <td>2011</td>\n",
       "      <td>2011-12-11</td>\n",
       "      <td>Stuttgart</td>\n",
       "      <td>Bayern Munich</td>\n",
       "      <td>1</td>\n",
       "      <td>2</td>\n",
       "      <td>A</td>\n",
       "      <td>Bayern Munich</td>\n",
       "      <td>1</td>\n",
       "      <td>0</td>\n",
       "      <td>0</td>\n",
       "      <td>0</td>\n",
       "      <td>1</td>\n",
       "    </tr>\n",
       "    <tr>\n",
       "      <th>2</th>\n",
       "      <td>1094</td>\n",
       "      <td>D1</td>\n",
       "      <td>2011</td>\n",
       "      <td>2011-08-13</td>\n",
       "      <td>Wolfsburg</td>\n",
       "      <td>Bayern Munich</td>\n",
       "      <td>0</td>\n",
       "      <td>1</td>\n",
       "      <td>A</td>\n",
       "      <td>Bayern Munich</td>\n",
       "      <td>1</td>\n",
       "      <td>0</td>\n",
       "      <td>0</td>\n",
       "      <td>0</td>\n",
       "      <td>1</td>\n",
       "    </tr>\n",
       "    <tr>\n",
       "      <th>3</th>\n",
       "      <td>1095</td>\n",
       "      <td>D1</td>\n",
       "      <td>2011</td>\n",
       "      <td>2011-11-27</td>\n",
       "      <td>Mainz</td>\n",
       "      <td>Bayern Munich</td>\n",
       "      <td>3</td>\n",
       "      <td>2</td>\n",
       "      <td>H</td>\n",
       "      <td>Mainz</td>\n",
       "      <td>0</td>\n",
       "      <td>1</td>\n",
       "      <td>0</td>\n",
       "      <td>1</td>\n",
       "      <td>0</td>\n",
       "    </tr>\n",
       "    <tr>\n",
       "      <th>4</th>\n",
       "      <td>1096</td>\n",
       "      <td>D1</td>\n",
       "      <td>2011</td>\n",
       "      <td>2012-02-18</td>\n",
       "      <td>Freiburg</td>\n",
       "      <td>Bayern Munich</td>\n",
       "      <td>0</td>\n",
       "      <td>0</td>\n",
       "      <td>D</td>\n",
       "      <td>Draw</td>\n",
       "      <td>0</td>\n",
       "      <td>0</td>\n",
       "      <td>1</td>\n",
       "      <td>0</td>\n",
       "      <td>0</td>\n",
       "    </tr>\n",
       "  </tbody>\n",
       "</table>\n",
       "</div>"
      ],
      "text/plain": [
       "   Match_ID Div  Season        Date   HomeTeam       AwayTeam  FTHG  FTAG FTR  \\\n",
       "0      1092  D1    2011  2012-03-31   Nurnberg  Bayern Munich     0     1   A   \n",
       "1      1093  D1    2011  2011-12-11  Stuttgart  Bayern Munich     1     2   A   \n",
       "2      1094  D1    2011  2011-08-13  Wolfsburg  Bayern Munich     0     1   A   \n",
       "3      1095  D1    2011  2011-11-27      Mainz  Bayern Munich     3     2   H   \n",
       "4      1096  D1    2011  2012-02-18   Freiburg  Bayern Munich     0     0   D   \n",
       "\n",
       "          Winner  away_wins  home_wins  draws  away_losses  home_losses  \n",
       "0  Bayern Munich          1          0      0            0            1  \n",
       "1  Bayern Munich          1          0      0            0            1  \n",
       "2  Bayern Munich          1          0      0            0            1  \n",
       "3          Mainz          0          1      0            1            0  \n",
       "4           Draw          0          0      1            0            0  "
      ]
     },
     "execution_count": 21,
     "metadata": {},
     "output_type": "execute_result"
    }
   ],
   "source": [
    "matches_df.head()"
   ]
  },
  {
   "cell_type": "markdown",
   "metadata": {},
   "source": [
    "### Let's check if our groupby now works to get the total wins, draws, and losses for each team "
   ]
  },
  {
   "cell_type": "code",
   "execution_count": 22,
   "metadata": {
    "scrolled": true
   },
   "outputs": [
    {
     "data": {
      "text/plain": [
       "home_wins      12\n",
       "draws           4\n",
       "home_losses     3\n",
       "Name: Arsenal, dtype: int64"
      ]
     },
     "execution_count": 22,
     "metadata": {},
     "output_type": "execute_result"
    }
   ],
   "source": [
    "# Wins and draws at HOME per team\n",
    "\n",
    "matches_df.groupby(['HomeTeam'])[['home_wins', 'draws', 'home_losses']].sum().loc['Arsenal', :]"
   ]
  },
  {
   "cell_type": "code",
   "execution_count": 23,
   "metadata": {
    "scrolled": true
   },
   "outputs": [
    {
     "data": {
      "text/plain": [
       "away_wins      9\n",
       "draws          3\n",
       "away_losses    7\n",
       "Name: Arsenal, dtype: int64"
      ]
     },
     "execution_count": 23,
     "metadata": {},
     "output_type": "execute_result"
    }
   ],
   "source": [
    "# Wins and draws AWAY per team\n",
    "\n",
    "matches_df.groupby(['AwayTeam'])[['away_wins', 'draws', 'away_losses']].sum().loc['Arsenal', :]"
   ]
  },
  {
   "cell_type": "markdown",
   "metadata": {},
   "source": [
    "### We can make sure our numbers are correct. I will use Arsenal's record as a check"
   ]
  },
  {
   "cell_type": "markdown",
   "metadata": {},
   "source": [
    "#### According to our groupbys Arsenal played 19 home games, and 19 away games"
   ]
  },
  {
   "cell_type": "code",
   "execution_count": 24,
   "metadata": {
    "scrolled": true
   },
   "outputs": [
    {
     "data": {
      "text/plain": [
       "19"
      ]
     },
     "execution_count": 24,
     "metadata": {},
     "output_type": "execute_result"
    }
   ],
   "source": [
    "# total home games played\n",
    "\n",
    "matches_df.groupby(['HomeTeam'])['home_wins'].count()['Arsenal']"
   ]
  },
  {
   "cell_type": "code",
   "execution_count": 25,
   "metadata": {
    "scrolled": true
   },
   "outputs": [
    {
     "data": {
      "text/plain": [
       "19"
      ]
     },
     "execution_count": 25,
     "metadata": {},
     "output_type": "execute_result"
    }
   ],
   "source": [
    "# Total away games played\n",
    "\n",
    "matches_df.groupby(['AwayTeam'])['away_wins'].count()['Arsenal']"
   ]
  },
  {
   "cell_type": "markdown",
   "metadata": {},
   "source": [
    "#### They had 12 wins and 4 draws at home, which leaves them with a 12 - 4 - 3 record\n",
    "#### They had 9 wins and 3 draws away, which leaves them with a 9-3-7 record\n",
    "#### Adding these up gives a 21-7-10 record which is correct based on a Google search of Arsenal's 2011-2012 record"
   ]
  },
  {
   "cell_type": "markdown",
   "metadata": {},
   "source": [
    "## Groupby to calculate home and away losses"
   ]
  },
  {
   "cell_type": "code",
   "execution_count": 26,
   "metadata": {
    "scrolled": true
   },
   "outputs": [
    {
     "data": {
      "text/plain": [
       "HomeTeam\n",
       "Aachen                 7\n",
       "Arsenal                3\n",
       "Aston Villa            8\n",
       "Augsburg               4\n",
       "Bayern Munich          2\n",
       "Blackburn             12\n",
       "Bochum                 7\n",
       "Bolton                11\n",
       "Braunschweig           3\n",
       "Chelsea                4\n",
       "Cottbus                5\n",
       "Dortmund               1\n",
       "Dresden                4\n",
       "Duisburg               7\n",
       "Ein Frankfurt          1\n",
       "Erzgebirge Aue         5\n",
       "Everton                6\n",
       "FC Koln                8\n",
       "Fortuna Dusseldorf     1\n",
       "Frankfurt FSV          4\n",
       "Freiburg               5\n",
       "Fulham                 4\n",
       "Greuther Furth         2\n",
       "Hamburg                7\n",
       "Hannover               0\n",
       "Hansa Rostock          7\n",
       "Hertha                10\n",
       "Hoffenheim             4\n",
       "Ingolstadt             3\n",
       "Kaiserslautern        10\n",
       "Karlsruhe              6\n",
       "Leverkusen             5\n",
       "Liverpool              4\n",
       "M'gladbach             1\n",
       "Mainz                  7\n",
       "Man City               0\n",
       "Man United             2\n",
       "Munich 1860            5\n",
       "Newcastle              3\n",
       "Norwich                6\n",
       "Nurnberg               7\n",
       "Paderborn              2\n",
       "QPR                    7\n",
       "Schalke 04             3\n",
       "St Pauli               2\n",
       "Stoke                  4\n",
       "Stuttgart              4\n",
       "Sunderland             5\n",
       "Swansea                4\n",
       "Tottenham              3\n",
       "Union Berlin           4\n",
       "Werder Bremen          5\n",
       "West Brom             10\n",
       "Wigan                  7\n",
       "Wolfsburg              5\n",
       "Wolves                13\n",
       "dtype: int64"
      ]
     },
     "execution_count": 26,
     "metadata": {},
     "output_type": "execute_result"
    }
   ],
   "source": [
    "matches_df.groupby(['HomeTeam'])['home_wins'].count() - (matches_df.groupby(['HomeTeam'])['home_wins'].sum() + \n",
    "                                                         matches_df.groupby(['HomeTeam'])['draws'].sum())"
   ]
  },
  {
   "cell_type": "code",
   "execution_count": 27,
   "metadata": {
    "scrolled": true
   },
   "outputs": [
    {
     "data": {
      "text/plain": [
       "AwayTeam\n",
       "Aachen                 8\n",
       "Arsenal                7\n",
       "Aston Villa            6\n",
       "Augsburg               8\n",
       "Bayern Munich          5\n",
       "Blackburn             11\n",
       "Bochum                10\n",
       "Bolton                11\n",
       "Braunschweig           6\n",
       "Chelsea                6\n",
       "Cottbus               10\n",
       "Dortmund               2\n",
       "Dresden                9\n",
       "Duisburg               8\n",
       "Ein Frankfurt          5\n",
       "Erzgebirge Aue        10\n",
       "Everton                6\n",
       "FC Koln               12\n",
       "Fortuna Dusseldorf     3\n",
       "Frankfurt FSV          9\n",
       "Freiburg               9\n",
       "Fulham                10\n",
       "Greuther Furth         2\n",
       "Hamburg                7\n",
       "Hannover              10\n",
       "Hansa Rostock         10\n",
       "Hertha                 7\n",
       "Hoffenheim             9\n",
       "Ingolstadt            10\n",
       "Kaiserslautern         9\n",
       "Karlsruhe             13\n",
       "Leverkusen             5\n",
       "Liverpool             10\n",
       "M'gladbach             7\n",
       "Mainz                  6\n",
       "Man City               5\n",
       "Man United             3\n",
       "Munich 1860            6\n",
       "Newcastle              8\n",
       "Norwich                9\n",
       "Nurnberg               9\n",
       "Paderborn              5\n",
       "QPR                   14\n",
       "Schalke 04             7\n",
       "St Pauli               6\n",
       "Stoke                 11\n",
       "Stuttgart              7\n",
       "Sunderland            10\n",
       "Swansea               11\n",
       "Tottenham              6\n",
       "Union Berlin          10\n",
       "Werder Bremen          9\n",
       "West Brom              7\n",
       "Wigan                 10\n",
       "Wolfsburg             11\n",
       "Wolves                10\n",
       "dtype: int64"
      ]
     },
     "execution_count": 27,
     "metadata": {},
     "output_type": "execute_result"
    }
   ],
   "source": [
    "matches_df.groupby(['AwayTeam'])['away_wins'].count() - (matches_df.groupby(['AwayTeam'])['away_wins'].sum() + \n",
    "                                                         matches_df.groupby(['AwayTeam'])['draws'].sum())"
   ]
  },
  {
   "cell_type": "markdown",
   "metadata": {},
   "source": [
    "# Grabbing data from our API. We need to add rain data before aggregating"
   ]
  },
  {
   "cell_type": "code",
   "execution_count": 28,
   "metadata": {},
   "outputs": [],
   "source": [
    "import requests\n",
    "import time\n",
    "from datetime import datetime"
   ]
  },
  {
   "cell_type": "markdown",
   "metadata": {},
   "source": [
    "Berlin lat/long 52.5200° N, 13.4050° E"
   ]
  },
  {
   "cell_type": "code",
   "execution_count": 29,
   "metadata": {},
   "outputs": [],
   "source": [
    "ds_api_key = '6fdc7f29110982cccf792ed57cd127e7'"
   ]
  },
  {
   "cell_type": "markdown",
   "metadata": {},
   "source": [
    "Unneeded info\n",
    "\n",
    "currently\n",
    "minutely\n",
    "hourly\n",
    "alerts\n",
    "flags"
   ]
  },
  {
   "cell_type": "code",
   "execution_count": 30,
   "metadata": {},
   "outputs": [],
   "source": [
    "req = requests.api.get(\n",
    "    f'https://api.darksky.net/forecast/{ds_api_key}/52.52,13.405,2018-05-13T10:00:00?exclude=hourly')"
   ]
  },
  {
   "cell_type": "code",
   "execution_count": 31,
   "metadata": {
    "scrolled": true
   },
   "outputs": [
    {
     "data": {
      "text/plain": [
       "{'latitude': 52.52,\n",
       " 'longitude': 13.405,\n",
       " 'timezone': 'Europe/Berlin',\n",
       " 'currently': {'time': 1526198400,\n",
       "  'summary': 'Clear',\n",
       "  'icon': 'clear-day',\n",
       "  'precipIntensity': 0,\n",
       "  'precipProbability': 0,\n",
       "  'temperature': 73.61,\n",
       "  'apparentTemperature': 73.61,\n",
       "  'dewPoint': 55.06,\n",
       "  'humidity': 0.52,\n",
       "  'windSpeed': 4.97,\n",
       "  'windGust': 9.08,\n",
       "  'windBearing': 71,\n",
       "  'visibility': 6.216},\n",
       " 'daily': {'data': [{'time': 1526162400,\n",
       "    'summary': 'Clear throughout the day.',\n",
       "    'icon': 'clear-day',\n",
       "    'sunriseTime': 1526181281,\n",
       "    'sunsetTime': 1526237613,\n",
       "    'moonPhase': 0.94,\n",
       "    'precipIntensity': 0,\n",
       "    'precipIntensityMax': 0,\n",
       "    'precipProbability': 0,\n",
       "    'temperatureHigh': 79.82,\n",
       "    'temperatureHighTime': 1526216400,\n",
       "    'temperatureLow': 57.44,\n",
       "    'temperatureLowTime': 1526270400,\n",
       "    'apparentTemperatureHigh': 79.82,\n",
       "    'apparentTemperatureHighTime': 1526216400,\n",
       "    'apparentTemperatureLow': 57.44,\n",
       "    'apparentTemperatureLowTime': 1526270400,\n",
       "    'dewPoint': 49.45,\n",
       "    'humidity': 0.55,\n",
       "    'windSpeed': 5.75,\n",
       "    'windGust': 18.92,\n",
       "    'windGustTime': 1526212800,\n",
       "    'windBearing': 73,\n",
       "    'uvIndex': 0,\n",
       "    'uvIndexTime': 1526184000,\n",
       "    'visibility': 6.182,\n",
       "    'temperatureMin': 57.51,\n",
       "    'temperatureMinTime': 1526180400,\n",
       "    'temperatureMax': 79.82,\n",
       "    'temperatureMaxTime': 1526216400,\n",
       "    'apparentTemperatureMin': 57.51,\n",
       "    'apparentTemperatureMinTime': 1526180400,\n",
       "    'apparentTemperatureMax': 79.82,\n",
       "    'apparentTemperatureMaxTime': 1526216400}]},\n",
       " 'flags': {'sources': ['cmc', 'gfs', 'icon', 'isd', 'madis'],\n",
       "  'nearest-station': 1.233,\n",
       "  'units': 'us'},\n",
       " 'offset': 2}"
      ]
     },
     "execution_count": 31,
     "metadata": {},
     "output_type": "execute_result"
    }
   ],
   "source": [
    "req.json()"
   ]
  },
  {
   "cell_type": "code",
   "execution_count": 32,
   "metadata": {},
   "outputs": [
    {
     "data": {
      "text/plain": [
       "0"
      ]
     },
     "execution_count": 32,
     "metadata": {},
     "output_type": "execute_result"
    }
   ],
   "source": [
    "req.json()['daily']['data'][0]['precipIntensityMax']"
   ]
  },
  {
   "cell_type": "code",
   "execution_count": 33,
   "metadata": {
    "scrolled": true
   },
   "outputs": [
    {
     "data": {
      "text/plain": [
       "array(['2012-03-31', '2011-12-11', '2011-08-13', '2011-11-27',\n",
       "       '2012-02-18', '2012-01-20', '2012-02-04', '2012-04-21',\n",
       "       '2011-09-18', '2011-10-23', '2011-10-01', '2012-03-03',\n",
       "       '2011-08-27', '2012-03-17', '2011-11-06', '2012-05-05',\n",
       "       '2012-04-11', '2011-12-17', '2012-02-03', '2011-10-29',\n",
       "       '2012-01-22', '2011-12-03', '2012-04-14', '2012-03-25',\n",
       "       '2012-03-10', '2012-04-07', '2011-11-19', '2011-10-14',\n",
       "       '2011-09-24', '2012-04-28', '2011-12-18', '2012-03-02',\n",
       "       '2012-03-16', '2012-02-17', '2011-08-06', '2011-11-04',\n",
       "       '2011-09-16', '2011-07-15', '2012-05-06', '2012-02-11',\n",
       "       '2011-10-02', '2012-03-30', '2011-10-22', '2011-08-26',\n",
       "       '2011-08-07', '2012-02-24', '2011-07-17', '2012-02-12',\n",
       "       '2011-08-22', '2011-09-09', '2012-04-01', '2011-09-25',\n",
       "       '2012-04-20', '2011-11-25', '2012-03-09', '2011-11-07',\n",
       "       '2011-09-10', '2011-08-21', '2011-09-26', '2012-03-26',\n",
       "       '2011-10-30', '2012-02-13', '2012-02-26', '2011-12-19',\n",
       "       '2012-03-11', '2011-11-26', '2012-04-23', '2011-12-16',\n",
       "       '2011-11-05', '2012-04-10', '2012-04-15', '2012-02-05',\n",
       "       '2012-03-04', '2011-09-17', '2012-01-21', '2012-03-18',\n",
       "       '2012-04-22', '2011-08-20', '2012-02-10', '2012-02-25',\n",
       "       '2011-12-10', '2012-01-29', '2011-10-16', '2011-08-05',\n",
       "       '2012-03-23', '2011-09-23', '2012-01-28', '2011-10-15',\n",
       "       '2012-03-24', '2011-11-18', '2012-04-29', '2011-12-09',\n",
       "       '2012-04-08', '2012-03-12', '2011-07-23', '2011-10-28',\n",
       "       '2012-01-27', '2011-12-04', '2011-09-11', '2011-09-30',\n",
       "       '2012-02-19', '2012-04-13', '2011-10-21', '2011-08-14',\n",
       "       '2011-09-12', '2011-07-18', '2011-08-08', '2011-07-24',\n",
       "       '2011-12-13', '2011-08-28', '2011-08-19', '2012-03-14',\n",
       "       '2011-08-12', '2012-03-05', '2011-12-02', '2011-09-19',\n",
       "       '2011-07-25', '2012-04-02', '2012-02-06', '2011-11-21',\n",
       "       '2011-07-22', '2011-08-29', '2012-04-05', '2011-11-28',\n",
       "       '2011-12-12', '2011-11-20', '2012-02-27', '2011-07-16',\n",
       "       '2011-10-31', '2012-02-20', '2011-10-17', '2011-12-05',\n",
       "       '2012-04-16', '2011-10-03', '2012-03-19', '2011-08-15',\n",
       "       '2011-12-20', '2011-12-21', '2011-12-22', '2011-12-26',\n",
       "       '2011-12-27', '2011-12-30', '2011-12-31', '2012-01-01',\n",
       "       '2012-01-02', '2012-01-03', '2012-01-04', '2012-01-11',\n",
       "       '2012-01-14', '2012-01-15', '2012-01-16', '2012-01-31',\n",
       "       '2012-02-01', '2012-03-13', '2012-03-20', '2012-03-21',\n",
       "       '2012-04-06', '2012-04-09', '2012-04-24', '2012-04-30',\n",
       "       '2012-05-01', '2012-05-02', '2012-05-07', '2012-05-08',\n",
       "       '2012-05-13'], dtype=object)"
      ]
     },
     "execution_count": 33,
     "metadata": {},
     "output_type": "execute_result"
    }
   ],
   "source": [
    "matches_df['Date'].unique()"
   ]
  },
  {
   "cell_type": "markdown",
   "metadata": {},
   "source": [
    "### Check our API request count"
   ]
  },
  {
   "cell_type": "code",
   "execution_count": 34,
   "metadata": {
    "scrolled": true
   },
   "outputs": [
    {
     "data": {
      "text/plain": [
       "165"
      ]
     },
     "execution_count": 34,
     "metadata": {},
     "output_type": "execute_result"
    }
   ],
   "source": [
    "len(matches_df['Date'].unique())"
   ]
  },
  {
   "cell_type": "markdown",
   "metadata": {},
   "source": [
    "### Write API Request function. We are just populating a list with precipIntensityMax for each day. If it's > 0, we will keep that as a rainy day. 0 is non-rainy"
   ]
  },
  {
   "cell_type": "code",
   "execution_count": 35,
   "metadata": {},
   "outputs": [],
   "source": [
    "def grab_precip_info(ds_api_key, date_list):\n",
    "    output_list = []\n",
    "    for date in date_list:\n",
    "        req = requests.api.get(\n",
    "            f'https://api.darksky.net/forecast/{ds_api_key}/52.52,13.405,{date}T10:00:00?exclude=hourly')\n",
    "        output_list.append(req.json()['daily']['data'][0]['precipIntensityMax'])\n",
    "    return output_list"
   ]
  },
  {
   "cell_type": "markdown",
   "metadata": {},
   "source": [
    "#### Run our function and set variable to our list"
   ]
  },
  {
   "cell_type": "code",
   "execution_count": 36,
   "metadata": {},
   "outputs": [],
   "source": [
    "rain_on_date = grab_precip_info('6fdc7f29110982cccf792ed57cd127e7', matches_df['Date'].unique())"
   ]
  },
  {
   "cell_type": "markdown",
   "metadata": {},
   "source": [
    "### Create a rain df with unique IDs (we will join this with our main df)"
   ]
  },
  {
   "cell_type": "code",
   "execution_count": 37,
   "metadata": {
    "scrolled": true
   },
   "outputs": [],
   "source": [
    "rain_df = pd.DataFrame(rain_on_date, matches_df['Date'].unique())\n",
    "\n",
    "rain_df = rain_df.rename(columns = {0 : 'rainfall'})"
   ]
  },
  {
   "cell_type": "code",
   "execution_count": 38,
   "metadata": {},
   "outputs": [
    {
     "data": {
      "text/html": [
       "<div>\n",
       "<style scoped>\n",
       "    .dataframe tbody tr th:only-of-type {\n",
       "        vertical-align: middle;\n",
       "    }\n",
       "\n",
       "    .dataframe tbody tr th {\n",
       "        vertical-align: top;\n",
       "    }\n",
       "\n",
       "    .dataframe thead th {\n",
       "        text-align: right;\n",
       "    }\n",
       "</style>\n",
       "<table border=\"1\" class=\"dataframe\">\n",
       "  <thead>\n",
       "    <tr style=\"text-align: right;\">\n",
       "      <th></th>\n",
       "      <th>rainfall</th>\n",
       "    </tr>\n",
       "  </thead>\n",
       "  <tbody>\n",
       "    <tr>\n",
       "      <th>2012-03-31</th>\n",
       "      <td>0.0029</td>\n",
       "    </tr>\n",
       "    <tr>\n",
       "      <th>2011-12-11</th>\n",
       "      <td>0.0000</td>\n",
       "    </tr>\n",
       "    <tr>\n",
       "      <th>2011-08-13</th>\n",
       "      <td>0.0000</td>\n",
       "    </tr>\n",
       "    <tr>\n",
       "      <th>2011-11-27</th>\n",
       "      <td>0.0000</td>\n",
       "    </tr>\n",
       "    <tr>\n",
       "      <th>2012-02-18</th>\n",
       "      <td>0.0000</td>\n",
       "    </tr>\n",
       "  </tbody>\n",
       "</table>\n",
       "</div>"
      ],
      "text/plain": [
       "            rainfall\n",
       "2012-03-31    0.0029\n",
       "2011-12-11    0.0000\n",
       "2011-08-13    0.0000\n",
       "2011-11-27    0.0000\n",
       "2012-02-18    0.0000"
      ]
     },
     "execution_count": 38,
     "metadata": {},
     "output_type": "execute_result"
    }
   ],
   "source": [
    "rain_df.head()"
   ]
  },
  {
   "cell_type": "markdown",
   "metadata": {},
   "source": [
    "### Set our matches_df index as date and join our tables"
   ]
  },
  {
   "cell_type": "code",
   "execution_count": 39,
   "metadata": {},
   "outputs": [],
   "source": [
    "matches_df = matches_df.set_index('Date')"
   ]
  },
  {
   "cell_type": "code",
   "execution_count": 40,
   "metadata": {
    "scrolled": true
   },
   "outputs": [],
   "source": [
    "matches_rainfall_df = matches_df.join(rain_df, on = matches_df.index)"
   ]
  },
  {
   "cell_type": "markdown",
   "metadata": {},
   "source": [
    "#### Check that our merge worked properly. Every 2011-01-15 match is getting the same rainfall number"
   ]
  },
  {
   "cell_type": "code",
   "execution_count": 41,
   "metadata": {
    "scrolled": true
   },
   "outputs": [
    {
     "data": {
      "text/html": [
       "<div>\n",
       "<style scoped>\n",
       "    .dataframe tbody tr th:only-of-type {\n",
       "        vertical-align: middle;\n",
       "    }\n",
       "\n",
       "    .dataframe tbody tr th {\n",
       "        vertical-align: top;\n",
       "    }\n",
       "\n",
       "    .dataframe thead th {\n",
       "        text-align: right;\n",
       "    }\n",
       "</style>\n",
       "<table border=\"1\" class=\"dataframe\">\n",
       "  <thead>\n",
       "    <tr style=\"text-align: right;\">\n",
       "      <th></th>\n",
       "      <th>Match_ID</th>\n",
       "      <th>Div</th>\n",
       "      <th>Season</th>\n",
       "      <th>HomeTeam</th>\n",
       "      <th>AwayTeam</th>\n",
       "      <th>FTHG</th>\n",
       "      <th>FTAG</th>\n",
       "      <th>FTR</th>\n",
       "      <th>Winner</th>\n",
       "      <th>away_wins</th>\n",
       "      <th>home_wins</th>\n",
       "      <th>draws</th>\n",
       "      <th>away_losses</th>\n",
       "      <th>home_losses</th>\n",
       "      <th>rainfall</th>\n",
       "    </tr>\n",
       "    <tr>\n",
       "      <th>Date</th>\n",
       "      <th></th>\n",
       "      <th></th>\n",
       "      <th></th>\n",
       "      <th></th>\n",
       "      <th></th>\n",
       "      <th></th>\n",
       "      <th></th>\n",
       "      <th></th>\n",
       "      <th></th>\n",
       "      <th></th>\n",
       "      <th></th>\n",
       "      <th></th>\n",
       "      <th></th>\n",
       "      <th></th>\n",
       "      <th></th>\n",
       "    </tr>\n",
       "  </thead>\n",
       "  <tbody>\n",
       "    <tr>\n",
       "      <th>2012-03-31</th>\n",
       "      <td>1092</td>\n",
       "      <td>D1</td>\n",
       "      <td>2011</td>\n",
       "      <td>Nurnberg</td>\n",
       "      <td>Bayern Munich</td>\n",
       "      <td>0</td>\n",
       "      <td>1</td>\n",
       "      <td>A</td>\n",
       "      <td>Bayern Munich</td>\n",
       "      <td>1</td>\n",
       "      <td>0</td>\n",
       "      <td>0</td>\n",
       "      <td>0</td>\n",
       "      <td>1</td>\n",
       "      <td>0.0029</td>\n",
       "    </tr>\n",
       "    <tr>\n",
       "      <th>2012-03-31</th>\n",
       "      <td>1189</td>\n",
       "      <td>D1</td>\n",
       "      <td>2011</td>\n",
       "      <td>Augsburg</td>\n",
       "      <td>FC Koln</td>\n",
       "      <td>2</td>\n",
       "      <td>1</td>\n",
       "      <td>H</td>\n",
       "      <td>Augsburg</td>\n",
       "      <td>0</td>\n",
       "      <td>1</td>\n",
       "      <td>0</td>\n",
       "      <td>1</td>\n",
       "      <td>0</td>\n",
       "      <td>0.0029</td>\n",
       "    </tr>\n",
       "    <tr>\n",
       "      <th>2012-03-31</th>\n",
       "      <td>1206</td>\n",
       "      <td>D1</td>\n",
       "      <td>2011</td>\n",
       "      <td>Leverkusen</td>\n",
       "      <td>Freiburg</td>\n",
       "      <td>0</td>\n",
       "      <td>2</td>\n",
       "      <td>A</td>\n",
       "      <td>Freiburg</td>\n",
       "      <td>1</td>\n",
       "      <td>0</td>\n",
       "      <td>0</td>\n",
       "      <td>0</td>\n",
       "      <td>1</td>\n",
       "      <td>0.0029</td>\n",
       "    </tr>\n",
       "    <tr>\n",
       "      <th>2012-03-31</th>\n",
       "      <td>1215</td>\n",
       "      <td>D1</td>\n",
       "      <td>2011</td>\n",
       "      <td>Kaiserslautern</td>\n",
       "      <td>Hamburg</td>\n",
       "      <td>0</td>\n",
       "      <td>1</td>\n",
       "      <td>A</td>\n",
       "      <td>Hamburg</td>\n",
       "      <td>1</td>\n",
       "      <td>0</td>\n",
       "      <td>0</td>\n",
       "      <td>0</td>\n",
       "      <td>1</td>\n",
       "      <td>0.0029</td>\n",
       "    </tr>\n",
       "    <tr>\n",
       "      <th>2012-03-31</th>\n",
       "      <td>1396</td>\n",
       "      <td>D2</td>\n",
       "      <td>2011</td>\n",
       "      <td>Munich 1860</td>\n",
       "      <td>Hansa Rostock</td>\n",
       "      <td>0</td>\n",
       "      <td>1</td>\n",
       "      <td>A</td>\n",
       "      <td>Hansa Rostock</td>\n",
       "      <td>1</td>\n",
       "      <td>0</td>\n",
       "      <td>0</td>\n",
       "      <td>0</td>\n",
       "      <td>1</td>\n",
       "      <td>0.0029</td>\n",
       "    </tr>\n",
       "    <tr>\n",
       "      <th>2012-03-31</th>\n",
       "      <td>1420</td>\n",
       "      <td>D1</td>\n",
       "      <td>2011</td>\n",
       "      <td>Werder Bremen</td>\n",
       "      <td>Mainz</td>\n",
       "      <td>0</td>\n",
       "      <td>3</td>\n",
       "      <td>A</td>\n",
       "      <td>Mainz</td>\n",
       "      <td>1</td>\n",
       "      <td>0</td>\n",
       "      <td>0</td>\n",
       "      <td>0</td>\n",
       "      <td>1</td>\n",
       "      <td>0.0029</td>\n",
       "    </tr>\n",
       "    <tr>\n",
       "      <th>2012-03-31</th>\n",
       "      <td>1475</td>\n",
       "      <td>D1</td>\n",
       "      <td>2011</td>\n",
       "      <td>Hertha</td>\n",
       "      <td>Wolfsburg</td>\n",
       "      <td>1</td>\n",
       "      <td>4</td>\n",
       "      <td>A</td>\n",
       "      <td>Wolfsburg</td>\n",
       "      <td>1</td>\n",
       "      <td>0</td>\n",
       "      <td>0</td>\n",
       "      <td>0</td>\n",
       "      <td>1</td>\n",
       "      <td>0.0029</td>\n",
       "    </tr>\n",
       "    <tr>\n",
       "      <th>2012-03-31</th>\n",
       "      <td>1524</td>\n",
       "      <td>D2</td>\n",
       "      <td>2011</td>\n",
       "      <td>Erzgebirge Aue</td>\n",
       "      <td>Greuther Furth</td>\n",
       "      <td>1</td>\n",
       "      <td>1</td>\n",
       "      <td>D</td>\n",
       "      <td>Draw</td>\n",
       "      <td>0</td>\n",
       "      <td>0</td>\n",
       "      <td>1</td>\n",
       "      <td>0</td>\n",
       "      <td>0</td>\n",
       "      <td>0.0029</td>\n",
       "    </tr>\n",
       "    <tr>\n",
       "      <th>2012-03-31</th>\n",
       "      <td>44794</td>\n",
       "      <td>E0</td>\n",
       "      <td>2011</td>\n",
       "      <td>Aston Villa</td>\n",
       "      <td>Chelsea</td>\n",
       "      <td>2</td>\n",
       "      <td>4</td>\n",
       "      <td>A</td>\n",
       "      <td>Chelsea</td>\n",
       "      <td>1</td>\n",
       "      <td>0</td>\n",
       "      <td>0</td>\n",
       "      <td>0</td>\n",
       "      <td>1</td>\n",
       "      <td>0.0029</td>\n",
       "    </tr>\n",
       "    <tr>\n",
       "      <th>2012-03-31</th>\n",
       "      <td>44795</td>\n",
       "      <td>E0</td>\n",
       "      <td>2011</td>\n",
       "      <td>Everton</td>\n",
       "      <td>West Brom</td>\n",
       "      <td>2</td>\n",
       "      <td>0</td>\n",
       "      <td>H</td>\n",
       "      <td>Everton</td>\n",
       "      <td>0</td>\n",
       "      <td>1</td>\n",
       "      <td>0</td>\n",
       "      <td>1</td>\n",
       "      <td>0</td>\n",
       "      <td>0.0029</td>\n",
       "    </tr>\n",
       "    <tr>\n",
       "      <th>2012-03-31</th>\n",
       "      <td>44796</td>\n",
       "      <td>E0</td>\n",
       "      <td>2011</td>\n",
       "      <td>Fulham</td>\n",
       "      <td>Norwich</td>\n",
       "      <td>2</td>\n",
       "      <td>1</td>\n",
       "      <td>H</td>\n",
       "      <td>Fulham</td>\n",
       "      <td>0</td>\n",
       "      <td>1</td>\n",
       "      <td>0</td>\n",
       "      <td>1</td>\n",
       "      <td>0</td>\n",
       "      <td>0.0029</td>\n",
       "    </tr>\n",
       "    <tr>\n",
       "      <th>2012-03-31</th>\n",
       "      <td>44797</td>\n",
       "      <td>E0</td>\n",
       "      <td>2011</td>\n",
       "      <td>Man City</td>\n",
       "      <td>Sunderland</td>\n",
       "      <td>3</td>\n",
       "      <td>3</td>\n",
       "      <td>D</td>\n",
       "      <td>Draw</td>\n",
       "      <td>0</td>\n",
       "      <td>0</td>\n",
       "      <td>1</td>\n",
       "      <td>0</td>\n",
       "      <td>0</td>\n",
       "      <td>0.0029</td>\n",
       "    </tr>\n",
       "    <tr>\n",
       "      <th>2012-03-31</th>\n",
       "      <td>44798</td>\n",
       "      <td>E0</td>\n",
       "      <td>2011</td>\n",
       "      <td>QPR</td>\n",
       "      <td>Arsenal</td>\n",
       "      <td>2</td>\n",
       "      <td>1</td>\n",
       "      <td>H</td>\n",
       "      <td>QPR</td>\n",
       "      <td>0</td>\n",
       "      <td>1</td>\n",
       "      <td>0</td>\n",
       "      <td>1</td>\n",
       "      <td>0</td>\n",
       "      <td>0.0029</td>\n",
       "    </tr>\n",
       "    <tr>\n",
       "      <th>2012-03-31</th>\n",
       "      <td>44799</td>\n",
       "      <td>E0</td>\n",
       "      <td>2011</td>\n",
       "      <td>Wigan</td>\n",
       "      <td>Stoke</td>\n",
       "      <td>2</td>\n",
       "      <td>0</td>\n",
       "      <td>H</td>\n",
       "      <td>Wigan</td>\n",
       "      <td>0</td>\n",
       "      <td>1</td>\n",
       "      <td>0</td>\n",
       "      <td>1</td>\n",
       "      <td>0</td>\n",
       "      <td>0.0029</td>\n",
       "    </tr>\n",
       "    <tr>\n",
       "      <th>2012-03-31</th>\n",
       "      <td>44800</td>\n",
       "      <td>E0</td>\n",
       "      <td>2011</td>\n",
       "      <td>Wolves</td>\n",
       "      <td>Bolton</td>\n",
       "      <td>2</td>\n",
       "      <td>3</td>\n",
       "      <td>A</td>\n",
       "      <td>Bolton</td>\n",
       "      <td>1</td>\n",
       "      <td>0</td>\n",
       "      <td>0</td>\n",
       "      <td>0</td>\n",
       "      <td>1</td>\n",
       "      <td>0.0029</td>\n",
       "    </tr>\n",
       "  </tbody>\n",
       "</table>\n",
       "</div>"
      ],
      "text/plain": [
       "            Match_ID Div  Season        HomeTeam        AwayTeam  FTHG  FTAG  \\\n",
       "Date                                                                           \n",
       "2012-03-31      1092  D1    2011        Nurnberg   Bayern Munich     0     1   \n",
       "2012-03-31      1189  D1    2011        Augsburg         FC Koln     2     1   \n",
       "2012-03-31      1206  D1    2011      Leverkusen        Freiburg     0     2   \n",
       "2012-03-31      1215  D1    2011  Kaiserslautern         Hamburg     0     1   \n",
       "2012-03-31      1396  D2    2011     Munich 1860   Hansa Rostock     0     1   \n",
       "2012-03-31      1420  D1    2011   Werder Bremen           Mainz     0     3   \n",
       "2012-03-31      1475  D1    2011          Hertha       Wolfsburg     1     4   \n",
       "2012-03-31      1524  D2    2011  Erzgebirge Aue  Greuther Furth     1     1   \n",
       "2012-03-31     44794  E0    2011     Aston Villa         Chelsea     2     4   \n",
       "2012-03-31     44795  E0    2011         Everton       West Brom     2     0   \n",
       "2012-03-31     44796  E0    2011          Fulham         Norwich     2     1   \n",
       "2012-03-31     44797  E0    2011        Man City      Sunderland     3     3   \n",
       "2012-03-31     44798  E0    2011             QPR         Arsenal     2     1   \n",
       "2012-03-31     44799  E0    2011           Wigan           Stoke     2     0   \n",
       "2012-03-31     44800  E0    2011          Wolves          Bolton     2     3   \n",
       "\n",
       "           FTR         Winner  away_wins  home_wins  draws  away_losses  \\\n",
       "Date                                                                      \n",
       "2012-03-31   A  Bayern Munich          1          0      0            0   \n",
       "2012-03-31   H       Augsburg          0          1      0            1   \n",
       "2012-03-31   A       Freiburg          1          0      0            0   \n",
       "2012-03-31   A        Hamburg          1          0      0            0   \n",
       "2012-03-31   A  Hansa Rostock          1          0      0            0   \n",
       "2012-03-31   A          Mainz          1          0      0            0   \n",
       "2012-03-31   A      Wolfsburg          1          0      0            0   \n",
       "2012-03-31   D           Draw          0          0      1            0   \n",
       "2012-03-31   A        Chelsea          1          0      0            0   \n",
       "2012-03-31   H        Everton          0          1      0            1   \n",
       "2012-03-31   H         Fulham          0          1      0            1   \n",
       "2012-03-31   D           Draw          0          0      1            0   \n",
       "2012-03-31   H            QPR          0          1      0            1   \n",
       "2012-03-31   H          Wigan          0          1      0            1   \n",
       "2012-03-31   A         Bolton          1          0      0            0   \n",
       "\n",
       "            home_losses  rainfall  \n",
       "Date                               \n",
       "2012-03-31            1    0.0029  \n",
       "2012-03-31            0    0.0029  \n",
       "2012-03-31            1    0.0029  \n",
       "2012-03-31            1    0.0029  \n",
       "2012-03-31            1    0.0029  \n",
       "2012-03-31            1    0.0029  \n",
       "2012-03-31            1    0.0029  \n",
       "2012-03-31            0    0.0029  \n",
       "2012-03-31            1    0.0029  \n",
       "2012-03-31            0    0.0029  \n",
       "2012-03-31            0    0.0029  \n",
       "2012-03-31            0    0.0029  \n",
       "2012-03-31            0    0.0029  \n",
       "2012-03-31            0    0.0029  \n",
       "2012-03-31            1    0.0029  "
      ]
     },
     "execution_count": 41,
     "metadata": {},
     "output_type": "execute_result"
    }
   ],
   "source": [
    "matches_rainfall_df.loc['2012-03-31', :]"
   ]
  },
  {
   "cell_type": "markdown",
   "metadata": {},
   "source": [
    "#### Create a boolean column for rainfall"
   ]
  },
  {
   "cell_type": "code",
   "execution_count": 42,
   "metadata": {},
   "outputs": [],
   "source": [
    "matches_rainfall_df['rainfall_bool'] = matches_rainfall_df['rainfall'] != False"
   ]
  },
  {
   "cell_type": "code",
   "execution_count": 43,
   "metadata": {},
   "outputs": [
    {
     "data": {
      "text/html": [
       "<div>\n",
       "<style scoped>\n",
       "    .dataframe tbody tr th:only-of-type {\n",
       "        vertical-align: middle;\n",
       "    }\n",
       "\n",
       "    .dataframe tbody tr th {\n",
       "        vertical-align: top;\n",
       "    }\n",
       "\n",
       "    .dataframe thead th {\n",
       "        text-align: right;\n",
       "    }\n",
       "</style>\n",
       "<table border=\"1\" class=\"dataframe\">\n",
       "  <thead>\n",
       "    <tr style=\"text-align: right;\">\n",
       "      <th></th>\n",
       "      <th>Match_ID</th>\n",
       "      <th>Div</th>\n",
       "      <th>Season</th>\n",
       "      <th>HomeTeam</th>\n",
       "      <th>AwayTeam</th>\n",
       "      <th>FTHG</th>\n",
       "      <th>FTAG</th>\n",
       "      <th>FTR</th>\n",
       "      <th>Winner</th>\n",
       "      <th>away_wins</th>\n",
       "      <th>home_wins</th>\n",
       "      <th>draws</th>\n",
       "      <th>away_losses</th>\n",
       "      <th>home_losses</th>\n",
       "      <th>rainfall</th>\n",
       "      <th>rainfall_bool</th>\n",
       "    </tr>\n",
       "    <tr>\n",
       "      <th>Date</th>\n",
       "      <th></th>\n",
       "      <th></th>\n",
       "      <th></th>\n",
       "      <th></th>\n",
       "      <th></th>\n",
       "      <th></th>\n",
       "      <th></th>\n",
       "      <th></th>\n",
       "      <th></th>\n",
       "      <th></th>\n",
       "      <th></th>\n",
       "      <th></th>\n",
       "      <th></th>\n",
       "      <th></th>\n",
       "      <th></th>\n",
       "      <th></th>\n",
       "    </tr>\n",
       "  </thead>\n",
       "  <tbody>\n",
       "    <tr>\n",
       "      <th>2012-03-31</th>\n",
       "      <td>1092</td>\n",
       "      <td>D1</td>\n",
       "      <td>2011</td>\n",
       "      <td>Nurnberg</td>\n",
       "      <td>Bayern Munich</td>\n",
       "      <td>0</td>\n",
       "      <td>1</td>\n",
       "      <td>A</td>\n",
       "      <td>Bayern Munich</td>\n",
       "      <td>1</td>\n",
       "      <td>0</td>\n",
       "      <td>0</td>\n",
       "      <td>0</td>\n",
       "      <td>1</td>\n",
       "      <td>0.0029</td>\n",
       "      <td>True</td>\n",
       "    </tr>\n",
       "    <tr>\n",
       "      <th>2011-12-11</th>\n",
       "      <td>1093</td>\n",
       "      <td>D1</td>\n",
       "      <td>2011</td>\n",
       "      <td>Stuttgart</td>\n",
       "      <td>Bayern Munich</td>\n",
       "      <td>1</td>\n",
       "      <td>2</td>\n",
       "      <td>A</td>\n",
       "      <td>Bayern Munich</td>\n",
       "      <td>1</td>\n",
       "      <td>0</td>\n",
       "      <td>0</td>\n",
       "      <td>0</td>\n",
       "      <td>1</td>\n",
       "      <td>0.0000</td>\n",
       "      <td>False</td>\n",
       "    </tr>\n",
       "    <tr>\n",
       "      <th>2011-08-13</th>\n",
       "      <td>1094</td>\n",
       "      <td>D1</td>\n",
       "      <td>2011</td>\n",
       "      <td>Wolfsburg</td>\n",
       "      <td>Bayern Munich</td>\n",
       "      <td>0</td>\n",
       "      <td>1</td>\n",
       "      <td>A</td>\n",
       "      <td>Bayern Munich</td>\n",
       "      <td>1</td>\n",
       "      <td>0</td>\n",
       "      <td>0</td>\n",
       "      <td>0</td>\n",
       "      <td>1</td>\n",
       "      <td>0.0000</td>\n",
       "      <td>False</td>\n",
       "    </tr>\n",
       "    <tr>\n",
       "      <th>2011-11-27</th>\n",
       "      <td>1095</td>\n",
       "      <td>D1</td>\n",
       "      <td>2011</td>\n",
       "      <td>Mainz</td>\n",
       "      <td>Bayern Munich</td>\n",
       "      <td>3</td>\n",
       "      <td>2</td>\n",
       "      <td>H</td>\n",
       "      <td>Mainz</td>\n",
       "      <td>0</td>\n",
       "      <td>1</td>\n",
       "      <td>0</td>\n",
       "      <td>1</td>\n",
       "      <td>0</td>\n",
       "      <td>0.0000</td>\n",
       "      <td>False</td>\n",
       "    </tr>\n",
       "    <tr>\n",
       "      <th>2012-02-18</th>\n",
       "      <td>1096</td>\n",
       "      <td>D1</td>\n",
       "      <td>2011</td>\n",
       "      <td>Freiburg</td>\n",
       "      <td>Bayern Munich</td>\n",
       "      <td>0</td>\n",
       "      <td>0</td>\n",
       "      <td>D</td>\n",
       "      <td>Draw</td>\n",
       "      <td>0</td>\n",
       "      <td>0</td>\n",
       "      <td>1</td>\n",
       "      <td>0</td>\n",
       "      <td>0</td>\n",
       "      <td>0.0000</td>\n",
       "      <td>False</td>\n",
       "    </tr>\n",
       "  </tbody>\n",
       "</table>\n",
       "</div>"
      ],
      "text/plain": [
       "            Match_ID Div  Season   HomeTeam       AwayTeam  FTHG  FTAG FTR  \\\n",
       "Date                                                                         \n",
       "2012-03-31      1092  D1    2011   Nurnberg  Bayern Munich     0     1   A   \n",
       "2011-12-11      1093  D1    2011  Stuttgart  Bayern Munich     1     2   A   \n",
       "2011-08-13      1094  D1    2011  Wolfsburg  Bayern Munich     0     1   A   \n",
       "2011-11-27      1095  D1    2011      Mainz  Bayern Munich     3     2   H   \n",
       "2012-02-18      1096  D1    2011   Freiburg  Bayern Munich     0     0   D   \n",
       "\n",
       "                   Winner  away_wins  home_wins  draws  away_losses  \\\n",
       "Date                                                                  \n",
       "2012-03-31  Bayern Munich          1          0      0            0   \n",
       "2011-12-11  Bayern Munich          1          0      0            0   \n",
       "2011-08-13  Bayern Munich          1          0      0            0   \n",
       "2011-11-27          Mainz          0          1      0            1   \n",
       "2012-02-18           Draw          0          0      1            0   \n",
       "\n",
       "            home_losses  rainfall  rainfall_bool  \n",
       "Date                                              \n",
       "2012-03-31            1    0.0029           True  \n",
       "2011-12-11            1    0.0000          False  \n",
       "2011-08-13            1    0.0000          False  \n",
       "2011-11-27            0    0.0000          False  \n",
       "2012-02-18            0    0.0000          False  "
      ]
     },
     "execution_count": 43,
     "metadata": {},
     "output_type": "execute_result"
    }
   ],
   "source": [
    "matches_rainfall_df.head()"
   ]
  },
  {
   "cell_type": "markdown",
   "metadata": {},
   "source": [
    "#### We need the home and away wins when raining"
   ]
  },
  {
   "cell_type": "code",
   "execution_count": 44,
   "metadata": {},
   "outputs": [],
   "source": [
    "def away_wins_rain(x):\n",
    "    if x['FTR'] == 'A' and x['rainfall_bool']:\n",
    "        return 1\n",
    "    else:\n",
    "        return 0"
   ]
  },
  {
   "cell_type": "code",
   "execution_count": 45,
   "metadata": {},
   "outputs": [],
   "source": [
    "def home_wins_rain(x):\n",
    "    if x['FTR'] == 'H' and x['rainfall_bool']:\n",
    "        return 1\n",
    "    else:\n",
    "        return 0"
   ]
  },
  {
   "cell_type": "code",
   "execution_count": 46,
   "metadata": {},
   "outputs": [],
   "source": [
    "matches_rainfall_df['away_wins_rain'] = matches_rainfall_df.apply(away_wins_rain, axis = 1)\n",
    "\n",
    "matches_rainfall_df['home_wins_rain'] = matches_rainfall_df.apply(home_wins_rain, axis = 1)"
   ]
  },
  {
   "cell_type": "code",
   "execution_count": null,
   "metadata": {},
   "outputs": [],
   "source": []
  },
  {
   "cell_type": "code",
   "execution_count": 47,
   "metadata": {},
   "outputs": [
    {
     "data": {
      "text/html": [
       "<div>\n",
       "<style scoped>\n",
       "    .dataframe tbody tr th:only-of-type {\n",
       "        vertical-align: middle;\n",
       "    }\n",
       "\n",
       "    .dataframe tbody tr th {\n",
       "        vertical-align: top;\n",
       "    }\n",
       "\n",
       "    .dataframe thead th {\n",
       "        text-align: right;\n",
       "    }\n",
       "</style>\n",
       "<table border=\"1\" class=\"dataframe\">\n",
       "  <thead>\n",
       "    <tr style=\"text-align: right;\">\n",
       "      <th></th>\n",
       "      <th>Match_ID</th>\n",
       "      <th>Div</th>\n",
       "      <th>Season</th>\n",
       "      <th>HomeTeam</th>\n",
       "      <th>AwayTeam</th>\n",
       "      <th>FTHG</th>\n",
       "      <th>FTAG</th>\n",
       "      <th>FTR</th>\n",
       "      <th>Winner</th>\n",
       "      <th>away_wins</th>\n",
       "      <th>home_wins</th>\n",
       "      <th>draws</th>\n",
       "      <th>away_losses</th>\n",
       "      <th>home_losses</th>\n",
       "      <th>rainfall</th>\n",
       "      <th>rainfall_bool</th>\n",
       "      <th>away_wins_rain</th>\n",
       "      <th>home_wins_rain</th>\n",
       "    </tr>\n",
       "    <tr>\n",
       "      <th>Date</th>\n",
       "      <th></th>\n",
       "      <th></th>\n",
       "      <th></th>\n",
       "      <th></th>\n",
       "      <th></th>\n",
       "      <th></th>\n",
       "      <th></th>\n",
       "      <th></th>\n",
       "      <th></th>\n",
       "      <th></th>\n",
       "      <th></th>\n",
       "      <th></th>\n",
       "      <th></th>\n",
       "      <th></th>\n",
       "      <th></th>\n",
       "      <th></th>\n",
       "      <th></th>\n",
       "      <th></th>\n",
       "    </tr>\n",
       "  </thead>\n",
       "  <tbody>\n",
       "    <tr>\n",
       "      <th>2012-03-31</th>\n",
       "      <td>1092</td>\n",
       "      <td>D1</td>\n",
       "      <td>2011</td>\n",
       "      <td>Nurnberg</td>\n",
       "      <td>Bayern Munich</td>\n",
       "      <td>0</td>\n",
       "      <td>1</td>\n",
       "      <td>A</td>\n",
       "      <td>Bayern Munich</td>\n",
       "      <td>1</td>\n",
       "      <td>0</td>\n",
       "      <td>0</td>\n",
       "      <td>0</td>\n",
       "      <td>1</td>\n",
       "      <td>0.0029</td>\n",
       "      <td>True</td>\n",
       "      <td>1</td>\n",
       "      <td>0</td>\n",
       "    </tr>\n",
       "    <tr>\n",
       "      <th>2011-12-11</th>\n",
       "      <td>1093</td>\n",
       "      <td>D1</td>\n",
       "      <td>2011</td>\n",
       "      <td>Stuttgart</td>\n",
       "      <td>Bayern Munich</td>\n",
       "      <td>1</td>\n",
       "      <td>2</td>\n",
       "      <td>A</td>\n",
       "      <td>Bayern Munich</td>\n",
       "      <td>1</td>\n",
       "      <td>0</td>\n",
       "      <td>0</td>\n",
       "      <td>0</td>\n",
       "      <td>1</td>\n",
       "      <td>0.0000</td>\n",
       "      <td>False</td>\n",
       "      <td>0</td>\n",
       "      <td>0</td>\n",
       "    </tr>\n",
       "    <tr>\n",
       "      <th>2011-08-13</th>\n",
       "      <td>1094</td>\n",
       "      <td>D1</td>\n",
       "      <td>2011</td>\n",
       "      <td>Wolfsburg</td>\n",
       "      <td>Bayern Munich</td>\n",
       "      <td>0</td>\n",
       "      <td>1</td>\n",
       "      <td>A</td>\n",
       "      <td>Bayern Munich</td>\n",
       "      <td>1</td>\n",
       "      <td>0</td>\n",
       "      <td>0</td>\n",
       "      <td>0</td>\n",
       "      <td>1</td>\n",
       "      <td>0.0000</td>\n",
       "      <td>False</td>\n",
       "      <td>0</td>\n",
       "      <td>0</td>\n",
       "    </tr>\n",
       "    <tr>\n",
       "      <th>2011-11-27</th>\n",
       "      <td>1095</td>\n",
       "      <td>D1</td>\n",
       "      <td>2011</td>\n",
       "      <td>Mainz</td>\n",
       "      <td>Bayern Munich</td>\n",
       "      <td>3</td>\n",
       "      <td>2</td>\n",
       "      <td>H</td>\n",
       "      <td>Mainz</td>\n",
       "      <td>0</td>\n",
       "      <td>1</td>\n",
       "      <td>0</td>\n",
       "      <td>1</td>\n",
       "      <td>0</td>\n",
       "      <td>0.0000</td>\n",
       "      <td>False</td>\n",
       "      <td>0</td>\n",
       "      <td>0</td>\n",
       "    </tr>\n",
       "    <tr>\n",
       "      <th>2012-02-18</th>\n",
       "      <td>1096</td>\n",
       "      <td>D1</td>\n",
       "      <td>2011</td>\n",
       "      <td>Freiburg</td>\n",
       "      <td>Bayern Munich</td>\n",
       "      <td>0</td>\n",
       "      <td>0</td>\n",
       "      <td>D</td>\n",
       "      <td>Draw</td>\n",
       "      <td>0</td>\n",
       "      <td>0</td>\n",
       "      <td>1</td>\n",
       "      <td>0</td>\n",
       "      <td>0</td>\n",
       "      <td>0.0000</td>\n",
       "      <td>False</td>\n",
       "      <td>0</td>\n",
       "      <td>0</td>\n",
       "    </tr>\n",
       "  </tbody>\n",
       "</table>\n",
       "</div>"
      ],
      "text/plain": [
       "            Match_ID Div  Season   HomeTeam       AwayTeam  FTHG  FTAG FTR  \\\n",
       "Date                                                                         \n",
       "2012-03-31      1092  D1    2011   Nurnberg  Bayern Munich     0     1   A   \n",
       "2011-12-11      1093  D1    2011  Stuttgart  Bayern Munich     1     2   A   \n",
       "2011-08-13      1094  D1    2011  Wolfsburg  Bayern Munich     0     1   A   \n",
       "2011-11-27      1095  D1    2011      Mainz  Bayern Munich     3     2   H   \n",
       "2012-02-18      1096  D1    2011   Freiburg  Bayern Munich     0     0   D   \n",
       "\n",
       "                   Winner  away_wins  home_wins  draws  away_losses  \\\n",
       "Date                                                                  \n",
       "2012-03-31  Bayern Munich          1          0      0            0   \n",
       "2011-12-11  Bayern Munich          1          0      0            0   \n",
       "2011-08-13  Bayern Munich          1          0      0            0   \n",
       "2011-11-27          Mainz          0          1      0            1   \n",
       "2012-02-18           Draw          0          0      1            0   \n",
       "\n",
       "            home_losses  rainfall  rainfall_bool  away_wins_rain  \\\n",
       "Date                                                               \n",
       "2012-03-31            1    0.0029           True               1   \n",
       "2011-12-11            1    0.0000          False               0   \n",
       "2011-08-13            1    0.0000          False               0   \n",
       "2011-11-27            0    0.0000          False               0   \n",
       "2012-02-18            0    0.0000          False               0   \n",
       "\n",
       "            home_wins_rain  \n",
       "Date                        \n",
       "2012-03-31               0  \n",
       "2011-12-11               0  \n",
       "2011-08-13               0  \n",
       "2011-11-27               0  \n",
       "2012-02-18               0  "
      ]
     },
     "execution_count": 47,
     "metadata": {},
     "output_type": "execute_result"
    }
   ],
   "source": [
    "matches_rainfall_df.head()"
   ]
  },
  {
   "cell_type": "markdown",
   "metadata": {},
   "source": [
    "### Create home and away dfs"
   ]
  },
  {
   "cell_type": "code",
   "execution_count": 48,
   "metadata": {
    "scrolled": true
   },
   "outputs": [],
   "source": [
    "home_df = matches_rainfall_df.groupby('HomeTeam').sum()[['home_wins', 'draws', 'home_losses', 'FTHG', \n",
    "                                               'home_wins_rain', 'rainfall_bool']]\n",
    "\n",
    "away_df = matches_rainfall_df.groupby('AwayTeam').sum()[['away_wins', 'draws', 'away_losses', 'FTAG', \n",
    "                                               'away_wins_rain', 'rainfall_bool']]\n",
    "\n",
    "home_df.columns = ['wins', 'draws', 'losses', 'goals', 'wins_rain', 'rainfall_bool']\n",
    "\n",
    "away_df.columns = ['wins', 'draws', 'losses', 'goals', 'wins_rain', 'rainfall_bool']"
   ]
  },
  {
   "cell_type": "code",
   "execution_count": 49,
   "metadata": {},
   "outputs": [
    {
     "data": {
      "text/html": [
       "<div>\n",
       "<style scoped>\n",
       "    .dataframe tbody tr th:only-of-type {\n",
       "        vertical-align: middle;\n",
       "    }\n",
       "\n",
       "    .dataframe tbody tr th {\n",
       "        vertical-align: top;\n",
       "    }\n",
       "\n",
       "    .dataframe thead th {\n",
       "        text-align: right;\n",
       "    }\n",
       "</style>\n",
       "<table border=\"1\" class=\"dataframe\">\n",
       "  <thead>\n",
       "    <tr style=\"text-align: right;\">\n",
       "      <th></th>\n",
       "      <th>wins</th>\n",
       "      <th>draws</th>\n",
       "      <th>losses</th>\n",
       "      <th>goals</th>\n",
       "      <th>wins_rain</th>\n",
       "      <th>rainfall_bool</th>\n",
       "    </tr>\n",
       "    <tr>\n",
       "      <th>HomeTeam</th>\n",
       "      <th></th>\n",
       "      <th></th>\n",
       "      <th></th>\n",
       "      <th></th>\n",
       "      <th></th>\n",
       "      <th></th>\n",
       "    </tr>\n",
       "  </thead>\n",
       "  <tbody>\n",
       "    <tr>\n",
       "      <th>Aachen</th>\n",
       "      <td>4</td>\n",
       "      <td>6</td>\n",
       "      <td>7</td>\n",
       "      <td>15</td>\n",
       "      <td>1</td>\n",
       "      <td>5.0</td>\n",
       "    </tr>\n",
       "    <tr>\n",
       "      <th>Arsenal</th>\n",
       "      <td>12</td>\n",
       "      <td>4</td>\n",
       "      <td>3</td>\n",
       "      <td>39</td>\n",
       "      <td>6</td>\n",
       "      <td>9.0</td>\n",
       "    </tr>\n",
       "    <tr>\n",
       "      <th>Aston Villa</th>\n",
       "      <td>4</td>\n",
       "      <td>7</td>\n",
       "      <td>8</td>\n",
       "      <td>20</td>\n",
       "      <td>1</td>\n",
       "      <td>9.0</td>\n",
       "    </tr>\n",
       "    <tr>\n",
       "      <th>Augsburg</th>\n",
       "      <td>6</td>\n",
       "      <td>7</td>\n",
       "      <td>4</td>\n",
       "      <td>20</td>\n",
       "      <td>4</td>\n",
       "      <td>7.0</td>\n",
       "    </tr>\n",
       "    <tr>\n",
       "      <th>Bayern Munich</th>\n",
       "      <td>14</td>\n",
       "      <td>1</td>\n",
       "      <td>2</td>\n",
       "      <td>49</td>\n",
       "      <td>3</td>\n",
       "      <td>4.0</td>\n",
       "    </tr>\n",
       "  </tbody>\n",
       "</table>\n",
       "</div>"
      ],
      "text/plain": [
       "               wins  draws  losses  goals  wins_rain  rainfall_bool\n",
       "HomeTeam                                                           \n",
       "Aachen            4      6       7     15          1            5.0\n",
       "Arsenal          12      4       3     39          6            9.0\n",
       "Aston Villa       4      7       8     20          1            9.0\n",
       "Augsburg          6      7       4     20          4            7.0\n",
       "Bayern Munich    14      1       2     49          3            4.0"
      ]
     },
     "execution_count": 49,
     "metadata": {},
     "output_type": "execute_result"
    }
   ],
   "source": [
    "home_df.head()"
   ]
  },
  {
   "cell_type": "code",
   "execution_count": 50,
   "metadata": {
    "scrolled": true
   },
   "outputs": [
    {
     "data": {
      "text/html": [
       "<div>\n",
       "<style scoped>\n",
       "    .dataframe tbody tr th:only-of-type {\n",
       "        vertical-align: middle;\n",
       "    }\n",
       "\n",
       "    .dataframe tbody tr th {\n",
       "        vertical-align: top;\n",
       "    }\n",
       "\n",
       "    .dataframe thead th {\n",
       "        text-align: right;\n",
       "    }\n",
       "</style>\n",
       "<table border=\"1\" class=\"dataframe\">\n",
       "  <thead>\n",
       "    <tr style=\"text-align: right;\">\n",
       "      <th></th>\n",
       "      <th>wins</th>\n",
       "      <th>draws</th>\n",
       "      <th>losses</th>\n",
       "      <th>goals</th>\n",
       "      <th>wins_rain</th>\n",
       "      <th>rainfall_bool</th>\n",
       "    </tr>\n",
       "    <tr>\n",
       "      <th>AwayTeam</th>\n",
       "      <th></th>\n",
       "      <th></th>\n",
       "      <th></th>\n",
       "      <th></th>\n",
       "      <th></th>\n",
       "      <th></th>\n",
       "    </tr>\n",
       "  </thead>\n",
       "  <tbody>\n",
       "    <tr>\n",
       "      <th>Aachen</th>\n",
       "      <td>2</td>\n",
       "      <td>7</td>\n",
       "      <td>8</td>\n",
       "      <td>15</td>\n",
       "      <td>2</td>\n",
       "      <td>8.0</td>\n",
       "    </tr>\n",
       "    <tr>\n",
       "      <th>Arsenal</th>\n",
       "      <td>9</td>\n",
       "      <td>3</td>\n",
       "      <td>7</td>\n",
       "      <td>35</td>\n",
       "      <td>2</td>\n",
       "      <td>5.0</td>\n",
       "    </tr>\n",
       "    <tr>\n",
       "      <th>Aston Villa</th>\n",
       "      <td>3</td>\n",
       "      <td>10</td>\n",
       "      <td>6</td>\n",
       "      <td>17</td>\n",
       "      <td>1</td>\n",
       "      <td>3.0</td>\n",
       "    </tr>\n",
       "    <tr>\n",
       "      <th>Augsburg</th>\n",
       "      <td>2</td>\n",
       "      <td>7</td>\n",
       "      <td>8</td>\n",
       "      <td>16</td>\n",
       "      <td>0</td>\n",
       "      <td>4.0</td>\n",
       "    </tr>\n",
       "    <tr>\n",
       "      <th>Bayern Munich</th>\n",
       "      <td>9</td>\n",
       "      <td>3</td>\n",
       "      <td>5</td>\n",
       "      <td>28</td>\n",
       "      <td>5</td>\n",
       "      <td>7.0</td>\n",
       "    </tr>\n",
       "  </tbody>\n",
       "</table>\n",
       "</div>"
      ],
      "text/plain": [
       "               wins  draws  losses  goals  wins_rain  rainfall_bool\n",
       "AwayTeam                                                           \n",
       "Aachen            2      7       8     15          2            8.0\n",
       "Arsenal           9      3       7     35          2            5.0\n",
       "Aston Villa       3     10       6     17          1            3.0\n",
       "Augsburg          2      7       8     16          0            4.0\n",
       "Bayern Munich     9      3       5     28          5            7.0"
      ]
     },
     "execution_count": 50,
     "metadata": {},
     "output_type": "execute_result"
    }
   ],
   "source": [
    "away_df.head()"
   ]
  },
  {
   "cell_type": "code",
   "execution_count": 51,
   "metadata": {
    "scrolled": true
   },
   "outputs": [],
   "source": [
    "final_df = home_df + away_df"
   ]
  },
  {
   "cell_type": "code",
   "execution_count": 52,
   "metadata": {},
   "outputs": [],
   "source": [
    "final_df['rain_win_percent'] = final_df['wins_rain'] / final_df['rainfall_bool']"
   ]
  },
  {
   "cell_type": "code",
   "execution_count": 53,
   "metadata": {},
   "outputs": [
    {
     "data": {
      "text/html": [
       "<div>\n",
       "<style scoped>\n",
       "    .dataframe tbody tr th:only-of-type {\n",
       "        vertical-align: middle;\n",
       "    }\n",
       "\n",
       "    .dataframe tbody tr th {\n",
       "        vertical-align: top;\n",
       "    }\n",
       "\n",
       "    .dataframe thead th {\n",
       "        text-align: right;\n",
       "    }\n",
       "</style>\n",
       "<table border=\"1\" class=\"dataframe\">\n",
       "  <thead>\n",
       "    <tr style=\"text-align: right;\">\n",
       "      <th></th>\n",
       "      <th>wins</th>\n",
       "      <th>draws</th>\n",
       "      <th>losses</th>\n",
       "      <th>goals</th>\n",
       "      <th>wins_rain</th>\n",
       "      <th>rainfall_bool</th>\n",
       "      <th>rain_win_percent</th>\n",
       "    </tr>\n",
       "    <tr>\n",
       "      <th>HomeTeam</th>\n",
       "      <th></th>\n",
       "      <th></th>\n",
       "      <th></th>\n",
       "      <th></th>\n",
       "      <th></th>\n",
       "      <th></th>\n",
       "      <th></th>\n",
       "    </tr>\n",
       "  </thead>\n",
       "  <tbody>\n",
       "    <tr>\n",
       "      <th>Aachen</th>\n",
       "      <td>6</td>\n",
       "      <td>13</td>\n",
       "      <td>15</td>\n",
       "      <td>30</td>\n",
       "      <td>3</td>\n",
       "      <td>13.0</td>\n",
       "      <td>0.230769</td>\n",
       "    </tr>\n",
       "    <tr>\n",
       "      <th>Arsenal</th>\n",
       "      <td>21</td>\n",
       "      <td>7</td>\n",
       "      <td>10</td>\n",
       "      <td>74</td>\n",
       "      <td>8</td>\n",
       "      <td>14.0</td>\n",
       "      <td>0.571429</td>\n",
       "    </tr>\n",
       "    <tr>\n",
       "      <th>Aston Villa</th>\n",
       "      <td>7</td>\n",
       "      <td>17</td>\n",
       "      <td>14</td>\n",
       "      <td>37</td>\n",
       "      <td>2</td>\n",
       "      <td>12.0</td>\n",
       "      <td>0.166667</td>\n",
       "    </tr>\n",
       "    <tr>\n",
       "      <th>Augsburg</th>\n",
       "      <td>8</td>\n",
       "      <td>14</td>\n",
       "      <td>12</td>\n",
       "      <td>36</td>\n",
       "      <td>4</td>\n",
       "      <td>11.0</td>\n",
       "      <td>0.363636</td>\n",
       "    </tr>\n",
       "    <tr>\n",
       "      <th>Bayern Munich</th>\n",
       "      <td>23</td>\n",
       "      <td>4</td>\n",
       "      <td>7</td>\n",
       "      <td>77</td>\n",
       "      <td>8</td>\n",
       "      <td>11.0</td>\n",
       "      <td>0.727273</td>\n",
       "    </tr>\n",
       "  </tbody>\n",
       "</table>\n",
       "</div>"
      ],
      "text/plain": [
       "               wins  draws  losses  goals  wins_rain  rainfall_bool  \\\n",
       "HomeTeam                                                              \n",
       "Aachen            6     13      15     30          3           13.0   \n",
       "Arsenal          21      7      10     74          8           14.0   \n",
       "Aston Villa       7     17      14     37          2           12.0   \n",
       "Augsburg          8     14      12     36          4           11.0   \n",
       "Bayern Munich    23      4       7     77          8           11.0   \n",
       "\n",
       "               rain_win_percent  \n",
       "HomeTeam                         \n",
       "Aachen                 0.230769  \n",
       "Arsenal                0.571429  \n",
       "Aston Villa            0.166667  \n",
       "Augsburg               0.363636  \n",
       "Bayern Munich          0.727273  "
      ]
     },
     "execution_count": 53,
     "metadata": {},
     "output_type": "execute_result"
    }
   ],
   "source": [
    "final_df.head()"
   ]
  },
  {
   "cell_type": "markdown",
   "metadata": {},
   "source": [
    "### Create \"histograms\" aka bar charts - I would argue that these aren't really histograms"
   ]
  },
  {
   "cell_type": "code",
   "execution_count": 54,
   "metadata": {},
   "outputs": [],
   "source": [
    "import matplotlib.pyplot as plt"
   ]
  },
  {
   "cell_type": "code",
   "execution_count": 55,
   "metadata": {},
   "outputs": [
    {
     "name": "stderr",
     "output_type": "stream",
     "text": [
      "/anaconda3/lib/python3.7/site-packages/matplotlib/pyplot.py:514: RuntimeWarning: More than 20 figures have been opened. Figures created through the pyplot interface (`matplotlib.pyplot.figure`) are retained until explicitly closed and may consume too much memory. (To control this warning, see the rcParam `figure.max_open_warning`).\n",
      "  max_open_warning, RuntimeWarning)\n"
     ]
    },
    {
     "data": {
      "image/png": "[encoded data removed]",
      "text/plain": [
       "<Figure size 432x288 with 1 Axes>"
      ]
     },
     "metadata": {
      "needs_background": "light"
     },
     "output_type": "display_data"
    },
    {
     "data": {
      "image/png": "[encoded data removed]",
      "text/plain": [
       "<Figure size 432x288 with 1 Axes>"
      ]
     },
     "metadata": {
      "needs_background": "light"
     },
     "output_type": "display_data"
    },
    {
     "data": {
      "image/png": "[encoded data removed]",
      "text/plain": [
       "<Figure size 432x288 with 1 Axes>"
      ]
     },
     "metadata": {
      "needs_background": "light"
     },
     "output_type": "display_data"
    },
    {
     "data": {
      "image/png": "[encoded data removed]",
      "text/plain": [
       "<Figure size 432x288 with 1 Axes>"
      ]
     },
     "metadata": {
      "needs_background": "light"
     },
     "output_type": "display_data"
    },
    {
     "data": {
      "image/png": "[encoded data removed]",
      "text/plain": [
       "<Figure size 432x288 with 1 Axes>"
      ]
     },
     "metadata": {
      "needs_background": "light"
     },
     "output_type": "display_data"
    },
    {
     "data": {
      "image/png": "[encoded data removed]",
      "text/plain": [
       "<Figure size 432x288 with 1 Axes>"
      ]
     },
     "metadata": {
      "needs_background": "light"
     },
     "output_type": "display_data"
    },
    {
     "data": {
      "image/png": "[encoded data removed]",
      "text/plain": [
       "<Figure size 432x288 with 1 Axes>"
      ]
     },
     "metadata": {
      "needs_background": "light"
     },
     "output_type": "display_data"
    },
    {
     "data": {
      "image/png": "[encoded data removed]",
      "text/plain": [
       "<Figure size 432x288 with 1 Axes>"
      ]
     },
     "metadata": {
      "needs_background": "light"
     },
     "output_type": "display_data"
    },
    {
     "data": {
      "image/png": "[encoded data removed]",
      "text/plain": [
       "<Figure size 432x288 with 1 Axes>"
      ]
     },
     "metadata": {
      "needs_background": "light"
     },
     "output_type": "display_data"
    },
    {
     "data": {
      "image/png": "[encoded data removed]",
      "text/plain": [
       "<Figure size 432x288 with 1 Axes>"
      ]
     },
     "metadata": {
      "needs_background": "light"
     },
     "output_type": "display_data"
    },
    {
     "data": {
      "image/png": "[encoded data removed]",
      "text/plain": [
       "<Figure size 432x288 with 1 Axes>"
      ]
     },
     "metadata": {
      "needs_background": "light"
     },
     "output_type": "display_data"
    },
    {
     "data": {
      "image/png": "[encoded data removed]",
      "text/plain": [
       "<Figure size 432x288 with 1 Axes>"
      ]
     },
     "metadata": {
      "needs_background": "light"
     },
     "output_type": "display_data"
    },
    {
     "data": {
      "image/png": "[encoded data removed]",
      "text/plain": [
       "<Figure size 432x288 with 1 Axes>"
      ]
     },
     "metadata": {
      "needs_background": "light"
     },
     "output_type": "display_data"
    },
    {
     "data": {
      "image/png": "[encoded data removed]",
      "text/plain": [
       "<Figure size 432x288 with 1 Axes>"
      ]
     },
     "metadata": {
      "needs_background": "light"
     },
     "output_type": "display_data"
    },
    {
     "data": {
      "image/png": "[encoded data removed]",
      "text/plain": [
       "<Figure size 432x288 with 1 Axes>"
      ]
     },
     "metadata": {
      "needs_background": "light"
     },
     "output_type": "display_data"
    },
    {
     "data": {
      "image/png": "[encoded data removed]",
      "text/plain": [
       "<Figure size 432x288 with 1 Axes>"
      ]
     },
     "metadata": {
      "needs_background": "light"
     },
     "output_type": "display_data"
    },
    {
     "data": {
      "image/png": "[encoded data removed]",
      "text/plain": [
       "<Figure size 432x288 with 1 Axes>"
      ]
     },
     "metadata": {
      "needs_background": "light"
     },
     "output_type": "display_data"
    },
    {
     "data": {
      "image/png": "[encoded data removed]",
      "text/plain": [
       "<Figure size 432x288 with 1 Axes>"
      ]
     },
     "metadata": {
      "needs_background": "light"
     },
     "output_type": "display_data"
    },
    {
     "data": {
      "image/png": "[encoded data removed]",
      "text/plain": [
       "<Figure size 432x288 with 1 Axes>"
      ]
     },
     "metadata": {
      "needs_background": "light"
     },
     "output_type": "display_data"
    },
    {
     "data": {
      "image/png": "[encoded data removed]",
      "text/plain": [
       "<Figure size 432x288 with 1 Axes>"
      ]
     },
     "metadata": {
      "needs_background": "light"
     },
     "output_type": "display_data"
    },
    {
     "data": {
      "image/png": "[encoded data removed]",
      "text/plain": [
       "<Figure size 432x288 with 1 Axes>"
      ]
     },
     "metadata": {
      "needs_background": "light"
     },
     "output_type": "display_data"
    },
    {
     "data": {
      "image/png": "[encoded data removed]",
      "text/plain": [
       "<Figure size 432x288 with 1 Axes>"
      ]
     },
     "metadata": {
      "needs_background": "light"
     },
     "output_type": "display_data"
    },
    {
     "data": {
      "image/png": "[encoded data removed]",
      "text/plain": [
       "<Figure size 432x288 with 1 Axes>"
      ]
     },
     "metadata": {
      "needs_background": "light"
     },
     "output_type": "display_data"
    },
    {
     "data": {
      "image/png": "[encoded data removed]",
      "text/plain": [
       "<Figure size 432x288 with 1 Axes>"
      ]
     },
     "metadata": {
      "needs_background": "light"
     },
     "output_type": "display_data"
    },
    {
     "data": {
      "image/png": "[encoded data removed]",
      "text/plain": [
       "<Figure size 432x288 with 1 Axes>"
      ]
     },
     "metadata": {
      "needs_background": "light"
     },
     "output_type": "display_data"
    },
    {
     "data": {
      "image/png": "[encoded data removed]",
      "text/plain": [
       "<Figure size 432x288 with 1 Axes>"
      ]
     },
     "metadata": {
      "needs_background": "light"
     },
     "output_type": "display_data"
    },
    {
     "data": {
      "image/png": "[encoded data removed]",
      "text/plain": [
       "<Figure size 432x288 with 1 Axes>"
      ]
     },
     "metadata": {
      "needs_background": "light"
     },
     "output_type": "display_data"
    },
    {
     "data": {
      "image/png": "[encoded data removed]",
      "text/plain": [
       "<Figure size 432x288 with 1 Axes>"
      ]
     },
     "metadata": {
      "needs_background": "light"
     },
     "output_type": "display_data"
    },
    {
     "data": {
      "image/png": "[encoded data removed]",
      "text/plain": [
       "<Figure size 432x288 with 1 Axes>"
      ]
     },
     "metadata": {
      "needs_background": "light"
     },
     "output_type": "display_data"
    },
    {
     "data": {
      "image/png": "[encoded data removed]",
      "text/plain": [
       "<Figure size 432x288 with 1 Axes>"
      ]
     },
     "metadata": {
      "needs_background": "light"
     },
     "output_type": "display_data"
    },
    {
     "data": {
      "image/png": "[encoded data removed]",
      "text/plain": [
       "<Figure size 432x288 with 1 Axes>"
      ]
     },
     "metadata": {
      "needs_background": "light"
     },
     "output_type": "display_data"
    },
    {
     "data": {
      "image/png": "[encoded data removed]",
      "text/plain": [
       "<Figure size 432x288 with 1 Axes>"
      ]
     },
     "metadata": {
      "needs_background": "light"
     },
     "output_type": "display_data"
    },
    {
     "data": {
      "image/png": "[encoded data removed]",
      "text/plain": [
       "<Figure size 432x288 with 1 Axes>"
      ]
     },
     "metadata": {
      "needs_background": "light"
     },
     "output_type": "display_data"
    },
    {
     "data": {
      "image/png": "[encoded data removed]",
      "text/plain": [
       "<Figure size 432x288 with 1 Axes>"
      ]
     },
     "metadata": {
      "needs_background": "light"
     },
     "output_type": "display_data"
    },
    {
     "data": {
      "image/png": "[encoded data removed]",
      "text/plain": [
       "<Figure size 432x288 with 1 Axes>"
      ]
     },
     "metadata": {
      "needs_background": "light"
     },
     "output_type": "display_data"
    },
    {
     "data": {
      "image/png": "[encoded data removed]",
      "text/plain": [
       "<Figure size 432x288 with 1 Axes>"
      ]
     },
     "metadata": {
      "needs_background": "light"
     },
     "output_type": "display_data"
    },
    {
     "data": {
      "image/png": "[encoded data removed]",
      "text/plain": [
       "<Figure size 432x288 with 1 Axes>"
      ]
     },
     "metadata": {
      "needs_background": "light"
     },
     "output_type": "display_data"
    },
    {
     "data": {
      "image/png": "[encoded data removed]",
      "text/plain": [
       "<Figure size 432x288 with 1 Axes>"
      ]
     },
     "metadata": {
      "needs_background": "light"
     },
     "output_type": "display_data"
    },
    {
     "data": {
      "image/png": "[encoded data removed]",
      "text/plain": [
       "<Figure size 432x288 with 1 Axes>"
      ]
     },
     "metadata": {
      "needs_background": "light"
     },
     "output_type": "display_data"
    },
    {
     "data": {
      "image/png": "[encoded data removed]",
      "text/plain": [
       "<Figure size 432x288 with 1 Axes>"
      ]
     },
     "metadata": {
      "needs_background": "light"
     },
     "output_type": "display_data"
    },
    {
     "data": {
      "image/png": "[encoded data removed]",
      "text/plain": [
       "<Figure size 432x288 with 1 Axes>"
      ]
     },
     "metadata": {
      "needs_background": "light"
     },
     "output_type": "display_data"
    },
    {
     "data": {
      "image/png": "[encoded data removed]",
      "text/plain": [
       "<Figure size 432x288 with 1 Axes>"
      ]
     },
     "metadata": {
      "needs_background": "light"
     },
     "output_type": "display_data"
    },
    {
     "data": {
      "image/png": "[encoded data removed]",
      "text/plain": [
       "<Figure size 432x288 with 1 Axes>"
      ]
     },
     "metadata": {
      "needs_background": "light"
     },
     "output_type": "display_data"
    },
    {
     "data": {
      "image/png": "[encoded data removed]",
      "text/plain": [
       "<Figure size 432x288 with 1 Axes>"
      ]
     },
     "metadata": {
      "needs_background": "light"
     },
     "output_type": "display_data"
    },
    {
     "data": {
      "image/png": "[encoded data removed]",
      "text/plain": [
       "<Figure size 432x288 with 1 Axes>"
      ]
     },
     "metadata": {
      "needs_background": "light"
     },
     "output_type": "display_data"
    },
    {
     "data": {
      "image/png": "[encoded data removed]",
      "text/plain": [
       "<Figure size 432x288 with 1 Axes>"
      ]
     },
     "metadata": {
      "needs_background": "light"
     },
     "output_type": "display_data"
    },
    {
     "data": {
      "image/png": "[encoded data removed]",
      "text/plain": [
       "<Figure size 432x288 with 1 Axes>"
      ]
     },
     "metadata": {
      "needs_background": "light"
     },
     "output_type": "display_data"
    },
    {
     "data": {
      "image/png": "[encoded data removed]",
      "text/plain": [
       "<Figure size 432x288 with 1 Axes>"
      ]
     },
     "metadata": {
      "needs_background": "light"
     },
     "output_type": "display_data"
    },
    {
     "data": {
      "image/png": "[encoded data removed]",
      "text/plain": [
       "<Figure size 432x288 with 1 Axes>"
      ]
     },
     "metadata": {
      "needs_background": "light"
     },
     "output_type": "display_data"
    },
    {
     "data": {
      "image/png": "[encoded data removed]",
      "text/plain": [
       "<Figure size 432x288 with 1 Axes>"
      ]
     },
     "metadata": {
      "needs_background": "light"
     },
     "output_type": "display_data"
    },
    {
     "data": {
      "image/png": "[encoded data removed]",
      "text/plain": [
       "<Figure size 432x288 with 1 Axes>"
      ]
     },
     "metadata": {
      "needs_background": "light"
     },
     "output_type": "display_data"
    },
    {
     "data": {
      "image/png": "[encoded data removed]",
      "text/plain": [
       "<Figure size 432x288 with 1 Axes>"
      ]
     },
     "metadata": {
      "needs_background": "light"
     },
     "output_type": "display_data"
    },
    {
     "data": {
      "image/png": "[encoded data removed]",
      "text/plain": [
       "<Figure size 432x288 with 1 Axes>"
      ]
     },
     "metadata": {
      "needs_background": "light"
     },
     "output_type": "display_data"
    },
    {
     "data": {
      "image/png": "[encoded data removed]",
      "text/plain": [
       "<Figure size 432x288 with 1 Axes>"
      ]
     },
     "metadata": {
      "needs_background": "light"
     },
     "output_type": "display_data"
    },
    {
     "data": {
      "image/png": "[encoded data removed]",
      "text/plain": [
       "<Figure size 432x288 with 1 Axes>"
      ]
     },
     "metadata": {
      "needs_background": "light"
     },
     "output_type": "display_data"
    },
    {
     "data": {
      "image/png": "[encoded data removed]",
      "text/plain": [
       "<Figure size 432x288 with 1 Axes>"
      ]
     },
     "metadata": {
      "needs_background": "light"
     },
     "output_type": "display_data"
    }
   ],
   "source": [
    "win_loss_graphs = []\n",
    "for count, team in enumerate(final_df.index):\n",
    "    fig = plt.figure(count)\n",
    "    (plt.bar(x = ['wins', 'losses'], height = [final_df.loc[team, 'wins'], final_df.loc[team, 'losses']], \n",
    "            color = ['blue','red']))\n",
    "    win_loss_graphs.append(fig)"
   ]
  },
  {
   "cell_type": "markdown",
   "metadata": {},
   "source": [
    "#### Now we need to convert this list to binary or bson, so it can be read into a Mongo database"
   ]
  },
  {
   "cell_type": "code",
   "execution_count": 56,
   "metadata": {},
   "outputs": [],
   "source": [
    "binarized_figs = []\n",
    "for item in win_loss_graphs:\n",
    "    item.savefig('myfile.png')\n",
    "    with open(\"myfile.png\", \"rb\") as image:\n",
    "        f = image.read()\n",
    "    binarized_figs.append(f)"
   ]
  },
  {
   "cell_type": "code",
   "execution_count": 57,
   "metadata": {},
   "outputs": [],
   "source": [
    "final_df['graph'] = binarized_figs"
   ]
  },
  {
   "cell_type": "code",
   "execution_count": 58,
   "metadata": {},
   "outputs": [
    {
     "data": {
      "text/html": [
       "<div>\n",
       "<style scoped>\n",
       "    .dataframe tbody tr th:only-of-type {\n",
       "        vertical-align: middle;\n",
       "    }\n",
       "\n",
       "    .dataframe tbody tr th {\n",
       "        vertical-align: top;\n",
       "    }\n",
       "\n",
       "    .dataframe thead th {\n",
       "        text-align: right;\n",
       "    }\n",
       "</style>\n",
       "<table border=\"1\" class=\"dataframe\">\n",
       "  <thead>\n",
       "    <tr style=\"text-align: right;\">\n",
       "      <th></th>\n",
       "      <th>wins</th>\n",
       "      <th>draws</th>\n",
       "      <th>losses</th>\n",
       "      <th>goals</th>\n",
       "      <th>wins_rain</th>\n",
       "      <th>rainfall_bool</th>\n",
       "      <th>rain_win_percent</th>\n",
       "      <th>graph</th>\n",
       "    </tr>\n",
       "    <tr>\n",
       "      <th>HomeTeam</th>\n",
       "      <th></th>\n",
       "      <th></th>\n",
       "      <th></th>\n",
       "      <th></th>\n",
       "      <th></th>\n",
       "      <th></th>\n",
       "      <th></th>\n",
       "      <th></th>\n",
       "    </tr>\n",
       "  </thead>\n",
       "  <tbody>\n",
       "    <tr>\n",
       "      <th>Aachen</th>\n",
       "      <td>6</td>\n",
       "      <td>13</td>\n",
       "      <td>15</td>\n",
       "      <td>30</td>\n",
       "      <td>3</td>\n",
       "      <td>13.0</td>\n",
       "      <td>0.230769</td>\n",
       "      <td>b'\\x89PNG\\r\\n\\x1a\\n\\x00\\x00\\x00\\rIHDR\\x00\\x00\\...</td>\n",
       "    </tr>\n",
       "    <tr>\n",
       "      <th>Arsenal</th>\n",
       "      <td>21</td>\n",
       "      <td>7</td>\n",
       "      <td>10</td>\n",
       "      <td>74</td>\n",
       "      <td>8</td>\n",
       "      <td>14.0</td>\n",
       "      <td>0.571429</td>\n",
       "      <td>b'\\x89PNG\\r\\n\\x1a\\n\\x00\\x00\\x00\\rIHDR\\x00\\x00\\...</td>\n",
       "    </tr>\n",
       "    <tr>\n",
       "      <th>Aston Villa</th>\n",
       "      <td>7</td>\n",
       "      <td>17</td>\n",
       "      <td>14</td>\n",
       "      <td>37</td>\n",
       "      <td>2</td>\n",
       "      <td>12.0</td>\n",
       "      <td>0.166667</td>\n",
       "      <td>b'\\x89PNG\\r\\n\\x1a\\n\\x00\\x00\\x00\\rIHDR\\x00\\x00\\...</td>\n",
       "    </tr>\n",
       "    <tr>\n",
       "      <th>Augsburg</th>\n",
       "      <td>8</td>\n",
       "      <td>14</td>\n",
       "      <td>12</td>\n",
       "      <td>36</td>\n",
       "      <td>4</td>\n",
       "      <td>11.0</td>\n",
       "      <td>0.363636</td>\n",
       "      <td>b'\\x89PNG\\r\\n\\x1a\\n\\x00\\x00\\x00\\rIHDR\\x00\\x00\\...</td>\n",
       "    </tr>\n",
       "    <tr>\n",
       "      <th>Bayern Munich</th>\n",
       "      <td>23</td>\n",
       "      <td>4</td>\n",
       "      <td>7</td>\n",
       "      <td>77</td>\n",
       "      <td>8</td>\n",
       "      <td>11.0</td>\n",
       "      <td>0.727273</td>\n",
       "      <td>b'\\x89PNG\\r\\n\\x1a\\n\\x00\\x00\\x00\\rIHDR\\x00\\x00\\...</td>\n",
       "    </tr>\n",
       "  </tbody>\n",
       "</table>\n",
       "</div>"
      ],
      "text/plain": [
       "               wins  draws  losses  goals  wins_rain  rainfall_bool  \\\n",
       "HomeTeam                                                              \n",
       "Aachen            6     13      15     30          3           13.0   \n",
       "Arsenal          21      7      10     74          8           14.0   \n",
       "Aston Villa       7     17      14     37          2           12.0   \n",
       "Augsburg          8     14      12     36          4           11.0   \n",
       "Bayern Munich    23      4       7     77          8           11.0   \n",
       "\n",
       "               rain_win_percent  \\\n",
       "HomeTeam                          \n",
       "Aachen                 0.230769   \n",
       "Arsenal                0.571429   \n",
       "Aston Villa            0.166667   \n",
       "Augsburg               0.363636   \n",
       "Bayern Munich          0.727273   \n",
       "\n",
       "                                                           graph  \n",
       "HomeTeam                                                          \n",
       "Aachen         b'\\x89PNG\\r\\n\\x1a\\n\\x00\\x00\\x00\\rIHDR\\x00\\x00\\...  \n",
       "Arsenal        b'\\x89PNG\\r\\n\\x1a\\n\\x00\\x00\\x00\\rIHDR\\x00\\x00\\...  \n",
       "Aston Villa    b'\\x89PNG\\r\\n\\x1a\\n\\x00\\x00\\x00\\rIHDR\\x00\\x00\\...  \n",
       "Augsburg       b'\\x89PNG\\r\\n\\x1a\\n\\x00\\x00\\x00\\rIHDR\\x00\\x00\\...  \n",
       "Bayern Munich  b'\\x89PNG\\r\\n\\x1a\\n\\x00\\x00\\x00\\rIHDR\\x00\\x00\\...  "
      ]
     },
     "execution_count": 58,
     "metadata": {},
     "output_type": "execute_result"
    }
   ],
   "source": [
    "final_df.head()"
   ]
  },
  {
   "cell_type": "markdown",
   "metadata": {},
   "source": [
    "### Reset index so the Team Name is properly stored"
   ]
  },
  {
   "cell_type": "code",
   "execution_count": 59,
   "metadata": {},
   "outputs": [],
   "source": [
    "final_df.reset_index(inplace = True)"
   ]
  },
  {
   "cell_type": "code",
   "execution_count": 60,
   "metadata": {},
   "outputs": [
    {
     "data": {
      "text/html": [
       "<div>\n",
       "<style scoped>\n",
       "    .dataframe tbody tr th:only-of-type {\n",
       "        vertical-align: middle;\n",
       "    }\n",
       "\n",
       "    .dataframe tbody tr th {\n",
       "        vertical-align: top;\n",
       "    }\n",
       "\n",
       "    .dataframe thead th {\n",
       "        text-align: right;\n",
       "    }\n",
       "</style>\n",
       "<table border=\"1\" class=\"dataframe\">\n",
       "  <thead>\n",
       "    <tr style=\"text-align: right;\">\n",
       "      <th></th>\n",
       "      <th>HomeTeam</th>\n",
       "      <th>wins</th>\n",
       "      <th>draws</th>\n",
       "      <th>losses</th>\n",
       "      <th>goals</th>\n",
       "      <th>wins_rain</th>\n",
       "      <th>rainfall_bool</th>\n",
       "      <th>rain_win_percent</th>\n",
       "      <th>graph</th>\n",
       "    </tr>\n",
       "  </thead>\n",
       "  <tbody>\n",
       "    <tr>\n",
       "      <th>0</th>\n",
       "      <td>Aachen</td>\n",
       "      <td>6</td>\n",
       "      <td>13</td>\n",
       "      <td>15</td>\n",
       "      <td>30</td>\n",
       "      <td>3</td>\n",
       "      <td>13.0</td>\n",
       "      <td>0.230769</td>\n",
       "      <td>b'\\x89PNG\\r\\n\\x1a\\n\\x00\\x00\\x00\\rIHDR\\x00\\x00\\...</td>\n",
       "    </tr>\n",
       "    <tr>\n",
       "      <th>1</th>\n",
       "      <td>Arsenal</td>\n",
       "      <td>21</td>\n",
       "      <td>7</td>\n",
       "      <td>10</td>\n",
       "      <td>74</td>\n",
       "      <td>8</td>\n",
       "      <td>14.0</td>\n",
       "      <td>0.571429</td>\n",
       "      <td>b'\\x89PNG\\r\\n\\x1a\\n\\x00\\x00\\x00\\rIHDR\\x00\\x00\\...</td>\n",
       "    </tr>\n",
       "    <tr>\n",
       "      <th>2</th>\n",
       "      <td>Aston Villa</td>\n",
       "      <td>7</td>\n",
       "      <td>17</td>\n",
       "      <td>14</td>\n",
       "      <td>37</td>\n",
       "      <td>2</td>\n",
       "      <td>12.0</td>\n",
       "      <td>0.166667</td>\n",
       "      <td>b'\\x89PNG\\r\\n\\x1a\\n\\x00\\x00\\x00\\rIHDR\\x00\\x00\\...</td>\n",
       "    </tr>\n",
       "    <tr>\n",
       "      <th>3</th>\n",
       "      <td>Augsburg</td>\n",
       "      <td>8</td>\n",
       "      <td>14</td>\n",
       "      <td>12</td>\n",
       "      <td>36</td>\n",
       "      <td>4</td>\n",
       "      <td>11.0</td>\n",
       "      <td>0.363636</td>\n",
       "      <td>b'\\x89PNG\\r\\n\\x1a\\n\\x00\\x00\\x00\\rIHDR\\x00\\x00\\...</td>\n",
       "    </tr>\n",
       "    <tr>\n",
       "      <th>4</th>\n",
       "      <td>Bayern Munich</td>\n",
       "      <td>23</td>\n",
       "      <td>4</td>\n",
       "      <td>7</td>\n",
       "      <td>77</td>\n",
       "      <td>8</td>\n",
       "      <td>11.0</td>\n",
       "      <td>0.727273</td>\n",
       "      <td>b'\\x89PNG\\r\\n\\x1a\\n\\x00\\x00\\x00\\rIHDR\\x00\\x00\\...</td>\n",
       "    </tr>\n",
       "  </tbody>\n",
       "</table>\n",
       "</div>"
      ],
      "text/plain": [
       "        HomeTeam  wins  draws  losses  goals  wins_rain  rainfall_bool  \\\n",
       "0         Aachen     6     13      15     30          3           13.0   \n",
       "1        Arsenal    21      7      10     74          8           14.0   \n",
       "2    Aston Villa     7     17      14     37          2           12.0   \n",
       "3       Augsburg     8     14      12     36          4           11.0   \n",
       "4  Bayern Munich    23      4       7     77          8           11.0   \n",
       "\n",
       "   rain_win_percent                                              graph  \n",
       "0          0.230769  b'\\x89PNG\\r\\n\\x1a\\n\\x00\\x00\\x00\\rIHDR\\x00\\x00\\...  \n",
       "1          0.571429  b'\\x89PNG\\r\\n\\x1a\\n\\x00\\x00\\x00\\rIHDR\\x00\\x00\\...  \n",
       "2          0.166667  b'\\x89PNG\\r\\n\\x1a\\n\\x00\\x00\\x00\\rIHDR\\x00\\x00\\...  \n",
       "3          0.363636  b'\\x89PNG\\r\\n\\x1a\\n\\x00\\x00\\x00\\rIHDR\\x00\\x00\\...  \n",
       "4          0.727273  b'\\x89PNG\\r\\n\\x1a\\n\\x00\\x00\\x00\\rIHDR\\x00\\x00\\...  "
      ]
     },
     "execution_count": 60,
     "metadata": {},
     "output_type": "execute_result"
    }
   ],
   "source": [
    "final_df.head()"
   ]
  },
  {
   "cell_type": "markdown",
   "metadata": {},
   "source": [
    "### Put our records in our Mongo database with PyMongo"
   ]
  },
  {
   "cell_type": "code",
   "execution_count": 61,
   "metadata": {},
   "outputs": [],
   "source": [
    "import pymongo"
   ]
  },
  {
   "cell_type": "code",
   "execution_count": 62,
   "metadata": {},
   "outputs": [],
   "source": [
    "#Start db\n",
    "myclient = pymongo.MongoClient('mongodb://127.0.0.1:27017')\n",
    "mydb = myclient['team_database']\n",
    "mycollection = mydb['matches_collection']"
   ]
  },
  {
   "cell_type": "code",
   "execution_count": 63,
   "metadata": {},
   "outputs": [],
   "source": [
    "#Prep records for db\n",
    "final_dict = final_df.to_dict(orient = 'records')"
   ]
  },
  {
   "cell_type": "code",
   "execution_count": 64,
   "metadata": {},
   "outputs": [
    {
     "data": {
      "text/plain": [
       "{'HomeTeam': 'Aachen',\n",
       " 'wins': 6,\n",
       " 'draws': 13,\n",
       " 'losses': 15,\n",
       " 'goals': 30,\n",
       " 'wins_rain': 3,\n",
       " 'rainfall_bool': 13.0,\n",
       " 'rain_win_percent': 0.23076923076923078,\n",
       " 'graph': b'\\x89PNG\\r\\n\\x1a\\n\\x00\\x00\\x00\\rIHDR\\x00\\x00\\x01\\xb0\\x00\\x00\\x01 \\x08\\x06\\x00\\x00\\x00\\xd5(&i\\x00\\x00\\x00\\x04sBIT\\x08\\x08\\x08\\x08|\\x08d\\x88\\x00\\x00\\x00\\tpHYs\\x00\\x00\\x0b\\x12\\x00\\x00\\x0b\\x12\\x01\\xd2\\xdd~\\xfc\\x00\\x00\\x009tEXtSoftware\\x00matplotlib version 3.0.3, http://matplotlib.org/\\x9d\\x0b\\xab\\xa3\\x00\\x00\\x11\\x17IDATx\\x9c\\xed\\xdc}h\\x95\\xf5\\xff\\xc7\\xf1\\xd7\\xf9:5\\xf2\\xa6\\x12\\xb7\\x9aN\\x9b\\xa2\\xd5\\xdc\\xd1\\x9d\\xdc1[\\xb5\\x937MM\\xc4\\xa8&8,\\x9a7\\x9d\\x12\\x8b2\\x12\\xea\\xbf(E[Fe\\x05r\\xc2\\xcc4T\\xf4\\x8f\\x0c\\xad\\x91\\xadHK\\xa5\\xae\\xb4\\x1b1M\\xcc\\xc5\\xb6f\\x1eK\\xf3\\x1e\\xdd\\xf6\\xf9\\xfe\\xf1%\\xf9\\xe9\\xb4\\xfci\\xees\\xbd\\xdd\\xf3\\x01\\x03w\\xed\\x9a{\\x1d8\\xee\\xc9u\\x9d\\xb9\\x88s\\xce\\t\\x00\\x00c\\xfe\\xe3{\\x00\\x00\\x00\\x17\\x82\\x80\\x01\\x00L\"`\\x00\\x00\\x93\\x08\\x18\\x00\\xc0$\\x02\\x06\\x000\\x89\\x80\\x01\\x00L\"`\\x00\\x00\\x93\\x08\\x18\\x00\\xc0$\\x02\\x06\\x000\\x89\\x80\\x01\\x00L\"`\\x00\\x00\\x93\\x08\\x18\\x00\\xc0$\\x02\\x06\\x000\\x89\\x80\\x01\\x00L\"`\\x00\\x00\\x93\\x08\\x18\\x00\\xc0$\\x02\\x06\\x000\\x89\\x80\\x01\\x00L\"`\\x00\\x00\\x93\\x08\\x18\\x00\\xc0$\\x02\\x06\\x000\\x89\\x80\\x01\\x00L\"`\\x00\\x00\\x93\\x08\\x18\\x00\\xc0$\\x02\\x06\\x000\\x89\\x80\\x01\\x00L\"`\\x00\\x00\\x93\\x08\\x18\\x00\\xc0$\\x02\\x06\\x000\\x89\\x80\\x01\\x00L\"`\\x00\\x00\\x93\\x08\\x18\\x00\\xc0$\\x02\\x06\\x000\\x89\\x80\\x01\\x00L\\xca\\xf0=\\xe0R\\xe9\\xda\\xb5\\xabrss}\\xcf\\x00\\x00S\\xaa\\xab\\xab\\xb5o\\xdf>\\xdf3\\xce\\xcbe\\x1b\\xb0\\xdc\\xdc\\\\\\x05A\\xe0{\\x06\\x00\\x98\\x12\\x8f\\xc7}O8o\\xdcB\\x04\\x00\\x98D\\xc0\\x00\\x00&\\x110\\x00\\x80I\\x04\\x0c\\x00`\\x12\\x01\\x03\\x00\\x98D\\xc0\\x00\\x00&\\x110\\x00\\x80I\\x04\\x0c\\x00`\\xd2e\\xfb\\x1f\\x99\\x81\\xcbZ$\\xe2{\\x01\\xc2\\xcc9\\xdf\\x0bZ\\x04W`\\x00\\x00\\x93\\x08\\x18\\x00\\xc0$\\x02\\x06\\x000\\x89\\x80\\x01\\x00L\"`\\x00\\x00\\x93\\x08\\x18\\x00\\xc0$\\x02\\x06\\x000\\x89\\x80\\x01\\x00L\"`\\x00\\x00\\x93B\\x17\\xb0I\\x93&)++K\\xd1h\\xb4\\xd9\\xc7\\xe6\\xce\\x9d\\xabH$\\xa2}\\xfb\\xf6yX\\x06\\x00\\x08\\x93\\xd0\\x05\\xac\\xbc\\xbc\\\\\\x95\\x95\\x95\\xcd\\x8e\\xd7\\xd4\\xd4h\\xed\\xda\\xb5\\xea\\xd9\\xb3\\xa7\\x87U\\x00\\x80\\xb0\\t]\\xc0\\x12\\x89\\x84\\xbat\\xe9\\xd2\\xec\\xf8\\xf4\\xe9\\xd3UQQ\\xa1\\x08\\xbf\\x03\\x0e\\x00\\xa0\\x10\\x06\\xecl>\\xf8\\xe0\\x03u\\xef\\xde]\\x05\\x05\\x05\\xbe\\xa7\\x00\\x00B\"\\xf4\\xbf\\x8d\\xfe\\xe8\\xd1\\xa3\\x9a5k\\x96>\\xfe\\xf8\\xe3\\x7f<7\\x95J)\\x95JI\\x92\\xd2\\xe9\\xf4\\xa5\\x9e\\x06\\x00\\xf0(\\xf4W`\\xbbv\\xed\\xd2\\xee\\xdd\\xbbUPP\\xa0\\xdc\\xdc\\\\\\xd5\\xd6\\xd6j\\xe0\\xc0\\x81\\xda\\xb3gO\\xb3s\\x93\\xc9\\xa4\\x82 P\\x10\\x04\\xca\\xcc\\xcc\\xf4\\xb0\\x16\\x00\\xd0RB\\x7f\\x05\\xd6\\xbf\\x7f\\x7f\\xed\\xdd\\xbb\\xf7\\xd4\\xfb\\xb9\\xb9\\xb9\\n\\x82@]\\xbbv\\xf5\\xb8\\n\\x00\\xe0[\\xe8\\xae\\xc0\\xca\\xca\\xcaTTT\\xa4\\x1d;v(\\'\\'G\\x0b\\x16,\\xf0=\\t\\x00\\x10B\\xa1\\xbb\\x02[\\xbat\\xe9\\xdf~\\xbc\\xba\\xba\\xbae\\x86\\x00\\x00B-tW`\\x00\\x00\\x9c\\x0f\\x02\\x06\\x000\\x89\\x80\\x01\\x00L\"`\\x00\\x00\\x93\\x08\\x18\\x00\\xc0$\\x02\\x06\\x000\\x89\\x80\\x01\\x00L\"`\\x00\\x00\\x93\\x08\\x18\\x00\\xc0$\\x02\\x06\\x000\\x89\\x80\\x01\\x00L\"`\\x00\\x00\\x93\\x08\\x18\\x00\\xc0$\\x02\\x06\\x000\\x89\\x80\\x01\\x00L\"`\\x00\\x00\\x93\\x08\\x18\\x00\\xc0$\\x02\\x06\\x000)T\\x01\\x9b4i\\x92\\xb2\\xb2\\xb2\\x14\\x8dFO\\x1d\\x9b1c\\x86n\\xba\\xe9&\\r\\x180@\\xf7\\xde{\\xaf\\x0e\\x1c8\\xe0q!\\x00 ,B\\x15\\xb0\\xf2\\xf2rUVV\\x9ev\\xac\\xa4\\xa4D[\\xb7n\\xd5\\xf7\\xdf\\x7f\\xaf\\x1bn\\xb8A\\xb3g\\xcf\\xf6\\xb4\\x0e\\x00\\x10&\\xa1\\nX\"\\x91P\\x97.]N;6b\\xc4\\x08eddH\\x92n\\xbd\\xf5V\\xd5\\xd6\\xd6\\xfa\\x98\\x06\\x00\\x08\\x99P\\x05\\xec\\x9f\\xbc\\xfd\\xf6\\xdb\\xba\\xfb\\xee\\xbb}\\xcf\\x00\\x00\\x84@\\x86\\xef\\x01\\xe7k\\xd6\\xacY\\xca\\xc8\\xc8\\xd0\\x84\\t\\x13\\xceyN*\\x95R*\\x95\\x92$\\xa5\\xd3\\xe9\\x96\\x9a\\x06\\x00\\xf0\\xc0\\xc4\\x15\\xd8\\xa2E\\x8b\\xb4z\\xf5j\\xbd\\xf7\\xde{\\x8aD\"\\xe7</\\x99L*\\x08\\x02\\x05A\\xa0\\xcc\\xcc\\xcc\\x16\\\\\\x08\\x00hi\\xa1\\xbf\\x02\\xab\\xac\\xac\\xd4\\x8b/\\xbe\\xa8\\xcf?\\xff\\\\W^y\\xa5\\xef9\\x00\\x80\\x90\\x08\\xd5\\x15XYY\\x99\\x8a\\x8a\\x8a\\xb4c\\xc7\\x0e\\xe5\\xe4\\xe4h\\xc1\\x82\\x05z\\xec\\xb1\\xc7t\\xe8\\xd0!\\x95\\x94\\x94(\\x16\\x8b\\xe9\\xd1G\\x1f\\xf5=\\x13\\x00\\x10\\x02\\xa1\\xba\\x02[\\xbati\\xb3c\\x93\\'O\\xf6\\xb0\\x04\\x00\\x10v\\xa1\\xba\\x02\\x03\\x00\\xe0|\\x110\\x00\\x80I\\x04\\x0c\\x00`\\x12\\x01\\x03\\x00\\x98D\\xc0\\x00\\x00&\\x110\\x00\\x80I\\x04\\x0c\\x00`\\x12\\x01\\x03\\x00\\x98D\\xc0\\x00\\x00&\\x110\\x00\\x80I\\x04\\x0c\\x00`\\x12\\x01\\x03\\x00\\x98D\\xc0\\x00\\x00&\\x110\\x00\\x80I\\x04\\x0c\\x00`\\x12\\x01\\x03\\x00\\x98D\\xc0\\x00\\x00&\\x110\\x00\\x80I\\x04\\x0c\\x00`R\\xe8\\x026i\\xd2$eee)\\x1a\\x8d\\x9e:\\xf6\\xc7\\x1f\\x7f\\xa8\\xa4\\xa4D}\\xfb\\xf6UII\\x89\\xf6\\xef\\xdf\\xefq!\\x00 \\x0cB\\x17\\xb0\\xf2\\xf2rUVV\\x9evl\\xce\\x9c9\\x1a>|\\xb8v\\xee\\xdc\\xa9\\xe1\\xc3\\x87k\\xce\\x9c9\\x9e\\xd6\\x01\\x00\\xc2\"t\\x01K$\\x12\\xea\\xd2\\xa5\\xcbi\\xc7V\\xadZ\\xa5\\x87\\x1ezH\\x92\\xf4\\xd0C\\x0f\\xe9\\xfd\\xf7\\xdf\\xf71\\r\\x00\\x10\"\\xa1\\x0b\\xd8\\xd9\\xfc\\xf6\\xdbo\\xca\\xce\\xce\\x96$eggk\\xef\\xde\\xbd\\x9e\\x17\\x01\\x00|\\xcb\\xf0=\\xe0\\xdf\\x94J\\xa5\\x94J\\xa5$I\\xe9t\\xda\\xf3\\x1a\\x00\\xc0\\xa5d\\xe2\\n\\xec\\xdak\\xafU}}\\xbd$\\xa9\\xbe\\xbe^YYYg=/\\x99L*\\x08\\x02\\x05A\\xa0\\xcc\\xcc\\xcc\\x96\\x9c\\x08\\x00ha&\\x026v\\xecX-Z\\xb4H\\x92\\xb4h\\xd1\"\\xdds\\xcf=\\x9e\\x17\\x01\\x00|\\x0b]\\xc0\\xca\\xca\\xcaTTT\\xa4\\x1d;v(\\'\\'G\\x0b\\x16,\\xd03\\xcf<\\xa3\\xb5k\\xd7\\xaao\\xdf\\xbeZ\\xbbv\\xad\\x9ey\\xe6\\x19\\xdf3\\x01\\x00\\x9e\\x85\\xee5\\xb0\\xa5K\\x97\\x9e\\xf5xUUU\\x0b/\\x01\\x00\\x84Y\\xe8\\xae\\xc0\\x00\\x008\\x1f\\x04\\x0c\\x00`\\x12\\x01\\x03\\x00\\x98D\\xc0\\x00\\x00&\\x110\\x00\\x80I\\x04\\x0c\\x00`\\x12\\x01\\x03\\x00\\x98D\\xc0\\x00\\x00&\\x110\\x00\\x80I\\x04\\x0c\\x00`\\x12\\x01\\x03\\x00\\x98D\\xc0\\x00\\x00&\\x110\\x00\\x80I\\x04\\x0c\\x00`\\x12\\x01\\x03\\x00\\x98D\\xc0\\x00\\x00&\\x110\\x00\\x80I\\x04\\x0c\\x00`\\x12\\x01\\x03\\x00\\x98d&`\\xaf\\xbc\\xf2\\x8a\\xf2\\xf3\\xf3\\x15\\x8dFUVV\\xa6\\xe3\\xc7\\x8f\\xfb\\x9e\\x04\\x00\\xf0\\xc8D\\xc0\\xea\\xea\\xea4o\\xde<\\x05A\\xa0\\xad[\\xb7\\xaa\\xb1\\xb1Q\\xcb\\x96-\\xf3=\\x0b\\x00\\xe0\\x91\\x89\\x80IRCC\\x83\\x8e\\x1d;\\xa6\\x86\\x86\\x06\\x1d=zT\\xdd\\xbau\\xf3=\\t\\x00\\xe0\\x91\\x89\\x80u\\xef\\xde]O?\\xfd\\xb4z\\xf6\\xec\\xa9\\xec\\xecl]u\\xd5U\\x1a1b\\x84\\xefY\\x00\\x00\\x8fL\\x04l\\xff\\xfe\\xfdZ\\xb5j\\x95v\\xef\\xde\\xad_\\x7f\\xfdUG\\x8e\\x1c\\xd1\\x92%K\\x9a\\x9d\\x97J\\xa5\\x14\\x8f\\xc7\\x15\\x8f\\xc7\\x95N\\xa7=,\\x05\\x00\\xb4\\x14\\x13\\x01\\xfb\\xe4\\x93O\\xd4\\xabW/eff\\xaam\\xdb\\xb6\\xba\\xef\\xbe\\xfb\\xb4a\\xc3\\x86f\\xe7%\\x93I\\x05A\\xa0 \\x08\\x94\\x99\\x99\\xe9a)\\x00\\xa0\\xa5\\x98\\x08X\\xcf\\x9e=\\xb5i\\xd3&\\x1d=zT\\xce9UUU)//\\xcf\\xf7,\\x00\\x80G&\\x026x\\xf0`\\x95\\x96\\x96j\\xe0\\xc0\\x81\\xea\\xdf\\xbf\\xbf\\x9a\\x9a\\x9a\\x94L&}\\xcf\\x02\\x00x\\x14q\\xce9\\xdf#.\\x85x<\\xae \\x08|\\xcf\\x00.\\x8dH\\xc4\\xf7\\x02\\x84\\xd9E|[\\xb7\\xf4\\xbd\\xd3\\xc4\\x15\\x18\\x00\\x00g\"`\\x00\\x00\\x93\\x08\\x18\\x00\\xc0$\\x02\\x06\\x000\\x89\\x80\\x01\\x00L\"`\\x00\\x00\\x93\\x08\\x18\\x00\\xc0$\\x02\\x06\\x000\\x89\\x80\\x01\\x00L\"`\\x00\\x00\\x93\\x08\\x18\\x00\\xc0$\\x02\\x06\\x000\\x89\\x80\\x01\\x00L\"`\\x00\\x00\\x93\\x08\\x18\\x00\\xc0$\\x02\\x06\\x000\\x89\\x80\\x01\\x00L\"`\\x00\\x00\\x93\\xcc\\x04\\xec\\xc0\\x81\\x03*--\\xd5M7\\xdd\\xa4\\xbc\\xbc<m\\xdc\\xb8\\xd1\\xf7$\\x00\\x80G\\x19\\xbe\\x07\\x9c\\xaf\\'\\x9exB\\xa3F\\x8d\\xd2\\xca\\x95+u\\xe2\\xc4\\t\\x1d=z\\xd4\\xf7$\\x00\\x80G&\\x02v\\xf0\\xe0A\\xad[\\xb7N\\xef\\xbc\\xf3\\x8e$\\xa9]\\xbbvj\\xd7\\xae\\x9d\\xdfQ\\x00\\x00\\xafL\\xdcB\\xfc\\xf9\\xe7\\x9f\\x95\\x99\\x99\\xa9\\x89\\x13\\'\\xea\\xe6\\x9bo\\xd6\\x94)St\\xe4\\xc8\\x11\\xdf\\xb3\\x00\\x00\\x1e\\x99\\x08XCC\\x836o\\xde\\xac\\xa9S\\xa7j\\xcb\\x96-\\xea\\xd0\\xa1\\x83\\xe6\\xcc\\x99\\xd3\\xec\\xbcT*\\xa5x<\\xaex<\\xaet:}\\xc1_/\\x12\\xe1\\x8d\\xb7\\xb3\\xbf\\x01\\x08\\x0f\\x13\\x01\\xcb\\xc9\\xc9QNN\\x8e\\x06\\x0f\\x1e,I*--\\xd5\\xe6\\xcd\\x9b\\x9b\\x9d\\x97L&\\x15\\x04\\x81\\x82 PfffK\\xcf\\x04\\x00\\xb4 \\x13\\x01\\xbb\\xee\\xba\\xeb\\xd4\\xa3G\\x0f\\xed\\xd8\\xb1C\\x92TUU\\xa5~\\xfd\\xfay^\\x05\\x00\\xf0\\xc9\\xc4\\x0fqH\\xd2\\xeb\\xaf\\xbf\\xae\\t\\x13&\\xe8\\xc4\\x89\\x13\\xea\\xdd\\xbb\\xb7\\x16.\\\\\\xe8{\\x12\\x00\\xc0#3\\x01\\x8b\\xc5b\\n\\x82\\xc0\\xf7\\x0c\\x00@H\\x98\\xb8\\x85\\x08\\x00\\xc0\\x99\\x08\\x18\\x00\\xc0$\\x02\\x06\\x000\\x89\\x80\\x01\\x00L\"`\\x00\\x00\\x93\\x08\\x18\\x00\\xc0$\\x02\\x06\\x000\\x89\\x80\\x01\\x00L\"`\\x00\\x00\\x93\\x08\\x18\\x00\\xc0$\\x02\\x06\\x000\\x89\\x80\\x01\\x00L\"`\\x00\\x00\\x93\\x08\\x18\\x00\\xc0$\\x02\\x06\\x000\\x89\\x80\\x01\\x00L\"`\\x00\\x00\\x93\\x08\\x18\\x00\\xc0$\\x02\\x06\\x000\\xc9T\\xc0\\x1a\\x1b\\x1bu\\xf3\\xcd7k\\xcc\\x981\\xbe\\xa7\\x00\\x00<3\\x15\\xb0\\xd7^{Myyy\\xbeg\\x00\\x00B\\xc0L\\xc0jkk\\xb5f\\xcd\\x1aM\\x992\\xc5\\xf7\\x14\\x00@\\x08\\x98\\t\\xd8\\x93O>\\xa9\\x8a\\x8a\\n\\xfd\\xe7?f&\\x03\\x00.!\\x135X\\xbdz\\xb5\\xb2\\xb2\\xb2TXX\\xf8\\xb7\\xe7\\xa5R)\\xc5\\xe3q\\xc5\\xe3q\\xa5\\xd3\\xe9\\x16Z\\x07\\x00\\xf0!\\xe2\\x9cs\\xbeG\\xfc\\x93g\\x9f}V\\x8b\\x17/VFF\\x86\\x8e\\x1f?\\xae\\x83\\x07\\x0f\\xea\\xbe\\xfb\\xee\\xd3\\x92%K\\xce\\xf99\\xf1x\\\\A\\x10\\\\\\xd0\\xd7\\x8bD.t).w\\xa1\\xf9\\xd7\\xc2\\x93\\x14\\x7f\\xe7\"\\x9e\\xa8\\x17\\xf3\\xbd\\xb3\\xa5\\x99\\xb8\\x02\\x9b={\\xb6jkkU]]\\xade\\xcb\\x96i\\xd8\\xb0a\\x7f\\x1b/\\x00\\xc0\\xe5\\xcfD\\xc0\\x00\\x008S\\x86\\xef\\x01\\xff_C\\x86\\x0c\\xd1\\x90!C|\\xcf\\x00\\x00x\\xc6\\x15\\x18\\x00\\xc0$\\x02\\x06\\x000\\x89\\x80\\x01\\x00L\"`\\x00\\x00\\x93\\x08\\x18\\x00\\xc0$\\x02\\x06\\x000\\x89\\x80\\x01\\x00L\"`\\x00\\x00\\x93\\x08\\x18\\x00\\xc0$\\x02\\x06\\x000\\x89\\x80\\x01\\x00L\"`\\x00\\x00\\x93\\x08\\x18\\x00\\xc0$\\x02\\x06\\x000\\x89\\x80\\x01\\x00L\"`\\x00\\x00\\x93\\x08\\x18\\x00\\xc0$\\x02\\x06\\x000\\xc9D\\xc0jjj4t\\xe8P\\xe5\\xe5\\xe5)??_\\xaf\\xbd\\xf6\\x9a\\xefI\\x00\\x00\\xcf2|\\x0f8\\x1f\\x19\\x19\\x19z\\xf9\\xe5\\x975p\\xe0@\\x1d:tH\\x85\\x85\\x85*))Q\\xbf~\\xfd|O\\x03\\x00xb\\xe2\\n,;;[\\x03\\x07\\x0e\\x94$u\\xea\\xd4Iyyy\\xaa\\xab\\xab\\xf3\\xbc\\n\\x00\\xe0\\x93\\x89\\x80\\xfd_\\xd5\\xd5\\xd5\\xda\\xb2e\\x8b\\x06\\x0f\\x1e\\xec{\\n\\x00\\xc0#\\x13\\xb7\\x10\\xffr\\xf8\\xf0a\\xdd\\x7f\\xff\\xfdz\\xf5\\xd5W\\xd5\\xb9s\\xe7f\\x1fO\\xa5RJ\\xa5R\\x92\\xa4t:\\xdd\\xd2\\xf3\\x00\\x00-(\\xe2\\x9cs\\xbeG\\x9c\\x8f\\x93\\'Oj\\xcc\\x981\\x1a9r\\xa4\\x9ez\\xea\\xa9\\x7f<?\\x1e\\x8f+\\x08\\x82\\x0b\\xfaZ\\x91\\xc8\\x05}\\x1aZ\\x81\\xd0\\xfck\\xe1I\\x8a\\xbfs\\x11O\\xd4\\x8b\\xf9\\xde\\xd9\\xd2L\\xdcBt\\xcei\\xf2\\xe4\\xc9\\xca\\xcb\\xcb;\\xafx\\x01\\x00.\\x7f&\\x02\\xf6\\xe5\\x97_j\\xf1\\xe2\\xc5\\xfa\\xf4\\xd3O\\x15\\x8b\\xc5\\x14\\x8b\\xc5\\xf4\\xe1\\x87\\x1f\\xfa\\x9e\\x05\\x00\\xf0\\xc8\\xc4k`w\\xdcq\\x87\\x8c\\xdc\\xe9\\x04\\x00\\xb4\\x10\\x13W`\\x00\\x00\\x9c\\x89\\x80\\x01\\x00L\"`\\x00\\x00\\x93\\x08\\x18\\x00\\xc0$\\x02\\x06\\x000\\x89\\x80\\x01\\x00L\"`\\x00\\x00\\x93\\x08\\x18\\x00\\xc0$\\x02\\x06\\x000\\x89\\x80\\x01\\x00L\"`\\x00\\x00\\x93\\x08\\x18\\x00\\xc0$\\x02\\x06\\x000\\x89\\x80\\x01\\x00L\"`\\x00\\x00\\x93\\x08\\x18\\x00\\xc0$\\x02\\x06\\x000\\x89\\x80\\x01\\x00L\"`\\x00\\x00\\x93\\xcc\\x04\\xac\\xb2\\xb2R7\\xdex\\xa3\\xfa\\xf4\\xe9\\xa39s\\xe6\\xf8\\x9e\\x03\\x00\\xf0\\xccD\\xc0\\x1a\\x1b\\x1b5m\\xda4}\\xf4\\xd1G\\xda\\xb6m\\x9b\\x96.]\\xaam\\xdb\\xb6\\xf9\\x9e\\x05\\x00\\xf0\\xc8D\\xc0\\xbe\\xfa\\xea+\\xf5\\xe9\\xd3G\\xbd{\\xf7V\\xbbv\\xed4~\\xfcx\\xadZ\\xb5\\xca\\xf7,\\x00\\x80G&\\x02VWW\\xa7\\x1e=z\\x9cz?\\'\\'Guuu\\x1e\\x17\\x01\\x00|\\xcb\\xf0=\\xe0|8\\xe7\\x9a\\x1d\\x8bD\"\\xcd\\x8e\\xa5R)\\xa5R)I\\xd2\\xf6\\xed\\xdb\\x15\\x8f\\xc7/\\xe8\\xeb\\x15\\x16^\\xd0\\xa7]\\xb6\\xd2\\xe9\\xb4233}\\xcf\\x08\\x85\\x0b|J\\xfd\\xfbx\\x92\\x9e\\x86\\xe7\\xe8\\x19.\\xe2\\x89Z]]\\xfd\\xef\\xed\\xb8\\xc4L\\x04,\\'\\'G555\\xa7\\xde\\xaf\\xad\\xadU\\xb7n\\xdd\\x9a\\x9d\\x97L&\\x95L&[rZ\\xab\\x10\\x8f\\xc7\\x15\\x04\\x81\\xef\\x19\\xc09\\xf1\\x1cm\\x9dL\\xdcB\\x1c4h\\x90v\\xee\\xdc\\xa9\\xdd\\xbbw\\xeb\\xc4\\x89\\x13Z\\xb6l\\x99\\xc6\\x8e\\x1d\\xeb{\\x16\\x00\\xc0#\\x13W`\\x19\\x19\\x19z\\xe3\\x8d74r\\xe4H566j\\xd2\\xa4I\\xca\\xcf\\xcf\\xf7=\\x0b\\x00\\xe0\\x91\\x89\\x80I\\xd2\\xe8\\xd1\\xa35z\\xf4h\\xdf3Z%n\\xcb\"\\xecx\\x8e\\xb6N\\x11w\\xb6\\x9f\\x90\\x00\\x00 \\xe4L\\xbc\\x06\\x06\\x00\\xc0\\x99\\x08\\x18\\xcej\\xf4\\xe8\\xd1:p\\xe0\\x80\\xef\\x19he:v\\xec\\xe8{\\x02\\x0c\\xe1\\x16\"\\x80\\xd0\\xe8\\xd8\\xb1\\xa3\\x0e\\x1f>\\xec{\\x06\\x8c\\xe0\\n\\xac\\x95\\xaa\\xa8\\xa8\\xd0\\xbcy\\xf3$I\\xd3\\xa7O\\xd7\\xb0a\\xc3$IUUUz\\xe0\\x81\\x07\\x94\\x9b\\x9b\\xab}\\xfb\\xf6\\xa9\\xba\\xbaZyyyz\\xf8\\xe1\\x87\\x95\\x9f\\x9f\\xaf\\x11#F\\xe8\\xd8\\xb1c\\x92\\xa4y\\xf3\\xe6\\xa9_\\xbf~\\x1a0`\\x80\\xc6\\x8f\\x1f\\xef\\xed\\xb1\\xe0\\xf2\\xe3\\x9c\\xd3\\x8c\\x193\\x14\\x8dF\\xd5\\xbf\\x7f\\x7f-_\\xbe\\\\\\x92T__\\xafD\"\\xa1X,\\xa6h4\\xaa\\xf5\\xeb\\xd7\\xab\\xb1\\xb1Q\\xe5\\xe5\\xe5\\xa7\\xce}\\xe5\\x95W$I\\xbbv\\xed\\xd2\\xa8Q\\xa3TXX\\xa8\\xe2\\xe2bm\\xdf\\xbe]\\x92\\xb4b\\xc5\\nE\\xa3Q\\x15\\x14\\x14(\\x91Hx{\\x8c\\xf8\\x178\\xb4J\\x1b7nt\\xa5\\xa5\\xa5\\xce9\\xe7\\xee\\xb8\\xe3\\x0e7h\\xd0 w\\xe2\\xc4\\t\\xf7\\xdcs\\xcf\\xb9\\xf9\\xf3\\xe7\\xbb\\xeb\\xaf\\xbf\\xde\\xa5\\xd3i\\xb7{\\xf7n\\xd7\\xa6M\\x1b\\xb7e\\xcb\\x16\\xe7\\x9cs\\xe3\\xc6\\x8ds\\x8b\\x17/v\\xce9\\x97\\x9d\\x9d\\xed\\x8e\\x1f?\\xee\\x9csn\\xff\\xfe\\xfd~\\x1e\\x08.+\\x1d:tp\\xce9\\xb7r\\xe5Jw\\xd7]w\\xb9\\x86\\x86\\x06\\xb7g\\xcf\\x1e\\xd7\\xa3G\\x0f\\xf7\\xeb\\xaf\\xbf\\xba\\xb9s\\xe7\\xba\\x993g:\\xe7\\x9ckhhp\\x07\\x0f\\x1etA\\x10\\xb8\\xbb\\xee\\xba\\xeb\\xd4\\xdf\\xf1\\xd7sq\\xd8\\xb0a\\xee\\xa7\\x9f~r\\xce9\\xb7i\\xd3&7t\\xe8P\\xe7\\x9cs\\xd1h\\xd4\\xd5\\xd6\\xd6\\x9ev.l\\xe2\\n\\xac\\x95*,,\\xd47\\xdf|\\xa3C\\x87\\x0e\\xa9}\\xfb\\xf6***R\\x10\\x04Z\\xbf~\\xbd\\x8a\\x8b\\x8bO;\\xb7W\\xaf^\\x8a\\xc5b\\xa7>\\xef\\xaf_53`\\xc0\\x00M\\x980AK\\x96,QF\\x86\\x99\\xff\\x91\\x01\\x03\\xbe\\xf8\\xe2\\x0b\\x95\\x95\\x95\\xa9M\\x9b6\\xba\\xf6\\xdaku\\xe7\\x9dw\\xea\\xeb\\xaf\\xbf\\xd6\\xa0A\\x83\\xb4p\\xe1B=\\xf7\\xdcs\\xfa\\xe1\\x87\\x1f\\xd4\\xa9S\\'\\xf5\\xee\\xdd[?\\xff\\xfc\\xb3\\x1e\\x7f\\xfcqUVV\\xaas\\xe7\\xce:|\\xf8\\xb06l\\xd8\\xa0q\\xe3\\xc6)\\x16\\x8b\\xe9\\x91G\\x1eQ}}\\xbd$\\xe9\\xf6\\xdboWyy\\xb9\\xdez\\xeb-566z~\\xa4\\xb8\\x18\\x04\\xac\\x95j\\xdb\\xb6\\xadrss\\xb5p\\xe1B\\xddv\\xdbm*..\\xd6g\\x9f}\\xa6]\\xbbv)//\\xef\\xb4s\\xdb\\xb7o\\x7f\\xea\\xcfm\\xda\\xb4QCC\\x83$i\\xcd\\x9a5\\x9a6m\\x9a\\xbe\\xf9\\xe6\\x1b\\x15\\x16\\x16\\x9e:\\x0e\\\\,w\\x8e\\x97\\xe6\\x13\\x89\\x84\\xd6\\xad[\\xa7\\xee\\xdd\\xbb\\xeb\\xc1\\x07\\x1f\\xd4\\xbb\\xef\\xbe\\xabk\\xae\\xb9F\\xdf}\\xf7\\x9d\\x86\\x0c\\x19\\xa27\\xdf|SS\\xa6LQSS\\x93\\xae\\xbe\\xfaj}\\xfb\\xed\\xb7\\xa7\\xde~\\xfc\\xf1GI\\xd2\\xfc\\xf9\\xf35s\\xe6L\\xd5\\xd4\\xd4(\\x16\\x8b\\xe9\\xf7\\xdf\\x7fo\\xc9\\x87\\x86\\x7f\\x11\\x01k\\xc5\\x12\\x89\\x84\\xe6\\xce\\x9d\\xabD\"\\xa1\\xe2\\xe2b\\xcd\\x9f?_\\xb1X\\xec\\xac\\xbf(\\xf9LMMM\\xaa\\xa9\\xa9\\xd1\\xd0\\xa1CUQQ\\xa1\\x03\\x07\\x0e\\xf0\\xe2;\\xfe5\\x89DB\\xcb\\x97/Wcc\\xa3\\xd2\\xe9\\xb4\\xd6\\xad[\\xa7[n\\xb9E\\xbf\\xfc\\xf2\\x8b\\xb2\\xb2\\xb2\\xf4\\xf0\\xc3\\x0fk\\xf2\\xe4\\xc9\\xda\\xbcy\\xb3\\xf6\\xed\\xdb\\xa7\\xa6\\xa6&\\xdd\\x7f\\xff\\xfdz\\xe1\\x85\\x17\\xb4y\\xf3fu\\xee\\xdcY\\xbdz\\xf5\\xd2\\x8a\\x15+$\\xfd/\\x88\\xdf}\\xf7\\x9d\\xa4\\xff\\xbd66x\\xf0`=\\xff\\xfc\\xf3\\xea\\xda\\xb5\\xebi\\xbfg\\x15\\xb6p\\xdf\\xa7\\x15+..\\xd6\\xacY\\xb3TTT\\xa4\\x0e\\x1d:\\xe8\\x8a+\\xaehv\\xfb\\xf0\\\\\\x1a\\x1b\\x1b\\xf5\\xc0\\x03\\x0f\\xe8\\xcf?\\xff\\x94sN\\xd3\\xa7O\\xd7\\xd5W_}\\x89\\x17\\xa3\\xb5\\xb8\\xf7\\xde{\\xb5q\\xe3F\\x15\\x14\\x14(\\x12\\x89\\xa8\\xa2\\xa2B\\xd7]w\\x9d\\x16-Z\\xa4\\x97^zIm\\xdb\\xb6U\\xc7\\x8e\\x1d\\xf5\\xee\\xbb\\xef\\xaa\\xae\\xaeN\\x13\\'NTSS\\x93$i\\xf6\\xec\\xd9\\x92\\xa4\\xf7\\xde{OS\\xa7N\\xd5\\xcc\\x993u\\xf2\\xe4I\\x8d\\x1f?^\\x05\\x05\\x05\\x9a1c\\x86v\\xee\\xdc)\\xe7\\x9c\\x86\\x0f\\x1f\\xae\\x82\\x82\\x02\\x9f\\x0f\\x15\\x17\\x81\\x1f\\xa3\\x07\\x00\\x98\\xc4-D\\x00\\x80I\\x04\\x0c\\x00`\\x12\\x01\\x03\\x00\\x98D\\xc0\\x00\\x00&\\x110\\x00\\x80I\\x04\\x0c\\x00`\\x12\\x01\\x03\\x00\\x98D\\xc0\\x00\\x00&\\x110\\x00\\x80I\\x04\\x0c\\x00`\\x12\\x01\\x03\\x00\\x98D\\xc0\\x00\\x00&\\x110\\x00\\x80I\\x04\\x0c\\x00`\\x12\\x01\\x03\\x00\\x98D\\xc0\\x00\\x00&\\x110\\x00\\x80I\\x04\\x0c\\x00`\\x12\\x01\\x03\\x00\\x98D\\xc0\\x00\\x00&\\xfd\\x17\\x99+=\\x8a\\x8b\\xf3\\xc2B\\x00\\x00\\x00\\x00IEND\\xaeB`\\x82'}"
      ]
     },
     "execution_count": 64,
     "metadata": {},
     "output_type": "execute_result"
    }
   ],
   "source": [
    "final_dict[0]"
   ]
  },
  {
   "cell_type": "code",
   "execution_count": 66,
   "metadata": {
    "scrolled": true
   },
   "outputs": [
    {
     "ename": "ServerSelectionTimeoutError",
     "evalue": "127.0.0.1:27017: [Errno 61] Connection refused",
     "output_type": "error",
     "traceback": [
      "\u001b[0;31m---------------------------------------------------------------------------\u001b[0m",
      "\u001b[0;31mServerSelectionTimeoutError\u001b[0m               Traceback (most recent call last)",
      "\u001b[0;32m<ipython-input-66-937bdcd511cd>\u001b[0m in \u001b[0;36m<module>\u001b[0;34m\u001b[0m\n\u001b[1;32m      1\u001b[0m \u001b[0;31m#Add records to db\u001b[0m\u001b[0;34m\u001b[0m\u001b[0;34m\u001b[0m\u001b[0;34m\u001b[0m\u001b[0m\n\u001b[0;32m----> 2\u001b[0;31m \u001b[0minsertion_results\u001b[0m \u001b[0;34m=\u001b[0m \u001b[0mmycollection\u001b[0m\u001b[0;34m.\u001b[0m\u001b[0minsert_many\u001b[0m\u001b[0;34m(\u001b[0m\u001b[0mfinal_dict\u001b[0m\u001b[0;34m)\u001b[0m\u001b[0;34m\u001b[0m\u001b[0;34m\u001b[0m\u001b[0m\n\u001b[0m\u001b[1;32m      3\u001b[0m \u001b[0minsertion_results\u001b[0m\u001b[0;34m.\u001b[0m\u001b[0minserted_ids\u001b[0m\u001b[0;34m\u001b[0m\u001b[0;34m\u001b[0m\u001b[0m\n",
      "\u001b[0;32m/anaconda3/lib/python3.7/site-packages/pymongo/collection.py\u001b[0m in \u001b[0;36minsert_many\u001b[0;34m(self, documents, ordered, bypass_document_validation, session)\u001b[0m\n\u001b[1;32m    758\u001b[0m         \u001b[0mblk\u001b[0m \u001b[0;34m=\u001b[0m \u001b[0m_Bulk\u001b[0m\u001b[0;34m(\u001b[0m\u001b[0mself\u001b[0m\u001b[0;34m,\u001b[0m \u001b[0mordered\u001b[0m\u001b[0;34m,\u001b[0m \u001b[0mbypass_document_validation\u001b[0m\u001b[0;34m)\u001b[0m\u001b[0;34m\u001b[0m\u001b[0;34m\u001b[0m\u001b[0m\n\u001b[1;32m    759\u001b[0m         \u001b[0mblk\u001b[0m\u001b[0;34m.\u001b[0m\u001b[0mops\u001b[0m \u001b[0;34m=\u001b[0m \u001b[0;34m[\u001b[0m\u001b[0mdoc\u001b[0m \u001b[0;32mfor\u001b[0m \u001b[0mdoc\u001b[0m \u001b[0;32min\u001b[0m \u001b[0mgen\u001b[0m\u001b[0;34m(\u001b[0m\u001b[0;34m)\u001b[0m\u001b[0;34m]\u001b[0m\u001b[0;34m\u001b[0m\u001b[0;34m\u001b[0m\u001b[0m\n\u001b[0;32m--> 760\u001b[0;31m         \u001b[0mblk\u001b[0m\u001b[0;34m.\u001b[0m\u001b[0mexecute\u001b[0m\u001b[0;34m(\u001b[0m\u001b[0mwrite_concern\u001b[0m\u001b[0;34m,\u001b[0m \u001b[0msession\u001b[0m\u001b[0;34m=\u001b[0m\u001b[0msession\u001b[0m\u001b[0;34m)\u001b[0m\u001b[0;34m\u001b[0m\u001b[0;34m\u001b[0m\u001b[0m\n\u001b[0m\u001b[1;32m    761\u001b[0m         \u001b[0;32mreturn\u001b[0m \u001b[0mInsertManyResult\u001b[0m\u001b[0;34m(\u001b[0m\u001b[0minserted_ids\u001b[0m\u001b[0;34m,\u001b[0m \u001b[0mwrite_concern\u001b[0m\u001b[0;34m.\u001b[0m\u001b[0macknowledged\u001b[0m\u001b[0;34m)\u001b[0m\u001b[0;34m\u001b[0m\u001b[0;34m\u001b[0m\u001b[0m\n\u001b[1;32m    762\u001b[0m \u001b[0;34m\u001b[0m\u001b[0m\n",
      "\u001b[0;32m/anaconda3/lib/python3.7/site-packages/pymongo/bulk.py\u001b[0m in \u001b[0;36mexecute\u001b[0;34m(self, write_concern, session)\u001b[0m\n\u001b[1;32m    520\u001b[0m                 \u001b[0mself\u001b[0m\u001b[0;34m.\u001b[0m\u001b[0mexecute_no_results\u001b[0m\u001b[0;34m(\u001b[0m\u001b[0msock_info\u001b[0m\u001b[0;34m,\u001b[0m \u001b[0mgenerator\u001b[0m\u001b[0;34m)\u001b[0m\u001b[0;34m\u001b[0m\u001b[0;34m\u001b[0m\u001b[0m\n\u001b[1;32m    521\u001b[0m         \u001b[0;32melse\u001b[0m\u001b[0;34m:\u001b[0m\u001b[0;34m\u001b[0m\u001b[0;34m\u001b[0m\u001b[0m\n\u001b[0;32m--> 522\u001b[0;31m             \u001b[0;32mreturn\u001b[0m \u001b[0mself\u001b[0m\u001b[0;34m.\u001b[0m\u001b[0mexecute_command\u001b[0m\u001b[0;34m(\u001b[0m\u001b[0mgenerator\u001b[0m\u001b[0;34m,\u001b[0m \u001b[0mwrite_concern\u001b[0m\u001b[0;34m,\u001b[0m \u001b[0msession\u001b[0m\u001b[0;34m)\u001b[0m\u001b[0;34m\u001b[0m\u001b[0;34m\u001b[0m\u001b[0m\n\u001b[0m\u001b[1;32m    523\u001b[0m \u001b[0;34m\u001b[0m\u001b[0m\n\u001b[1;32m    524\u001b[0m \u001b[0;34m\u001b[0m\u001b[0m\n",
      "\u001b[0;32m/anaconda3/lib/python3.7/site-packages/pymongo/bulk.py\u001b[0m in \u001b[0;36mexecute_command\u001b[0;34m(self, generator, write_concern, session)\u001b[0m\n\u001b[1;32m    343\u001b[0m \u001b[0;34m\u001b[0m\u001b[0m\n\u001b[1;32m    344\u001b[0m         \u001b[0mclient\u001b[0m \u001b[0;34m=\u001b[0m \u001b[0mself\u001b[0m\u001b[0;34m.\u001b[0m\u001b[0mcollection\u001b[0m\u001b[0;34m.\u001b[0m\u001b[0mdatabase\u001b[0m\u001b[0;34m.\u001b[0m\u001b[0mclient\u001b[0m\u001b[0;34m\u001b[0m\u001b[0;34m\u001b[0m\u001b[0m\n\u001b[0;32m--> 345\u001b[0;31m         \u001b[0;32mwith\u001b[0m \u001b[0mclient\u001b[0m\u001b[0;34m.\u001b[0m\u001b[0m_tmp_session\u001b[0m\u001b[0;34m(\u001b[0m\u001b[0msession\u001b[0m\u001b[0;34m)\u001b[0m \u001b[0;32mas\u001b[0m \u001b[0ms\u001b[0m\u001b[0;34m:\u001b[0m\u001b[0;34m\u001b[0m\u001b[0;34m\u001b[0m\u001b[0m\n\u001b[0m\u001b[1;32m    346\u001b[0m             client._retry_with_session(\n\u001b[1;32m    347\u001b[0m                 self.is_retryable, retryable_bulk, s, self)\n",
      "\u001b[0;32m/anaconda3/lib/python3.7/contextlib.py\u001b[0m in \u001b[0;36m__enter__\u001b[0;34m(self)\u001b[0m\n\u001b[1;32m    110\u001b[0m         \u001b[0;32mdel\u001b[0m \u001b[0mself\u001b[0m\u001b[0;34m.\u001b[0m\u001b[0margs\u001b[0m\u001b[0;34m,\u001b[0m \u001b[0mself\u001b[0m\u001b[0;34m.\u001b[0m\u001b[0mkwds\u001b[0m\u001b[0;34m,\u001b[0m \u001b[0mself\u001b[0m\u001b[0;34m.\u001b[0m\u001b[0mfunc\u001b[0m\u001b[0;34m\u001b[0m\u001b[0;34m\u001b[0m\u001b[0m\n\u001b[1;32m    111\u001b[0m         \u001b[0;32mtry\u001b[0m\u001b[0;34m:\u001b[0m\u001b[0;34m\u001b[0m\u001b[0;34m\u001b[0m\u001b[0m\n\u001b[0;32m--> 112\u001b[0;31m             \u001b[0;32mreturn\u001b[0m \u001b[0mnext\u001b[0m\u001b[0;34m(\u001b[0m\u001b[0mself\u001b[0m\u001b[0;34m.\u001b[0m\u001b[0mgen\u001b[0m\u001b[0;34m)\u001b[0m\u001b[0;34m\u001b[0m\u001b[0;34m\u001b[0m\u001b[0m\n\u001b[0m\u001b[1;32m    113\u001b[0m         \u001b[0;32mexcept\u001b[0m \u001b[0mStopIteration\u001b[0m\u001b[0;34m:\u001b[0m\u001b[0;34m\u001b[0m\u001b[0;34m\u001b[0m\u001b[0m\n\u001b[1;32m    114\u001b[0m             \u001b[0;32mraise\u001b[0m \u001b[0mRuntimeError\u001b[0m\u001b[0;34m(\u001b[0m\u001b[0;34m\"generator didn't yield\"\u001b[0m\u001b[0;34m)\u001b[0m \u001b[0;32mfrom\u001b[0m \u001b[0;32mNone\u001b[0m\u001b[0;34m\u001b[0m\u001b[0;34m\u001b[0m\u001b[0m\n",
      "\u001b[0;32m/anaconda3/lib/python3.7/site-packages/pymongo/mongo_client.py\u001b[0m in \u001b[0;36m_tmp_session\u001b[0;34m(self, session, close)\u001b[0m\n\u001b[1;32m   1609\u001b[0m             \u001b[0;32mreturn\u001b[0m\u001b[0;34m\u001b[0m\u001b[0;34m\u001b[0m\u001b[0m\n\u001b[1;32m   1610\u001b[0m \u001b[0;34m\u001b[0m\u001b[0m\n\u001b[0;32m-> 1611\u001b[0;31m         \u001b[0ms\u001b[0m \u001b[0;34m=\u001b[0m \u001b[0mself\u001b[0m\u001b[0;34m.\u001b[0m\u001b[0m_ensure_session\u001b[0m\u001b[0;34m(\u001b[0m\u001b[0msession\u001b[0m\u001b[0;34m)\u001b[0m\u001b[0;34m\u001b[0m\u001b[0;34m\u001b[0m\u001b[0m\n\u001b[0m\u001b[1;32m   1612\u001b[0m         \u001b[0;32mif\u001b[0m \u001b[0ms\u001b[0m \u001b[0;32mand\u001b[0m \u001b[0mclose\u001b[0m\u001b[0;34m:\u001b[0m\u001b[0;34m\u001b[0m\u001b[0;34m\u001b[0m\u001b[0m\n\u001b[1;32m   1613\u001b[0m             \u001b[0;32mwith\u001b[0m \u001b[0ms\u001b[0m\u001b[0;34m:\u001b[0m\u001b[0;34m\u001b[0m\u001b[0;34m\u001b[0m\u001b[0m\n",
      "\u001b[0;32m/anaconda3/lib/python3.7/site-packages/pymongo/mongo_client.py\u001b[0m in \u001b[0;36m_ensure_session\u001b[0;34m(self, session)\u001b[0m\n\u001b[1;32m   1596\u001b[0m             \u001b[0;31m# Don't make implicit sessions causally consistent. Applications\u001b[0m\u001b[0;34m\u001b[0m\u001b[0;34m\u001b[0m\u001b[0;34m\u001b[0m\u001b[0m\n\u001b[1;32m   1597\u001b[0m             \u001b[0;31m# should always opt-in.\u001b[0m\u001b[0;34m\u001b[0m\u001b[0;34m\u001b[0m\u001b[0;34m\u001b[0m\u001b[0m\n\u001b[0;32m-> 1598\u001b[0;31m             \u001b[0;32mreturn\u001b[0m \u001b[0mself\u001b[0m\u001b[0;34m.\u001b[0m\u001b[0m__start_session\u001b[0m\u001b[0;34m(\u001b[0m\u001b[0;32mTrue\u001b[0m\u001b[0;34m,\u001b[0m \u001b[0mcausal_consistency\u001b[0m\u001b[0;34m=\u001b[0m\u001b[0;32mFalse\u001b[0m\u001b[0;34m)\u001b[0m\u001b[0;34m\u001b[0m\u001b[0;34m\u001b[0m\u001b[0m\n\u001b[0m\u001b[1;32m   1599\u001b[0m         \u001b[0;32mexcept\u001b[0m \u001b[0;34m(\u001b[0m\u001b[0mConfigurationError\u001b[0m\u001b[0;34m,\u001b[0m \u001b[0mInvalidOperation\u001b[0m\u001b[0;34m)\u001b[0m\u001b[0;34m:\u001b[0m\u001b[0;34m\u001b[0m\u001b[0;34m\u001b[0m\u001b[0m\n\u001b[1;32m   1600\u001b[0m             \u001b[0;31m# Sessions not supported, or multiple users authenticated.\u001b[0m\u001b[0;34m\u001b[0m\u001b[0;34m\u001b[0m\u001b[0;34m\u001b[0m\u001b[0m\n",
      "\u001b[0;32m/anaconda3/lib/python3.7/site-packages/pymongo/mongo_client.py\u001b[0m in \u001b[0;36m__start_session\u001b[0;34m(self, implicit, **kwargs)\u001b[0m\n\u001b[1;32m   1549\u001b[0m \u001b[0;34m\u001b[0m\u001b[0m\n\u001b[1;32m   1550\u001b[0m         \u001b[0;31m# Raises ConfigurationError if sessions are not supported.\u001b[0m\u001b[0;34m\u001b[0m\u001b[0;34m\u001b[0m\u001b[0;34m\u001b[0m\u001b[0m\n\u001b[0;32m-> 1551\u001b[0;31m         \u001b[0mserver_session\u001b[0m \u001b[0;34m=\u001b[0m \u001b[0mself\u001b[0m\u001b[0;34m.\u001b[0m\u001b[0m_get_server_session\u001b[0m\u001b[0;34m(\u001b[0m\u001b[0;34m)\u001b[0m\u001b[0;34m\u001b[0m\u001b[0;34m\u001b[0m\u001b[0m\n\u001b[0m\u001b[1;32m   1552\u001b[0m         \u001b[0mopts\u001b[0m \u001b[0;34m=\u001b[0m \u001b[0mclient_session\u001b[0m\u001b[0;34m.\u001b[0m\u001b[0mSessionOptions\u001b[0m\u001b[0;34m(\u001b[0m\u001b[0;34m**\u001b[0m\u001b[0mkwargs\u001b[0m\u001b[0;34m)\u001b[0m\u001b[0;34m\u001b[0m\u001b[0;34m\u001b[0m\u001b[0m\n\u001b[1;32m   1553\u001b[0m         return client_session.ClientSession(\n",
      "\u001b[0;32m/anaconda3/lib/python3.7/site-packages/pymongo/mongo_client.py\u001b[0m in \u001b[0;36m_get_server_session\u001b[0;34m(self)\u001b[0m\n\u001b[1;32m   1582\u001b[0m     \u001b[0;32mdef\u001b[0m \u001b[0m_get_server_session\u001b[0m\u001b[0;34m(\u001b[0m\u001b[0mself\u001b[0m\u001b[0;34m)\u001b[0m\u001b[0;34m:\u001b[0m\u001b[0;34m\u001b[0m\u001b[0;34m\u001b[0m\u001b[0m\n\u001b[1;32m   1583\u001b[0m         \u001b[0;34m\"\"\"Internal: start or resume a _ServerSession.\"\"\"\u001b[0m\u001b[0;34m\u001b[0m\u001b[0;34m\u001b[0m\u001b[0m\n\u001b[0;32m-> 1584\u001b[0;31m         \u001b[0;32mreturn\u001b[0m \u001b[0mself\u001b[0m\u001b[0;34m.\u001b[0m\u001b[0m_topology\u001b[0m\u001b[0;34m.\u001b[0m\u001b[0mget_server_session\u001b[0m\u001b[0;34m(\u001b[0m\u001b[0;34m)\u001b[0m\u001b[0;34m\u001b[0m\u001b[0;34m\u001b[0m\u001b[0m\n\u001b[0m\u001b[1;32m   1585\u001b[0m \u001b[0;34m\u001b[0m\u001b[0m\n\u001b[1;32m   1586\u001b[0m     \u001b[0;32mdef\u001b[0m \u001b[0m_return_server_session\u001b[0m\u001b[0;34m(\u001b[0m\u001b[0mself\u001b[0m\u001b[0;34m,\u001b[0m \u001b[0mserver_session\u001b[0m\u001b[0;34m,\u001b[0m \u001b[0mlock\u001b[0m\u001b[0;34m)\u001b[0m\u001b[0;34m:\u001b[0m\u001b[0;34m\u001b[0m\u001b[0;34m\u001b[0m\u001b[0m\n",
      "\u001b[0;32m/anaconda3/lib/python3.7/site-packages/pymongo/topology.py\u001b[0m in \u001b[0;36mget_server_session\u001b[0;34m(self)\u001b[0m\n\u001b[1;32m    427\u001b[0m                             \u001b[0many_server_selector\u001b[0m\u001b[0;34m,\u001b[0m\u001b[0;34m\u001b[0m\u001b[0;34m\u001b[0m\u001b[0m\n\u001b[1;32m    428\u001b[0m                             \u001b[0mself\u001b[0m\u001b[0;34m.\u001b[0m\u001b[0m_settings\u001b[0m\u001b[0;34m.\u001b[0m\u001b[0mserver_selection_timeout\u001b[0m\u001b[0;34m,\u001b[0m\u001b[0;34m\u001b[0m\u001b[0;34m\u001b[0m\u001b[0m\n\u001b[0;32m--> 429\u001b[0;31m                             None)\n\u001b[0m\u001b[1;32m    430\u001b[0m                 \u001b[0;32melif\u001b[0m \u001b[0;32mnot\u001b[0m \u001b[0mself\u001b[0m\u001b[0;34m.\u001b[0m\u001b[0m_description\u001b[0m\u001b[0;34m.\u001b[0m\u001b[0mreadable_servers\u001b[0m\u001b[0;34m:\u001b[0m\u001b[0;34m\u001b[0m\u001b[0;34m\u001b[0m\u001b[0m\n\u001b[1;32m    431\u001b[0m                     self._select_servers_loop(\n",
      "\u001b[0;32m/anaconda3/lib/python3.7/site-packages/pymongo/topology.py\u001b[0m in \u001b[0;36m_select_servers_loop\u001b[0;34m(self, selector, timeout, address)\u001b[0m\n\u001b[1;32m    198\u001b[0m             \u001b[0;32mif\u001b[0m \u001b[0mtimeout\u001b[0m \u001b[0;34m==\u001b[0m \u001b[0;36m0\u001b[0m \u001b[0;32mor\u001b[0m \u001b[0mnow\u001b[0m \u001b[0;34m>\u001b[0m \u001b[0mend_time\u001b[0m\u001b[0;34m:\u001b[0m\u001b[0;34m\u001b[0m\u001b[0;34m\u001b[0m\u001b[0m\n\u001b[1;32m    199\u001b[0m                 raise ServerSelectionTimeoutError(\n\u001b[0;32m--> 200\u001b[0;31m                     self._error_message(selector))\n\u001b[0m\u001b[1;32m    201\u001b[0m \u001b[0;34m\u001b[0m\u001b[0m\n\u001b[1;32m    202\u001b[0m             \u001b[0mself\u001b[0m\u001b[0;34m.\u001b[0m\u001b[0m_ensure_opened\u001b[0m\u001b[0;34m(\u001b[0m\u001b[0;34m)\u001b[0m\u001b[0;34m\u001b[0m\u001b[0;34m\u001b[0m\u001b[0m\n",
      "\u001b[0;31mServerSelectionTimeoutError\u001b[0m: 127.0.0.1:27017: [Errno 61] Connection refused"
     ]
    }
   ],
   "source": [
    "#Add records to db\n",
    "insertion_results = mycollection.insert_many(final_dict)\n",
    "insertion_results.inserted_ids"
   ]
  },
  {
   "cell_type": "code",
   "execution_count": null,
   "metadata": {},
   "outputs": [],
   "source": [
    "# Call db\n",
    "get_db = myclient.get_database('team_database')\n",
    "\n",
    "my_matches = get_db.get_collection('matches_collection')"
   ]
  },
  {
   "cell_type": "code",
   "execution_count": null,
   "metadata": {},
   "outputs": [],
   "source": [
    "my_matches"
   ]
  },
  {
   "cell_type": "code",
   "execution_count": null,
   "metadata": {},
   "outputs": [],
   "source": [
    "cursor = my_matches\n",
    "\n",
    "rebuild_df = []\n",
    "for document in cursor.find():\n",
    "    rebuild_df.append(document)"
   ]
  },
  {
   "cell_type": "code",
   "execution_count": null,
   "metadata": {
    "scrolled": true
   },
   "outputs": [],
   "source": [
    "df_back = pd.DataFrame(rebuild_df)"
   ]
  },
  {
   "cell_type": "code",
   "execution_count": null,
   "metadata": {},
   "outputs": [],
   "source": [
    "df_back['graph'][0]"
   ]
  }
 ],
 "metadata": {
  "kernelspec": {
   "display_name": "Python 3",
   "language": "python",
   "name": "python3"
  },
  "language_info": {
   "codemirror_mode": {
    "name": "ipython",
    "version": 3
   },
   "file_extension": ".py",
   "mimetype": "text/x-python",
   "name": "python",
   "nbconvert_exporter": "python",
   "pygments_lexer": "ipython3",
   "version": "3.7.3"
  }
 },
 "nbformat": 4,
 "nbformat_minor": 2
}

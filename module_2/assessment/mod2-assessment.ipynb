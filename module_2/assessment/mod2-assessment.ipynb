{
 "cells": [
  {
   "cell_type": "markdown",
   "metadata": {},
   "source": [
    "## Mod 2 Assessment"
   ]
  },
  {
   "cell_type": "code",
   "execution_count": 1,
   "metadata": {},
   "outputs": [],
   "source": [
    "# put all imports here\n",
    "import json\n",
    "import requests\n",
    "import pandas as pd\n",
    "import pymongo\n",
    "import sqlite3\n",
    "from bs4 import BeautifulSoup\n",
    "from bson.json_util import loads"
   ]
  },
  {
   "cell_type": "markdown",
   "metadata": {},
   "source": [
    "### SQL (10 Minutes)\n",
    "There is a sqlite3 database in `assets/books.db`. The SQL to create this is also in `assets/books.sql`, if you want to run it manually (you can also import this using https://sqliteonline.com/, or run the SQL file directly).  Both have the same schema and data.\n",
    "\n",
    "The schema has three tables. You can explore the schema in the fiddle posted above.  Please answer the following questions.\n",
    "\n",
    "1. Connect to the database using sqlite3"
   ]
  },
  {
   "cell_type": "code",
   "execution_count": 2,
   "metadata": {},
   "outputs": [],
   "source": [
    "# Your code here\n",
    "conn = sqlite3.connect('assets/books.db')\n",
    "c =conn.cursor( )\n"
   ]
  },
  {
   "cell_type": "markdown",
   "metadata": {},
   "source": [
    "2. Querying the DB: how many pages are in the book \"Nine Stories\"?"
   ]
  },
  {
   "cell_type": "code",
   "execution_count": 3,
   "metadata": {
    "scrolled": true
   },
   "outputs": [
    {
     "data": {
      "text/html": [
       "<div>\n",
       "<style scoped>\n",
       "    .dataframe tbody tr th:only-of-type {\n",
       "        vertical-align: middle;\n",
       "    }\n",
       "\n",
       "    .dataframe tbody tr th {\n",
       "        vertical-align: top;\n",
       "    }\n",
       "\n",
       "    .dataframe thead th {\n",
       "        text-align: right;\n",
       "    }\n",
       "</style>\n",
       "<table border=\"1\" class=\"dataframe\">\n",
       "  <thead>\n",
       "    <tr style=\"text-align: right;\">\n",
       "      <th></th>\n",
       "      <th>type</th>\n",
       "      <th>name</th>\n",
       "      <th>tbl_name</th>\n",
       "      <th>rootpage</th>\n",
       "      <th>sql</th>\n",
       "    </tr>\n",
       "  </thead>\n",
       "  <tbody>\n",
       "    <tr>\n",
       "      <th>0</th>\n",
       "      <td>table</td>\n",
       "      <td>author</td>\n",
       "      <td>author</td>\n",
       "      <td>2</td>\n",
       "      <td>CREATE TABLE author (\\n    author_id INT,\\n   ...</td>\n",
       "    </tr>\n",
       "    <tr>\n",
       "      <th>1</th>\n",
       "      <td>table</td>\n",
       "      <td>book</td>\n",
       "      <td>book</td>\n",
       "      <td>3</td>\n",
       "      <td>CREATE TABLE book (\\n    book_id INT,\\n    tit...</td>\n",
       "    </tr>\n",
       "    <tr>\n",
       "      <th>2</th>\n",
       "      <td>table</td>\n",
       "      <td>book_author</td>\n",
       "      <td>book_author</td>\n",
       "      <td>4</td>\n",
       "      <td>CREATE TABLE book_author (\\n    author_id INT,...</td>\n",
       "    </tr>\n",
       "  </tbody>\n",
       "</table>\n",
       "</div>"
      ],
      "text/plain": [
       "    type         name     tbl_name  rootpage  \\\n",
       "0  table       author       author         2   \n",
       "1  table         book         book         3   \n",
       "2  table  book_author  book_author         4   \n",
       "\n",
       "                                                 sql  \n",
       "0  CREATE TABLE author (\\n    author_id INT,\\n   ...  \n",
       "1  CREATE TABLE book (\\n    book_id INT,\\n    tit...  \n",
       "2  CREATE TABLE book_author (\\n    author_id INT,...  "
      ]
     },
     "execution_count": 3,
     "metadata": {},
     "output_type": "execute_result"
    }
   ],
   "source": [
    "# Your code here\n",
    "sql_1 = \"\"\"\n",
    "SELECT * FROM sqlite_master WHERE type=\"table\"\n",
    "\"\"\"\n",
    "c.execute(sql_1)\n",
    "df_master = pd.DataFrame(c.fetchall())\n",
    "df_master.columns = [x[0] for x in c.description]\n",
    "df_master\n"
   ]
  },
  {
   "cell_type": "code",
   "execution_count": 4,
   "metadata": {},
   "outputs": [
    {
     "name": "stdout",
     "output_type": "stream",
     "text": [
      "table names: ['author', 'book', 'book_author']\n",
      "\n",
      "\n",
      "columns in table \"author\": ['author_id', 'name', 'country']\n",
      "\n",
      "columns in table \"book\": ['book_id', 'title', 'pages']\n",
      "\n",
      "columns in table \"book_author\": ['author_id', 'book_id']\n",
      "\n"
     ]
    }
   ],
   "source": [
    "field_dict = {}\n",
    "\n",
    "for tab_name in df_master.name:\n",
    "    sql_2 = \"\"\"\n",
    "\n",
    "    SELECT * FROM {}\n",
    "\n",
    "    \"\"\".format(tab_name)\n",
    "    c.execute(sql_2)\n",
    "    field_dict.update({tab_name: [x[0] for x in c.description]})\n",
    "\n",
    "    \n",
    "print(\"table names: {}\".format(list(field_dict.keys())))\n",
    "print(\"\\n\")\n",
    "\n",
    "for tab_name in field_dict.keys():\n",
    "    print(\"\"\"columns in table \"{}\": {}\\n\"\"\".format(tab_name, field_dict[tab_name]))"
   ]
  },
  {
   "cell_type": "code",
   "execution_count": null,
   "metadata": {},
   "outputs": [],
   "source": [
    "sql_3 = \"\"\"\n",
    "SELECT * FROM book COUNT(pages) as num_pages\n",
    "WHERE title ='Nine Stories'\n",
    "\"\"\"\n",
    "c.execute(sql_3)\n",
    "# df_master1 = pd.DataFrame(c.fetchall())\n",
    "# df_master1.columns = [x[0] for x in c.description]\n",
    "# df_master1"
   ]
  },
  {
   "cell_type": "markdown",
   "metadata": {},
   "source": [
    "3. How many authors are from the USA?"
   ]
  },
  {
   "cell_type": "code",
   "execution_count": 9,
   "metadata": {},
   "outputs": [
    {
     "data": {
      "text/html": [
       "<div>\n",
       "<style scoped>\n",
       "    .dataframe tbody tr th:only-of-type {\n",
       "        vertical-align: middle;\n",
       "    }\n",
       "\n",
       "    .dataframe tbody tr th {\n",
       "        vertical-align: top;\n",
       "    }\n",
       "\n",
       "    .dataframe thead th {\n",
       "        text-align: right;\n",
       "    }\n",
       "</style>\n",
       "<table border=\"1\" class=\"dataframe\">\n",
       "  <thead>\n",
       "    <tr style=\"text-align: right;\">\n",
       "      <th></th>\n",
       "      <th>distinct_author</th>\n",
       "      <th>total_authors</th>\n",
       "    </tr>\n",
       "  </thead>\n",
       "  <tbody>\n",
       "    <tr>\n",
       "      <th>0</th>\n",
       "      <td>6</td>\n",
       "      <td>6</td>\n",
       "    </tr>\n",
       "  </tbody>\n",
       "</table>\n",
       "</div>"
      ],
      "text/plain": [
       "   distinct_author  total_authors\n",
       "0                6              6"
      ]
     },
     "execution_count": 9,
     "metadata": {},
     "output_type": "execute_result"
    }
   ],
   "source": [
    "# Your code here\n",
    "c.execute(\"\"\"SELECT  count(DISTINCT(name)) AS distinct_author, count(name) as total_authors FROM author WHERE country = 'USA'; \"\"\")\n",
    "df = pd.DataFrame(c.fetchall())\n",
    "df.columns = [i[0] for i in c.description]\n",
    "df\n",
    "\n",
    "\n",
    "\n"
   ]
  },
  {
   "cell_type": "code",
   "execution_count": null,
   "metadata": {},
   "outputs": [],
   "source": [
    "There are  six authors from the USA"
   ]
  },
  {
   "cell_type": "markdown",
   "metadata": {},
   "source": [
    "4. How many authors does the book \"Professional ASP.NET 4.5 in C# and VB\" have?"
   ]
  },
  {
   "cell_type": "code",
   "execution_count": 15,
   "metadata": {},
   "outputs": [
    {
     "ename": "OperationalError",
     "evalue": "near \"(\": syntax error",
     "output_type": "error",
     "traceback": [
      "\u001b[0;31m---------------------------------------------------------------------------\u001b[0m",
      "\u001b[0;31mOperationalError\u001b[0m                          Traceback (most recent call last)",
      "\u001b[0;32m<ipython-input-15-3dba74216b92>\u001b[0m in \u001b[0;36m<module>\u001b[0;34m\u001b[0m\n\u001b[1;32m      1\u001b[0m \u001b[0;31m# Your code here\u001b[0m\u001b[0;34m\u001b[0m\u001b[0;34m\u001b[0m\u001b[0;34m\u001b[0m\u001b[0m\n\u001b[0;32m----> 2\u001b[0;31m \u001b[0mc\u001b[0m\u001b[0;34m.\u001b[0m\u001b[0mexecute\u001b[0m\u001b[0;34m(\u001b[0m\u001b[0;34m\"\"\"SELECT book_id count(book_id) AS distinct_author FROM book WHERE title = \"Professional ASP.NET 4.5 in C# and VB\"; \"\"\"\u001b[0m\u001b[0;34m)\u001b[0m\u001b[0;34m\u001b[0m\u001b[0;34m\u001b[0m\u001b[0m\n\u001b[0m\u001b[1;32m      3\u001b[0m \u001b[0mdf4\u001b[0m \u001b[0;34m=\u001b[0m \u001b[0mpd\u001b[0m\u001b[0;34m.\u001b[0m\u001b[0mDataFrame\u001b[0m\u001b[0;34m(\u001b[0m\u001b[0mc\u001b[0m\u001b[0;34m.\u001b[0m\u001b[0mfetchall\u001b[0m\u001b[0;34m(\u001b[0m\u001b[0;34m)\u001b[0m\u001b[0;34m)\u001b[0m\u001b[0;34m\u001b[0m\u001b[0;34m\u001b[0m\u001b[0m\n\u001b[1;32m      4\u001b[0m \u001b[0mdf4\u001b[0m\u001b[0;34m.\u001b[0m\u001b[0mcolumns\u001b[0m \u001b[0;34m=\u001b[0m \u001b[0;34m[\u001b[0m\u001b[0mi\u001b[0m\u001b[0;34m[\u001b[0m\u001b[0;36m0\u001b[0m\u001b[0;34m]\u001b[0m \u001b[0;32mfor\u001b[0m \u001b[0mi\u001b[0m \u001b[0;32min\u001b[0m \u001b[0mc\u001b[0m\u001b[0;34m.\u001b[0m\u001b[0mdescription\u001b[0m\u001b[0;34m]\u001b[0m\u001b[0;34m\u001b[0m\u001b[0;34m\u001b[0m\u001b[0m\n\u001b[1;32m      5\u001b[0m \u001b[0mdf4\u001b[0m\u001b[0;34m\u001b[0m\u001b[0;34m\u001b[0m\u001b[0m\n",
      "\u001b[0;31mOperationalError\u001b[0m: near \"(\": syntax error"
     ]
    }
   ],
   "source": [
    "# Your code here\n",
    "c.execute(\"\"\"SELECT book_id count(book_id) AS distinct_author FROM book WHERE title = \"Professional ASP.NET 4.5 in C# and VB\"; \"\"\")\n",
    "df4 = pd.DataFrame(c.fetchall())\n",
    "df4.columns = [i[0] for i in c.description]\n",
    "df4"
   ]
  },
  {
   "cell_type": "markdown",
   "metadata": {},
   "source": [
    "5. How many pages total have been written by non-American authors?"
   ]
  },
  {
   "cell_type": "code",
   "execution_count": null,
   "metadata": {},
   "outputs": [],
   "source": [
    "# Your code here\n"
   ]
  },
  {
   "cell_type": "markdown",
   "metadata": {},
   "source": [
    "### Object Oriented Programming (15 Minutes)\n",
    "Below is the stub of some classes. Make the classes adhere to the following rules. The code beneath the cell should  run successfully.\n",
    "1. Force every new instance of `WeWorkMember` to pass in a value to set the attribute `name`.\n",
    "1. Give every new instance of `WeWorkMember` an attribute `caffeinated` that is set to `False`. \n",
    "1. Give `WeWorkMember` an **instance** method called `caffeinate()` that prints out \"Getting coffee!\" and sets the attribute `caffeinated` to `True`.\n",
    "1. Make it so that `Staff` and `Student` inherit from `WeWorkMember`\n",
    "1. Give `Staff` a **static** method called `cheer()` that prints out \"Goooooooo Flatiron Students!\"\n",
    "1. Give `Students` a **class** method called `learn()` that takes in an integer and returns that number +1"
   ]
  },
  {
   "cell_type": "code",
   "execution_count": null,
   "metadata": {},
   "outputs": [],
   "source": [
    "# Modify this cell\n",
    "class WeWorkMember:\n",
    "    caffeinated = False\n",
    "\n",
    "class Staff:\n",
    "    caffeinated = False\n",
    "\n",
    "class Student:\n",
    "    caffeinated = False\n",
    "    def caffeinate(self, Staff, Student):\n",
    "        print(\"Getting coffee!\")\n",
    "        self.caffeinate = True\n",
    "        self.Staff = Staff\n",
    "        self.Student = Student\n",
    "        \n",
    "        "
   ]
  },
  {
   "cell_type": "code",
   "execution_count": null,
   "metadata": {},
   "outputs": [],
   "source": [
    "# DO NOT MODIFY this cell. if you want to add more tests, add them in a new cell!\n",
    "try:\n",
    "    nobody = Staff()\n",
    "    raise RuntimeError('Staff needs a name!')\n",
    "except TypeError:\n",
    "    pass\n",
    "\n",
    "andy = Staff('Andy')\n",
    "assert andy.caffeinated is False\n",
    "andy.caffeinate()\n",
    "assert andy.caffeinated is True\n",
    "\n",
    "Staff.cheer()\n",
    "\n",
    "bobby = Student('Bobby Tables')\n",
    "assert bobby.caffeinated is False\n",
    "bobby.caffeinate()\n",
    "assert bobby.caffeinated is True\n",
    "\n",
    "Student.learn(99)"
   ]
  },
  {
   "cell_type": "markdown",
   "metadata": {},
   "source": [
    "### APIs (10 Minutes)\n",
    "Using this API (http://www.nokeynoshade.party/api/judges) about RuPaul's Drag Race (docs: https://drag-race-api.readme.io/docs/get-all-judges), tell me how many judges of each **`type`** there were in the first 50 records the API returns.\n",
    " - the 50 judges will have **`id`** ranging from 1 to 53\n",
    " - you can do the aggregation in pure Python, Pandas, SQL-- whatever's easiest for you"
   ]
  },
  {
   "cell_type": "code",
   "execution_count": 18,
   "metadata": {},
   "outputs": [
    {
     "name": "stdout",
     "output_type": "stream",
     "text": [
      "<Response [200]>\n",
      "<class 'str'>\n",
      "<class 'str'>\n",
      "<!DOCTYPE html><html ng-app=\"hub\" lang=\"en\"><head><meta charset=\"utf-8\"><meta http-equiv=\"X-UA-Compatible\" content=\"IE=edge\"><meta name=\"readme-deploy\" content=\"e9ebbd4d2482daf0d43abf4c4ae3658d13172095\"><meta name=\"readme-subdomain\" content=\"drag-race-api\"><meta name=\"readme-version\" content=\"1.0\"><title ng-bind=\"pageTitle\">Get All Judges</title><meta name=\"description\" content=\"RuPaul's Drag Race API, containing information about the Queens, Episodes, Seasons, Challenges, Lipsyncs, and Judges of the TV series.\"><meta name=\"viewport\" content=\"width=device-width, initial-scale=1.0, maximum-scale=1.0, user-scalable=no\"><meta property=\"og:title\" content=\"Get All Judges\"><meta property=\"og:description\" content=\"Get a list of judges in the entire herstory of RuPaul's Drag Race.  |Params |Example |Default| |-|-:|-:| |Limit |50| 25| |Offset| 25| 0|  _example request:_ GET `http://www.nokeynoshade.party/api/judges`  _example response:_ ```json [    [     {         &quot;id&quot;: 1,         &q\n"
     ]
    }
   ],
   "source": [
    "\n",
    "api_key = 'http://www.nokeynoshade.party/api/judges'\n",
    "url = 'https://drag-race-api.readme.io/docs/get-all-judges'\n",
    "\n",
    "headers = {\n",
    "        'Authorization': 'Bearer {}'.format(api_key),\n",
    "    }\n",
    "\n",
    "\n",
    "response = requests.get(url, headers=headers)\n",
    "print(response)\n",
    "print(type(response.text))\n",
    "print(type(response.text))\n",
    "print(response.text[:1000])"
   ]
  },
  {
   "cell_type": "markdown",
   "metadata": {},
   "source": [
    "# Web Scraping (15 Minutes)\n",
    "Scrape the website [http://quotes.toscrape.com/](http://quotes.toscrape.com/).  Turn each quote on the page into a Pandas dataframe consisting of two columns: the author of the quote and the quote itself. The final result should be a dataframe of 10 rows (not counting header) and 2 columns (not counting index)."
   ]
  },
  {
   "cell_type": "code",
   "execution_count": null,
   "metadata": {},
   "outputs": [],
   "source": [
    "forcast_date = []\n",
    "for date in game_dates[0]:\n",
    "    url = 'http://quotes.toscrape.com/'\n",
    "    resp = requests.get(url)\n",
    "   "
   ]
  },
  {
   "cell_type": "markdown",
   "metadata": {},
   "source": [
    "### NoSQL (10 Minutes)\n",
    "Answer all of the following questions by querying Mongo and manipulating the results in Python\n",
    "1. Load data from `assets/grades.json` into Mongo (this code is written for you)"
   ]
  },
  {
   "cell_type": "code",
   "execution_count": null,
   "metadata": {},
   "outputs": [],
   "source": [
    "# you shouldn't need to edit this cell!\n",
    "with open('assets/grades.jsonl') as f:\n",
    "    # loads() comes from the bson library\n",
    "    file_data = [loads(line) for line in f.readlines()]\n",
    "\n",
    "client = pymongo.MongoClient(\"mongodb://localhost:27017/\")\n",
    "db = client[\"mod2db\"]\n",
    "coll = db[\"testcoll\"]\n",
    "\n",
    "coll.insert_many(file_data)"
   ]
  },
  {
   "cell_type": "markdown",
   "metadata": {},
   "source": [
    "2. How many records are there total?"
   ]
  },
  {
   "cell_type": "code",
   "execution_count": null,
   "metadata": {},
   "outputs": [],
   "source": [
    "# Your code here\n"
   ]
  },
  {
   "cell_type": "markdown",
   "metadata": {},
   "source": [
    "3. How many students have taken the class with `class_id` = **29**?"
   ]
  },
  {
   "cell_type": "code",
   "execution_count": null,
   "metadata": {},
   "outputs": [],
   "source": [
    "# Your code here\n"
   ]
  },
  {
   "cell_type": "markdown",
   "metadata": {},
   "source": [
    "4. Super bonus question: for student **12** in class **23**, what grade did they get on their exam?"
   ]
  },
  {
   "cell_type": "code",
   "execution_count": null,
   "metadata": {},
   "outputs": [],
   "source": [
    "# Your code here\n"
   ]
  },
  {
   "cell_type": "code",
   "execution_count": null,
   "metadata": {},
   "outputs": [],
   "source": [
    "# for when you're done with this portion, this deletes the data we added.\n",
    "client.drop_database(\"mod2db\")"
   ]
  },
  {
   "cell_type": "markdown",
   "metadata": {},
   "source": [
    "## Assessment submission (2 Minutes)\n",
    "Please save your completed file as `mod2-assessment.ipynb` and upload it using [this form](https://docs.google.com/forms/d/e/1FAIpQLSczNVM9Q6Dr3w1YR3kkg4PNaOsfDO-qIvh1wLy6rR0SEwTwIQ/viewform?usp=sf_link)"
   ]
  },
  {
   "cell_type": "code",
   "execution_count": null,
   "metadata": {},
   "outputs": [],
   "source": []
  }
 ],
 "metadata": {
  "kernelspec": {
   "display_name": "Python 3",
   "language": "python",
   "name": "python3"
  },
  "language_info": {
   "codemirror_mode": {
    "name": "ipython",
    "version": 3
   },
   "file_extension": ".py",
   "mimetype": "text/x-python",
   "name": "python",
   "nbconvert_exporter": "python",
   "pygments_lexer": "ipython3",
   "version": "3.7.3"
  }
 },
 "nbformat": 4,
 "nbformat_minor": 2
}

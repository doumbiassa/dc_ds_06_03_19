{
 "cells": [
  {
   "cell_type": "markdown",
   "metadata": {
    "slideshow": {
     "slide_type": "slide"
    }
   },
   "source": [
    "# Building a Movie Recommendation System in PySpark - Lab Code-along\n",
    "![images of vhs tapes on shelf](img/movies.jpg)"
   ]
  },
  {
   "cell_type": "markdown",
   "metadata": {
    "slideshow": {
     "slide_type": "slide"
    }
   },
   "source": [
    "## Introduction\n",
    "\n",
    "In this last lab, we will implement a a movie recommendation system using Alternating Least Squares (ALS) in Spark programming environment.<br> Spark's machine learning libraray `ml` comes packaged with a very efficient imeplementation of ALS algorithm. \n",
    "\n",
    "The lab will require you to put into pratice your spark programming skills for creating and manipulating pyspark DataFrames. We will go through a step-by-step process into developing a movie recommendation system using ALS and pyspark using the MovieLens Dataset.\n",
    "\n",
    "Note: You are advised to refer to [PySpark Documentation](http://spark.apache.org/docs/2.2.0/api/python/index.html) heavily for completing this lab as it will introduce a few new methods. "
   ]
  },
  {
   "cell_type": "markdown",
   "metadata": {
    "slideshow": {
     "slide_type": "slide"
    }
   },
   "source": [
    "## Objectives\n",
    "\n",
    "You will be able to:\n",
    "\n",
    "* Identify the key components of the ALS \n",
    "* Demonstrate an understanding on how recommendation systems are being used for personalization of online services/products\n",
    "* Parse and filter datasets into Spark DataFrame, performing basic feature selection\n",
    "* Run a brief hyper-parameter selection activity through a scalable grid search\n",
    "* Train and evaluate the predictive performance of recommendation system\n",
    "* Generate predictions from the trained model"
   ]
  },
  {
   "cell_type": "markdown",
   "metadata": {
    "slideshow": {
     "slide_type": "slide"
    }
   },
   "source": [
    "## Building a Recommendation System\n",
    "\n",
    "We have seen how recommender/Recommendation Systems have played an  integral parts in the success of Amazon (Books, Items), Pandora/Spotify (Music), Google (News, Search), YouTube (Videos) etc.  For Amazon these systems bring more than 30% of their total revenues. For Netflix service, 75% of movies that people watch are based on some sort of recommendation.\n",
    "\n",
    "> The goal of Recommendation Systems is to find what is likely to be of interest to the user. This enables organizations to offer a high level of personalization and customer tailored services."
   ]
  },
  {
   "cell_type": "markdown",
   "metadata": {
    "slideshow": {
     "slide_type": "slide"
    }
   },
   "source": [
    "### We sort of get the concept\n",
    "\n",
    "For online video content services like Netflix and Hulu, the need to build robust movie recommendation systems is extremely important. An example of recommendation system is such as this:\n",
    "\n",
    "1.    User A watches Game of Thrones and Breaking Bad.\n",
    "2.    User B performs a search query for Game of Thrones.\n",
    "3.    The system suggests Breaking Bad to user B from data collected about user A.\n",
    "\n",
    "\n",
    "This lab will guide you through a step-by-step process into developing such a movie recommendation system. We will use the MovieLens dataset to build a movie recommendation system using the collaborative filtering technique with Spark's Alternating Least Saqures implementation. After building that recommendation system, we will go through the process of adding a new user to the dataset with some new ratings and obtaining new recommendations for that user."
   ]
  },
  {
   "cell_type": "markdown",
   "metadata": {
    "slideshow": {
     "slide_type": "slide"
    }
   },
   "source": [
    "## Will Nightengale like Toy Story?\n",
    "\n",
    "Collaborative filtering and matrix decomposition allows us to use the history of others ratings, along with the entire community of ratings, to answer that question.\n",
    "\n",
    "![image1](img/collab.png)\n"
   ]
  },
  {
   "cell_type": "markdown",
   "metadata": {
    "slideshow": {
     "slide_type": "slide"
    }
   },
   "source": [
    "## Person vs vegetable\n",
    "\n",
    "It's important to realize that there are two sides to recommendation\n",
    "\n",
    "![image2](img/item_user_based.png)"
   ]
  },
  {
   "cell_type": "markdown",
   "metadata": {
    "slideshow": {
     "slide_type": "slide"
    }
   },
   "source": [
    "## Code for model\n",
    "\n",
    "If we wanted, we could jump to the code right now to make this happen."
   ]
  },
  {
   "cell_type": "markdown",
   "metadata": {
    "slideshow": {
     "slide_type": "fragment"
    }
   },
   "source": [
    "But would we understand it?\n",
    "```python\n",
    "from pyspark.ml.recommendation import ALS\n",
    "\n",
    "als = ALS(\n",
    "    rank=10,\n",
    "    maxIter=10,\n",
    "    userCol='userId',\n",
    "    itemCol='movieId',\n",
    "    ratingCol='rating',\n",
    ")\n",
    "\n",
    "als_model = als.fit(movie_ratings)\n",
    "```"
   ]
  },
  {
   "cell_type": "markdown",
   "metadata": {
    "slideshow": {
     "slide_type": "slide"
    }
   },
   "source": [
    "## Documentation Station\n",
    "\n",
    "Let's explore the [documentation](http://spark.apache.org/docs/2.4.3/api/python/pyspark.ml.html#module-pyspark.ml.recommendation) together to maybe get a better idea of what is happening. \n",
    "\n",
    "- which parameters make sense?\n",
    "- which are completely foreign?"
   ]
  },
  {
   "cell_type": "markdown",
   "metadata": {
    "slideshow": {
     "slide_type": "slide"
    }
   },
   "source": [
    "## Rank\n",
    "\n",
    "What's all this rank of the factorization business?<br>\n",
    "[the source code documentation](https://github.com/apache/spark/blob/master/mllib/src/main/scala/org/apache/spark/mllib/recommendation/ALS.scala) describes that variable as the \"Rank of the feature matrices\""
   ]
  },
  {
   "cell_type": "markdown",
   "metadata": {
    "slideshow": {
     "slide_type": "slide"
    }
   },
   "source": [
    "## Assumptions\n",
    "\n",
    "Matrix decomposition is built on the theory that every individual (user, movie) score is actually the **dot product** of two separate vectors:\n",
    "- user characteristics \n",
    "- movie characteristics"
   ]
  },
  {
   "cell_type": "markdown",
   "metadata": {
    "slideshow": {
     "slide_type": "fragment"
    }
   },
   "source": [
    "Wait, do you mean like gender, whether the movie is sci-fi or action? do we have that data?"
   ]
  },
  {
   "cell_type": "markdown",
   "metadata": {
    "slideshow": {
     "slide_type": "fragment"
    }
   },
   "source": [
    "![beyonce-gif](img/beyonce.gif)"
   ]
  },
  {
   "cell_type": "markdown",
   "metadata": {
    "slideshow": {
     "slide_type": "slide"
    }
   },
   "source": [
    "## The hidden matricies \n",
    "![image4](img/matrix_decomp.png)"
   ]
  },
  {
   "cell_type": "markdown",
   "metadata": {
    "slideshow": {
     "slide_type": "slide"
    }
   },
   "source": [
    "## Embeddings\n",
    "\n",
    "Embeddings are low dimensional hidden factors for items and users.\n",
    "\n",
    "For e.g. say we have 5 dimensional (i.e., **rank** = 5) embeddings for both items and users (5 chosen randomly, this could be any number - as we saw with PCA and dim. reduction).\n",
    "\n",
    "For user-X & movie-A, we can say those 5 numbers might represent 5 different characteristics about the movie e.g.:\n",
    "\n",
    "- How much movie-A is political\n",
    "- How recent is the movie\n",
    "- How much special effects are in movie A\n",
    "- How dialogue driven is the movie\n",
    "- How linear is the narrative in the movie\n",
    "\n",
    "In a similar way, 5 numbers in the user embedding matrix might represent:\n",
    "\n",
    "- How much does user-X like sci-fi movies\n",
    "- How much does user-X like recent movies … and so on.\n",
    "\n",
    "But we have *no actual idea* what those factors actually represent."
   ]
  },
  {
   "cell_type": "markdown",
   "metadata": {
    "slideshow": {
     "slide_type": "slide"
    }
   },
   "source": [
    "### If we knew the feature embeddings in advance, it would look something like this:"
   ]
  },
  {
   "cell_type": "code",
   "execution_count": 1,
   "metadata": {},
   "outputs": [],
   "source": [
    "import numpy as np\n",
    "\n",
    "# the original matrix of rankings\n",
    "R = np.array([[2, np.nan, np.nan, 1, 4],\n",
    "       [5, 1, 2, np.nan, 2],\n",
    "       [3, np.nan, np.nan, 3, np.nan],\n",
    "       [1, np.nan, 4, 2, 1]])\n",
    "\n",
    "# users X factors\n",
    "P =np.array([[-0.63274434,  1.33686735, -1.55128517],\n",
    "       [-2.23813661,  0.5123861 ,  0.14087293],\n",
    "       [-1.0289794 ,  1.62052691,  0.21027516],\n",
    "       [-0.06422255,  1.62892864,  0.33350709]])\n",
    "\n",
    "# factors X items\n",
    "Q = np.array([[-2.09507374,  0.52351075,  0.01826269],\n",
    "       [-0.45078775, -0.07334991,  0.18731052],\n",
    "       [-0.34161766,  2.46215058, -0.18942263],\n",
    "       [-1.0925736 ,  1.04664756,  0.69963111],\n",
    "       [-0.78152923,  0.89189076, -1.47144019]])"
   ]
  },
  {
   "cell_type": "markdown",
   "metadata": {
    "slideshow": {
     "slide_type": "slide"
    }
   },
   "source": [
    "What about that `np.nan` in the third row, last column? How will that item be reviewed by that user?"
   ]
  },
  {
   "cell_type": "code",
   "execution_count": 4,
   "metadata": {
    "slideshow": {
     "slide_type": "fragment"
    }
   },
   "outputs": [
    {
     "name": "stdout",
     "output_type": "stream",
     "text": [
      "[-0.63274434  1.33686735 -1.55128517]\n",
      "[-2.09507374  0.52351075  0.01826269]\n"
     ]
    },
    {
     "data": {
      "text/plain": [
       "1.997179839755337"
      ]
     },
     "execution_count": 4,
     "metadata": {},
     "output_type": "execute_result"
    }
   ],
   "source": [
    "print(P[0])\n",
    "print(Q.T[:,0])\n",
    "P[0].dot(Q.T[:,0])"
   ]
  },
  {
   "cell_type": "markdown",
   "metadata": {
    "slideshow": {
     "slide_type": "slide"
    }
   },
   "source": [
    "## Wait, I saw a transpose in there - what's the actual formula?\n",
    "\n",
    "Terms:<br>\n",
    "$R$ is the full user-item rating matrix\n",
    "\n",
    "$P$ is a matrix that contains the users and the k factors represented as (user,factor)\n",
    "\n",
    "$Q^T$ is a matrix that contains the items and the k factors represented as\n",
    "\n",
    "$r̂_{u,i}$ represents our prediction for the true rating $r_{ui}$ In order to get an individual rating, you must take the dot product of a row of P and a column of Q\n",
    "\n",
    "for the entire matrix:\n",
    "$$ R = PQ^T $$ \n",
    "\n",
    "or for individual ratings\n",
    "\n",
    "$$r̂_{u,i}=q_i^⊤p_u $$ \n",
    "\n",
    "\n",
    "\n"
   ]
  },
  {
   "cell_type": "markdown",
   "metadata": {
    "slideshow": {
     "slide_type": "slide"
    }
   },
   "source": [
    "### Let's get the whole matrix!"
   ]
  },
  {
   "cell_type": "code",
   "execution_count": 5,
   "metadata": {},
   "outputs": [
    {
     "data": {
      "text/plain": [
       "array([[ 1.99717984, -0.10339773,  3.80157388,  1.00522135,  3.96947118],\n",
       "       [ 4.95987359,  0.99772807,  1.9994742 ,  3.08017572,  1.99887552],\n",
       "       [ 3.00799117,  0.38437256,  4.30166793,  2.96747131,  1.94010313],\n",
       "       [ 0.99340337, -0.02806164,  3.96943336,  2.00841398,  1.01228247]])"
      ]
     },
     "execution_count": 5,
     "metadata": {},
     "output_type": "execute_result"
    }
   ],
   "source": [
    "P.dot(Q.T)"
   ]
  },
  {
   "cell_type": "markdown",
   "metadata": {
    "slideshow": {
     "slide_type": "slide"
    }
   },
   "source": [
    "### Look at those results\n",
    "\n",
    "Are they _exactly_ correct?\n",
    "![check](img/check.gif)"
   ]
  },
  {
   "cell_type": "markdown",
   "metadata": {
    "slideshow": {
     "slide_type": "slide"
    }
   },
   "source": [
    "## ALS benefit: Loss Function\n",
    "\n",
    "The Loss function $L$ can be calculated as:\n",
    "\n",
    "$$ L = \\sum_{u,i ∈ \\kappa}(r_{u,i}− q_i^T p_u)^2 + λ( ||q_i||^2 + |p_u||^2)$$\n",
    "\n",
    "Where $\\kappa$ is the set of (u,i) pairs for which $r_{u,i}$ is known.\n",
    "\n",
    "To avoid overfitting, the loss function also includes a regularization parameter $\\lambda$. We will choose a $\\lambda$ to minimize the square of the difference between all ratings in our dataset $R$ and our predictions.\n",
    "\n",
    "There's the **least squares** part of ALS, got it!"
   ]
  },
  {
   "cell_type": "markdown",
   "metadata": {
    "slideshow": {
     "slide_type": "slide"
    }
   },
   "source": [
    "## So now we use gradient descent, right?"
   ]
  },
  {
   "cell_type": "markdown",
   "metadata": {
    "slideshow": {
     "slide_type": "slide"
    }
   },
   "source": [
    "![incorrect](img/incorrect.gif)"
   ]
  },
  {
   "cell_type": "markdown",
   "metadata": {
    "slideshow": {
     "slide_type": "slide"
    }
   },
   "source": [
    "### Here comes the alternating part\n",
    "\n",
    "ALS alternates between holding the $q_i$'s constant and the $p_u$'s constant. \n",
    "\n",
    "While all $q_i$'s are held constant, each $p_u$ is computed by solving the least squared problem.<br>\n",
    "After that process has taken place, all the $p_u$'s are held constant while the $q_i$'s are altered to solve the least squares problem, again, each independently.<br> \n",
    "This process repeats many times until you've reached convergence (ideally)."
   ]
  },
  {
   "cell_type": "markdown",
   "metadata": {
    "slideshow": {
     "slide_type": "slide"
    }
   },
   "source": [
    "### Changing Loss function:\n",
    "\n",
    "First let's assume first the item vectors are fixed, we first solve for the user vectors:\n",
    "\n",
    "$$p_u=(\\sum{r{u,i}\\in r_{u*}}{q_iq_i^T + \\lambda I_k})^{-1}\\sum_{r_{u,i}\\in r_{u*}}{r_{ui}{q_{i}}}$$__\n",
    "Then we hold the user vectors constant and solve for the item vectors\n",
    "\n",
    "$$q_i=(\\sum{r{u,i}\\in r_{i*}}{p_up_u^T + \\lambda I_k})^{-1}\\sum_{r_{u,i}\\in r_{u*}}{r_{ui}{p_{u}}}$$__\n",
    "This process repeats until convergence"
   ]
  },
  {
   "cell_type": "markdown",
   "metadata": {
    "slideshow": {
     "slide_type": "slide"
    }
   },
   "source": [
    "# Review\n",
    "What levers do we have available to adjust?\n",
    "![lever-choice](img/levers.jpeg)\n",
    "\n",
    "- Pros and cons of large rank?\n",
    "- Pros and cons of lambda size?\n",
    "- Iterations?"
   ]
  },
  {
   "cell_type": "markdown",
   "metadata": {
    "slideshow": {
     "slide_type": "slide"
    }
   },
   "source": [
    "# Enough - let's get to the data"
   ]
  },
  {
   "cell_type": "markdown",
   "metadata": {
    "slideshow": {
     "slide_type": "slide"
    }
   },
   "source": [
    "### Importing the Data\n",
    "To begin with:\n",
    "* initialize a SparkSession object\n",
    "* import the dataset found at './data/ratings.csv' into a pyspark DataFrame"
   ]
  },
  {
   "cell_type": "code",
   "execution_count": 6,
   "metadata": {},
   "outputs": [],
   "source": [
    "import pyspark\n",
    "\n",
    "spark = pyspark.sql.SparkSession.builder.getOrCreate()\n",
    "sc = spark.sparkContext"
   ]
  },
  {
   "cell_type": "code",
   "execution_count": 7,
   "metadata": {},
   "outputs": [
    {
     "name": "stdout",
     "output_type": "stream",
     "text": [
      "movies.csv  ratings.csv\r\n"
     ]
    }
   ],
   "source": [
    "!ls data/"
   ]
  },
  {
   "cell_type": "code",
   "execution_count": 8,
   "metadata": {},
   "outputs": [
    {
     "name": "stdout",
     "output_type": "stream",
     "text": [
      "userId,movieId,rating,timestamp\r",
      "\r\n",
      "1,1,4.0,964982703\r",
      "\r\n",
      "1,3,4.0,964981247\r",
      "\r\n",
      "1,6,4.0,964982224\r",
      "\r\n",
      "1,47,5.0,964983815\r",
      "\r\n",
      "1,50,5.0,964982931\r",
      "\r\n",
      "1,70,3.0,964982400\r",
      "\r\n",
      "1,101,5.0,964980868\r",
      "\r\n",
      "1,110,4.0,964982176\r",
      "\r\n",
      "1,151,5.0,964984041\r",
      "\r\n"
     ]
    }
   ],
   "source": [
    "!head data/ratings.csv"
   ]
  },
  {
   "cell_type": "code",
   "execution_count": 10,
   "metadata": {
    "slideshow": {
     "slide_type": "slide"
    }
   },
   "outputs": [],
   "source": [
    "# read in the dataset into pyspark DataFrame\n",
    "movie_ratings = spark.read.csv('data/ratings.csv',\n",
    "                               inferSchema=True,\n",
    "                               header=True)"
   ]
  },
  {
   "cell_type": "markdown",
   "metadata": {
    "slideshow": {
     "slide_type": "slide"
    }
   },
   "source": [
    "Check the data types of each of the values to ensure that they are a type that makes sense given the column."
   ]
  },
  {
   "cell_type": "code",
   "execution_count": 11,
   "metadata": {},
   "outputs": [
    {
     "name": "stdout",
     "output_type": "stream",
     "text": [
      "root\n",
      " |-- userId: integer (nullable = true)\n",
      " |-- movieId: integer (nullable = true)\n",
      " |-- rating: double (nullable = true)\n",
      " |-- timestamp: integer (nullable = true)\n",
      "\n"
     ]
    }
   ],
   "source": [
    "movie_ratings.printSchema()"
   ]
  },
  {
   "cell_type": "markdown",
   "metadata": {
    "slideshow": {
     "slide_type": "slide"
    }
   },
   "source": [
    "But if they were ever incorrectly assigned, here's how we fix it:"
   ]
  },
  {
   "cell_type": "code",
   "execution_count": 12,
   "metadata": {},
   "outputs": [],
   "source": [
    "from pyspark.sql.types import *  # noqa"
   ]
  },
  {
   "cell_type": "code",
   "execution_count": 13,
   "metadata": {},
   "outputs": [],
   "source": [
    "schema = StructType(\n",
    "    [\n",
    "        StructField('userId', IntegerType()),\n",
    "        StructField('movieId', IntegerType()),\n",
    "        StructField('rating', FloatType()),\n",
    "        StructField('timestamp', LongType()),\n",
    "    ]\n",
    ")"
   ]
  },
  {
   "cell_type": "code",
   "execution_count": 14,
   "metadata": {},
   "outputs": [],
   "source": [
    "# read in the dataset into pyspark DataFrame\n",
    "movie_ratings = spark.read.csv('data/ratings.csv',\n",
    "                               inferSchema=False,\n",
    "                               schema=schema,\n",
    "                               header=True)"
   ]
  },
  {
   "cell_type": "code",
   "execution_count": 15,
   "metadata": {},
   "outputs": [
    {
     "data": {
      "text/plain": [
       "DataFrame[userId: int, movieId: int, rating: float, timestamp: bigint]"
      ]
     },
     "execution_count": 15,
     "metadata": {},
     "output_type": "execute_result"
    }
   ],
   "source": [
    "movie_ratings.persist()"
   ]
  },
  {
   "cell_type": "code",
   "execution_count": 16,
   "metadata": {},
   "outputs": [
    {
     "name": "stdout",
     "output_type": "stream",
     "text": [
      "root\n",
      " |-- userId: integer (nullable = true)\n",
      " |-- movieId: integer (nullable = true)\n",
      " |-- rating: float (nullable = true)\n",
      " |-- timestamp: long (nullable = true)\n",
      "\n"
     ]
    }
   ],
   "source": [
    "movie_ratings.printSchema()"
   ]
  },
  {
   "cell_type": "code",
   "execution_count": 21,
   "metadata": {},
   "outputs": [
    {
     "name": "stdout",
     "output_type": "stream",
     "text": [
      "+------+-------+------+---------+\n",
      "|userId|movieId|rating|timestamp|\n",
      "+------+-------+------+---------+\n",
      "|     1|      1|   4.0|964982703|\n",
      "|     1|      3|   4.0|964981247|\n",
      "|     1|      6|   4.0|964982224|\n",
      "|     1|     47|   5.0|964983815|\n",
      "|     1|     50|   5.0|964982931|\n",
      "+------+-------+------+---------+\n",
      "only showing top 5 rows\n",
      "\n"
     ]
    }
   ],
   "source": [
    "movie_ratings.show(5)"
   ]
  },
  {
   "cell_type": "markdown",
   "metadata": {
    "slideshow": {
     "slide_type": "slide"
    }
   },
   "source": [
    "We aren't going to need the time stamp, so we can go ahead and remove that column."
   ]
  },
  {
   "cell_type": "code",
   "execution_count": 25,
   "metadata": {},
   "outputs": [],
   "source": [
    "movie_ratings = movie_ratings.drop(movie_ratings.timestamp)"
   ]
  },
  {
   "cell_type": "code",
   "execution_count": 26,
   "metadata": {},
   "outputs": [
    {
     "data": {
      "text/plain": [
       "DataFrame[userId: int, movieId: int, rating: float]"
      ]
     },
     "execution_count": 26,
     "metadata": {},
     "output_type": "execute_result"
    }
   ],
   "source": [
    "movie_ratings"
   ]
  },
  {
   "cell_type": "markdown",
   "metadata": {
    "slideshow": {
     "slide_type": "slide"
    }
   },
   "source": [
    "### Fitting the Alternating Least Squares Model"
   ]
  },
  {
   "cell_type": "markdown",
   "metadata": {},
   "source": [
    "Because this dataset is already preprocessed for us, we can go ahead and fit the Alternating Least Squares model.\n",
    "\n",
    "* Use the randomSplit method on the pyspark DataFrame to separate the dataset into a training and test set\n",
    "* Import the ALS module from pyspark.ml.recommendation.\n",
    "* Fit the Alternating Least Squares Model to the training dataset. Make sure to set the userCol, itemCol, and ratingCol to the appropriate names given this dataset. Then fit the data to the training set and assign it to a variable model. "
   ]
  },
  {
   "cell_type": "code",
   "execution_count": 27,
   "metadata": {
    "slideshow": {
     "slide_type": "slide"
    }
   },
   "outputs": [],
   "source": [
    "# split into training and testing sets\n",
    "# How would we do that?\n",
    "\n",
    "from pyspark.ml.tuning import TrainValidationSplit\n"
   ]
  },
  {
   "cell_type": "code",
   "execution_count": null,
   "metadata": {},
   "outputs": [],
   "source": []
  },
  {
   "cell_type": "code",
   "execution_count": 28,
   "metadata": {
    "slideshow": {
     "slide_type": "slide"
    }
   },
   "outputs": [],
   "source": [
    "from pyspark.ml.evaluation import RegressionEvaluator\n",
    "from pyspark.ml.recommendation import ALS, ALSModel\n",
    "\n",
    "train, test = movie_ratings.randomSplit([0.9, 0.1], seed=12345)\n",
    "\n",
    "als = ALS(\n",
    "    rank=10,\n",
    "    maxIter=10,\n",
    "    userCol='userId',\n",
    "    itemCol='movieId',\n",
    "    ratingCol='rating',\n",
    ")"
   ]
  },
  {
   "cell_type": "code",
   "execution_count": 29,
   "metadata": {
    "slideshow": {
     "slide_type": "slide"
    }
   },
   "outputs": [],
   "source": [
    "# Build the recommendation model using ALS on the training data\n",
    "# fit the ALS model to the training set\n",
    "\n",
    "als_model = als.fit(train)"
   ]
  },
  {
   "cell_type": "markdown",
   "metadata": {
    "slideshow": {
     "slide_type": "slide"
    }
   },
   "source": [
    "Now you've fit the model, and it's time to evaluate it to determine just how well it performed.\n",
    "\n",
    "* import `RegressionEvalutor` from pyspark.ml.evaluation ([documentation](http://spark.apache.org/docs/2.4.3/api/python/pyspark.ml.html#pyspark.ml.evaluation.RegressionEvaluator)\n",
    "* generate predictions with your model for the test set by using the `transform` method on your ALS model\n",
    "* evaluate your model and print out the RMSE from your test set [options for evaluating regressors](http://spark.apache.org/docs/2.4.3/api/python/pyspark.ml.html#pyspark.ml.evaluation.RegressionEvaluator.metricName)"
   ]
  },
  {
   "cell_type": "code",
   "execution_count": 30,
   "metadata": {},
   "outputs": [],
   "source": [
    "ALSModel.transform?"
   ]
  },
  {
   "cell_type": "code",
   "execution_count": 31,
   "metadata": {},
   "outputs": [],
   "source": [
    "predictions = als_model.transform(movie_ratings)"
   ]
  },
  {
   "cell_type": "code",
   "execution_count": 32,
   "metadata": {},
   "outputs": [
    {
     "data": {
      "text/plain": [
       "DataFrame[userId: int, movieId: int, rating: float, prediction: float]"
      ]
     },
     "execution_count": 32,
     "metadata": {},
     "output_type": "execute_result"
    }
   ],
   "source": [
    "predictions.persist()"
   ]
  },
  {
   "cell_type": "code",
   "execution_count": 34,
   "metadata": {},
   "outputs": [
    {
     "name": "stdout",
     "output_type": "stream",
     "text": [
      "+------+-------+------+\n",
      "|userId|movieId|rating|\n",
      "+------+-------+------+\n",
      "|     1|      1|   4.0|\n",
      "|     1|      3|   4.0|\n",
      "|     1|      6|   4.0|\n",
      "|     1|     47|   5.0|\n",
      "|     1|     50|   5.0|\n",
      "|     1|     70|   3.0|\n",
      "|     1|    101|   5.0|\n",
      "|     1|    110|   4.0|\n",
      "|     1|    151|   5.0|\n",
      "|     1|    157|   5.0|\n",
      "+------+-------+------+\n",
      "only showing top 10 rows\n",
      "\n"
     ]
    }
   ],
   "source": [
    "movie_ratings.show(10)"
   ]
  },
  {
   "cell_type": "code",
   "execution_count": 35,
   "metadata": {},
   "outputs": [
    {
     "name": "stdout",
     "output_type": "stream",
     "text": [
      "+------+-------+------+----------+\n",
      "|userId|movieId|rating|prediction|\n",
      "+------+-------+------+----------+\n",
      "|   191|    148|   5.0|  4.920002|\n",
      "|   133|    471|   4.0| 3.2935686|\n",
      "|   597|    471|   2.0| 3.9033005|\n",
      "|   385|    471|   4.0| 3.2582283|\n",
      "|   436|    471|   3.0| 3.6152236|\n",
      "|   602|    471|   4.0|  3.844644|\n",
      "|    91|    471|   1.0| 2.0703082|\n",
      "|   409|    471|   3.0|   3.49089|\n",
      "|   372|    471|   3.0| 3.2870915|\n",
      "|   599|    471|   2.5|  2.698354|\n",
      "+------+-------+------+----------+\n",
      "only showing top 10 rows\n",
      "\n"
     ]
    }
   ],
   "source": [
    "predictions.show(10)"
   ]
  },
  {
   "cell_type": "code",
   "execution_count": 36,
   "metadata": {},
   "outputs": [],
   "source": [
    "user_factors = als_model.userFactors"
   ]
  },
  {
   "cell_type": "code",
   "execution_count": 40,
   "metadata": {},
   "outputs": [
    {
     "name": "stdout",
     "output_type": "stream",
     "text": [
      "+---+--------------------+\n",
      "| id|            features|\n",
      "+---+--------------------+\n",
      "| 10|[-0.6593468, 0.83...|\n",
      "| 20|[-0.13704379, 0.5...|\n",
      "| 30|[-0.080038734, 0....|\n",
      "| 40|[-0.0030345109, 1...|\n",
      "| 50|[0.23013826, 0.33...|\n",
      "| 60|[-0.17434408, 0.8...|\n",
      "| 70|[-0.1629915, 0.65...|\n",
      "| 80|[0.072858304, 0.7...|\n",
      "| 90|[0.5675375, 0.308...|\n",
      "|100|[0.11169862, 0.91...|\n",
      "+---+--------------------+\n",
      "only showing top 10 rows\n",
      "\n"
     ]
    }
   ],
   "source": [
    "user_factors.show(10)"
   ]
  },
  {
   "cell_type": "code",
   "execution_count": 38,
   "metadata": {},
   "outputs": [],
   "source": [
    "item_factors = als_model.itemFactors"
   ]
  },
  {
   "cell_type": "code",
   "execution_count": 39,
   "metadata": {},
   "outputs": [
    {
     "data": {
      "text/plain": [
       "DataFrame[id: int, features: array<float>]"
      ]
     },
     "execution_count": 39,
     "metadata": {},
     "output_type": "execute_result"
    }
   ],
   "source": [
    "item_factors"
   ]
  },
  {
   "cell_type": "markdown",
   "metadata": {
    "slideshow": {
     "slide_type": "slide"
    }
   },
   "source": [
    "### Important Question\n",
    "\n",
    "Will Billy like movie m?"
   ]
  },
  {
   "cell_type": "code",
   "execution_count": 41,
   "metadata": {},
   "outputs": [],
   "source": [
    "import numpy as np"
   ]
  },
  {
   "cell_type": "code",
   "execution_count": 42,
   "metadata": {},
   "outputs": [],
   "source": [
    "billy_row = user_factors[user_factors['id'] == 10].first()\n",
    "billy_factors = np.array(billy_row['features'])"
   ]
  },
  {
   "cell_type": "code",
   "execution_count": 43,
   "metadata": {},
   "outputs": [],
   "source": [
    "m_row = item_factors[item_factors['id'] == 296].first()\n",
    "m_factors = np.array(m_row['features'])"
   ]
  },
  {
   "cell_type": "code",
   "execution_count": 44,
   "metadata": {
    "scrolled": true,
    "slideshow": {
     "slide_type": "slide"
    }
   },
   "outputs": [
    {
     "data": {
      "text/plain": [
       "array([-0.65934682,  0.83027846, -0.06073072,  0.35369405, -0.36546266,\n",
       "       -0.97234941, -0.89308345,  0.17365667, -0.75908995, -1.21125793])"
      ]
     },
     "execution_count": 44,
     "metadata": {},
     "output_type": "execute_result"
    }
   ],
   "source": [
    "billy_factors"
   ]
  },
  {
   "cell_type": "code",
   "execution_count": 45,
   "metadata": {},
   "outputs": [
    {
     "data": {
      "text/plain": [
       "array([ 0.42363551,  0.31741235,  0.00351998, -1.05440164,  0.65572476,\n",
       "       -0.16133958,  0.44431725,  0.61915302, -0.7609629 , -1.79178178])"
      ]
     },
     "execution_count": 45,
     "metadata": {},
     "output_type": "execute_result"
    }
   ],
   "source": [
    "m_factors"
   ]
  },
  {
   "cell_type": "code",
   "execution_count": 46,
   "metadata": {
    "slideshow": {
     "slide_type": "slide"
    }
   },
   "outputs": [
    {
     "data": {
      "text/plain": [
       "1.986960936882137"
      ]
     },
     "execution_count": 46,
     "metadata": {},
     "output_type": "execute_result"
    }
   ],
   "source": [
    "billy_factors @ m_factors"
   ]
  },
  {
   "cell_type": "code",
   "execution_count": 47,
   "metadata": {
    "slideshow": {
     "slide_type": "slide"
    }
   },
   "outputs": [],
   "source": [
    "billy_preds = predictions[predictions['userId'] == 10]"
   ]
  },
  {
   "cell_type": "code",
   "execution_count": 48,
   "metadata": {
    "scrolled": true,
    "slideshow": {
     "slide_type": "slide"
    }
   },
   "outputs": [
    {
     "name": "stdout",
     "output_type": "stream",
     "text": [
      "+------+-------+------+----------+\n",
      "|userId|movieId|rating|prediction|\n",
      "+------+-------+------+----------+\n",
      "|    10|    296|   1.0|  1.986961|\n",
      "|    10|    356|   3.5| 3.3384786|\n",
      "|    10|    588|   4.0| 3.1184573|\n",
      "|    10|    597|   3.5| 3.3654714|\n",
      "|    10|    912|   4.0| 3.0840404|\n",
      "|    10|   1028|   0.5| 2.4391365|\n",
      "|    10|   1088|   3.0| 2.8835022|\n",
      "|    10|   1247|   3.0|  2.620885|\n",
      "|    10|   1307|   3.0|  2.555363|\n",
      "|    10|   1784|   3.5| 3.3625364|\n",
      "|    10|   1907|   4.0| 3.5875602|\n",
      "|    10|   2571|   0.5| 2.8665748|\n",
      "|    10|   2671|   3.5| 3.2481763|\n",
      "|    10|   2762|   0.5|  2.836678|\n",
      "|    10|   2858|   1.0| 1.8034306|\n",
      "|    10|   2959|   0.5| 2.4026573|\n",
      "|    10|   3578|   4.0| 3.2340486|\n",
      "|    10|   3882|   3.0|  2.980417|\n",
      "|    10|   4246|   3.5| 3.0767226|\n",
      "|    10|   4306|   4.5| 3.7194052|\n",
      "+------+-------+------+----------+\n",
      "only showing top 20 rows\n",
      "\n"
     ]
    }
   ],
   "source": [
    "billy_preds.sort('movieId').show()"
   ]
  },
  {
   "cell_type": "code",
   "execution_count": 49,
   "metadata": {
    "slideshow": {
     "slide_type": "slide"
    }
   },
   "outputs": [
    {
     "name": "stdout",
     "output_type": "stream",
     "text": [
      "296,Pulp Fiction (1994),Comedy|Crime|Drama|Thriller\r",
      "\r\n"
     ]
    }
   ],
   "source": [
    "!grep \"^296,\" < data/movies.csv"
   ]
  },
  {
   "cell_type": "markdown",
   "metadata": {
    "slideshow": {
     "slide_type": "slide"
    }
   },
   "source": [
    "## Okay, what *will* Billy like?"
   ]
  },
  {
   "cell_type": "code",
   "execution_count": 50,
   "metadata": {},
   "outputs": [],
   "source": [
    "recs = als_model.recommendForAllUsers(numItems=10)"
   ]
  },
  {
   "cell_type": "code",
   "execution_count": 51,
   "metadata": {},
   "outputs": [
    {
     "data": {
      "text/plain": [
       "[Row(movieId=714, rating=4.775308609008789),\n",
       " Row(movieId=71579, rating=4.717368125915527),\n",
       " Row(movieId=4703, rating=4.7125244140625),\n",
       " Row(movieId=102903, rating=4.591607093811035),\n",
       " Row(movieId=2316, rating=4.5883073806762695),\n",
       " Row(movieId=8869, rating=4.514337062835693),\n",
       " Row(movieId=140110, rating=4.453531265258789),\n",
       " Row(movieId=7169, rating=4.43377161026001),\n",
       " Row(movieId=113275, rating=4.429519176483154),\n",
       " Row(movieId=51705, rating=4.42540979385376)]"
      ]
     },
     "execution_count": 51,
     "metadata": {},
     "output_type": "execute_result"
    }
   ],
   "source": [
    "recs[recs['userId']==10].first()['recommendations']"
   ]
  },
  {
   "cell_type": "code",
   "execution_count": 52,
   "metadata": {
    "slideshow": {
     "slide_type": "slide"
    }
   },
   "outputs": [
    {
     "name": "stdout",
     "output_type": "stream",
     "text": [
      "112804,I Origins (2014),Drama|Sci-Fi\r",
      "\r\n"
     ]
    }
   ],
   "source": [
    "!grep \"^112804,\" < data/movies.csv"
   ]
  },
  {
   "cell_type": "markdown",
   "metadata": {
    "slideshow": {
     "slide_type": "slide"
    }
   },
   "source": [
    "## Objective Review\n",
    "\n",
    "* Identify the key components of the ALS \n",
    "* Demonstrate an understanding on how recommendation systems are being used for personalization of online services/products\n",
    "* Parse and filter datasets into Spark DataFrame, performing basic feature selection\n",
    "* Run a brief hyper-parameter selection activity through a scalable grid search\n",
    "* Train and evaluate the predictive performance of recommendation system\n",
    "* Generate predictions from the trained model"
   ]
  },
  {
   "cell_type": "markdown",
   "metadata": {
    "slideshow": {
     "slide_type": "slide"
    }
   },
   "source": [
    "## Some great technical resources:\n",
    "\n",
    "- [good one from Stanford](http://stanford.edu/~rezab/classes/cme323/S15/notes/lec14.pdf)\n",
    "- [the netflix recommendation project](https://www.netflixprize.com/assets/GrandPrize2009_BPC_BellKor.pdf)"
   ]
  }
 ],
 "metadata": {
  "celltoolbar": "Slideshow",
  "kernelspec": {
   "display_name": "Python 3",
   "language": "python",
   "name": "python3"
  },
  "language_info": {
   "codemirror_mode": {
    "name": "ipython",
    "version": 3
   },
   "file_extension": ".py",
   "mimetype": "text/x-python",
   "name": "python",
   "nbconvert_exporter": "python",
   "pygments_lexer": "ipython3",
   "version": "3.7.3"
  }
 },
 "nbformat": 4,
 "nbformat_minor": 2
}

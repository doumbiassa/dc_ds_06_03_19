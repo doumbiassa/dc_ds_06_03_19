{
 "cells": [
  {
   "cell_type": "markdown",
   "metadata": {},
   "source": [
    "# Implicit ALS\n",
    "\n",
    "_Adapted from [@sophwatts](https://github.com/sophwats/Implicit-ALS)_\n",
    "\n",
    "We usually consider using ALS on a set of user/product ratings. But what if the data isn't so self explanatory?\n",
    "\n",
    "### A day trip to the library\n",
    "Consider, for example, the data collected by a local library. The library records which users took out each books and how long they kept the books before returning them. \n",
    "\n",
    "As such, we have no explicit indication that a user liked or disliked the books they took out - Just because you borrowed a book does not mean that you enjoyed it, or even read it.\n",
    "Furthermore, the missing data is of interest - the fact that a user has not taken out a specific book could indicate that they dislike that genre, or that they haven't been to that section of the library.\n",
    "\n",
    "Furthermore the same user action could have many different causes. Suppose you withdraw a book three times. That might indicate that you loved the book, but it may also indicate that the book doesn't appeal to you as strongly as some other books you withdrew so you never got round to reading it the first two times.\n",
    "\n",
    "To make the situation even worse, implicit data is often dirty. For example, a user may withdraw a library book for their child using their account, or they may accidentally pick up a book that was sitting on the counter. \n",
    "\n",
    "### The solution\n",
    "Based on the standard ALS implementation, [Hu et al. (2008)](http://yifanhu.net/PUB/cf.pdf) presented a methodolgy for carrying out ALS when dealing with implicit data. \n",
    "\n",
    "The general idea is that we have some recorded observations $r_{u,i}$ denoting the level of interaction user $u$ had with product $i$. For example, if a user $1$ borrowed book $4$ once we may set $r_{1,4}=1$. Alternatively we may wish to allow $r_{u,i}$ to hold information about how many days the book was borrowed for. (There is a lot of freedom in this set up, so we need to make some data specific decisions regarding how we will select $r_{u,i}$).\n",
    "\n",
    "Given the set of observations $r_{u,i}$, a binary indicator $p_{u,i}$ is introduced where:\n",
    "\n",
    "$ p_{u,i} = \\begin{cases} 1 & \\mbox{if } r_{i,j}>0 \\\\\n",
    "0 & \\mbox{otherwise.} \\end{cases} $\n",
    "\n",
    "\n",
    "A confidence parameter $\\alpha$ lets the user determine how much importance they wish to place on the recorded $r_{u,i}$. This leads to the introduction of $c_{u,i}$ which we take to be the confidence we have in the strength of user $u$'s reaction to product $i$: \n",
    "$c_{u,i} = 1 + \\alpha r_{u,i}$.\n",
    "\n",
    "Let $N_u$ denote the number of users, and $N_p$ denote the number of products. Let $k\\in \\mathbb{R}^+$ be a user defined number of factors. \n",
    "Now, in implicit ALS the goal is to find matrices $X\\in \\mathbb{R}^{N_u \\times k}$ and $Y\\in \\mathbb{R}^{N_p \\times k}$ such that the following cost function is minimised:\n",
    "\n",
    "$\\sum_{u,i} c_{u,i}(p_{u,i}-X_u^T Y_i)^2 + \\lambda (\\sum_u \\| X_u\\|^2 + \\sum_{i} \\| y_u\\|^2), $\n",
    "\n",
    "\n",
    "where\n",
    "$X_u$ is the $u$th row of X, \n",
    "$Y_i$ is the $i$th row of Y,\n",
    "\\lambda is a user defined parameter which prevents overfitting. \n",
    "\n",
    "With this minimisation at hand, we are able to recover estimates of $c_{u,i}$, and thus of $r_{u,i}$ for interactions which have not yet occured. \n",
    "\n",
    "### Let's get going\n",
    "We are going to run implicit ALS using the implementation given in the pyspark.mllib.recommendation module. \n",
    "\n",
    "The data we will be using can be found at http://www2.informatik.uni-freiburg.de/~cziegler/BX/"
   ]
  },
  {
   "cell_type": "code",
   "execution_count": 2,
   "metadata": {},
   "outputs": [],
   "source": [
    "#Set up a spark context\n",
    "\n",
    "import pyspark\n",
    "\n",
    "spark = (pyspark.sql.SparkSession.builder\n",
    "         .appName('implicitALS')\n",
    "         .getOrCreate())\n",
    "sc = spark.sparkContext"
   ]
  },
  {
   "cell_type": "markdown",
   "metadata": {},
   "source": [
    "# The Data\n",
    "\n",
    "\n",
    "In the cell below, we download and unzip the data. The two files we are interested in are BX-Books.csv and BX-Book-Ratings.csv, which follow these schema: \n",
    "\n",
    "### BX-Books.csv\n",
    "\n",
    "| Field Name | Type | Description |\n",
    "| ---------- | -----| ----------- |\n",
    "|ISBN |  String | length 10, alphanumeric |\n",
    "| Book-Title | String | Title of book |\n",
    "|Book-Author | String| Name of author |\n",
    "| Year-Of-Publication | String | yyyy|\n",
    "|Publisher| String |Name of publisher |\n",
    "|Image-URL-S | String| URL for small image on amazon.com |\n",
    "|Image-URL-M | String| URL for medium image on amazon.com |\n",
    "|Image-URL-L | String| URL for large image on amazon.com|\n",
    "\n",
    "\n",
    "### BX-Book-Ratings.csv\n",
    "| Field Name | Type | Description |\n",
    "| ---------- | ---- | ----------- |\n",
    "|User-ID |  Integer | Range from 2 to 278854 |\n",
    "| ISBN | String| length 10, alphanumeric |\n",
    "|Book-Rating| Integer | 1-10 denotes dislike-like. 0 denotes implicit interaction|"
   ]
  },
  {
   "cell_type": "code",
   "execution_count": 1,
   "metadata": {
    "scrolled": true
   },
   "outputs": [
    {
     "name": "stdout",
     "output_type": "stream",
     "text": [
      "  % Total    % Received % Xferd  Average Speed   Time    Time     Time  Current\n",
      "                                 Dload  Upload   Total   Spent    Left  Speed\n",
      "100 24.8M  100 24.8M    0     0  2476k      0  0:00:10  0:00:10 --:--:-- 2895k\n",
      "Archive:  BX-CSV-Dump.zip\n",
      "  inflating: BX-Book-Ratings.csv     \n",
      "  inflating: BX-Books.csv            \n",
      "  inflating: BX-Users.csv            \n"
     ]
    }
   ],
   "source": [
    "#Downloading and unzipping the data\n",
    "!curl -O http://www2.informatik.uni-freiburg.de/~cziegler/BX/BX-CSV-Dump.zip\n",
    "!unzip BX-CSV-Dump.zip"
   ]
  },
  {
   "cell_type": "markdown",
   "metadata": {},
   "source": [
    "The cell above loads three .csv files into the working directory. We are interested in the files \"BX-Books-Ratings.csv\" and \"BX-Books.csv\". The first three columns of \"BX-Book-Ratings\" are the user id, an isbn which identifies the book, and a rating. A '0' in the rating column is used to denote that an implicit interaction occured between the user an the book. It is this data that we are interested in, and we extract such rows using the following grep command:"
   ]
  },
  {
   "cell_type": "code",
   "execution_count": 3,
   "metadata": {},
   "outputs": [
    {
     "name": "stdout",
     "output_type": "stream",
     "text": [
      "\"User-ID\";\"ISBN\";\"Book-Rating\"\r",
      "\r\n",
      "\"276725\";\"034545104X\";\"0\"\r",
      "\r\n",
      "\"276726\";\"0155061224\";\"5\"\r",
      "\r\n",
      "\"276727\";\"0446520802\";\"0\"\r",
      "\r\n",
      "\"276729\";\"052165615X\";\"3\"\r",
      "\r\n",
      "\"276729\";\"0521795028\";\"6\"\r",
      "\r\n",
      "\"276733\";\"2080674722\";\"0\"\r",
      "\r\n",
      "\"276736\";\"3257224281\";\"8\"\r",
      "\r\n",
      "\"276737\";\"0600570967\";\"6\"\r",
      "\r\n",
      "\"276744\";\"038550120X\";\"7\"\r",
      "\r\n"
     ]
    }
   ],
   "source": [
    "!head BX-Book-Ratings.csv"
   ]
  },
  {
   "cell_type": "code",
   "execution_count": 4,
   "metadata": {},
   "outputs": [],
   "source": [
    "!echo '\"user_id\";\"isbn\";\"observation\"' > implicit.csv"
   ]
  },
  {
   "cell_type": "code",
   "execution_count": 5,
   "metadata": {},
   "outputs": [],
   "source": [
    "!grep '\"0\"' BX-Book-Ratings.csv >> implicit.csv"
   ]
  },
  {
   "cell_type": "code",
   "execution_count": 6,
   "metadata": {},
   "outputs": [
    {
     "name": "stdout",
     "output_type": "stream",
     "text": [
      "\"user_id\";\"isbn\";\"observation\"\r\n",
      "\"276725\";\"034545104X\";\"0\"\r",
      "\r\n",
      "\"276727\";\"0446520802\";\"0\"\r",
      "\r\n",
      "\"276733\";\"2080674722\";\"0\"\r",
      "\r\n",
      "\"276746\";\"0425115801\";\"0\"\r",
      "\r\n",
      "\"276746\";\"0449006522\";\"0\"\r",
      "\r\n",
      "\"276746\";\"0553561618\";\"0\"\r",
      "\r\n",
      "\"276746\";\"055356451X\";\"0\"\r",
      "\r\n",
      "\"276746\";\"0786013990\";\"0\"\r",
      "\r\n",
      "\"276746\";\"0786014512\";\"0\"\r",
      "\r\n"
     ]
    }
   ],
   "source": [
    "!head implicit.csv"
   ]
  },
  {
   "cell_type": "code",
   "execution_count": 7,
   "metadata": {},
   "outputs": [],
   "source": [
    "#Load in the data\n",
    "ratings_df = spark.read.csv('implicit.csv', sep=';', header=True, inferSchema=True)"
   ]
  },
  {
   "cell_type": "markdown",
   "metadata": {},
   "source": [
    "Let's have a look at the first 10 entries in the ratings file: "
   ]
  },
  {
   "cell_type": "code",
   "execution_count": 8,
   "metadata": {},
   "outputs": [
    {
     "name": "stdout",
     "output_type": "stream",
     "text": [
      "+-------+----------+-----------+\n",
      "|user_id|      isbn|observation|\n",
      "+-------+----------+-----------+\n",
      "| 276725|034545104X|          0|\n",
      "| 276727|0446520802|          0|\n",
      "| 276733|2080674722|          0|\n",
      "| 276746|0425115801|          0|\n",
      "| 276746|0449006522|          0|\n",
      "| 276746|0553561618|          0|\n",
      "| 276746|055356451X|          0|\n",
      "| 276746|0786013990|          0|\n",
      "| 276746|0786014512|          0|\n",
      "| 276747|0451192001|          0|\n",
      "+-------+----------+-----------+\n",
      "only showing top 10 rows\n",
      "\n"
     ]
    }
   ],
   "source": [
    "ratings_df.show(10)"
   ]
  },
  {
   "cell_type": "markdown",
   "metadata": {},
   "source": [
    "The implicit ALS function we are going to use requires that product ids are integers. At the moment we have unique ISBNs, which contain a mixture of numbers and letters, so we must convert to integers. This can be done using the zipWithIndex() function which takes an RDD and joins unique ids to each entry. "
   ]
  },
  {
   "cell_type": "code",
   "execution_count": 9,
   "metadata": {},
   "outputs": [],
   "source": [
    "ratings_df.createGlobalTempView(\"ratings\")"
   ]
  },
  {
   "cell_type": "code",
   "execution_count": 33,
   "metadata": {},
   "outputs": [
    {
     "name": "stdout",
     "output_type": "stream",
     "text": [
      "+-------+-------+----------+------+\n",
      "|user_id|isbn_id|      isbn|rating|\n",
      "+-------+-------+----------+------+\n",
      "|      2|  23897|0195153448|     1|\n",
      "|      7|  42139| 034542252|     1|\n",
      "|      8| 193834|1558746218|     1|\n",
      "|      8|  75072|0425176428|     1|\n",
      "|      8| 129080|0671870432|     1|\n",
      "|      8| 130853|0679425608|     1|\n",
      "|      8| 151562|0771074670|     1|\n",
      "|      8|  66222|0393045218|     1|\n",
      "|      8| 159520|080652121X|     1|\n",
      "|      8| 151295|0771025661|     1|\n",
      "+-------+-------+----------+------+\n",
      "only showing top 10 rows\n",
      "\n"
     ]
    }
   ],
   "source": [
    "ratings_df = spark.sql(\"\"\"\n",
    "SELECT\n",
    "  user_id\n",
    ", dense_rank() OVER (ORDER BY isbn) AS isbn_id\n",
    ", isbn\n",
    ", COUNT(*) AS rating\n",
    "FROM global_temp.ratings\n",
    "GROUP BY 1, 3\n",
    "ORDER BY 1\"\"\")\n",
    "ratings_df.show(10)"
   ]
  },
  {
   "cell_type": "code",
   "execution_count": 42,
   "metadata": {},
   "outputs": [
    {
     "name": "stdout",
     "output_type": "stream",
     "text": [
      "+-------+-----------+\n",
      "|user_id|sum(rating)|\n",
      "+-------+-----------+\n",
      "|      2|          1|\n",
      "|      7|          1|\n",
      "|      8|         11|\n",
      "|      9|          2|\n",
      "|     10|          1|\n",
      "|     14|          1|\n",
      "|     16|          1|\n",
      "|     17|          3|\n",
      "|     20|          1|\n",
      "|     22|          3|\n",
      "+-------+-----------+\n",
      "only showing top 10 rows\n",
      "\n"
     ]
    }
   ],
   "source": [
    "ratings_df.groupBy('user_id').sum('rating').show(10)"
   ]
  },
  {
   "cell_type": "markdown",
   "metadata": {},
   "source": [
    "We now import the ALS function from the mllib module, and build the model. "
   ]
  },
  {
   "cell_type": "code",
   "execution_count": 28,
   "metadata": {},
   "outputs": [],
   "source": [
    "from pyspark.ml.recommendation import ALS\n",
    "als = ALS(rank=5, maxIter=5, alpha=0.5, implicitPrefs=True,\n",
    "          userCol=\"user_id\", itemCol=\"isbn_id\", ratingCol=\"rating\",\n",
    "          nonnegative=True)"
   ]
  },
  {
   "cell_type": "code",
   "execution_count": 29,
   "metadata": {},
   "outputs": [],
   "source": [
    "training, test = ratings_df.randomSplit([0.8, 0.2])\n",
    "\n",
    "model = als.fit(training)"
   ]
  },
  {
   "cell_type": "code",
   "execution_count": 30,
   "metadata": {},
   "outputs": [],
   "source": [
    "#Using the predict all function to give predictions for any unseens. \n",
    "predictions = model.transform(test)"
   ]
  },
  {
   "cell_type": "markdown",
   "metadata": {},
   "source": [
    "We can now look at predictions for a range of user, product pairs:"
   ]
  },
  {
   "cell_type": "code",
   "execution_count": 31,
   "metadata": {},
   "outputs": [
    {
     "data": {
      "text/plain": [
       "[Row(user_id=13221, isbn_id=148, isbn='0002005395', rating=1, prediction=nan),\n",
       " Row(user_id=113817, isbn_id=833, isbn='0006174817', rating=1, prediction=0.0010701927822083235),\n",
       " Row(user_id=264317, isbn_id=1342, isbn='0006497683', rating=1, prediction=nan),\n",
       " Row(user_id=117539, isbn_id=2366, isbn='0020264801', rating=1, prediction=0.0008559214184060693),\n",
       " Row(user_id=108773, isbn_id=3175, isbn='0028642333', rating=1, prediction=2.8307115371717373e-06),\n",
       " Row(user_id=129358, isbn_id=3749, isbn='0060001461', rating=1, prediction=0.016894200816750526),\n",
       " Row(user_id=51350, isbn_id=3794, isbn='0060005564', rating=1, prediction=0.0035295472480356693),\n",
       " Row(user_id=78738, isbn_id=4101, isbn='0060116188', rating=1, prediction=0.0),\n",
       " Row(user_id=127429, isbn_id=5300, isbn='0060247827', rating=1, prediction=nan),\n",
       " Row(user_id=83637, isbn_id=6357, isbn='0060652071', rating=1, prediction=0.008162778802216053)]"
      ]
     },
     "execution_count": 31,
     "metadata": {},
     "output_type": "execute_result"
    }
   ],
   "source": [
    "predictions.take(10)"
   ]
  },
  {
   "cell_type": "markdown",
   "metadata": {},
   "source": [
    "We can use `.filter()` and `.orderBy()` to view the 20 highest rated items for that user. "
   ]
  },
  {
   "cell_type": "code",
   "execution_count": 24,
   "metadata": {},
   "outputs": [
    {
     "data": {
      "text/plain": [
       "[Row(user_id=76352, isbn_id=98956, isbn='051513287X', rating=1, prediction=0.8468062877655029),\n",
       " Row(user_id=198711, isbn_id=59705, isbn='0380710218', rating=1, prediction=0.7767812013626099),\n",
       " Row(user_id=76352, isbn_id=49281, isbn='0373218397', rating=1, prediction=0.7479233741760254),\n",
       " Row(user_id=102967, isbn_id=79183, isbn='0440211727', rating=1, prediction=0.6657320857048035),\n",
       " Row(user_id=35859, isbn_id=110729, isbn='055357695X', rating=1, prediction=0.6600107550621033),\n",
       " Row(user_id=76352, isbn_id=49251, isbn='0373218036', rating=1, prediction=0.6562633514404297),\n",
       " Row(user_id=55548, isbn_id=79183, isbn='0440211727', rating=1, prediction=0.6538708209991455),\n",
       " Row(user_id=76352, isbn_id=79602, isbn='044022165X', rating=1, prediction=0.6529889106750488),\n",
       " Row(user_id=76352, isbn_id=98819, isbn='0515128554', rating=1, prediction=0.6501860022544861),\n",
       " Row(user_id=198711, isbn_id=80996, isbn='0440484332', rating=1, prediction=0.6485165953636169)]"
      ]
     },
     "execution_count": 24,
     "metadata": {},
     "output_type": "execute_result"
    }
   ],
   "source": [
    "import numpy as np\n",
    "(predictions.filter(predictions.prediction != np.nan)\n",
    "            .orderBy(\"prediction\", ascending=False).take(10))"
   ]
  },
  {
   "cell_type": "markdown",
   "metadata": {
    "collapsed": true
   },
   "source": [
    "The .recommendForAllItems function allows us to view predicted ratings for specific user, item pairs. "
   ]
  },
  {
   "cell_type": "code",
   "execution_count": 25,
   "metadata": {},
   "outputs": [
    {
     "data": {
      "text/plain": [
       "[Row(isbn_id=148, recommendations=[Row(user_id=87555, rating=0.00033917705877684057), Row(user_id=36606, rating=0.0003086001379415393), Row(user_id=238120, rating=0.00028850819217041135), Row(user_id=189334, rating=0.00026371973217464983), Row(user_id=56856, rating=0.0002628100337460637), Row(user_id=23768, rating=0.000255756574915722), Row(user_id=156150, rating=0.00024303447571583092), Row(user_id=127233, rating=0.00022251176415011287)]),\n",
       " Row(isbn_id=471, recommendations=[Row(user_id=87555, rating=0.0176248736679554), Row(user_id=36606, rating=0.016952522099018097), Row(user_id=238120, rating=0.01626615785062313), Row(user_id=23768, rating=0.015157423913478851), Row(user_id=56856, rating=0.014275912195444107), Row(user_id=60244, rating=0.014070408418774605), Row(user_id=189334, rating=0.013647633604705334), Row(user_id=156150, rating=0.012675374746322632)]),\n",
       " Row(isbn_id=496, recommendations=[Row(user_id=141710, rating=9.460222882839986e-11), Row(user_id=221445, rating=8.866007233931938e-11), Row(user_id=135831, rating=8.807861384685367e-11), Row(user_id=21014, rating=8.503418108540828e-11), Row(user_id=207721, rating=8.392656014599709e-11), Row(user_id=128208, rating=8.205670171124169e-11), Row(user_id=264317, rating=7.695644815841618e-11), Row(user_id=217375, rating=7.632611209729134e-11)]),\n",
       " Row(isbn_id=833, recommendations=[Row(user_id=198711, rating=0.09956663846969604), Row(user_id=212898, rating=0.08235961943864822), Row(user_id=11676, rating=0.03825338929891586), Row(user_id=102967, rating=0.026265079155564308), Row(user_id=43246, rating=0.02600562945008278), Row(user_id=171118, rating=0.02349918521940708), Row(user_id=60244, rating=0.02321086823940277), Row(user_id=172742, rating=0.02309202216565609)]),\n",
       " Row(isbn_id=1088, recommendations=[Row(user_id=198711, rating=0.00138752325437963), Row(user_id=212898, rating=0.0011477326042950153), Row(user_id=11676, rating=0.0005330847925506532), Row(user_id=102967, rating=0.0003660202492028475), Row(user_id=43246, rating=0.00036240468034520745), Row(user_id=171118, rating=0.0003274757764302194), Row(user_id=60244, rating=0.00032345790532417595), Row(user_id=172742, rating=0.00032180172274820507)]),\n",
       " Row(isbn_id=1238, recommendations=[Row(user_id=198711, rating=0.030737418681383133), Row(user_id=212898, rating=0.02542540431022644), Row(user_id=11676, rating=0.011809281073510647), Row(user_id=102967, rating=0.008108345791697502), Row(user_id=43246, rating=0.008028251118957996), Row(user_id=171118, rating=0.007254480849951506), Row(user_id=60244, rating=0.007165473885834217), Row(user_id=172742, rating=0.007128784898668528)]),\n",
       " Row(isbn_id=1342, recommendations=[Row(user_id=141710, rating=0.01747453585267067), Row(user_id=221445, rating=0.016376925632357597), Row(user_id=135831, rating=0.016269521787762642), Row(user_id=21014, rating=0.015707165002822876), Row(user_id=207721, rating=0.015502571128308773), Row(user_id=128208, rating=0.015157177112996578), Row(user_id=264317, rating=0.014215080067515373), Row(user_id=217375, rating=0.01409864705055952)]),\n",
       " Row(isbn_id=1580, recommendations=[Row(user_id=198711, rating=2.4806071451166645e-05), Row(user_id=212898, rating=2.0519106328720227e-05), Row(user_id=141710, rating=1.128540316130966e-05), Row(user_id=43246, rating=1.1093037755927071e-05), Row(user_id=21014, rating=1.0982656021951698e-05), Row(user_id=221445, rating=1.0712401490309276e-05), Row(user_id=217375, rating=1.0704140549933072e-05), Row(user_id=11676, rating=1.0430394468130544e-05)]),\n",
       " Row(isbn_id=1645, recommendations=[Row(user_id=198711, rating=0.0002641477040015161), Row(user_id=212898, rating=0.00021849792392458767), Row(user_id=11676, rating=0.0001014852459775284), Row(user_id=102967, rating=6.968057277845219e-05), Row(user_id=43246, rating=6.899225991219282e-05), Row(user_id=171118, rating=6.234272586880252e-05), Row(user_id=60244, rating=6.157782627269626e-05), Row(user_id=172742, rating=6.126252992544323e-05)]),\n",
       " Row(isbn_id=1829, recommendations=[Row(user_id=198711, rating=0.018550967797636986), Row(user_id=212898, rating=0.015345005318522453), Row(user_id=11676, rating=0.008677493780851364), Row(user_id=60244, rating=0.007801379077136517), Row(user_id=43246, rating=0.007036736700683832), Row(user_id=238120, rating=0.006369521375745535), Row(user_id=23768, rating=0.006024726666510105), Row(user_id=102967, rating=0.0059388685040175915)])]"
      ]
     },
     "execution_count": 25,
     "metadata": {},
     "output_type": "execute_result"
    }
   ],
   "source": [
    "model.recommendForAllUsers(8).take(10)"
   ]
  },
  {
   "cell_type": "code",
   "execution_count": null,
   "metadata": {},
   "outputs": [],
   "source": [
    "from pyspark.ml.evaluation import RegressionEvaluator\n",
    "evaluator = RegressionEvaluator(metricName=\"rmse\", labelCol=\"rating\",\n",
    "                                predictionCol=\"prediction\")"
   ]
  },
  {
   "cell_type": "markdown",
   "metadata": {},
   "source": [
    "### Conclusion \n",
    "In this notebook we saw how to build a basic implicit ALS model in Spark. However, the data used was fairly plain, with \"0\"s being used for all implicit interactions. Furtherwork should consider a dataset more suited to implicit ALS. "
   ]
  }
 ],
 "metadata": {
  "kernelspec": {
   "display_name": "Python 2",
   "language": "python",
   "name": "python2"
  },
  "language_info": {
   "codemirror_mode": {
    "name": "ipython",
    "version": 3
   },
   "file_extension": ".py",
   "mimetype": "text/x-python",
   "name": "python",
   "nbconvert_exporter": "python",
   "pygments_lexer": "ipython3",
   "version": "3.7.3"
  }
 },
 "nbformat": 4,
 "nbformat_minor": 2
}

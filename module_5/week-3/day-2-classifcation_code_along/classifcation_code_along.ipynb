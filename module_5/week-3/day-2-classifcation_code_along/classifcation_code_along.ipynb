{
 "cells": [
  {
   "cell_type": "markdown",
   "metadata": {},
   "source": [
    "## Objectives\n",
    "\n",
    "- Review CRISP-DM model\n",
    "- Practice running a classifcation model"
   ]
  },
  {
   "cell_type": "markdown",
   "metadata": {},
   "source": [
    "___\n",
    "# CRISP-DM Model\n",
    "\n",
    "What are the major phases ?"
   ]
  },
  {
   "cell_type": "markdown",
   "metadata": {},
   "source": [
    "___\n",
    "### - Business Understanding\n",
    "Why am I looking at this data set?  \n",
    "What am I trying to answer?  \n",
    "How does this data help me answer my question?  \n",
    "___"
   ]
  },
  {
   "cell_type": "markdown",
   "metadata": {},
   "source": [
    "### - Data Understanding and Data Preparation\n",
    "Where are the missing values?  \n",
    "What do the columns mean?  \n",
    "How do I decide on what new columns to make?  \n",
    "___"
   ]
  },
  {
   "cell_type": "markdown",
   "metadata": {},
   "source": [
    "### - Modeling and Evaluation\n",
    "\n",
    "How well did my model do?  \n",
    "Which metric am I using to evaluate my model?  \n",
    "What can I change to increase my scoring metric?\n",
    "___"
   ]
  },
  {
   "cell_type": "markdown",
   "metadata": {},
   "source": [
    "### - Deployment\n",
    "\n",
    "Who is this going to?  \n",
    "Where do I need to document better?  \n",
    "Which areas are unclear?  \n",
    "What can I do better?   \n",
    "___"
   ]
  },
  {
   "cell_type": "markdown",
   "metadata": {},
   "source": [
    "At what stages would the following methods be used?\n",
    "- `StandardScaler()`\n",
    "- `train_test_split()`\n",
    "- `auc()`\n",
    "- `pd.dropna()`"
   ]
  },
  {
   "cell_type": "markdown",
   "metadata": {},
   "source": [
    "# Time to Code"
   ]
  },
  {
   "cell_type": "code",
   "execution_count": 2,
   "metadata": {},
   "outputs": [],
   "source": [
    "import pandas as pd\n",
    "import numpy as np\n",
    "import glob\n",
    "import matplotlib.pyplot as plt\n",
    "import seaborn as sns\n",
    "import missingno as msno"
   ]
  },
  {
   "cell_type": "markdown",
   "metadata": {},
   "source": [
    "\n",
    "\n",
    "This [data](https://www.kaggle.com/jolasa/bay-area-bike-sharing-trips) is taken from Kaggle. This dataset contains anonymized trips data of Lyft bike sharing system(Bay Wheels), in the Bay Area from January 2019 to May 2019.\n",
    "\n",
    "![bikes](pics/bikes.jpg) ![the wiggle](pics/wiggle.png)"
   ]
  },
  {
   "cell_type": "markdown",
   "metadata": {},
   "source": [
    "### -Business Understanding-\n",
    "\n",
    "We want to discover if we can predict ____ with ____\n",
    "___"
   ]
  },
  {
   "cell_type": "code",
   "execution_count": 3,
   "metadata": {},
   "outputs": [],
   "source": [
    "csv_list = glob.glob(\"data/*.csv\")\n",
    "\n",
    "list_of_dfs = []\n",
    "\n",
    "for csv in csv_list:\n",
    "    df = pd.read_csv(csv, index_col=None, header=0)\n",
    "    list_of_dfs.append(df)"
   ]
  },
  {
   "cell_type": "code",
   "execution_count": 4,
   "metadata": {},
   "outputs": [
    {
     "data": {
      "text/html": [
       "<div>\n",
       "<style scoped>\n",
       "    .dataframe tbody tr th:only-of-type {\n",
       "        vertical-align: middle;\n",
       "    }\n",
       "\n",
       "    .dataframe tbody tr th {\n",
       "        vertical-align: top;\n",
       "    }\n",
       "\n",
       "    .dataframe thead th {\n",
       "        text-align: right;\n",
       "    }\n",
       "</style>\n",
       "<table border=\"1\" class=\"dataframe\">\n",
       "  <thead>\n",
       "    <tr style=\"text-align: right;\">\n",
       "      <th></th>\n",
       "      <th>month</th>\n",
       "      <th>trip_duration_sec</th>\n",
       "      <th>start_station_id</th>\n",
       "      <th>start_station_name</th>\n",
       "      <th>end_station_id</th>\n",
       "      <th>end_station_name</th>\n",
       "      <th>bike_id</th>\n",
       "      <th>user_type</th>\n",
       "      <th>member_birth_year</th>\n",
       "      <th>member_gender</th>\n",
       "    </tr>\n",
       "  </thead>\n",
       "  <tbody>\n",
       "    <tr>\n",
       "      <th>0</th>\n",
       "      <td>April</td>\n",
       "      <td>50305</td>\n",
       "      <td>368.0</td>\n",
       "      <td>Myrtle St at Polk St</td>\n",
       "      <td>324.0</td>\n",
       "      <td>Union Square (Powell St at Post St)</td>\n",
       "      <td>2749</td>\n",
       "      <td>Subscriber</td>\n",
       "      <td>1989.0</td>\n",
       "      <td>Female</td>\n",
       "    </tr>\n",
       "    <tr>\n",
       "      <th>1</th>\n",
       "      <td>April</td>\n",
       "      <td>53725</td>\n",
       "      <td>246.0</td>\n",
       "      <td>Berkeley Civic Center</td>\n",
       "      <td>241.0</td>\n",
       "      <td>Ashby BART Station</td>\n",
       "      <td>2608</td>\n",
       "      <td>Customer</td>\n",
       "      <td>NaN</td>\n",
       "      <td>NaN</td>\n",
       "    </tr>\n",
       "    <tr>\n",
       "      <th>2</th>\n",
       "      <td>April</td>\n",
       "      <td>78072</td>\n",
       "      <td>64.0</td>\n",
       "      <td>5th St at Brannan St</td>\n",
       "      <td>64.0</td>\n",
       "      <td>5th St at Brannan St</td>\n",
       "      <td>258</td>\n",
       "      <td>Subscriber</td>\n",
       "      <td>1993.0</td>\n",
       "      <td>Male</td>\n",
       "    </tr>\n",
       "    <tr>\n",
       "      <th>3</th>\n",
       "      <td>April</td>\n",
       "      <td>78969</td>\n",
       "      <td>67.0</td>\n",
       "      <td>San Francisco Caltrain Station 2  (Townsend St...</td>\n",
       "      <td>89.0</td>\n",
       "      <td>Division St at Potrero Ave</td>\n",
       "      <td>1974</td>\n",
       "      <td>Subscriber</td>\n",
       "      <td>1972.0</td>\n",
       "      <td>Male</td>\n",
       "    </tr>\n",
       "    <tr>\n",
       "      <th>4</th>\n",
       "      <td>April</td>\n",
       "      <td>1128</td>\n",
       "      <td>124.0</td>\n",
       "      <td>19th St at Florida St</td>\n",
       "      <td>5.0</td>\n",
       "      <td>Powell St BART Station (Market St at 5th St)</td>\n",
       "      <td>877</td>\n",
       "      <td>Subscriber</td>\n",
       "      <td>1973.0</td>\n",
       "      <td>Male</td>\n",
       "    </tr>\n",
       "  </tbody>\n",
       "</table>\n",
       "</div>"
      ],
      "text/plain": [
       "   month  trip_duration_sec  start_station_id  \\\n",
       "0  April              50305             368.0   \n",
       "1  April              53725             246.0   \n",
       "2  April              78072              64.0   \n",
       "3  April              78969              67.0   \n",
       "4  April               1128             124.0   \n",
       "\n",
       "                                  start_station_name  end_station_id  \\\n",
       "0                               Myrtle St at Polk St           324.0   \n",
       "1                              Berkeley Civic Center           241.0   \n",
       "2                               5th St at Brannan St            64.0   \n",
       "3  San Francisco Caltrain Station 2  (Townsend St...            89.0   \n",
       "4                              19th St at Florida St             5.0   \n",
       "\n",
       "                               end_station_name  bike_id   user_type  \\\n",
       "0           Union Square (Powell St at Post St)     2749  Subscriber   \n",
       "1                            Ashby BART Station     2608    Customer   \n",
       "2                          5th St at Brannan St      258  Subscriber   \n",
       "3                    Division St at Potrero Ave     1974  Subscriber   \n",
       "4  Powell St BART Station (Market St at 5th St)      877  Subscriber   \n",
       "\n",
       "   member_birth_year member_gender  \n",
       "0             1989.0        Female  \n",
       "1                NaN           NaN  \n",
       "2             1993.0          Male  \n",
       "3             1972.0          Male  \n",
       "4             1973.0          Male  "
      ]
     },
     "execution_count": 4,
     "metadata": {},
     "output_type": "execute_result"
    }
   ],
   "source": [
    "bike_df = pd.concat(list_of_dfs)\n",
    "bike_df.head()"
   ]
  },
  {
   "cell_type": "markdown",
   "metadata": {},
   "source": [
    "### - Data Understanding and Data Preparation -\n",
    "\n",
    "We need to clean the data, look at NaN values, understand what the columns represent, etc."
   ]
  },
  {
   "cell_type": "code",
   "execution_count": 5,
   "metadata": {},
   "outputs": [
    {
     "name": "stdout",
     "output_type": "stream",
     "text": [
      "<class 'pandas.core.frame.DataFrame'>\n",
      "Int64Index: 1053067 entries, 0 to 192081\n",
      "Data columns (total 10 columns):\n",
      "month                 1053067 non-null object\n",
      "trip_duration_sec     1053067 non-null int64\n",
      "start_station_id      1052322 non-null float64\n",
      "start_station_name    1052322 non-null object\n",
      "end_station_id        1052322 non-null float64\n",
      "end_station_name      1052322 non-null object\n",
      "bike_id               1053067 non-null int64\n",
      "user_type             1053067 non-null object\n",
      "member_birth_year     1003691 non-null float64\n",
      "member_gender         1003697 non-null object\n",
      "dtypes: float64(3), int64(2), object(5)\n",
      "memory usage: 88.4+ MB\n"
     ]
    }
   ],
   "source": [
    "bike_df.info()"
   ]
  },
  {
   "cell_type": "markdown",
   "metadata": {},
   "source": [
    "___\n",
    "Are there missing values?  \n",
    "___"
   ]
  },
  {
   "cell_type": "code",
   "execution_count": 6,
   "metadata": {},
   "outputs": [
    {
     "data": {
      "text/plain": [
       "month                     0\n",
       "trip_duration_sec         0\n",
       "start_station_id        745\n",
       "start_station_name      745\n",
       "end_station_id          745\n",
       "end_station_name        745\n",
       "bike_id                   0\n",
       "user_type                 0\n",
       "member_birth_year     49376\n",
       "member_gender         49370\n",
       "dtype: int64"
      ]
     },
     "execution_count": 6,
     "metadata": {},
     "output_type": "execute_result"
    }
   ],
   "source": [
    "bike_df.isna().sum()"
   ]
  },
  {
   "cell_type": "markdown",
   "metadata": {},
   "source": [
    "### Plug for `missingno`\n",
    "[missingno](https://github.com/ResidentMario/missingno) is a library to visualize \"missing data\" in python."
   ]
  },
  {
   "cell_type": "code",
   "execution_count": 7,
   "metadata": {},
   "outputs": [
    {
     "data": {
      "text/plain": [
       "<matplotlib.axes._subplots.AxesSubplot at 0x1a19138d68>"
      ]
     },
     "execution_count": 7,
     "metadata": {},
     "output_type": "execute_result"
    },
    {
     "data": {
      "image/png": "[encoded data removed]",
      "text/plain": [
       "<Figure size 1800x720 with 2 Axes>"
      ]
     },
     "metadata": {
      "needs_background": "light"
     },
     "output_type": "display_data"
    }
   ],
   "source": [
    "msno.matrix(bike_df)"
   ]
  },
  {
   "cell_type": "markdown",
   "metadata": {},
   "source": [
    "## What could cause these two columns (member_birth_year and member_gender) to be missing?"
   ]
  },
  {
   "cell_type": "code",
   "execution_count": 8,
   "metadata": {},
   "outputs": [
    {
     "data": {
      "text/plain": [
       "Subscriber    911465\n",
       "Customer      141602\n",
       "Name: user_type, dtype: int64"
      ]
     },
     "execution_count": 8,
     "metadata": {},
     "output_type": "execute_result"
    }
   ],
   "source": [
    "bike_df.user_type.value_counts()"
   ]
  },
  {
   "cell_type": "code",
   "execution_count": 9,
   "metadata": {},
   "outputs": [
    {
     "data": {
      "text/html": [
       "<div>\n",
       "<style scoped>\n",
       "    .dataframe tbody tr th:only-of-type {\n",
       "        vertical-align: middle;\n",
       "    }\n",
       "\n",
       "    .dataframe tbody tr th {\n",
       "        vertical-align: top;\n",
       "    }\n",
       "\n",
       "    .dataframe thead th {\n",
       "        text-align: right;\n",
       "    }\n",
       "</style>\n",
       "<table border=\"1\" class=\"dataframe\">\n",
       "  <thead>\n",
       "    <tr style=\"text-align: right;\">\n",
       "      <th></th>\n",
       "      <th>month</th>\n",
       "      <th>trip_duration_sec</th>\n",
       "      <th>start_station_id</th>\n",
       "      <th>start_station_name</th>\n",
       "      <th>end_station_id</th>\n",
       "      <th>end_station_name</th>\n",
       "      <th>bike_id</th>\n",
       "      <th>user_type</th>\n",
       "      <th>member_birth_year</th>\n",
       "      <th>member_gender</th>\n",
       "    </tr>\n",
       "  </thead>\n",
       "  <tbody>\n",
       "    <tr>\n",
       "      <th>1</th>\n",
       "      <td>April</td>\n",
       "      <td>53725</td>\n",
       "      <td>246.0</td>\n",
       "      <td>Berkeley Civic Center</td>\n",
       "      <td>241.0</td>\n",
       "      <td>Ashby BART Station</td>\n",
       "      <td>2608</td>\n",
       "      <td>Customer</td>\n",
       "      <td>NaN</td>\n",
       "      <td>NaN</td>\n",
       "    </tr>\n",
       "    <tr>\n",
       "      <th>60</th>\n",
       "      <td>April</td>\n",
       "      <td>1179</td>\n",
       "      <td>121.0</td>\n",
       "      <td>Mission Playground</td>\n",
       "      <td>44.0</td>\n",
       "      <td>Civic Center/UN Plaza BART Station (Market St ...</td>\n",
       "      <td>1851</td>\n",
       "      <td>Customer</td>\n",
       "      <td>NaN</td>\n",
       "      <td>NaN</td>\n",
       "    </tr>\n",
       "    <tr>\n",
       "      <th>62</th>\n",
       "      <td>April</td>\n",
       "      <td>1176</td>\n",
       "      <td>121.0</td>\n",
       "      <td>Mission Playground</td>\n",
       "      <td>44.0</td>\n",
       "      <td>Civic Center/UN Plaza BART Station (Market St ...</td>\n",
       "      <td>2706</td>\n",
       "      <td>Customer</td>\n",
       "      <td>NaN</td>\n",
       "      <td>NaN</td>\n",
       "    </tr>\n",
       "    <tr>\n",
       "      <th>81</th>\n",
       "      <td>April</td>\n",
       "      <td>246</td>\n",
       "      <td>5.0</td>\n",
       "      <td>Powell St BART Station (Market St at 5th St)</td>\n",
       "      <td>58.0</td>\n",
       "      <td>Market St at 10th St</td>\n",
       "      <td>1417</td>\n",
       "      <td>Subscriber</td>\n",
       "      <td>NaN</td>\n",
       "      <td>NaN</td>\n",
       "    </tr>\n",
       "    <tr>\n",
       "      <th>91</th>\n",
       "      <td>April</td>\n",
       "      <td>7058</td>\n",
       "      <td>134.0</td>\n",
       "      <td>Valencia St at 24th St</td>\n",
       "      <td>121.0</td>\n",
       "      <td>Mission Playground</td>\n",
       "      <td>2375</td>\n",
       "      <td>Customer</td>\n",
       "      <td>NaN</td>\n",
       "      <td>NaN</td>\n",
       "    </tr>\n",
       "    <tr>\n",
       "      <th>97</th>\n",
       "      <td>April</td>\n",
       "      <td>294</td>\n",
       "      <td>171.0</td>\n",
       "      <td>Rockridge BART Station</td>\n",
       "      <td>170.0</td>\n",
       "      <td>Telegraph Ave at 58th St</td>\n",
       "      <td>1787</td>\n",
       "      <td>Subscriber</td>\n",
       "      <td>NaN</td>\n",
       "      <td>NaN</td>\n",
       "    </tr>\n",
       "    <tr>\n",
       "      <th>111</th>\n",
       "      <td>April</td>\n",
       "      <td>735</td>\n",
       "      <td>345.0</td>\n",
       "      <td>Hubbell St at 16th St</td>\n",
       "      <td>60.0</td>\n",
       "      <td>8th St at Ringold St</td>\n",
       "      <td>2826</td>\n",
       "      <td>Customer</td>\n",
       "      <td>NaN</td>\n",
       "      <td>NaN</td>\n",
       "    </tr>\n",
       "    <tr>\n",
       "      <th>114</th>\n",
       "      <td>April</td>\n",
       "      <td>235</td>\n",
       "      <td>121.0</td>\n",
       "      <td>Mission Playground</td>\n",
       "      <td>121.0</td>\n",
       "      <td>Mission Playground</td>\n",
       "      <td>2706</td>\n",
       "      <td>Customer</td>\n",
       "      <td>NaN</td>\n",
       "      <td>NaN</td>\n",
       "    </tr>\n",
       "    <tr>\n",
       "      <th>119</th>\n",
       "      <td>April</td>\n",
       "      <td>852</td>\n",
       "      <td>243.0</td>\n",
       "      <td>Bancroft Way at College Ave</td>\n",
       "      <td>267.0</td>\n",
       "      <td>Derby St at College Ave</td>\n",
       "      <td>3349</td>\n",
       "      <td>Customer</td>\n",
       "      <td>NaN</td>\n",
       "      <td>NaN</td>\n",
       "    </tr>\n",
       "    <tr>\n",
       "      <th>139</th>\n",
       "      <td>April</td>\n",
       "      <td>427</td>\n",
       "      <td>72.0</td>\n",
       "      <td>Page St at Scott St</td>\n",
       "      <td>74.0</td>\n",
       "      <td>Laguna St at Hayes St</td>\n",
       "      <td>2148</td>\n",
       "      <td>Subscriber</td>\n",
       "      <td>NaN</td>\n",
       "      <td>NaN</td>\n",
       "    </tr>\n",
       "    <tr>\n",
       "      <th>140</th>\n",
       "      <td>April</td>\n",
       "      <td>397</td>\n",
       "      <td>72.0</td>\n",
       "      <td>Page St at Scott St</td>\n",
       "      <td>74.0</td>\n",
       "      <td>Laguna St at Hayes St</td>\n",
       "      <td>3111</td>\n",
       "      <td>Customer</td>\n",
       "      <td>NaN</td>\n",
       "      <td>NaN</td>\n",
       "    </tr>\n",
       "    <tr>\n",
       "      <th>153</th>\n",
       "      <td>April</td>\n",
       "      <td>527</td>\n",
       "      <td>44.0</td>\n",
       "      <td>Civic Center/UN Plaza BART Station (Market St ...</td>\n",
       "      <td>90.0</td>\n",
       "      <td>Townsend St at 7th St</td>\n",
       "      <td>573</td>\n",
       "      <td>Subscriber</td>\n",
       "      <td>NaN</td>\n",
       "      <td>NaN</td>\n",
       "    </tr>\n",
       "    <tr>\n",
       "      <th>166</th>\n",
       "      <td>April</td>\n",
       "      <td>642</td>\n",
       "      <td>109.0</td>\n",
       "      <td>17th St at Valencia St</td>\n",
       "      <td>72.0</td>\n",
       "      <td>Page St at Scott St</td>\n",
       "      <td>3643</td>\n",
       "      <td>Customer</td>\n",
       "      <td>NaN</td>\n",
       "      <td>NaN</td>\n",
       "    </tr>\n",
       "    <tr>\n",
       "      <th>184</th>\n",
       "      <td>April</td>\n",
       "      <td>467</td>\n",
       "      <td>5.0</td>\n",
       "      <td>Powell St BART Station (Market St at 5th St)</td>\n",
       "      <td>81.0</td>\n",
       "      <td>Berry St at 4th St</td>\n",
       "      <td>262</td>\n",
       "      <td>Customer</td>\n",
       "      <td>NaN</td>\n",
       "      <td>NaN</td>\n",
       "    </tr>\n",
       "    <tr>\n",
       "      <th>206</th>\n",
       "      <td>April</td>\n",
       "      <td>1589</td>\n",
       "      <td>72.0</td>\n",
       "      <td>Page St at Scott St</td>\n",
       "      <td>67.0</td>\n",
       "      <td>San Francisco Caltrain Station 2  (Townsend St...</td>\n",
       "      <td>1620</td>\n",
       "      <td>Subscriber</td>\n",
       "      <td>NaN</td>\n",
       "      <td>NaN</td>\n",
       "    </tr>\n",
       "    <tr>\n",
       "      <th>212</th>\n",
       "      <td>April</td>\n",
       "      <td>727</td>\n",
       "      <td>50.0</td>\n",
       "      <td>2nd St at Townsend St</td>\n",
       "      <td>15.0</td>\n",
       "      <td>San Francisco Ferry Building (Harry Bridges Pl...</td>\n",
       "      <td>3066</td>\n",
       "      <td>Customer</td>\n",
       "      <td>NaN</td>\n",
       "      <td>NaN</td>\n",
       "    </tr>\n",
       "    <tr>\n",
       "      <th>214</th>\n",
       "      <td>April</td>\n",
       "      <td>834</td>\n",
       "      <td>50.0</td>\n",
       "      <td>2nd St at Townsend St</td>\n",
       "      <td>15.0</td>\n",
       "      <td>San Francisco Ferry Building (Harry Bridges Pl...</td>\n",
       "      <td>566</td>\n",
       "      <td>Customer</td>\n",
       "      <td>NaN</td>\n",
       "      <td>NaN</td>\n",
       "    </tr>\n",
       "    <tr>\n",
       "      <th>225</th>\n",
       "      <td>April</td>\n",
       "      <td>1824</td>\n",
       "      <td>50.0</td>\n",
       "      <td>2nd St at Townsend St</td>\n",
       "      <td>29.0</td>\n",
       "      <td>O'Farrell St at Divisadero St</td>\n",
       "      <td>3679</td>\n",
       "      <td>Customer</td>\n",
       "      <td>NaN</td>\n",
       "      <td>NaN</td>\n",
       "    </tr>\n",
       "    <tr>\n",
       "      <th>252</th>\n",
       "      <td>April</td>\n",
       "      <td>494</td>\n",
       "      <td>129.0</td>\n",
       "      <td>Harrison St at 20th St</td>\n",
       "      <td>350.0</td>\n",
       "      <td>8th St at Brannan St</td>\n",
       "      <td>845</td>\n",
       "      <td>Subscriber</td>\n",
       "      <td>NaN</td>\n",
       "      <td>NaN</td>\n",
       "    </tr>\n",
       "    <tr>\n",
       "      <th>311</th>\n",
       "      <td>April</td>\n",
       "      <td>351</td>\n",
       "      <td>138.0</td>\n",
       "      <td>Jersey St at Church St</td>\n",
       "      <td>131.0</td>\n",
       "      <td>22nd St at Dolores St</td>\n",
       "      <td>3171</td>\n",
       "      <td>Subscriber</td>\n",
       "      <td>NaN</td>\n",
       "      <td>NaN</td>\n",
       "    </tr>\n",
       "  </tbody>\n",
       "</table>\n",
       "</div>"
      ],
      "text/plain": [
       "     month  trip_duration_sec  start_station_id  \\\n",
       "1    April              53725             246.0   \n",
       "60   April               1179             121.0   \n",
       "62   April               1176             121.0   \n",
       "81   April                246               5.0   \n",
       "91   April               7058             134.0   \n",
       "97   April                294             171.0   \n",
       "111  April                735             345.0   \n",
       "114  April                235             121.0   \n",
       "119  April                852             243.0   \n",
       "139  April                427              72.0   \n",
       "140  April                397              72.0   \n",
       "153  April                527              44.0   \n",
       "166  April                642             109.0   \n",
       "184  April                467               5.0   \n",
       "206  April               1589              72.0   \n",
       "212  April                727              50.0   \n",
       "214  April                834              50.0   \n",
       "225  April               1824              50.0   \n",
       "252  April                494             129.0   \n",
       "311  April                351             138.0   \n",
       "\n",
       "                                    start_station_name  end_station_id  \\\n",
       "1                                Berkeley Civic Center           241.0   \n",
       "60                                  Mission Playground            44.0   \n",
       "62                                  Mission Playground            44.0   \n",
       "81        Powell St BART Station (Market St at 5th St)            58.0   \n",
       "91                              Valencia St at 24th St           121.0   \n",
       "97                              Rockridge BART Station           170.0   \n",
       "111                              Hubbell St at 16th St            60.0   \n",
       "114                                 Mission Playground           121.0   \n",
       "119                        Bancroft Way at College Ave           267.0   \n",
       "139                                Page St at Scott St            74.0   \n",
       "140                                Page St at Scott St            74.0   \n",
       "153  Civic Center/UN Plaza BART Station (Market St ...            90.0   \n",
       "166                             17th St at Valencia St            72.0   \n",
       "184       Powell St BART Station (Market St at 5th St)            81.0   \n",
       "206                                Page St at Scott St            67.0   \n",
       "212                              2nd St at Townsend St            15.0   \n",
       "214                              2nd St at Townsend St            15.0   \n",
       "225                              2nd St at Townsend St            29.0   \n",
       "252                             Harrison St at 20th St           350.0   \n",
       "311                             Jersey St at Church St           131.0   \n",
       "\n",
       "                                      end_station_name  bike_id   user_type  \\\n",
       "1                                   Ashby BART Station     2608    Customer   \n",
       "60   Civic Center/UN Plaza BART Station (Market St ...     1851    Customer   \n",
       "62   Civic Center/UN Plaza BART Station (Market St ...     2706    Customer   \n",
       "81                                Market St at 10th St     1417  Subscriber   \n",
       "91                                  Mission Playground     2375    Customer   \n",
       "97                            Telegraph Ave at 58th St     1787  Subscriber   \n",
       "111                               8th St at Ringold St     2826    Customer   \n",
       "114                                 Mission Playground     2706    Customer   \n",
       "119                            Derby St at College Ave     3349    Customer   \n",
       "139                              Laguna St at Hayes St     2148  Subscriber   \n",
       "140                              Laguna St at Hayes St     3111    Customer   \n",
       "153                              Townsend St at 7th St      573  Subscriber   \n",
       "166                                Page St at Scott St     3643    Customer   \n",
       "184                                 Berry St at 4th St      262    Customer   \n",
       "206  San Francisco Caltrain Station 2  (Townsend St...     1620  Subscriber   \n",
       "212  San Francisco Ferry Building (Harry Bridges Pl...     3066    Customer   \n",
       "214  San Francisco Ferry Building (Harry Bridges Pl...      566    Customer   \n",
       "225                      O'Farrell St at Divisadero St     3679    Customer   \n",
       "252                               8th St at Brannan St      845  Subscriber   \n",
       "311                              22nd St at Dolores St     3171  Subscriber   \n",
       "\n",
       "     member_birth_year member_gender  \n",
       "1                  NaN           NaN  \n",
       "60                 NaN           NaN  \n",
       "62                 NaN           NaN  \n",
       "81                 NaN           NaN  \n",
       "91                 NaN           NaN  \n",
       "97                 NaN           NaN  \n",
       "111                NaN           NaN  \n",
       "114                NaN           NaN  \n",
       "119                NaN           NaN  \n",
       "139                NaN           NaN  \n",
       "140                NaN           NaN  \n",
       "153                NaN           NaN  \n",
       "166                NaN           NaN  \n",
       "184                NaN           NaN  \n",
       "206                NaN           NaN  \n",
       "212                NaN           NaN  \n",
       "214                NaN           NaN  \n",
       "225                NaN           NaN  \n",
       "252                NaN           NaN  \n",
       "311                NaN           NaN  "
      ]
     },
     "execution_count": 9,
     "metadata": {},
     "output_type": "execute_result"
    }
   ],
   "source": [
    "bike_df[pd.isnull(bike_df).any(axis=1)].head(20)"
   ]
  },
  {
   "cell_type": "markdown",
   "metadata": {},
   "source": [
    "## What to do?\n",
    "\n",
    "What percentage of our data is missing?"
   ]
  },
  {
   "cell_type": "code",
   "execution_count": 10,
   "metadata": {},
   "outputs": [
    {
     "data": {
      "text/plain": [
       "month                     0\n",
       "trip_duration_sec         0\n",
       "start_station_id        745\n",
       "start_station_name      745\n",
       "end_station_id          745\n",
       "end_station_name        745\n",
       "bike_id                   0\n",
       "user_type                 0\n",
       "member_birth_year     49376\n",
       "member_gender         49370\n",
       "dtype: int64"
      ]
     },
     "execution_count": 10,
     "metadata": {},
     "output_type": "execute_result"
    }
   ],
   "source": [
    "bike_df.isna().sum()"
   ]
  },
  {
   "cell_type": "code",
   "execution_count": 11,
   "metadata": {},
   "outputs": [],
   "source": [
    "#1053067"
   ]
  },
  {
   "cell_type": "code",
   "execution_count": 12,
   "metadata": {},
   "outputs": [],
   "source": [
    "bike_df = bike_df.dropna(axis=0)"
   ]
  },
  {
   "cell_type": "code",
   "execution_count": 13,
   "metadata": {},
   "outputs": [
    {
     "data": {
      "text/plain": [
       "month                 0\n",
       "trip_duration_sec     0\n",
       "start_station_id      0\n",
       "start_station_name    0\n",
       "end_station_id        0\n",
       "end_station_name      0\n",
       "bike_id               0\n",
       "user_type             0\n",
       "member_birth_year     0\n",
       "member_gender         0\n",
       "dtype: int64"
      ]
     },
     "execution_count": 13,
     "metadata": {},
     "output_type": "execute_result"
    }
   ],
   "source": [
    "bike_df.isna().sum()"
   ]
  },
  {
   "cell_type": "markdown",
   "metadata": {},
   "source": [
    "___\n",
    "Are there redunant columns?  \n",
    "What ones should I keep?  \n",
    "___"
   ]
  },
  {
   "cell_type": "code",
   "execution_count": 14,
   "metadata": {},
   "outputs": [
    {
     "data": {
      "text/html": [
       "<div>\n",
       "<style scoped>\n",
       "    .dataframe tbody tr th:only-of-type {\n",
       "        vertical-align: middle;\n",
       "    }\n",
       "\n",
       "    .dataframe tbody tr th {\n",
       "        vertical-align: top;\n",
       "    }\n",
       "\n",
       "    .dataframe thead th {\n",
       "        text-align: right;\n",
       "    }\n",
       "</style>\n",
       "<table border=\"1\" class=\"dataframe\">\n",
       "  <thead>\n",
       "    <tr style=\"text-align: right;\">\n",
       "      <th></th>\n",
       "      <th>month</th>\n",
       "      <th>trip_duration_sec</th>\n",
       "      <th>start_station_id</th>\n",
       "      <th>end_station_id</th>\n",
       "      <th>bike_id</th>\n",
       "      <th>user_type</th>\n",
       "      <th>member_birth_year</th>\n",
       "      <th>member_gender</th>\n",
       "    </tr>\n",
       "  </thead>\n",
       "  <tbody>\n",
       "    <tr>\n",
       "      <th>0</th>\n",
       "      <td>April</td>\n",
       "      <td>50305</td>\n",
       "      <td>368.0</td>\n",
       "      <td>324.0</td>\n",
       "      <td>2749</td>\n",
       "      <td>Subscriber</td>\n",
       "      <td>1989.0</td>\n",
       "      <td>Female</td>\n",
       "    </tr>\n",
       "    <tr>\n",
       "      <th>2</th>\n",
       "      <td>April</td>\n",
       "      <td>78072</td>\n",
       "      <td>64.0</td>\n",
       "      <td>64.0</td>\n",
       "      <td>258</td>\n",
       "      <td>Subscriber</td>\n",
       "      <td>1993.0</td>\n",
       "      <td>Male</td>\n",
       "    </tr>\n",
       "    <tr>\n",
       "      <th>3</th>\n",
       "      <td>April</td>\n",
       "      <td>78969</td>\n",
       "      <td>67.0</td>\n",
       "      <td>89.0</td>\n",
       "      <td>1974</td>\n",
       "      <td>Subscriber</td>\n",
       "      <td>1972.0</td>\n",
       "      <td>Male</td>\n",
       "    </tr>\n",
       "    <tr>\n",
       "      <th>4</th>\n",
       "      <td>April</td>\n",
       "      <td>1128</td>\n",
       "      <td>124.0</td>\n",
       "      <td>5.0</td>\n",
       "      <td>877</td>\n",
       "      <td>Subscriber</td>\n",
       "      <td>1973.0</td>\n",
       "      <td>Male</td>\n",
       "    </tr>\n",
       "    <tr>\n",
       "      <th>5</th>\n",
       "      <td>April</td>\n",
       "      <td>1388</td>\n",
       "      <td>243.0</td>\n",
       "      <td>247.0</td>\n",
       "      <td>3234</td>\n",
       "      <td>Customer</td>\n",
       "      <td>1997.0</td>\n",
       "      <td>Male</td>\n",
       "    </tr>\n",
       "  </tbody>\n",
       "</table>\n",
       "</div>"
      ],
      "text/plain": [
       "   month  trip_duration_sec  start_station_id  end_station_id  bike_id  \\\n",
       "0  April              50305             368.0           324.0     2749   \n",
       "2  April              78072              64.0            64.0      258   \n",
       "3  April              78969              67.0            89.0     1974   \n",
       "4  April               1128             124.0             5.0      877   \n",
       "5  April               1388             243.0           247.0     3234   \n",
       "\n",
       "    user_type  member_birth_year member_gender  \n",
       "0  Subscriber             1989.0        Female  \n",
       "2  Subscriber             1993.0          Male  \n",
       "3  Subscriber             1972.0          Male  \n",
       "4  Subscriber             1973.0          Male  \n",
       "5    Customer             1997.0          Male  "
      ]
     },
     "execution_count": 14,
     "metadata": {},
     "output_type": "execute_result"
    }
   ],
   "source": [
    "bike_df = bike_df.drop(['start_station_name', 'end_station_name'], axis = 1)\n",
    "bike_df.head()"
   ]
  },
  {
   "cell_type": "markdown",
   "metadata": {},
   "source": [
    "## Some more EDA"
   ]
  },
  {
   "cell_type": "code",
   "execution_count": 15,
   "metadata": {},
   "outputs": [
    {
     "data": {
      "image/png": "[encoded data removed]",
      "text/plain": [
       "<Figure size 864x576 with 1 Axes>"
      ]
     },
     "metadata": {
      "needs_background": "light"
     },
     "output_type": "display_data"
    }
   ],
   "source": [
    "plt.figure(figsize = (12, 8))\n",
    "sns.set_style('darkgrid')\n",
    "sns.distplot(bike_df['member_birth_year'])\n",
    "plt.title('Distribution of Customer Ages');"
   ]
  },
  {
   "cell_type": "code",
   "execution_count": 16,
   "metadata": {},
   "outputs": [
    {
     "data": {
      "image/png": "[encoded data removed]",
      "text/plain": [
       "<Figure size 864x576 with 1 Axes>"
      ]
     },
     "metadata": {},
     "output_type": "display_data"
    }
   ],
   "source": [
    "plt.figure(figsize = (12, 8))\n",
    "sns.set_style('whitegrid')\n",
    "sns.distplot(bike_df['start_station_id'], label='Starting Dock', color = 'g')\n",
    "sns.distplot(bike_df['end_station_id'], label='Returning Dock', color='r')\n",
    "plt.title('Starting and Ending Location')\n",
    "plt.xlabel('Station ID')\n",
    "plt.legend();"
   ]
  },
  {
   "cell_type": "code",
   "execution_count": 17,
   "metadata": {},
   "outputs": [
    {
     "data": {
      "image/png": "[encoded data removed]",
      "text/plain": [
       "<Figure size 864x576 with 1 Axes>"
      ]
     },
     "metadata": {},
     "output_type": "display_data"
    }
   ],
   "source": [
    "plt.figure(figsize = (12, 8))\n",
    "sns.set_style('whitegrid')\n",
    "sns.distplot(bike_df['trip_duration_sec'])\n",
    "plt.xlabel('Second')\n",
    "plt.title('Seconds in Trip');"
   ]
  },
  {
   "cell_type": "code",
   "execution_count": 18,
   "metadata": {},
   "outputs": [
    {
     "data": {
      "text/plain": [
       "3986      61\n",
       "26216     61\n",
       "29070     61\n",
       "40690     61\n",
       "68049     61\n",
       "86176     61\n",
       "90150     61\n",
       "100152    61\n",
       "111048    61\n",
       "118913    61\n",
       "Name: trip_duration_sec, dtype: int64"
      ]
     },
     "execution_count": 18,
     "metadata": {},
     "output_type": "execute_result"
    }
   ],
   "source": [
    "bike_df.trip_duration_sec.nsmallest(10)"
   ]
  },
  {
   "cell_type": "code",
   "execution_count": 19,
   "metadata": {},
   "outputs": [
    {
     "data": {
      "text/plain": [
       "12667     86114\n",
       "70083     85496\n",
       "30881     84967\n",
       "230332    84908\n",
       "223092    84792\n",
       "84214     84782\n",
       "126936    84746\n",
       "85465     84548\n",
       "226254    84241\n",
       "85410     84002\n",
       "Name: trip_duration_sec, dtype: int64"
      ]
     },
     "execution_count": 19,
     "metadata": {},
     "output_type": "execute_result"
    }
   ],
   "source": [
    "bike_df.trip_duration_sec.nlargest(10)"
   ]
  },
  {
   "cell_type": "markdown",
   "metadata": {},
   "source": [
    "___\n",
    "Lets turn the time into mins rather than seconds."
   ]
  },
  {
   "cell_type": "code",
   "execution_count": 20,
   "metadata": {},
   "outputs": [
    {
     "data": {
      "text/html": [
       "<div>\n",
       "<style scoped>\n",
       "    .dataframe tbody tr th:only-of-type {\n",
       "        vertical-align: middle;\n",
       "    }\n",
       "\n",
       "    .dataframe tbody tr th {\n",
       "        vertical-align: top;\n",
       "    }\n",
       "\n",
       "    .dataframe thead th {\n",
       "        text-align: right;\n",
       "    }\n",
       "</style>\n",
       "<table border=\"1\" class=\"dataframe\">\n",
       "  <thead>\n",
       "    <tr style=\"text-align: right;\">\n",
       "      <th></th>\n",
       "      <th>month</th>\n",
       "      <th>trip_duration_sec</th>\n",
       "      <th>start_station_id</th>\n",
       "      <th>end_station_id</th>\n",
       "      <th>bike_id</th>\n",
       "      <th>user_type</th>\n",
       "      <th>member_birth_year</th>\n",
       "      <th>member_gender</th>\n",
       "      <th>trip_duration_min</th>\n",
       "    </tr>\n",
       "  </thead>\n",
       "  <tbody>\n",
       "    <tr>\n",
       "      <th>0</th>\n",
       "      <td>April</td>\n",
       "      <td>50305</td>\n",
       "      <td>368.0</td>\n",
       "      <td>324.0</td>\n",
       "      <td>2749</td>\n",
       "      <td>Subscriber</td>\n",
       "      <td>1989.0</td>\n",
       "      <td>Female</td>\n",
       "      <td>838.42</td>\n",
       "    </tr>\n",
       "    <tr>\n",
       "      <th>2</th>\n",
       "      <td>April</td>\n",
       "      <td>78072</td>\n",
       "      <td>64.0</td>\n",
       "      <td>64.0</td>\n",
       "      <td>258</td>\n",
       "      <td>Subscriber</td>\n",
       "      <td>1993.0</td>\n",
       "      <td>Male</td>\n",
       "      <td>1301.20</td>\n",
       "    </tr>\n",
       "    <tr>\n",
       "      <th>3</th>\n",
       "      <td>April</td>\n",
       "      <td>78969</td>\n",
       "      <td>67.0</td>\n",
       "      <td>89.0</td>\n",
       "      <td>1974</td>\n",
       "      <td>Subscriber</td>\n",
       "      <td>1972.0</td>\n",
       "      <td>Male</td>\n",
       "      <td>1316.15</td>\n",
       "    </tr>\n",
       "    <tr>\n",
       "      <th>4</th>\n",
       "      <td>April</td>\n",
       "      <td>1128</td>\n",
       "      <td>124.0</td>\n",
       "      <td>5.0</td>\n",
       "      <td>877</td>\n",
       "      <td>Subscriber</td>\n",
       "      <td>1973.0</td>\n",
       "      <td>Male</td>\n",
       "      <td>18.80</td>\n",
       "    </tr>\n",
       "    <tr>\n",
       "      <th>5</th>\n",
       "      <td>April</td>\n",
       "      <td>1388</td>\n",
       "      <td>243.0</td>\n",
       "      <td>247.0</td>\n",
       "      <td>3234</td>\n",
       "      <td>Customer</td>\n",
       "      <td>1997.0</td>\n",
       "      <td>Male</td>\n",
       "      <td>23.13</td>\n",
       "    </tr>\n",
       "  </tbody>\n",
       "</table>\n",
       "</div>"
      ],
      "text/plain": [
       "   month  trip_duration_sec  start_station_id  end_station_id  bike_id  \\\n",
       "0  April              50305             368.0           324.0     2749   \n",
       "2  April              78072              64.0            64.0      258   \n",
       "3  April              78969              67.0            89.0     1974   \n",
       "4  April               1128             124.0             5.0      877   \n",
       "5  April               1388             243.0           247.0     3234   \n",
       "\n",
       "    user_type  member_birth_year member_gender  trip_duration_min  \n",
       "0  Subscriber             1989.0        Female             838.42  \n",
       "2  Subscriber             1993.0          Male            1301.20  \n",
       "3  Subscriber             1972.0          Male            1316.15  \n",
       "4  Subscriber             1973.0          Male              18.80  \n",
       "5    Customer             1997.0          Male              23.13  "
      ]
     },
     "execution_count": 20,
     "metadata": {},
     "output_type": "execute_result"
    }
   ],
   "source": [
    "bike_df['trip_duration_min'] = (bike_df.trip_duration_sec / 60).round(2)\n",
    "bike_df.head()"
   ]
  },
  {
   "cell_type": "code",
   "execution_count": 21,
   "metadata": {},
   "outputs": [
    {
     "data": {
      "text/plain": [
       "3986      1.02\n",
       "26216     1.02\n",
       "29070     1.02\n",
       "40690     1.02\n",
       "68049     1.02\n",
       "86176     1.02\n",
       "90150     1.02\n",
       "100152    1.02\n",
       "111048    1.02\n",
       "118913    1.02\n",
       "Name: trip_duration_min, dtype: float64"
      ]
     },
     "execution_count": 21,
     "metadata": {},
     "output_type": "execute_result"
    }
   ],
   "source": [
    "bike_df.trip_duration_min.nsmallest(10)"
   ]
  },
  {
   "cell_type": "code",
   "execution_count": 22,
   "metadata": {},
   "outputs": [
    {
     "data": {
      "text/plain": [
       "12667     1435.23\n",
       "70083     1424.93\n",
       "30881     1416.12\n",
       "230332    1415.13\n",
       "223092    1413.20\n",
       "84214     1413.03\n",
       "126936    1412.43\n",
       "85465     1409.13\n",
       "226254    1404.02\n",
       "85410     1400.03\n",
       "Name: trip_duration_min, dtype: float64"
      ]
     },
     "execution_count": 22,
     "metadata": {},
     "output_type": "execute_result"
    }
   ],
   "source": [
    "bike_df.trip_duration_min.nlargest(10)"
   ]
  },
  {
   "cell_type": "code",
   "execution_count": 23,
   "metadata": {},
   "outputs": [
    {
     "data": {
      "image/png": "[encoded data removed]",
      "text/plain": [
       "<Figure size 432x288 with 1 Axes>"
      ]
     },
     "metadata": {},
     "output_type": "display_data"
    }
   ],
   "source": [
    "plt.boxplot(bike_df.trip_duration_min);"
   ]
  },
  {
   "cell_type": "markdown",
   "metadata": {},
   "source": [
    "Fancy function to remove outliers using IQR. Not PEP 8."
   ]
  },
  {
   "cell_type": "code",
   "execution_count": 45,
   "metadata": {},
   "outputs": [],
   "source": [
    "def remove_outlier(df_in, col_names):\n",
    "    df_out = df_in\n",
    "    for col in col_names:\n",
    "        q1 = df_in[col].quantile(0.25)\n",
    "        q3 = df_in[col].quantile(0.75)\n",
    "        iqr = q3-q1 #Interquartile range\n",
    "        fence_low  = q1-1.5*iqr\n",
    "        fence_high = q3+1.5*iqr\n",
    "        df_out = df_in.loc[(df_in[col] > fence_low) & (df_in[col] < fence_high)]\n",
    "    return df_out"
   ]
  },
  {
   "cell_type": "code",
   "execution_count": 46,
   "metadata": {},
   "outputs": [],
   "source": [
    "slimmed_df = remove_outlier(bike_df, [\"trip_duration_min\"])"
   ]
  },
  {
   "cell_type": "code",
   "execution_count": 47,
   "metadata": {},
   "outputs": [
    {
     "data": {
      "image/png": "[encoded data removed]",
      "text/plain": [
       "<Figure size 576x396 with 1 Axes>"
      ]
     },
     "metadata": {},
     "output_type": "display_data"
    }
   ],
   "source": [
    "plt.boxplot(slimmed_df.trip_duration_min);"
   ]
  },
  {
   "cell_type": "code",
   "execution_count": 48,
   "metadata": {},
   "outputs": [
    {
     "name": "stdout",
     "output_type": "stream",
     "text": [
      "We went from 1002956 rows to a smaller 946842 by removing the IQR in the duration column.\n",
      "That was a 5.595% decrease in the number of rows.\n"
     ]
    }
   ],
   "source": [
    "print(f\"We went from {len(bike_df)} rows to a smaller {len(slimmed_df)} by removing the IQR in the duration column.\")\n",
    "print(f\"That was a {round((len(bike_df) - len(slimmed_df)) / len(bike_df), 5)*100}% decrease in the number of rows.\")"
   ]
  },
  {
   "cell_type": "markdown",
   "metadata": {},
   "source": [
    "At this point we have a cleaned dataset. Depending on what we found during the EDA, or anything else that came up, we can take this in many directions. \n",
    "\n",
    "\n",
    "___\n",
    "1. First we will try to predict if the member is a \"brogrammer\".  \n",
    "2. Then we will attempt to predict the `user_type`.  \n",
    "3. Finally, we'll see if anything exists to predict `month`.\n",
    "___"
   ]
  },
  {
   "cell_type": "markdown",
   "metadata": {},
   "source": [
    "\n",
    "### - Modeling and Evaluation -"
   ]
  },
  {
   "cell_type": "markdown",
   "metadata": {
    "toc-hr-collapsed": true
   },
   "source": [
    "Starting off with a simple model to give us a baseline. "
   ]
  },
  {
   "cell_type": "code",
   "execution_count": 49,
   "metadata": {},
   "outputs": [],
   "source": [
    "from sklearn.model_selection import train_test_split\n",
    "from sklearn.model_selection import GridSearchCV\n",
    "\n",
    "from sklearn.ensemble import RandomForestClassifier\n",
    "from sklearn.tree import DecisionTreeClassifier\n",
    "from sklearn.metrics import accuracy_score\n",
    "\n",
    "from sklearn.preprocessing import LabelEncoder\n",
    "\n",
    "from yellowbrick.classifier import ROCAUC\n",
    "from yellowbrick.classifier import ConfusionMatrix\n",
    "\n",
    "import time"
   ]
  },
  {
   "cell_type": "markdown",
   "metadata": {},
   "source": [
    "Everyone who is a male and lives in SF AND rides an electric bike is a Brogrammer."
   ]
  },
  {
   "cell_type": "code",
   "execution_count": 50,
   "metadata": {},
   "outputs": [],
   "source": [
    "def brogram(pd_series):\n",
    "    if not \"Male\" in pd_series:\n",
    "        return \"Nice_person\"\n",
    "    else:\n",
    "        return \"Brogrammer\""
   ]
  },
  {
   "cell_type": "code",
   "execution_count": 51,
   "metadata": {},
   "outputs": [],
   "source": [
    "df_1 = slimmed_df.copy()"
   ]
  },
  {
   "cell_type": "code",
   "execution_count": 52,
   "metadata": {},
   "outputs": [],
   "source": [
    "df_1['bg'] = df_1.apply(lambda x: brogram(x['member_gender']), axis=1)"
   ]
  },
  {
   "cell_type": "code",
   "execution_count": 53,
   "metadata": {},
   "outputs": [],
   "source": [
    "df_1 = df_1.drop('member_gender', axis=1)"
   ]
  },
  {
   "cell_type": "code",
   "execution_count": 54,
   "metadata": {},
   "outputs": [
    {
     "data": {
      "text/plain": [
       "Brogrammer     0.746334\n",
       "Nice_person    0.253666\n",
       "Name: bg, dtype: float64"
      ]
     },
     "execution_count": 54,
     "metadata": {},
     "output_type": "execute_result"
    }
   ],
   "source": [
    "df_1.bg.value_counts(normalize=True)"
   ]
  },
  {
   "cell_type": "code",
   "execution_count": 55,
   "metadata": {},
   "outputs": [
    {
     "data": {
      "text/html": [
       "<div>\n",
       "<style scoped>\n",
       "    .dataframe tbody tr th:only-of-type {\n",
       "        vertical-align: middle;\n",
       "    }\n",
       "\n",
       "    .dataframe tbody tr th {\n",
       "        vertical-align: top;\n",
       "    }\n",
       "\n",
       "    .dataframe thead th {\n",
       "        text-align: right;\n",
       "    }\n",
       "</style>\n",
       "<table border=\"1\" class=\"dataframe\">\n",
       "  <thead>\n",
       "    <tr style=\"text-align: right;\">\n",
       "      <th></th>\n",
       "      <th>trip_duration_sec</th>\n",
       "      <th>start_station_id</th>\n",
       "      <th>end_station_id</th>\n",
       "      <th>bike_id</th>\n",
       "      <th>member_birth_year</th>\n",
       "      <th>trip_duration_min</th>\n",
       "      <th>bg</th>\n",
       "      <th>month_April</th>\n",
       "      <th>month_Februrary</th>\n",
       "      <th>month_January</th>\n",
       "      <th>month_March</th>\n",
       "      <th>month_May</th>\n",
       "      <th>user_type_Customer</th>\n",
       "      <th>user_type_Subscriber</th>\n",
       "    </tr>\n",
       "  </thead>\n",
       "  <tbody>\n",
       "    <tr>\n",
       "      <th>4</th>\n",
       "      <td>1128</td>\n",
       "      <td>124.0</td>\n",
       "      <td>5.0</td>\n",
       "      <td>877</td>\n",
       "      <td>1973.0</td>\n",
       "      <td>18.80</td>\n",
       "      <td>Brogrammer</td>\n",
       "      <td>1</td>\n",
       "      <td>0</td>\n",
       "      <td>0</td>\n",
       "      <td>0</td>\n",
       "      <td>0</td>\n",
       "      <td>0</td>\n",
       "      <td>1</td>\n",
       "    </tr>\n",
       "    <tr>\n",
       "      <th>5</th>\n",
       "      <td>1388</td>\n",
       "      <td>243.0</td>\n",
       "      <td>247.0</td>\n",
       "      <td>3234</td>\n",
       "      <td>1997.0</td>\n",
       "      <td>23.13</td>\n",
       "      <td>Brogrammer</td>\n",
       "      <td>1</td>\n",
       "      <td>0</td>\n",
       "      <td>0</td>\n",
       "      <td>0</td>\n",
       "      <td>0</td>\n",
       "      <td>1</td>\n",
       "      <td>0</td>\n",
       "    </tr>\n",
       "    <tr>\n",
       "      <th>6</th>\n",
       "      <td>920</td>\n",
       "      <td>202.0</td>\n",
       "      <td>220.0</td>\n",
       "      <td>3262</td>\n",
       "      <td>1976.0</td>\n",
       "      <td>15.33</td>\n",
       "      <td>Brogrammer</td>\n",
       "      <td>1</td>\n",
       "      <td>0</td>\n",
       "      <td>0</td>\n",
       "      <td>0</td>\n",
       "      <td>0</td>\n",
       "      <td>0</td>\n",
       "      <td>1</td>\n",
       "    </tr>\n",
       "    <tr>\n",
       "      <th>7</th>\n",
       "      <td>725</td>\n",
       "      <td>44.0</td>\n",
       "      <td>121.0</td>\n",
       "      <td>2706</td>\n",
       "      <td>1973.0</td>\n",
       "      <td>12.08</td>\n",
       "      <td>Brogrammer</td>\n",
       "      <td>1</td>\n",
       "      <td>0</td>\n",
       "      <td>0</td>\n",
       "      <td>0</td>\n",
       "      <td>0</td>\n",
       "      <td>1</td>\n",
       "      <td>0</td>\n",
       "    </tr>\n",
       "    <tr>\n",
       "      <th>8</th>\n",
       "      <td>488</td>\n",
       "      <td>21.0</td>\n",
       "      <td>64.0</td>\n",
       "      <td>860</td>\n",
       "      <td>1986.0</td>\n",
       "      <td>8.13</td>\n",
       "      <td>Brogrammer</td>\n",
       "      <td>1</td>\n",
       "      <td>0</td>\n",
       "      <td>0</td>\n",
       "      <td>0</td>\n",
       "      <td>0</td>\n",
       "      <td>0</td>\n",
       "      <td>1</td>\n",
       "    </tr>\n",
       "  </tbody>\n",
       "</table>\n",
       "</div>"
      ],
      "text/plain": [
       "   trip_duration_sec  start_station_id  end_station_id  bike_id  \\\n",
       "4               1128             124.0             5.0      877   \n",
       "5               1388             243.0           247.0     3234   \n",
       "6                920             202.0           220.0     3262   \n",
       "7                725              44.0           121.0     2706   \n",
       "8                488              21.0            64.0      860   \n",
       "\n",
       "   member_birth_year  trip_duration_min          bg  month_April  \\\n",
       "4             1973.0              18.80  Brogrammer            1   \n",
       "5             1997.0              23.13  Brogrammer            1   \n",
       "6             1976.0              15.33  Brogrammer            1   \n",
       "7             1973.0              12.08  Brogrammer            1   \n",
       "8             1986.0               8.13  Brogrammer            1   \n",
       "\n",
       "   month_Februrary  month_January  month_March  month_May  user_type_Customer  \\\n",
       "4                0              0            0          0                   0   \n",
       "5                0              0            0          0                   1   \n",
       "6                0              0            0          0                   0   \n",
       "7                0              0            0          0                   1   \n",
       "8                0              0            0          0                   0   \n",
       "\n",
       "   user_type_Subscriber  \n",
       "4                     1  \n",
       "5                     0  \n",
       "6                     1  \n",
       "7                     0  \n",
       "8                     1  "
      ]
     },
     "execution_count": 55,
     "metadata": {},
     "output_type": "execute_result"
    }
   ],
   "source": [
    "df_1 = pd.get_dummies(df_1, columns=['month', 'user_type'])\n",
    "df_1.head()"
   ]
  },
  {
   "cell_type": "code",
   "execution_count": 56,
   "metadata": {},
   "outputs": [],
   "source": [
    "target = pd.DataFrame(df_1['bg'])\n",
    "data = df_1.drop(['bg'], axis=1)"
   ]
  },
  {
   "cell_type": "code",
   "execution_count": 57,
   "metadata": {},
   "outputs": [
    {
     "data": {
      "text/plain": [
       "Brogrammer     706660\n",
       "Nice_person    240182\n",
       "Name: bg, dtype: int64"
      ]
     },
     "execution_count": 57,
     "metadata": {},
     "output_type": "execute_result"
    }
   ],
   "source": [
    "target.bg.value_counts()"
   ]
  },
  {
   "cell_type": "code",
   "execution_count": 58,
   "metadata": {},
   "outputs": [],
   "source": [
    "X_train, X_test, y_train, y_test = train_test_split(data, target, stratify=target)"
   ]
  },
  {
   "cell_type": "code",
   "execution_count": 59,
   "metadata": {},
   "outputs": [
    {
     "name": "stdout",
     "output_type": "stream",
     "text": [
      "(710131, 13)\n",
      "(710131, 1)\n",
      "(236711, 13)\n",
      "(236711, 1)\n"
     ]
    }
   ],
   "source": [
    "print(X_train.shape)\n",
    "print(y_train.shape)\n",
    "print(X_test.shape)\n",
    "print(y_test.shape)"
   ]
  },
  {
   "cell_type": "code",
   "execution_count": 60,
   "metadata": {},
   "outputs": [],
   "source": [
    "clf_DT = DecisionTreeClassifier() #No max depth is set, be careful"
   ]
  },
  {
   "cell_type": "code",
   "execution_count": 61,
   "metadata": {},
   "outputs": [
    {
     "name": "stdout",
     "output_type": "stream",
     "text": [
      "-------7.840270280838013s seconds------\n"
     ]
    }
   ],
   "source": [
    "start_time = time.time()\n",
    "\n",
    "clf_DT.fit(X_train, y_train)\n",
    "\n",
    "fit_time = (time.time()) - start_time\n",
    "print(f'-------{fit_time}s seconds------')"
   ]
  },
  {
   "cell_type": "code",
   "execution_count": 62,
   "metadata": {},
   "outputs": [
    {
     "name": "stdout",
     "output_type": "stream",
     "text": [
      "Accuracy Score is 75.91282196433626\n"
     ]
    }
   ],
   "source": [
    "y_hat = clf_DT.predict(X_test)\n",
    "\n",
    "acc = accuracy_score(y_test, y_hat) * 100\n",
    "print(f\"Accuracy Score is {acc}\")"
   ]
  },
  {
   "cell_type": "code",
   "execution_count": 63,
   "metadata": {},
   "outputs": [
    {
     "data": {
      "image/png": "[encoded data removed]",
      "text/plain": [
       "<Figure size 576x396 with 1 Axes>"
      ]
     },
     "metadata": {},
     "output_type": "display_data"
    }
   ],
   "source": [
    "# Instantiate the visualizer with the classification model\n",
    "visualizer = ROCAUC(clf_DT)\n",
    "\n",
    "visualizer.score(X_test, y_test)  # Evaluate the model on the test data\n",
    "\n",
    "visualizer.poof()    "
   ]
  },
  {
   "cell_type": "code",
   "execution_count": 64,
   "metadata": {},
   "outputs": [
    {
     "data": {
      "image/png": "[encoded data removed]",
      "text/plain": [
       "<Figure size 576x396 with 1 Axes>"
      ]
     },
     "metadata": {},
     "output_type": "display_data"
    }
   ],
   "source": [
    "cm = ConfusionMatrix(clf_DT)\n",
    "\n",
    "# To create the ConfusionMatrix, we need some test data. Score runs predict() on the data\n",
    "# and then creates the confusion_matrix from scikit-learn.\n",
    "cm.score(X_test, y_test)\n",
    "\n",
    "# How did we do?\n",
    "cm.poof()"
   ]
  },
  {
   "cell_type": "code",
   "execution_count": 65,
   "metadata": {},
   "outputs": [
    {
     "ename": "NameError",
     "evalue": "name 'clf_RF' is not defined",
     "output_type": "error",
     "traceback": [
      "\u001b[0;31m---------------------------------------------------------------------------\u001b[0m",
      "\u001b[0;31mNameError\u001b[0m                                 Traceback (most recent call last)",
      "\u001b[0;32m<ipython-input-65-e2856cb53707>\u001b[0m in \u001b[0;36m<module>\u001b[0;34m\u001b[0m\n\u001b[1;32m      7\u001b[0m }\n\u001b[1;32m      8\u001b[0m \u001b[0;34m\u001b[0m\u001b[0m\n\u001b[0;32m----> 9\u001b[0;31m grid_search = GridSearchCV(estimator = clf_RF, param_grid = param_grid, \n\u001b[0m\u001b[1;32m     10\u001b[0m                           cv = 3, n_jobs = -1, verbose = 2)\n",
      "\u001b[0;31mNameError\u001b[0m: name 'clf_RF' is not defined"
     ]
    }
   ],
   "source": [
    "param_grid = {\n",
    "    'max_depth': [2, 5, 7, 15],\n",
    "    'max_features': [2, 3],\n",
    "    'min_samples_leaf': [3, 4, 5],\n",
    "    'min_samples_split': [8, 10, 12],\n",
    "    'n_estimators': [100, 200]\n",
    "}\n",
    "\n",
    "grid_search = GridSearchCV(estimator = clf_RF, param_grid = param_grid, \n",
    "                          cv = 3, n_jobs = -1, verbose = 2)"
   ]
  },
  {
   "cell_type": "code",
   "execution_count": null,
   "metadata": {},
   "outputs": [],
   "source": [
    "# start_time = time.time()\n",
    "\n",
    "# grid_search.fit(X_train, y_train)\n",
    "\n",
    "# fit_time = (time.time()) - start_time\n",
    "# print(f'-------{fit_time}s seconds------')"
   ]
  },
  {
   "cell_type": "markdown",
   "metadata": {},
   "source": [
    "Everything everyone should have seen by now, or at least encoutered **PICKLE**\n",
    "\n",
    "\n",
    "\n",
    "![pickle](pics/pickle.jpg)\n",
    "\n",
    "\n",
    "The above CV took 90 mins to run through. Imagine it took a few hours. If I wanted to store this trained model, to use or compare with later, I can _pickle_ it to use for later."
   ]
  },
  {
   "cell_type": "code",
   "execution_count": null,
   "metadata": {},
   "outputs": [],
   "source": [
    "# pd.to_pickle(grid_search, \"GridSeach_RF.pkl\")"
   ]
  },
  {
   "cell_type": "code",
   "execution_count": null,
   "metadata": {},
   "outputs": [],
   "source": [
    "grid_search = pd.read_pickle(\"GridSeach_RF.pkl\")"
   ]
  },
  {
   "cell_type": "code",
   "execution_count": null,
   "metadata": {},
   "outputs": [],
   "source": [
    "grid_search.best_params_"
   ]
  },
  {
   "cell_type": "code",
   "execution_count": null,
   "metadata": {},
   "outputs": [],
   "source": [
    "clf_RF = (RandomForestClassifier(max_depth = 15,\n",
    "                                 max_features = 3,\n",
    "                                 min_samples_leaf = 3,\n",
    "                                 min_samples_split = 8,\n",
    "                                 n_estimators = 200))"
   ]
  },
  {
   "cell_type": "code",
   "execution_count": null,
   "metadata": {},
   "outputs": [],
   "source": [
    "start_time = time.time()\n",
    "\n",
    "clf_RF.fit(X_train, y_train)\n",
    "\n",
    "fit_time = (time.time()) - start_time\n",
    "print(f'-------{fit_time}s seconds------')"
   ]
  },
  {
   "cell_type": "code",
   "execution_count": null,
   "metadata": {},
   "outputs": [],
   "source": [
    "y_hat = clf_RF.predict(X_test)\n",
    "\n",
    "acc = accuracy_score(y_test, y_hat) * 100\n",
    "print(f\"Accuracy Score is {acc}\")"
   ]
  },
  {
   "cell_type": "code",
   "execution_count": null,
   "metadata": {},
   "outputs": [],
   "source": [
    "# Instantiate the visualizer with the classification model\n",
    "visualizer = ROCAUC(clf_RF)\n",
    "\n",
    "visualizer.score(X_test, y_test)  # Evaluate the model on the test data\n",
    "\n",
    "visualizer.poof()    "
   ]
  },
  {
   "cell_type": "code",
   "execution_count": null,
   "metadata": {},
   "outputs": [],
   "source": [
    "cm = ConfusionMatrix(clf_RF)\n",
    "\n",
    "# To create the ConfusionMatrix, we need some test data. Score runs predict() on the data\n",
    "# and then creates the confusion_matrix from scikit-learn.\n",
    "cm.score(X_test, y_test)\n",
    "\n",
    "# How did we do?\n",
    "cm.poof()"
   ]
  },
  {
   "cell_type": "markdown",
   "metadata": {},
   "source": [
    "Random search vs Grid Search\n",
    "\n",
    "![grid](pics/grid.png) ![random](pics/rand.png)"
   ]
  },
  {
   "cell_type": "markdown",
   "metadata": {},
   "source": [
    "___\n",
    "___\n",
    "___"
   ]
  },
  {
   "cell_type": "code",
   "execution_count": null,
   "metadata": {},
   "outputs": [],
   "source": [
    "df_2 = pd.get_dummies(slimmed_df, columns = ['month', 'member_gender'])\n",
    "df_2.head()"
   ]
  },
  {
   "cell_type": "code",
   "execution_count": null,
   "metadata": {},
   "outputs": [],
   "source": [
    "target = pd.DataFrame(df_2['user_type'])\n",
    "data = df_2.drop('user_type', axis = 1)"
   ]
  },
  {
   "cell_type": "markdown",
   "metadata": {},
   "source": [
    "Lets check out how well balanced our target values are."
   ]
  },
  {
   "cell_type": "code",
   "execution_count": null,
   "metadata": {},
   "outputs": [],
   "source": [
    "target.user_type.value_counts(normalize=True)"
   ]
  },
  {
   "cell_type": "markdown",
   "metadata": {},
   "source": [
    "OOOF, that is not good. Not good at all. But our \"boss\" wants this done, so lets at least attempt it."
   ]
  },
  {
   "cell_type": "code",
   "execution_count": null,
   "metadata": {},
   "outputs": [],
   "source": [
    "X_train, X_test, y_train, y_test = train_test_split(data, target, stratify = target)"
   ]
  },
  {
   "cell_type": "code",
   "execution_count": null,
   "metadata": {},
   "outputs": [],
   "source": [
    "print(X_train.shape)\n",
    "print(y_train.shape)\n",
    "print(X_test.shape)\n",
    "print(y_test.shape)"
   ]
  },
  {
   "cell_type": "markdown",
   "metadata": {},
   "source": [
    "Santity check if everything split correctly."
   ]
  },
  {
   "cell_type": "markdown",
   "metadata": {},
   "source": [
    "Lets try a baseline before altering the weights."
   ]
  },
  {
   "cell_type": "code",
   "execution_count": null,
   "metadata": {},
   "outputs": [],
   "source": [
    "clf_RF = RandomForestClassifier()"
   ]
  },
  {
   "cell_type": "code",
   "execution_count": null,
   "metadata": {},
   "outputs": [],
   "source": [
    "start_time = time.time()\n",
    "\n",
    "clf_RF.fit(X_train, y_train)\n",
    "\n",
    "fit_time = (time.time()) - start_time\n",
    "print(f'-------{fit_time}s seconds------')"
   ]
  },
  {
   "cell_type": "code",
   "execution_count": null,
   "metadata": {},
   "outputs": [],
   "source": [
    "y_hat = clf_RF.predict(X_test)\n",
    "\n",
    "acc = accuracy_score(y_test, y_hat) * 100\n",
    "print(f\"Accuracy Score is {acc}\")"
   ]
  },
  {
   "cell_type": "code",
   "execution_count": null,
   "metadata": {},
   "outputs": [],
   "source": [
    "# Instantiate the visualizer with the classification model\n",
    "visualizer = ROCAUC(clf_RF)\n",
    "\n",
    "visualizer.score(X_test, y_test)  # Evaluate the model on the test data\n",
    "\n",
    "visualizer.poof()    "
   ]
  },
  {
   "cell_type": "code",
   "execution_count": null,
   "metadata": {},
   "outputs": [],
   "source": [
    "cm = ConfusionMatrix(clf_RF)\n",
    "\n",
    "# To create the ConfusionMatrix, we need some test data. Score runs predict() on the data\n",
    "# and then creates the confusion_matrix from scikit-learn.\n",
    "cm.score(X_test, y_test)\n",
    "\n",
    "# How did we do?\n",
    "cm.poof()"
   ]
  },
  {
   "cell_type": "markdown",
   "metadata": {},
   "source": [
    "Now lets just try putting in class weights and see how it improves our scoring."
   ]
  },
  {
   "cell_type": "code",
   "execution_count": null,
   "metadata": {},
   "outputs": [],
   "source": [
    "clf_RF_weights = RandomForestClassifier(class_weight={'Subscriber':0.91, 'Customer':0.9})"
   ]
  },
  {
   "cell_type": "code",
   "execution_count": null,
   "metadata": {},
   "outputs": [],
   "source": [
    "start_time = time.time()\n",
    "\n",
    "clf_RF_weights.fit(X_train, y_train)\n",
    "\n",
    "fit_time = (time.time()) - start_time\n",
    "print(f'-------{fit_time}s seconds------')"
   ]
  },
  {
   "cell_type": "code",
   "execution_count": null,
   "metadata": {},
   "outputs": [],
   "source": [
    "y_hat = clf_RF_weights.predict(X_test)\n",
    "\n",
    "acc = accuracy_score(y_test, y_hat) * 100\n",
    "print(f\"Accuracy Score is {acc}\")"
   ]
  },
  {
   "cell_type": "code",
   "execution_count": null,
   "metadata": {},
   "outputs": [],
   "source": [
    "# Instantiate the visualizer with the classification model\n",
    "visualizer = ROCAUC(clf_RF_weights)\n",
    "\n",
    "visualizer.score(X_test, y_test)  # Evaluate the model on the test data\n",
    "\n",
    "visualizer.poof()    "
   ]
  },
  {
   "cell_type": "code",
   "execution_count": null,
   "metadata": {},
   "outputs": [],
   "source": [
    "cm = ConfusionMatrix(clf_RF_weights)\n",
    "\n",
    "# To create the ConfusionMatrix, we need some test data. Score runs predict() on the data\n",
    "# and then creates the confusion_matrix from scikit-learn.\n",
    "cm.score(X_test, y_test)\n",
    "\n",
    "# How did we do?\n",
    "cm.poof()"
   ]
  },
  {
   "cell_type": "markdown",
   "metadata": {},
   "source": [
    "___"
   ]
  },
  {
   "cell_type": "markdown",
   "metadata": {},
   "source": [
    "Last Model - Multiclass Classification"
   ]
  },
  {
   "cell_type": "code",
   "execution_count": null,
   "metadata": {},
   "outputs": [],
   "source": [
    "month_count = bike_df.month.value_counts()"
   ]
  },
  {
   "cell_type": "code",
   "execution_count": null,
   "metadata": {},
   "outputs": [],
   "source": [
    "sns.barplot(month_count.index, month_count.values)"
   ]
  },
  {
   "cell_type": "markdown",
   "metadata": {},
   "source": [
    "Visual inspection, but also getting a percentage is wise."
   ]
  },
  {
   "cell_type": "code",
   "execution_count": null,
   "metadata": {},
   "outputs": [],
   "source": [
    "bike_df.month.value_counts(normalize=True)"
   ]
  },
  {
   "cell_type": "markdown",
   "metadata": {},
   "source": [
    "Much more balanced classes. Will this help in predicting? Lets find out...."
   ]
  },
  {
   "cell_type": "code",
   "execution_count": null,
   "metadata": {},
   "outputs": [],
   "source": [
    "df_3 = pd.get_dummies(slimmed_df, columns = ['user_type', 'member_gender'])\n",
    "df_3.head()"
   ]
  },
  {
   "cell_type": "code",
   "execution_count": null,
   "metadata": {},
   "outputs": [],
   "source": [
    "target = df_3['month']\n",
    "data = df_3.drop('month', axis=1)"
   ]
  },
  {
   "cell_type": "code",
   "execution_count": null,
   "metadata": {},
   "outputs": [],
   "source": [
    "# from sklearn.preprocessing import LabelEncoder\n",
    "# le = LabelEncoder()\n",
    "\n",
    "# target = le.fit_transform(target)"
   ]
  },
  {
   "cell_type": "code",
   "execution_count": null,
   "metadata": {},
   "outputs": [],
   "source": [
    "X_train, X_test, y_train, y_test = train_test_split(data, target, stratify=target)"
   ]
  },
  {
   "cell_type": "code",
   "execution_count": null,
   "metadata": {},
   "outputs": [],
   "source": [
    "clf_RF_multi = RandomForestClassifier()"
   ]
  },
  {
   "cell_type": "code",
   "execution_count": null,
   "metadata": {},
   "outputs": [],
   "source": [
    "start_time = time.time()\n",
    "\n",
    "clf_RF_multi.fit(X_train, y_train)\n",
    "\n",
    "fit_time = (time.time()) - start_time\n",
    "print(f'-------{fit_time}s seconds------')"
   ]
  },
  {
   "cell_type": "code",
   "execution_count": null,
   "metadata": {},
   "outputs": [],
   "source": [
    "y_hat = clf_RF_multi.predict(X_test)\n",
    "\n",
    "acc = accuracy_score(y_test, y_hat) * 100\n",
    "print(f\"Accuracy Score is {acc}\")"
   ]
  },
  {
   "cell_type": "code",
   "execution_count": null,
   "metadata": {},
   "outputs": [],
   "source": [
    "# Instantiate the visualizer with the classification model\n",
    "visualizer = ROCAUC(clf_RF_multi)\n",
    "\n",
    "visualizer.score(X_test, y_test)  # Evaluate the model on the test data\n",
    "\n",
    "visualizer.poof()    "
   ]
  },
  {
   "cell_type": "code",
   "execution_count": null,
   "metadata": {},
   "outputs": [],
   "source": [
    "cm = ConfusionMatrix(clf_RF_multi)\n",
    "\n",
    "# To create the ConfusionMatrix, we need some test data. Score runs predict() on the data\n",
    "# and then creates the confusion_matrix from scikit-learn.\n",
    "cm.score(X_test, y_test)\n",
    "\n",
    "# How did we do?\n",
    "cm.poof()"
   ]
  },
  {
   "cell_type": "markdown",
   "metadata": {},
   "source": [
    "We worked hard and yet nothing seems to be great. What could we have done differently...?"
   ]
  },
  {
   "cell_type": "code",
   "execution_count": null,
   "metadata": {},
   "outputs": [],
   "source": []
  }
 ],
 "metadata": {
  "kernelspec": {
   "display_name": "Python 3",
   "language": "python",
   "name": "python3"
  },
  "language_info": {
   "codemirror_mode": {
    "name": "ipython",
    "version": 3
   },
   "file_extension": ".py",
   "mimetype": "text/x-python",
   "name": "python",
   "nbconvert_exporter": "python",
   "pygments_lexer": "ipython3",
   "version": "3.7.3"
  }
 },
 "nbformat": 4,
 "nbformat_minor": 2
}
